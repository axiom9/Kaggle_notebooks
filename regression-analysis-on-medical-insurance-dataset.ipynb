{
 "cells": [
  {
   "cell_type": "code",
   "execution_count": 1,
   "id": "bfea62aa",
   "metadata": {
    "_cell_guid": "b1076dfc-b9ad-4769-8c92-a6c4dae69d19",
    "_uuid": "8f2839f25d086af736a60e9eeb907d3b93b6e0e5",
    "execution": {
     "iopub.execute_input": "2021-12-25T04:28:57.218256Z",
     "iopub.status.busy": "2021-12-25T04:28:57.217040Z",
     "iopub.status.idle": "2021-12-25T04:28:57.239232Z",
     "shell.execute_reply": "2021-12-25T04:28:57.238587Z",
     "shell.execute_reply.started": "2021-12-25T04:21:39.076211Z"
    },
    "papermill": {
     "duration": 0.039,
     "end_time": "2021-12-25T04:28:57.239405",
     "exception": false,
     "start_time": "2021-12-25T04:28:57.200405",
     "status": "completed"
    },
    "tags": []
   },
   "outputs": [
    {
     "name": "stdout",
     "output_type": "stream",
     "text": [
      "/kaggle/input/medical-insurance-dataset/Train_Data.csv\n",
      "/kaggle/input/medical-insurance-dataset/Test_Data.csv\n"
     ]
    }
   ],
   "source": [
    "# This Python 3 environment comes with many helpful analytics libraries installed\n",
    "# It is defined by the kaggle/python Docker image: https://github.com/kaggle/docker-python\n",
    "# For example, here's several helpful packages to load\n",
    "\n",
    "import numpy as np # linear algebra\n",
    "import pandas as pd # data processing, CSV file I/O (e.g. pd.read_csv)\n",
    "\n",
    "# Input data files are available in the read-only \"../input/\" directory\n",
    "# For example, running this (by clicking run or pressing Shift+Enter) will list all files under the input directory\n",
    "\n",
    "import os\n",
    "for dirname, _, filenames in os.walk('/kaggle/input'):\n",
    "    for filename in filenames:\n",
    "        print(os.path.join(dirname, filename))\n",
    "\n",
    "# You can write up to 20GB to the current directory (/kaggle/working/) that gets preserved as output when you create a version using \"Save & Run All\" \n",
    "# You can also write temporary files to /kaggle/temp/, but they won't be saved outside of the current session"
   ]
  },
  {
   "cell_type": "code",
   "execution_count": 2,
   "id": "190111d7",
   "metadata": {
    "execution": {
     "iopub.execute_input": "2021-12-25T04:28:57.268069Z",
     "iopub.status.busy": "2021-12-25T04:28:57.267381Z",
     "iopub.status.idle": "2021-12-25T04:28:57.319083Z",
     "shell.execute_reply": "2021-12-25T04:28:57.319716Z",
     "shell.execute_reply.started": "2021-12-25T04:21:39.096531Z"
    },
    "papermill": {
     "duration": 0.067344,
     "end_time": "2021-12-25T04:28:57.319901",
     "exception": false,
     "start_time": "2021-12-25T04:28:57.252557",
     "status": "completed"
    },
    "tags": []
   },
   "outputs": [
    {
     "data": {
      "text/html": [
       "<div>\n",
       "<style scoped>\n",
       "    .dataframe tbody tr th:only-of-type {\n",
       "        vertical-align: middle;\n",
       "    }\n",
       "\n",
       "    .dataframe tbody tr th {\n",
       "        vertical-align: top;\n",
       "    }\n",
       "\n",
       "    .dataframe thead th {\n",
       "        text-align: right;\n",
       "    }\n",
       "</style>\n",
       "<table border=\"1\" class=\"dataframe\">\n",
       "  <thead>\n",
       "    <tr style=\"text-align: right;\">\n",
       "      <th></th>\n",
       "      <th>age</th>\n",
       "      <th>sex</th>\n",
       "      <th>bmi</th>\n",
       "      <th>smoker</th>\n",
       "      <th>region</th>\n",
       "      <th>children</th>\n",
       "      <th>charges</th>\n",
       "    </tr>\n",
       "  </thead>\n",
       "  <tbody>\n",
       "    <tr>\n",
       "      <th>0</th>\n",
       "      <td>21.000000</td>\n",
       "      <td>male</td>\n",
       "      <td>25.745000</td>\n",
       "      <td>no</td>\n",
       "      <td>northeast</td>\n",
       "      <td>2</td>\n",
       "      <td>3279.868550</td>\n",
       "    </tr>\n",
       "    <tr>\n",
       "      <th>1</th>\n",
       "      <td>36.976978</td>\n",
       "      <td>female</td>\n",
       "      <td>25.744165</td>\n",
       "      <td>yes</td>\n",
       "      <td>southeast</td>\n",
       "      <td>3</td>\n",
       "      <td>21454.494239</td>\n",
       "    </tr>\n",
       "    <tr>\n",
       "      <th>2</th>\n",
       "      <td>18.000000</td>\n",
       "      <td>male</td>\n",
       "      <td>30.030000</td>\n",
       "      <td>no</td>\n",
       "      <td>southeast</td>\n",
       "      <td>1</td>\n",
       "      <td>1720.353700</td>\n",
       "    </tr>\n",
       "    <tr>\n",
       "      <th>3</th>\n",
       "      <td>37.000000</td>\n",
       "      <td>male</td>\n",
       "      <td>30.676891</td>\n",
       "      <td>no</td>\n",
       "      <td>northeast</td>\n",
       "      <td>3</td>\n",
       "      <td>6801.437542</td>\n",
       "    </tr>\n",
       "    <tr>\n",
       "      <th>4</th>\n",
       "      <td>58.000000</td>\n",
       "      <td>male</td>\n",
       "      <td>32.010000</td>\n",
       "      <td>no</td>\n",
       "      <td>southeast</td>\n",
       "      <td>1</td>\n",
       "      <td>11946.625900</td>\n",
       "    </tr>\n",
       "    <tr>\n",
       "      <th>...</th>\n",
       "      <td>...</td>\n",
       "      <td>...</td>\n",
       "      <td>...</td>\n",
       "      <td>...</td>\n",
       "      <td>...</td>\n",
       "      <td>...</td>\n",
       "      <td>...</td>\n",
       "    </tr>\n",
       "    <tr>\n",
       "      <th>3625</th>\n",
       "      <td>48.820767</td>\n",
       "      <td>female</td>\n",
       "      <td>41.426984</td>\n",
       "      <td>no</td>\n",
       "      <td>northwest</td>\n",
       "      <td>4</td>\n",
       "      <td>10987.324964</td>\n",
       "    </tr>\n",
       "    <tr>\n",
       "      <th>3626</th>\n",
       "      <td>38.661977</td>\n",
       "      <td>female</td>\n",
       "      <td>26.202557</td>\n",
       "      <td>no</td>\n",
       "      <td>southeast</td>\n",
       "      <td>2</td>\n",
       "      <td>11735.844352</td>\n",
       "    </tr>\n",
       "    <tr>\n",
       "      <th>3627</th>\n",
       "      <td>56.000000</td>\n",
       "      <td>male</td>\n",
       "      <td>40.300000</td>\n",
       "      <td>no</td>\n",
       "      <td>southwest</td>\n",
       "      <td>0</td>\n",
       "      <td>10602.385000</td>\n",
       "    </tr>\n",
       "    <tr>\n",
       "      <th>3628</th>\n",
       "      <td>48.061207</td>\n",
       "      <td>female</td>\n",
       "      <td>34.930624</td>\n",
       "      <td>no</td>\n",
       "      <td>southeast</td>\n",
       "      <td>1</td>\n",
       "      <td>8976.140452</td>\n",
       "    </tr>\n",
       "    <tr>\n",
       "      <th>3629</th>\n",
       "      <td>37.598865</td>\n",
       "      <td>female</td>\n",
       "      <td>25.219233</td>\n",
       "      <td>no</td>\n",
       "      <td>northeast</td>\n",
       "      <td>3</td>\n",
       "      <td>7027.698968</td>\n",
       "    </tr>\n",
       "  </tbody>\n",
       "</table>\n",
       "<p>3630 rows × 7 columns</p>\n",
       "</div>"
      ],
      "text/plain": [
       "            age     sex        bmi smoker     region  children       charges\n",
       "0     21.000000    male  25.745000     no  northeast         2   3279.868550\n",
       "1     36.976978  female  25.744165    yes  southeast         3  21454.494239\n",
       "2     18.000000    male  30.030000     no  southeast         1   1720.353700\n",
       "3     37.000000    male  30.676891     no  northeast         3   6801.437542\n",
       "4     58.000000    male  32.010000     no  southeast         1  11946.625900\n",
       "...         ...     ...        ...    ...        ...       ...           ...\n",
       "3625  48.820767  female  41.426984     no  northwest         4  10987.324964\n",
       "3626  38.661977  female  26.202557     no  southeast         2  11735.844352\n",
       "3627  56.000000    male  40.300000     no  southwest         0  10602.385000\n",
       "3628  48.061207  female  34.930624     no  southeast         1   8976.140452\n",
       "3629  37.598865  female  25.219233     no  northeast         3   7027.698968\n",
       "\n",
       "[3630 rows x 7 columns]"
      ]
     },
     "execution_count": 2,
     "metadata": {},
     "output_type": "execute_result"
    }
   ],
   "source": [
    "df = pd.read_csv('../input/medical-insurance-dataset/Train_Data.csv')\n",
    "df"
   ]
  },
  {
   "cell_type": "code",
   "execution_count": 3,
   "id": "f2c9139b",
   "metadata": {
    "execution": {
     "iopub.execute_input": "2021-12-25T04:28:57.349000Z",
     "iopub.status.busy": "2021-12-25T04:28:57.348298Z",
     "iopub.status.idle": "2021-12-25T04:28:57.357859Z",
     "shell.execute_reply": "2021-12-25T04:28:57.357311Z",
     "shell.execute_reply.started": "2021-12-25T04:21:39.155138Z"
    },
    "papermill": {
     "duration": 0.025142,
     "end_time": "2021-12-25T04:28:57.358031",
     "exception": false,
     "start_time": "2021-12-25T04:28:57.332889",
     "status": "completed"
    },
    "tags": []
   },
   "outputs": [
    {
     "data": {
      "text/plain": [
       "age         0\n",
       "sex         0\n",
       "bmi         0\n",
       "smoker      0\n",
       "region      0\n",
       "children    0\n",
       "charges     0\n",
       "dtype: int64"
      ]
     },
     "execution_count": 3,
     "metadata": {},
     "output_type": "execute_result"
    }
   ],
   "source": [
    "df.isna().sum()"
   ]
  },
  {
   "cell_type": "markdown",
   "id": "1f4197b4",
   "metadata": {
    "papermill": {
     "duration": 0.015088,
     "end_time": "2021-12-25T04:28:57.386443",
     "exception": false,
     "start_time": "2021-12-25T04:28:57.371355",
     "status": "completed"
    },
    "tags": []
   },
   "source": [
    "# Pre-processing"
   ]
  },
  {
   "cell_type": "code",
   "execution_count": 4,
   "id": "ef80ee7f",
   "metadata": {
    "execution": {
     "iopub.execute_input": "2021-12-25T04:28:57.421773Z",
     "iopub.status.busy": "2021-12-25T04:28:57.419239Z",
     "iopub.status.idle": "2021-12-25T04:28:58.466271Z",
     "shell.execute_reply": "2021-12-25T04:28:58.466818Z",
     "shell.execute_reply.started": "2021-12-25T04:21:39.170787Z"
    },
    "papermill": {
     "duration": 1.064355,
     "end_time": "2021-12-25T04:28:58.467015",
     "exception": false,
     "start_time": "2021-12-25T04:28:57.402660",
     "status": "completed"
    },
    "tags": []
   },
   "outputs": [],
   "source": [
    "from sklearn.preprocessing import OneHotEncoder"
   ]
  },
  {
   "cell_type": "code",
   "execution_count": 5,
   "id": "f4fd31ab",
   "metadata": {
    "execution": {
     "iopub.execute_input": "2021-12-25T04:28:58.518362Z",
     "iopub.status.busy": "2021-12-25T04:28:58.513166Z",
     "iopub.status.idle": "2021-12-25T04:28:58.530465Z",
     "shell.execute_reply": "2021-12-25T04:28:58.529791Z",
     "shell.execute_reply.started": "2021-12-25T04:21:40.230559Z"
    },
    "papermill": {
     "duration": 0.050322,
     "end_time": "2021-12-25T04:28:58.530642",
     "exception": false,
     "start_time": "2021-12-25T04:28:58.480320",
     "status": "completed"
    },
    "tags": []
   },
   "outputs": [],
   "source": [
    "#Wrapper for gender\n",
    "sex_wrapper = {'male':0, 'female':1}\n",
    "df.sex = df.sex.replace(sex_wrapper)\n",
    "\n",
    "#Wrapper for smoker\n",
    "df.smoker.value_counts()\n",
    "smoker_wrapper = {'no':0, 'yes':1}\n",
    "df.smoker = df.smoker.replace(smoker_wrapper)\n",
    "\n",
    "#Dealing with region - OHE\n",
    "df.region.value_counts()\n",
    "ohe = OneHotEncoder()\n",
    "feat_array = ohe.fit_transform(df[['region']]).toarray()\n",
    "df_ohe = pd.DataFrame(feat_array, columns=ohe.categories_)\n",
    "df = pd.concat([df, df_ohe], axis = 1)\n",
    "df = df.drop('region', axis=1)\n"
   ]
  },
  {
   "cell_type": "markdown",
   "id": "cfff23b4",
   "metadata": {
    "papermill": {
     "duration": 0.012926,
     "end_time": "2021-12-25T04:28:58.557214",
     "exception": false,
     "start_time": "2021-12-25T04:28:58.544288",
     "status": "completed"
    },
    "tags": []
   },
   "source": [
    "# Splitting and training model"
   ]
  },
  {
   "cell_type": "code",
   "execution_count": 6,
   "id": "a8cfedc2",
   "metadata": {
    "execution": {
     "iopub.execute_input": "2021-12-25T04:28:58.587226Z",
     "iopub.status.busy": "2021-12-25T04:28:58.586271Z",
     "iopub.status.idle": "2021-12-25T04:28:59.159743Z",
     "shell.execute_reply": "2021-12-25T04:28:59.160263Z",
     "shell.execute_reply.started": "2021-12-25T04:21:40.269487Z"
    },
    "papermill": {
     "duration": 0.590005,
     "end_time": "2021-12-25T04:28:59.160443",
     "exception": false,
     "start_time": "2021-12-25T04:28:58.570438",
     "status": "completed"
    },
    "tags": []
   },
   "outputs": [],
   "source": [
    "from sklearn.linear_model import LinearRegression\n",
    "from sklearn.ensemble import RandomForestRegressor\n",
    "from xgboost import XGBRegressor\n",
    "\n",
    "from sklearn.model_selection import train_test_split\n",
    "\n",
    "from sklearn.preprocessing import StandardScaler"
   ]
  },
  {
   "cell_type": "code",
   "execution_count": 7,
   "id": "ee16645b",
   "metadata": {
    "execution": {
     "iopub.execute_input": "2021-12-25T04:28:59.196057Z",
     "iopub.status.busy": "2021-12-25T04:28:59.194603Z",
     "iopub.status.idle": "2021-12-25T04:28:59.233176Z",
     "shell.execute_reply": "2021-12-25T04:28:59.233762Z",
     "shell.execute_reply.started": "2021-12-25T04:22:24.956353Z"
    },
    "papermill": {
     "duration": 0.056399,
     "end_time": "2021-12-25T04:28:59.233944",
     "exception": false,
     "start_time": "2021-12-25T04:28:59.177545",
     "status": "completed"
    },
    "tags": []
   },
   "outputs": [],
   "source": [
    "y = df.charges\n",
    "X = df.drop('charges', axis=1)\n",
    "\n",
    "X_train, X_test, y_train, y_test = train_test_split(X, y, test_size = .20, random_state=1)\n",
    "\n",
    "scaler = StandardScaler()\n",
    "\n",
    "s_X_train = scaler.fit_transform(X_train)\n",
    "s_X_test = scaler.transform(X_test)\n",
    "\n",
    "#Linear Regression\n",
    "\n",
    "LR = LinearRegression()\n",
    "LR.fit(s_X_train, y_train)\n",
    "y_pred = LR.predict(s_X_test)"
   ]
  },
  {
   "cell_type": "code",
   "execution_count": 8,
   "id": "2022e47b",
   "metadata": {
    "execution": {
     "iopub.execute_input": "2021-12-25T04:28:59.266315Z",
     "iopub.status.busy": "2021-12-25T04:28:59.265458Z",
     "iopub.status.idle": "2021-12-25T04:28:59.272204Z",
     "shell.execute_reply": "2021-12-25T04:28:59.271635Z",
     "shell.execute_reply.started": "2021-12-25T04:22:11.805266Z"
    },
    "papermill": {
     "duration": 0.024713,
     "end_time": "2021-12-25T04:28:59.272474",
     "exception": false,
     "start_time": "2021-12-25T04:28:59.247761",
     "status": "completed"
    },
    "tags": []
   },
   "outputs": [],
   "source": [
    "import math\n",
    "from sklearn.metrics import mean_squared_error as mse, mean_absolute_error as mae, r2_score as r2"
   ]
  },
  {
   "cell_type": "code",
   "execution_count": 9,
   "id": "07d5da94",
   "metadata": {
    "execution": {
     "iopub.execute_input": "2021-12-25T04:28:59.309104Z",
     "iopub.status.busy": "2021-12-25T04:28:59.306018Z",
     "iopub.status.idle": "2021-12-25T04:28:59.834131Z",
     "shell.execute_reply": "2021-12-25T04:28:59.834848Z",
     "shell.execute_reply.started": "2021-12-25T04:22:21.566797Z"
    },
    "papermill": {
     "duration": 0.546411,
     "end_time": "2021-12-25T04:28:59.835032",
     "exception": false,
     "start_time": "2021-12-25T04:28:59.288621",
     "status": "completed"
    },
    "tags": []
   },
   "outputs": [],
   "source": [
    "#XGBoost Regressor\n",
    "xgbr = XGBRegressor(verbosity=0)\n",
    "xgbr.fit(X_train, y_train)\n",
    "\n",
    "y_pred_XGBR = xgbr.predict(X_test)"
   ]
  },
  {
   "cell_type": "code",
   "execution_count": 10,
   "id": "adf65e80",
   "metadata": {
    "execution": {
     "iopub.execute_input": "2021-12-25T04:28:59.873703Z",
     "iopub.status.busy": "2021-12-25T04:28:59.872990Z",
     "iopub.status.idle": "2021-12-25T04:28:59.876226Z",
     "shell.execute_reply": "2021-12-25T04:28:59.875546Z",
     "shell.execute_reply.started": "2021-12-25T04:21:41.212034Z"
    },
    "papermill": {
     "duration": 0.024083,
     "end_time": "2021-12-25T04:28:59.876371",
     "exception": false,
     "start_time": "2021-12-25T04:28:59.852288",
     "status": "completed"
    },
    "tags": []
   },
   "outputs": [],
   "source": [
    "def get_metrics(preds, actual, model_type):\n",
    "    r2s = r2(preds, actual)\n",
    "    maes = mae(preds, actual)\n",
    "    mses = mse(preds, actual)\n",
    "    rmses = math.sqrt(mses)\n",
    "#     return rmse, mse, mae, r2\n",
    "    df = pd.DataFrame([r2s, maes, mses, rmses, model_type]).transpose()\n",
    "    df.columns = ['r2 coeff.', 'MAE', 'MSE', 'RMSE', 'Type of model']\n",
    "    return df"
   ]
  },
  {
   "cell_type": "code",
   "execution_count": 11,
   "id": "e1f33aa2",
   "metadata": {
    "execution": {
     "iopub.execute_input": "2021-12-25T04:28:59.923938Z",
     "iopub.status.busy": "2021-12-25T04:28:59.909307Z",
     "iopub.status.idle": "2021-12-25T04:28:59.928311Z",
     "shell.execute_reply": "2021-12-25T04:28:59.927675Z",
     "shell.execute_reply.started": "2021-12-25T04:22:35.195452Z"
    },
    "papermill": {
     "duration": 0.038632,
     "end_time": "2021-12-25T04:28:59.928467",
     "exception": false,
     "start_time": "2021-12-25T04:28:59.889835",
     "status": "completed"
    },
    "tags": []
   },
   "outputs": [
    {
     "data": {
      "text/html": [
       "<div>\n",
       "<style scoped>\n",
       "    .dataframe tbody tr th:only-of-type {\n",
       "        vertical-align: middle;\n",
       "    }\n",
       "\n",
       "    .dataframe tbody tr th {\n",
       "        vertical-align: top;\n",
       "    }\n",
       "\n",
       "    .dataframe thead th {\n",
       "        text-align: right;\n",
       "    }\n",
       "</style>\n",
       "<table border=\"1\" class=\"dataframe\">\n",
       "  <thead>\n",
       "    <tr style=\"text-align: right;\">\n",
       "      <th></th>\n",
       "      <th>r2 coeff.</th>\n",
       "      <th>MAE</th>\n",
       "      <th>MSE</th>\n",
       "      <th>RMSE</th>\n",
       "      <th>Type of model</th>\n",
       "    </tr>\n",
       "  </thead>\n",
       "  <tbody>\n",
       "    <tr>\n",
       "      <th>0</th>\n",
       "      <td>0.624259</td>\n",
       "      <td>3918.300193</td>\n",
       "      <td>34824927.807786</td>\n",
       "      <td>5901.264933</td>\n",
       "      <td>Linear Regression</td>\n",
       "    </tr>\n",
       "    <tr>\n",
       "      <th>0</th>\n",
       "      <td>0.87101</td>\n",
       "      <td>1733.224338</td>\n",
       "      <td>14806208.474594</td>\n",
       "      <td>3847.883636</td>\n",
       "      <td>XGBR</td>\n",
       "    </tr>\n",
       "  </tbody>\n",
       "</table>\n",
       "</div>"
      ],
      "text/plain": [
       "  r2 coeff.          MAE              MSE         RMSE      Type of model\n",
       "0  0.624259  3918.300193  34824927.807786  5901.264933  Linear Regression\n",
       "0   0.87101  1733.224338  14806208.474594  3847.883636               XGBR"
      ]
     },
     "execution_count": 11,
     "metadata": {},
     "output_type": "execute_result"
    }
   ],
   "source": [
    "df_metrics = get_metrics(y_pred, y_test, 'Linear Regression')\n",
    "df_metrics_X = get_metrics(y_pred_XGBR, y_test, 'XGBR')\n",
    "\n",
    "df_metrics = pd.concat([df_metrics, df_metrics_X], axis=0)\n",
    "df_metrics"
   ]
  },
  {
   "cell_type": "markdown",
   "id": "ed6f790f",
   "metadata": {
    "papermill": {
     "duration": 0.014329,
     "end_time": "2021-12-25T04:28:59.957575",
     "exception": false,
     "start_time": "2021-12-25T04:28:59.943246",
     "status": "completed"
    },
    "tags": []
   },
   "source": [
    "Let's improve on this a bit\n",
    "# Back to the drawing-board\n",
    "### Let's perform some feature engineering and outlier analysis to try and fix up our model"
   ]
  },
  {
   "cell_type": "code",
   "execution_count": 12,
   "id": "90cd71e2",
   "metadata": {
    "execution": {
     "iopub.execute_input": "2021-12-25T04:28:59.991106Z",
     "iopub.status.busy": "2021-12-25T04:28:59.989959Z",
     "iopub.status.idle": "2021-12-25T04:28:59.994045Z",
     "shell.execute_reply": "2021-12-25T04:28:59.994647Z"
    },
    "papermill": {
     "duration": 0.022742,
     "end_time": "2021-12-25T04:28:59.994818",
     "exception": false,
     "start_time": "2021-12-25T04:28:59.972076",
     "status": "completed"
    },
    "tags": []
   },
   "outputs": [],
   "source": [
    "#To be continued"
   ]
  }
 ],
 "metadata": {
  "kernelspec": {
   "display_name": "Python 3",
   "language": "python",
   "name": "python3"
  },
  "language_info": {
   "codemirror_mode": {
    "name": "ipython",
    "version": 3
   },
   "file_extension": ".py",
   "mimetype": "text/x-python",
   "name": "python",
   "nbconvert_exporter": "python",
   "pygments_lexer": "ipython3",
   "version": "3.7.12"
  },
  "papermill": {
   "default_parameters": {},
   "duration": 13.504529,
   "end_time": "2021-12-25T04:29:00.721369",
   "environment_variables": {},
   "exception": null,
   "input_path": "__notebook__.ipynb",
   "output_path": "__notebook__.ipynb",
   "parameters": {},
   "start_time": "2021-12-25T04:28:47.216840",
   "version": "2.3.3"
  }
 },
 "nbformat": 4,
 "nbformat_minor": 5
}
