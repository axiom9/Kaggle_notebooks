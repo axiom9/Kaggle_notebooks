{
 "cells": [
  {
   "cell_type": "code",
   "execution_count": 1,
   "id": "a7df0481",
   "metadata": {
    "_cell_guid": "b1076dfc-b9ad-4769-8c92-a6c4dae69d19",
    "_uuid": "8f2839f25d086af736a60e9eeb907d3b93b6e0e5",
    "execution": {
     "iopub.execute_input": "2021-12-27T23:55:27.510837Z",
     "iopub.status.busy": "2021-12-27T23:55:27.509567Z",
     "iopub.status.idle": "2021-12-27T23:55:27.534385Z",
     "shell.execute_reply": "2021-12-27T23:55:27.535339Z",
     "shell.execute_reply.started": "2021-12-27T23:52:50.239900Z"
    },
    "papermill": {
     "duration": 0.049351,
     "end_time": "2021-12-27T23:55:27.535778",
     "exception": false,
     "start_time": "2021-12-27T23:55:27.486427",
     "status": "completed"
    },
    "tags": []
   },
   "outputs": [
    {
     "name": "stdout",
     "output_type": "stream",
     "text": [
      "/kaggle/input/medical-insurance-dataset/Train_Data.csv\n",
      "/kaggle/input/medical-insurance-dataset/Test_Data.csv\n"
     ]
    }
   ],
   "source": [
    "# This Python 3 environment comes with many helpful analytics libraries installed\n",
    "# It is defined by the kaggle/python Docker image: https://github.com/kaggle/docker-python\n",
    "# For example, here's several helpful packages to load\n",
    "\n",
    "import numpy as np # linear algebra\n",
    "import pandas as pd # data processing, CSV file I/O (e.g. pd.read_csv)\n",
    "\n",
    "# Input data files are available in the read-only \"../input/\" directory\n",
    "# For example, running this (by clicking run or pressing Shift+Enter) will list all files under the input directory\n",
    "\n",
    "import os\n",
    "for dirname, _, filenames in os.walk('/kaggle/input'):\n",
    "    for filename in filenames:\n",
    "        print(os.path.join(dirname, filename))\n",
    "\n",
    "# You can write up to 20GB to the current directory (/kaggle/working/) that gets preserved as output when you create a version using \"Save & Run All\" \n",
    "# You can also write temporary files to /kaggle/temp/, but they won't be saved outside of the current session"
   ]
  },
  {
   "cell_type": "code",
   "execution_count": 2,
   "id": "8a3145ad",
   "metadata": {
    "execution": {
     "iopub.execute_input": "2021-12-27T23:55:27.577665Z",
     "iopub.status.busy": "2021-12-27T23:55:27.576939Z",
     "iopub.status.idle": "2021-12-27T23:55:27.627497Z",
     "shell.execute_reply": "2021-12-27T23:55:27.628060Z",
     "shell.execute_reply.started": "2021-12-27T23:52:50.249935Z"
    },
    "papermill": {
     "duration": 0.072938,
     "end_time": "2021-12-27T23:55:27.628239",
     "exception": false,
     "start_time": "2021-12-27T23:55:27.555301",
     "status": "completed"
    },
    "tags": []
   },
   "outputs": [
    {
     "data": {
      "text/html": [
       "<div>\n",
       "<style scoped>\n",
       "    .dataframe tbody tr th:only-of-type {\n",
       "        vertical-align: middle;\n",
       "    }\n",
       "\n",
       "    .dataframe tbody tr th {\n",
       "        vertical-align: top;\n",
       "    }\n",
       "\n",
       "    .dataframe thead th {\n",
       "        text-align: right;\n",
       "    }\n",
       "</style>\n",
       "<table border=\"1\" class=\"dataframe\">\n",
       "  <thead>\n",
       "    <tr style=\"text-align: right;\">\n",
       "      <th></th>\n",
       "      <th>age</th>\n",
       "      <th>sex</th>\n",
       "      <th>bmi</th>\n",
       "      <th>smoker</th>\n",
       "      <th>region</th>\n",
       "      <th>children</th>\n",
       "      <th>charges</th>\n",
       "    </tr>\n",
       "  </thead>\n",
       "  <tbody>\n",
       "    <tr>\n",
       "      <th>0</th>\n",
       "      <td>21.000000</td>\n",
       "      <td>male</td>\n",
       "      <td>25.745000</td>\n",
       "      <td>no</td>\n",
       "      <td>northeast</td>\n",
       "      <td>2</td>\n",
       "      <td>3279.868550</td>\n",
       "    </tr>\n",
       "    <tr>\n",
       "      <th>1</th>\n",
       "      <td>36.976978</td>\n",
       "      <td>female</td>\n",
       "      <td>25.744165</td>\n",
       "      <td>yes</td>\n",
       "      <td>southeast</td>\n",
       "      <td>3</td>\n",
       "      <td>21454.494239</td>\n",
       "    </tr>\n",
       "    <tr>\n",
       "      <th>2</th>\n",
       "      <td>18.000000</td>\n",
       "      <td>male</td>\n",
       "      <td>30.030000</td>\n",
       "      <td>no</td>\n",
       "      <td>southeast</td>\n",
       "      <td>1</td>\n",
       "      <td>1720.353700</td>\n",
       "    </tr>\n",
       "    <tr>\n",
       "      <th>3</th>\n",
       "      <td>37.000000</td>\n",
       "      <td>male</td>\n",
       "      <td>30.676891</td>\n",
       "      <td>no</td>\n",
       "      <td>northeast</td>\n",
       "      <td>3</td>\n",
       "      <td>6801.437542</td>\n",
       "    </tr>\n",
       "    <tr>\n",
       "      <th>4</th>\n",
       "      <td>58.000000</td>\n",
       "      <td>male</td>\n",
       "      <td>32.010000</td>\n",
       "      <td>no</td>\n",
       "      <td>southeast</td>\n",
       "      <td>1</td>\n",
       "      <td>11946.625900</td>\n",
       "    </tr>\n",
       "    <tr>\n",
       "      <th>...</th>\n",
       "      <td>...</td>\n",
       "      <td>...</td>\n",
       "      <td>...</td>\n",
       "      <td>...</td>\n",
       "      <td>...</td>\n",
       "      <td>...</td>\n",
       "      <td>...</td>\n",
       "    </tr>\n",
       "    <tr>\n",
       "      <th>3625</th>\n",
       "      <td>48.820767</td>\n",
       "      <td>female</td>\n",
       "      <td>41.426984</td>\n",
       "      <td>no</td>\n",
       "      <td>northwest</td>\n",
       "      <td>4</td>\n",
       "      <td>10987.324964</td>\n",
       "    </tr>\n",
       "    <tr>\n",
       "      <th>3626</th>\n",
       "      <td>38.661977</td>\n",
       "      <td>female</td>\n",
       "      <td>26.202557</td>\n",
       "      <td>no</td>\n",
       "      <td>southeast</td>\n",
       "      <td>2</td>\n",
       "      <td>11735.844352</td>\n",
       "    </tr>\n",
       "    <tr>\n",
       "      <th>3627</th>\n",
       "      <td>56.000000</td>\n",
       "      <td>male</td>\n",
       "      <td>40.300000</td>\n",
       "      <td>no</td>\n",
       "      <td>southwest</td>\n",
       "      <td>0</td>\n",
       "      <td>10602.385000</td>\n",
       "    </tr>\n",
       "    <tr>\n",
       "      <th>3628</th>\n",
       "      <td>48.061207</td>\n",
       "      <td>female</td>\n",
       "      <td>34.930624</td>\n",
       "      <td>no</td>\n",
       "      <td>southeast</td>\n",
       "      <td>1</td>\n",
       "      <td>8976.140452</td>\n",
       "    </tr>\n",
       "    <tr>\n",
       "      <th>3629</th>\n",
       "      <td>37.598865</td>\n",
       "      <td>female</td>\n",
       "      <td>25.219233</td>\n",
       "      <td>no</td>\n",
       "      <td>northeast</td>\n",
       "      <td>3</td>\n",
       "      <td>7027.698968</td>\n",
       "    </tr>\n",
       "  </tbody>\n",
       "</table>\n",
       "<p>3630 rows × 7 columns</p>\n",
       "</div>"
      ],
      "text/plain": [
       "            age     sex        bmi smoker     region  children       charges\n",
       "0     21.000000    male  25.745000     no  northeast         2   3279.868550\n",
       "1     36.976978  female  25.744165    yes  southeast         3  21454.494239\n",
       "2     18.000000    male  30.030000     no  southeast         1   1720.353700\n",
       "3     37.000000    male  30.676891     no  northeast         3   6801.437542\n",
       "4     58.000000    male  32.010000     no  southeast         1  11946.625900\n",
       "...         ...     ...        ...    ...        ...       ...           ...\n",
       "3625  48.820767  female  41.426984     no  northwest         4  10987.324964\n",
       "3626  38.661977  female  26.202557     no  southeast         2  11735.844352\n",
       "3627  56.000000    male  40.300000     no  southwest         0  10602.385000\n",
       "3628  48.061207  female  34.930624     no  southeast         1   8976.140452\n",
       "3629  37.598865  female  25.219233     no  northeast         3   7027.698968\n",
       "\n",
       "[3630 rows x 7 columns]"
      ]
     },
     "execution_count": 2,
     "metadata": {},
     "output_type": "execute_result"
    }
   ],
   "source": [
    "df = pd.read_csv('../input/medical-insurance-dataset/Train_Data.csv')\n",
    "df"
   ]
  },
  {
   "cell_type": "code",
   "execution_count": 3,
   "id": "a4751921",
   "metadata": {
    "execution": {
     "iopub.execute_input": "2021-12-27T23:55:27.672107Z",
     "iopub.status.busy": "2021-12-27T23:55:27.671420Z",
     "iopub.status.idle": "2021-12-27T23:55:27.676949Z",
     "shell.execute_reply": "2021-12-27T23:55:27.677692Z",
     "shell.execute_reply.started": "2021-12-27T23:52:50.319734Z"
    },
    "papermill": {
     "duration": 0.030949,
     "end_time": "2021-12-27T23:55:27.677870",
     "exception": false,
     "start_time": "2021-12-27T23:55:27.646921",
     "status": "completed"
    },
    "tags": []
   },
   "outputs": [
    {
     "data": {
      "text/plain": [
       "age         0\n",
       "sex         0\n",
       "bmi         0\n",
       "smoker      0\n",
       "region      0\n",
       "children    0\n",
       "charges     0\n",
       "dtype: int64"
      ]
     },
     "execution_count": 3,
     "metadata": {},
     "output_type": "execute_result"
    }
   ],
   "source": [
    "df.isna().sum()"
   ]
  },
  {
   "cell_type": "markdown",
   "id": "4d5ca193",
   "metadata": {
    "papermill": {
     "duration": 0.018704,
     "end_time": "2021-12-27T23:55:27.716385",
     "exception": false,
     "start_time": "2021-12-27T23:55:27.697681",
     "status": "completed"
    },
    "tags": []
   },
   "source": [
    "# Pre-processing"
   ]
  },
  {
   "cell_type": "code",
   "execution_count": 4,
   "id": "af057f2c",
   "metadata": {
    "execution": {
     "iopub.execute_input": "2021-12-27T23:55:27.756319Z",
     "iopub.status.busy": "2021-12-27T23:55:27.755512Z",
     "iopub.status.idle": "2021-12-27T23:55:28.800694Z",
     "shell.execute_reply": "2021-12-27T23:55:28.799558Z",
     "shell.execute_reply.started": "2021-12-27T23:52:50.334636Z"
    },
    "papermill": {
     "duration": 1.066214,
     "end_time": "2021-12-27T23:55:28.800855",
     "exception": false,
     "start_time": "2021-12-27T23:55:27.734641",
     "status": "completed"
    },
    "tags": []
   },
   "outputs": [],
   "source": [
    "from sklearn.preprocessing import OneHotEncoder"
   ]
  },
  {
   "cell_type": "code",
   "execution_count": 5,
   "id": "06cba33b",
   "metadata": {
    "execution": {
     "iopub.execute_input": "2021-12-27T23:55:28.842416Z",
     "iopub.status.busy": "2021-12-27T23:55:28.841763Z",
     "iopub.status.idle": "2021-12-27T23:55:28.872293Z",
     "shell.execute_reply": "2021-12-27T23:55:28.872952Z",
     "shell.execute_reply.started": "2021-12-27T23:52:51.449788Z"
    },
    "papermill": {
     "duration": 0.052338,
     "end_time": "2021-12-27T23:55:28.873146",
     "exception": false,
     "start_time": "2021-12-27T23:55:28.820808",
     "status": "completed"
    },
    "tags": []
   },
   "outputs": [],
   "source": [
    "#Wrapper for gender\n",
    "sex_wrapper = {'male':0, 'female':1}\n",
    "df.sex = df.sex.replace(sex_wrapper)\n",
    "\n",
    "#Wrapper for smoker\n",
    "df.smoker.value_counts()\n",
    "smoker_wrapper = {'no':0, 'yes':1}\n",
    "df.smoker = df.smoker.replace(smoker_wrapper)\n",
    "\n",
    "#Dealing with region - OHE\n",
    "df.region.value_counts()\n",
    "ohe = OneHotEncoder()\n",
    "feat_array = ohe.fit_transform(df[['region']]).toarray()\n",
    "df_ohe = pd.DataFrame(feat_array, columns=ohe.categories_)\n",
    "df = pd.concat([df, df_ohe], axis = 1)\n",
    "df = df.drop('region', axis=1)\n"
   ]
  },
  {
   "cell_type": "markdown",
   "id": "34c24d6e",
   "metadata": {
    "papermill": {
     "duration": 0.019174,
     "end_time": "2021-12-27T23:55:28.911254",
     "exception": false,
     "start_time": "2021-12-27T23:55:28.892080",
     "status": "completed"
    },
    "tags": []
   },
   "source": [
    "# Splitting and training model"
   ]
  },
  {
   "cell_type": "code",
   "execution_count": 6,
   "id": "37f71670",
   "metadata": {
    "execution": {
     "iopub.execute_input": "2021-12-27T23:55:28.950783Z",
     "iopub.status.busy": "2021-12-27T23:55:28.950122Z",
     "iopub.status.idle": "2021-12-27T23:55:29.298973Z",
     "shell.execute_reply": "2021-12-27T23:55:29.299613Z",
     "shell.execute_reply.started": "2021-12-27T23:52:51.490207Z"
    },
    "papermill": {
     "duration": 0.370464,
     "end_time": "2021-12-27T23:55:29.299842",
     "exception": false,
     "start_time": "2021-12-27T23:55:28.929378",
     "status": "completed"
    },
    "tags": []
   },
   "outputs": [],
   "source": [
    "from sklearn.linear_model import LinearRegression\n",
    "from sklearn.ensemble import RandomForestRegressor\n",
    "from xgboost import XGBRegressor\n",
    "\n",
    "from sklearn.model_selection import train_test_split\n",
    "\n",
    "from sklearn.preprocessing import StandardScaler"
   ]
  },
  {
   "cell_type": "code",
   "execution_count": 7,
   "id": "3601d1e4",
   "metadata": {
    "execution": {
     "iopub.execute_input": "2021-12-27T23:55:29.341541Z",
     "iopub.status.busy": "2021-12-27T23:55:29.340553Z",
     "iopub.status.idle": "2021-12-27T23:55:29.376353Z",
     "shell.execute_reply": "2021-12-27T23:55:29.377304Z",
     "shell.execute_reply.started": "2021-12-27T23:52:51.856134Z"
    },
    "papermill": {
     "duration": 0.058017,
     "end_time": "2021-12-27T23:55:29.377587",
     "exception": false,
     "start_time": "2021-12-27T23:55:29.319570",
     "status": "completed"
    },
    "tags": []
   },
   "outputs": [],
   "source": [
    "y = df.charges\n",
    "X = df.drop('charges', axis=1)\n",
    "\n",
    "X_train, X_test, y_train, y_test = train_test_split(X, y, test_size = .20, random_state=1)\n",
    "\n",
    "scaler = StandardScaler()\n",
    "\n",
    "s_X_train = scaler.fit_transform(X_train)\n",
    "s_X_test = scaler.transform(X_test)\n",
    "\n",
    "#Linear Regression\n",
    "\n",
    "LR = LinearRegression()\n",
    "LR.fit(s_X_train, y_train)\n",
    "y_pred = LR.predict(s_X_test)"
   ]
  },
  {
   "cell_type": "code",
   "execution_count": 8,
   "id": "6288abc7",
   "metadata": {
    "execution": {
     "iopub.execute_input": "2021-12-27T23:55:29.425281Z",
     "iopub.status.busy": "2021-12-27T23:55:29.424297Z",
     "iopub.status.idle": "2021-12-27T23:55:29.427405Z",
     "shell.execute_reply": "2021-12-27T23:55:29.426776Z",
     "shell.execute_reply.started": "2021-12-27T23:52:51.898569Z"
    },
    "papermill": {
     "duration": 0.025652,
     "end_time": "2021-12-27T23:55:29.427560",
     "exception": false,
     "start_time": "2021-12-27T23:55:29.401908",
     "status": "completed"
    },
    "tags": []
   },
   "outputs": [],
   "source": [
    "import math\n",
    "from sklearn.metrics import mean_squared_error as mse, mean_absolute_error as mae, r2_score as r2"
   ]
  },
  {
   "cell_type": "code",
   "execution_count": 9,
   "id": "8aa76bdd",
   "metadata": {
    "execution": {
     "iopub.execute_input": "2021-12-27T23:55:29.468225Z",
     "iopub.status.busy": "2021-12-27T23:55:29.467249Z",
     "iopub.status.idle": "2021-12-27T23:55:29.917202Z",
     "shell.execute_reply": "2021-12-27T23:55:29.917849Z",
     "shell.execute_reply.started": "2021-12-27T23:52:51.907228Z"
    },
    "papermill": {
     "duration": 0.472137,
     "end_time": "2021-12-27T23:55:29.918062",
     "exception": false,
     "start_time": "2021-12-27T23:55:29.445925",
     "status": "completed"
    },
    "tags": []
   },
   "outputs": [],
   "source": [
    "#XGBoost Regressor\n",
    "xgbr = XGBRegressor(verbosity=0)\n",
    "xgbr.fit(X_train, y_train)\n",
    "\n",
    "y_pred_XGBR = xgbr.predict(X_test)"
   ]
  },
  {
   "cell_type": "code",
   "execution_count": 10,
   "id": "a4554851",
   "metadata": {
    "execution": {
     "iopub.execute_input": "2021-12-27T23:55:29.964560Z",
     "iopub.status.busy": "2021-12-27T23:55:29.963806Z",
     "iopub.status.idle": "2021-12-27T23:55:29.966375Z",
     "shell.execute_reply": "2021-12-27T23:55:29.966885Z",
     "shell.execute_reply.started": "2021-12-27T23:52:52.466238Z"
    },
    "papermill": {
     "duration": 0.028003,
     "end_time": "2021-12-27T23:55:29.967087",
     "exception": false,
     "start_time": "2021-12-27T23:55:29.939084",
     "status": "completed"
    },
    "tags": []
   },
   "outputs": [],
   "source": [
    "def get_metrics(preds, actual, model_type):\n",
    "    r2s = r2(preds, actual)\n",
    "    maes = mae(preds, actual)\n",
    "    mses = mse(preds, actual)\n",
    "    rmses = math.sqrt(mses)\n",
    "#     return rmse, mse, mae, r2\n",
    "    df = pd.DataFrame([r2s, maes, mses, rmses, model_type]).transpose()\n",
    "    df.columns = ['r2 coeff.', 'MAE', 'MSE', 'RMSE', 'Type of model']\n",
    "    return df"
   ]
  },
  {
   "cell_type": "code",
   "execution_count": 11,
   "id": "b88e8257",
   "metadata": {
    "execution": {
     "iopub.execute_input": "2021-12-27T23:55:30.007954Z",
     "iopub.status.busy": "2021-12-27T23:55:30.006929Z",
     "iopub.status.idle": "2021-12-27T23:55:30.023863Z",
     "shell.execute_reply": "2021-12-27T23:55:30.024450Z",
     "shell.execute_reply.started": "2021-12-27T23:52:52.477409Z"
    },
    "papermill": {
     "duration": 0.038766,
     "end_time": "2021-12-27T23:55:30.024636",
     "exception": false,
     "start_time": "2021-12-27T23:55:29.985870",
     "status": "completed"
    },
    "tags": []
   },
   "outputs": [
    {
     "data": {
      "text/html": [
       "<div>\n",
       "<style scoped>\n",
       "    .dataframe tbody tr th:only-of-type {\n",
       "        vertical-align: middle;\n",
       "    }\n",
       "\n",
       "    .dataframe tbody tr th {\n",
       "        vertical-align: top;\n",
       "    }\n",
       "\n",
       "    .dataframe thead th {\n",
       "        text-align: right;\n",
       "    }\n",
       "</style>\n",
       "<table border=\"1\" class=\"dataframe\">\n",
       "  <thead>\n",
       "    <tr style=\"text-align: right;\">\n",
       "      <th></th>\n",
       "      <th>r2 coeff.</th>\n",
       "      <th>MAE</th>\n",
       "      <th>MSE</th>\n",
       "      <th>RMSE</th>\n",
       "      <th>Type of model</th>\n",
       "    </tr>\n",
       "  </thead>\n",
       "  <tbody>\n",
       "    <tr>\n",
       "      <th>0</th>\n",
       "      <td>0.624259</td>\n",
       "      <td>3918.300193</td>\n",
       "      <td>34824927.807786</td>\n",
       "      <td>5901.264933</td>\n",
       "      <td>Linear Regression</td>\n",
       "    </tr>\n",
       "    <tr>\n",
       "      <th>0</th>\n",
       "      <td>0.87101</td>\n",
       "      <td>1733.224338</td>\n",
       "      <td>14806208.474594</td>\n",
       "      <td>3847.883636</td>\n",
       "      <td>XGBR</td>\n",
       "    </tr>\n",
       "  </tbody>\n",
       "</table>\n",
       "</div>"
      ],
      "text/plain": [
       "  r2 coeff.          MAE              MSE         RMSE      Type of model\n",
       "0  0.624259  3918.300193  34824927.807786  5901.264933  Linear Regression\n",
       "0   0.87101  1733.224338  14806208.474594  3847.883636               XGBR"
      ]
     },
     "execution_count": 11,
     "metadata": {},
     "output_type": "execute_result"
    }
   ],
   "source": [
    "df_metrics = get_metrics(y_pred, y_test, 'Linear Regression')\n",
    "df_metrics_X = get_metrics(y_pred_XGBR, y_test, 'XGBR')\n",
    "\n",
    "df_metrics = pd.concat([df_metrics, df_metrics_X], axis=0)\n",
    "df_metrics"
   ]
  },
  {
   "cell_type": "markdown",
   "id": "92c2b39e",
   "metadata": {
    "papermill": {
     "duration": 0.019005,
     "end_time": "2021-12-27T23:55:30.063068",
     "exception": false,
     "start_time": "2021-12-27T23:55:30.044063",
     "status": "completed"
    },
    "tags": []
   },
   "source": [
    "Let's improve on this a bit\n",
    "# Back to the drawing-board\n",
    "### Let's perform some feature engineering and outlier analysis to try and fix up our model"
   ]
  },
  {
   "cell_type": "markdown",
   "id": "9b4e62eb",
   "metadata": {
    "papermill": {
     "duration": 0.018519,
     "end_time": "2021-12-27T23:55:30.100786",
     "exception": false,
     "start_time": "2021-12-27T23:55:30.082267",
     "status": "completed"
    },
    "tags": []
   },
   "source": [
    "### 1. Outlier Analysis & EDA"
   ]
  },
  {
   "cell_type": "code",
   "execution_count": 12,
   "id": "516df447",
   "metadata": {
    "execution": {
     "iopub.execute_input": "2021-12-27T23:55:30.143289Z",
     "iopub.status.busy": "2021-12-27T23:55:30.142222Z",
     "iopub.status.idle": "2021-12-27T23:55:30.145747Z",
     "shell.execute_reply": "2021-12-27T23:55:30.146329Z",
     "shell.execute_reply.started": "2021-12-27T23:53:13.706509Z"
    },
    "papermill": {
     "duration": 0.027005,
     "end_time": "2021-12-27T23:55:30.146500",
     "exception": false,
     "start_time": "2021-12-27T23:55:30.119495",
     "status": "completed"
    },
    "tags": []
   },
   "outputs": [],
   "source": [
    "# Work here"
   ]
  },
  {
   "cell_type": "markdown",
   "id": "2df534a8",
   "metadata": {
    "papermill": {
     "duration": 0.01851,
     "end_time": "2021-12-27T23:55:30.184235",
     "exception": false,
     "start_time": "2021-12-27T23:55:30.165725",
     "status": "completed"
    },
    "tags": []
   },
   "source": [
    "### 2. Feature Selection Techniques"
   ]
  },
  {
   "cell_type": "code",
   "execution_count": 13,
   "id": "cf39e8ff",
   "metadata": {
    "execution": {
     "iopub.execute_input": "2021-12-27T23:55:30.226754Z",
     "iopub.status.busy": "2021-12-27T23:55:30.225732Z",
     "iopub.status.idle": "2021-12-27T23:55:30.229351Z",
     "shell.execute_reply": "2021-12-27T23:55:30.229951Z",
     "shell.execute_reply.started": "2021-12-27T23:53:29.176953Z"
    },
    "papermill": {
     "duration": 0.027042,
     "end_time": "2021-12-27T23:55:30.230151",
     "exception": false,
     "start_time": "2021-12-27T23:55:30.203109",
     "status": "completed"
    },
    "tags": []
   },
   "outputs": [],
   "source": [
    "# Work here"
   ]
  },
  {
   "cell_type": "markdown",
   "id": "ffd282a1",
   "metadata": {
    "papermill": {
     "duration": 0.01862,
     "end_time": "2021-12-27T23:55:30.267850",
     "exception": false,
     "start_time": "2021-12-27T23:55:30.249230",
     "status": "completed"
    },
    "tags": []
   },
   "source": [
    "### 3. Implementing different regression models"
   ]
  },
  {
   "cell_type": "code",
   "execution_count": 14,
   "id": "405fe78a",
   "metadata": {
    "execution": {
     "iopub.execute_input": "2021-12-27T23:55:30.312400Z",
     "iopub.status.busy": "2021-12-27T23:55:30.311365Z",
     "iopub.status.idle": "2021-12-27T23:55:30.313768Z",
     "shell.execute_reply": "2021-12-27T23:55:30.314228Z",
     "shell.execute_reply.started": "2021-12-27T23:54:08.799016Z"
    },
    "papermill": {
     "duration": 0.027408,
     "end_time": "2021-12-27T23:55:30.314408",
     "exception": false,
     "start_time": "2021-12-27T23:55:30.287000",
     "status": "completed"
    },
    "tags": []
   },
   "outputs": [],
   "source": [
    "# OLS Regression, Lasso Regression, Ridge Regression, "
   ]
  },
  {
   "cell_type": "markdown",
   "id": "c73c0796",
   "metadata": {
    "papermill": {
     "duration": 0.019447,
     "end_time": "2021-12-27T23:55:30.352675",
     "exception": false,
     "start_time": "2021-12-27T23:55:30.333228",
     "status": "completed"
    },
    "tags": []
   },
   "source": [
    "### 4. Evaluation and comparison to original Linear Regression model and XGBRegessor model"
   ]
  },
  {
   "cell_type": "code",
   "execution_count": 15,
   "id": "9ca4c50c",
   "metadata": {
    "execution": {
     "iopub.execute_input": "2021-12-27T23:55:30.394903Z",
     "iopub.status.busy": "2021-12-27T23:55:30.393835Z",
     "iopub.status.idle": "2021-12-27T23:55:30.396859Z",
     "shell.execute_reply": "2021-12-27T23:55:30.396217Z",
     "shell.execute_reply.started": "2021-12-27T23:54:37.669280Z"
    },
    "papermill": {
     "duration": 0.025758,
     "end_time": "2021-12-27T23:55:30.397008",
     "exception": false,
     "start_time": "2021-12-27T23:55:30.371250",
     "status": "completed"
    },
    "tags": []
   },
   "outputs": [],
   "source": [
    "# Work here"
   ]
  },
  {
   "cell_type": "code",
   "execution_count": null,
   "id": "6e84afb0",
   "metadata": {
    "papermill": {
     "duration": 0.019246,
     "end_time": "2021-12-27T23:55:30.435490",
     "exception": false,
     "start_time": "2021-12-27T23:55:30.416244",
     "status": "completed"
    },
    "tags": []
   },
   "outputs": [],
   "source": []
  }
 ],
 "metadata": {
  "kernelspec": {
   "display_name": "Python 3",
   "language": "python",
   "name": "python3"
  },
  "language_info": {
   "codemirror_mode": {
    "name": "ipython",
    "version": 3
   },
   "file_extension": ".py",
   "mimetype": "text/x-python",
   "name": "python",
   "nbconvert_exporter": "python",
   "pygments_lexer": "ipython3",
   "version": "3.7.12"
  },
  "papermill": {
   "default_parameters": {},
   "duration": 13.971654,
   "end_time": "2021-12-27T23:55:31.164959",
   "environment_variables": {},
   "exception": null,
   "input_path": "__notebook__.ipynb",
   "output_path": "__notebook__.ipynb",
   "parameters": {},
   "start_time": "2021-12-27T23:55:17.193305",
   "version": "2.3.3"
  }
 },
 "nbformat": 4,
 "nbformat_minor": 5
}
