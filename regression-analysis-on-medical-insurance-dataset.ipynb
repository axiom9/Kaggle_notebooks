{
 "cells": [
  {
   "cell_type": "code",
   "execution_count": 1,
   "id": "98f0fa41",
   "metadata": {
    "_cell_guid": "b1076dfc-b9ad-4769-8c92-a6c4dae69d19",
    "_uuid": "8f2839f25d086af736a60e9eeb907d3b93b6e0e5",
    "execution": {
     "iopub.execute_input": "2021-12-27T23:57:19.279899Z",
     "iopub.status.busy": "2021-12-27T23:57:19.279322Z",
     "iopub.status.idle": "2021-12-27T23:57:19.303731Z",
     "shell.execute_reply": "2021-12-27T23:57:19.303137Z",
     "shell.execute_reply.started": "2021-12-27T23:52:50.239900Z"
    },
    "papermill": {
     "duration": 0.047521,
     "end_time": "2021-12-27T23:57:19.303878",
     "exception": false,
     "start_time": "2021-12-27T23:57:19.256357",
     "status": "completed"
    },
    "tags": []
   },
   "outputs": [
    {
     "name": "stdout",
     "output_type": "stream",
     "text": [
      "/kaggle/input/medical-insurance-dataset/Train_Data.csv\n",
      "/kaggle/input/medical-insurance-dataset/Test_Data.csv\n"
     ]
    }
   ],
   "source": [
    "# This Python 3 environment comes with many helpful analytics libraries installed\n",
    "# It is defined by the kaggle/python Docker image: https://github.com/kaggle/docker-python\n",
    "# For example, here's several helpful packages to load\n",
    "\n",
    "import numpy as np # linear algebra\n",
    "import pandas as pd # data processing, CSV file I/O (e.g. pd.read_csv)\n",
    "\n",
    "# Input data files are available in the read-only \"../input/\" directory\n",
    "# For example, running this (by clicking run or pressing Shift+Enter) will list all files under the input directory\n",
    "\n",
    "import os\n",
    "for dirname, _, filenames in os.walk('/kaggle/input'):\n",
    "    for filename in filenames:\n",
    "        print(os.path.join(dirname, filename))\n",
    "\n",
    "# You can write up to 20GB to the current directory (/kaggle/working/) that gets preserved as output when you create a version using \"Save & Run All\" \n",
    "# You can also write temporary files to /kaggle/temp/, but they won't be saved outside of the current session"
   ]
  },
  {
   "cell_type": "code",
   "execution_count": 2,
   "id": "b2d04c15",
   "metadata": {
    "execution": {
     "iopub.execute_input": "2021-12-27T23:57:19.338731Z",
     "iopub.status.busy": "2021-12-27T23:57:19.338214Z",
     "iopub.status.idle": "2021-12-27T23:57:19.391492Z",
     "shell.execute_reply": "2021-12-27T23:57:19.391093Z",
     "shell.execute_reply.started": "2021-12-27T23:52:50.249935Z"
    },
    "papermill": {
     "duration": 0.072449,
     "end_time": "2021-12-27T23:57:19.391616",
     "exception": false,
     "start_time": "2021-12-27T23:57:19.319167",
     "status": "completed"
    },
    "tags": []
   },
   "outputs": [
    {
     "data": {
      "text/html": [
       "<div>\n",
       "<style scoped>\n",
       "    .dataframe tbody tr th:only-of-type {\n",
       "        vertical-align: middle;\n",
       "    }\n",
       "\n",
       "    .dataframe tbody tr th {\n",
       "        vertical-align: top;\n",
       "    }\n",
       "\n",
       "    .dataframe thead th {\n",
       "        text-align: right;\n",
       "    }\n",
       "</style>\n",
       "<table border=\"1\" class=\"dataframe\">\n",
       "  <thead>\n",
       "    <tr style=\"text-align: right;\">\n",
       "      <th></th>\n",
       "      <th>age</th>\n",
       "      <th>sex</th>\n",
       "      <th>bmi</th>\n",
       "      <th>smoker</th>\n",
       "      <th>region</th>\n",
       "      <th>children</th>\n",
       "      <th>charges</th>\n",
       "    </tr>\n",
       "  </thead>\n",
       "  <tbody>\n",
       "    <tr>\n",
       "      <th>0</th>\n",
       "      <td>21.000000</td>\n",
       "      <td>male</td>\n",
       "      <td>25.745000</td>\n",
       "      <td>no</td>\n",
       "      <td>northeast</td>\n",
       "      <td>2</td>\n",
       "      <td>3279.868550</td>\n",
       "    </tr>\n",
       "    <tr>\n",
       "      <th>1</th>\n",
       "      <td>36.976978</td>\n",
       "      <td>female</td>\n",
       "      <td>25.744165</td>\n",
       "      <td>yes</td>\n",
       "      <td>southeast</td>\n",
       "      <td>3</td>\n",
       "      <td>21454.494239</td>\n",
       "    </tr>\n",
       "    <tr>\n",
       "      <th>2</th>\n",
       "      <td>18.000000</td>\n",
       "      <td>male</td>\n",
       "      <td>30.030000</td>\n",
       "      <td>no</td>\n",
       "      <td>southeast</td>\n",
       "      <td>1</td>\n",
       "      <td>1720.353700</td>\n",
       "    </tr>\n",
       "    <tr>\n",
       "      <th>3</th>\n",
       "      <td>37.000000</td>\n",
       "      <td>male</td>\n",
       "      <td>30.676891</td>\n",
       "      <td>no</td>\n",
       "      <td>northeast</td>\n",
       "      <td>3</td>\n",
       "      <td>6801.437542</td>\n",
       "    </tr>\n",
       "    <tr>\n",
       "      <th>4</th>\n",
       "      <td>58.000000</td>\n",
       "      <td>male</td>\n",
       "      <td>32.010000</td>\n",
       "      <td>no</td>\n",
       "      <td>southeast</td>\n",
       "      <td>1</td>\n",
       "      <td>11946.625900</td>\n",
       "    </tr>\n",
       "    <tr>\n",
       "      <th>...</th>\n",
       "      <td>...</td>\n",
       "      <td>...</td>\n",
       "      <td>...</td>\n",
       "      <td>...</td>\n",
       "      <td>...</td>\n",
       "      <td>...</td>\n",
       "      <td>...</td>\n",
       "    </tr>\n",
       "    <tr>\n",
       "      <th>3625</th>\n",
       "      <td>48.820767</td>\n",
       "      <td>female</td>\n",
       "      <td>41.426984</td>\n",
       "      <td>no</td>\n",
       "      <td>northwest</td>\n",
       "      <td>4</td>\n",
       "      <td>10987.324964</td>\n",
       "    </tr>\n",
       "    <tr>\n",
       "      <th>3626</th>\n",
       "      <td>38.661977</td>\n",
       "      <td>female</td>\n",
       "      <td>26.202557</td>\n",
       "      <td>no</td>\n",
       "      <td>southeast</td>\n",
       "      <td>2</td>\n",
       "      <td>11735.844352</td>\n",
       "    </tr>\n",
       "    <tr>\n",
       "      <th>3627</th>\n",
       "      <td>56.000000</td>\n",
       "      <td>male</td>\n",
       "      <td>40.300000</td>\n",
       "      <td>no</td>\n",
       "      <td>southwest</td>\n",
       "      <td>0</td>\n",
       "      <td>10602.385000</td>\n",
       "    </tr>\n",
       "    <tr>\n",
       "      <th>3628</th>\n",
       "      <td>48.061207</td>\n",
       "      <td>female</td>\n",
       "      <td>34.930624</td>\n",
       "      <td>no</td>\n",
       "      <td>southeast</td>\n",
       "      <td>1</td>\n",
       "      <td>8976.140452</td>\n",
       "    </tr>\n",
       "    <tr>\n",
       "      <th>3629</th>\n",
       "      <td>37.598865</td>\n",
       "      <td>female</td>\n",
       "      <td>25.219233</td>\n",
       "      <td>no</td>\n",
       "      <td>northeast</td>\n",
       "      <td>3</td>\n",
       "      <td>7027.698968</td>\n",
       "    </tr>\n",
       "  </tbody>\n",
       "</table>\n",
       "<p>3630 rows × 7 columns</p>\n",
       "</div>"
      ],
      "text/plain": [
       "            age     sex        bmi smoker     region  children       charges\n",
       "0     21.000000    male  25.745000     no  northeast         2   3279.868550\n",
       "1     36.976978  female  25.744165    yes  southeast         3  21454.494239\n",
       "2     18.000000    male  30.030000     no  southeast         1   1720.353700\n",
       "3     37.000000    male  30.676891     no  northeast         3   6801.437542\n",
       "4     58.000000    male  32.010000     no  southeast         1  11946.625900\n",
       "...         ...     ...        ...    ...        ...       ...           ...\n",
       "3625  48.820767  female  41.426984     no  northwest         4  10987.324964\n",
       "3626  38.661977  female  26.202557     no  southeast         2  11735.844352\n",
       "3627  56.000000    male  40.300000     no  southwest         0  10602.385000\n",
       "3628  48.061207  female  34.930624     no  southeast         1   8976.140452\n",
       "3629  37.598865  female  25.219233     no  northeast         3   7027.698968\n",
       "\n",
       "[3630 rows x 7 columns]"
      ]
     },
     "execution_count": 2,
     "metadata": {},
     "output_type": "execute_result"
    }
   ],
   "source": [
    "df = pd.read_csv('../input/medical-insurance-dataset/Train_Data.csv')\n",
    "df"
   ]
  },
  {
   "cell_type": "markdown",
   "id": "c733545f",
   "metadata": {
    "papermill": {
     "duration": 0.014149,
     "end_time": "2021-12-27T23:57:19.420339",
     "exception": false,
     "start_time": "2021-12-27T23:57:19.406190",
     "status": "completed"
    },
    "tags": []
   },
   "source": [
    "### We're trying to predict 'charges' based off the other features"
   ]
  },
  {
   "cell_type": "code",
   "execution_count": 3,
   "id": "065aeae7",
   "metadata": {
    "execution": {
     "iopub.execute_input": "2021-12-27T23:57:19.451532Z",
     "iopub.status.busy": "2021-12-27T23:57:19.451107Z",
     "iopub.status.idle": "2021-12-27T23:57:19.460722Z",
     "shell.execute_reply": "2021-12-27T23:57:19.461083Z",
     "shell.execute_reply.started": "2021-12-27T23:52:50.319734Z"
    },
    "papermill": {
     "duration": 0.026715,
     "end_time": "2021-12-27T23:57:19.461231",
     "exception": false,
     "start_time": "2021-12-27T23:57:19.434516",
     "status": "completed"
    },
    "tags": []
   },
   "outputs": [
    {
     "data": {
      "text/plain": [
       "age         0\n",
       "sex         0\n",
       "bmi         0\n",
       "smoker      0\n",
       "region      0\n",
       "children    0\n",
       "charges     0\n",
       "dtype: int64"
      ]
     },
     "execution_count": 3,
     "metadata": {},
     "output_type": "execute_result"
    }
   ],
   "source": [
    "df.isna().sum()"
   ]
  },
  {
   "cell_type": "markdown",
   "id": "1a3d666d",
   "metadata": {
    "papermill": {
     "duration": 0.014928,
     "end_time": "2021-12-27T23:57:19.491240",
     "exception": false,
     "start_time": "2021-12-27T23:57:19.476312",
     "status": "completed"
    },
    "tags": []
   },
   "source": [
    "# Pre-processing"
   ]
  },
  {
   "cell_type": "code",
   "execution_count": 4,
   "id": "35afb34e",
   "metadata": {
    "execution": {
     "iopub.execute_input": "2021-12-27T23:57:19.524782Z",
     "iopub.status.busy": "2021-12-27T23:57:19.524224Z",
     "iopub.status.idle": "2021-12-27T23:57:20.632301Z",
     "shell.execute_reply": "2021-12-27T23:57:20.631817Z",
     "shell.execute_reply.started": "2021-12-27T23:52:50.334636Z"
    },
    "papermill": {
     "duration": 1.126272,
     "end_time": "2021-12-27T23:57:20.632410",
     "exception": false,
     "start_time": "2021-12-27T23:57:19.506138",
     "status": "completed"
    },
    "tags": []
   },
   "outputs": [],
   "source": [
    "from sklearn.preprocessing import OneHotEncoder"
   ]
  },
  {
   "cell_type": "code",
   "execution_count": 5,
   "id": "96066430",
   "metadata": {
    "execution": {
     "iopub.execute_input": "2021-12-27T23:57:20.672071Z",
     "iopub.status.busy": "2021-12-27T23:57:20.671583Z",
     "iopub.status.idle": "2021-12-27T23:57:20.695885Z",
     "shell.execute_reply": "2021-12-27T23:57:20.696269Z",
     "shell.execute_reply.started": "2021-12-27T23:52:51.449788Z"
    },
    "papermill": {
     "duration": 0.048282,
     "end_time": "2021-12-27T23:57:20.696407",
     "exception": false,
     "start_time": "2021-12-27T23:57:20.648125",
     "status": "completed"
    },
    "tags": []
   },
   "outputs": [],
   "source": [
    "#Wrapper for gender\n",
    "sex_wrapper = {'male':0, 'female':1}\n",
    "df.sex = df.sex.replace(sex_wrapper)\n",
    "\n",
    "#Wrapper for smoker\n",
    "df.smoker.value_counts()\n",
    "smoker_wrapper = {'no':0, 'yes':1}\n",
    "df.smoker = df.smoker.replace(smoker_wrapper)\n",
    "\n",
    "#Dealing with region - OHE\n",
    "df.region.value_counts()\n",
    "ohe = OneHotEncoder()\n",
    "feat_array = ohe.fit_transform(df[['region']]).toarray()\n",
    "df_ohe = pd.DataFrame(feat_array, columns=ohe.categories_)\n",
    "df = pd.concat([df, df_ohe], axis = 1)\n",
    "df = df.drop('region', axis=1)\n"
   ]
  },
  {
   "cell_type": "markdown",
   "id": "714cf0a9",
   "metadata": {
    "papermill": {
     "duration": 0.014462,
     "end_time": "2021-12-27T23:57:20.725819",
     "exception": false,
     "start_time": "2021-12-27T23:57:20.711357",
     "status": "completed"
    },
    "tags": []
   },
   "source": [
    "# Splitting and training model"
   ]
  },
  {
   "cell_type": "code",
   "execution_count": 6,
   "id": "8ce8182a",
   "metadata": {
    "execution": {
     "iopub.execute_input": "2021-12-27T23:57:20.757596Z",
     "iopub.status.busy": "2021-12-27T23:57:20.757158Z",
     "iopub.status.idle": "2021-12-27T23:57:21.132453Z",
     "shell.execute_reply": "2021-12-27T23:57:21.131473Z",
     "shell.execute_reply.started": "2021-12-27T23:52:51.490207Z"
    },
    "papermill": {
     "duration": 0.392081,
     "end_time": "2021-12-27T23:57:21.132624",
     "exception": false,
     "start_time": "2021-12-27T23:57:20.740543",
     "status": "completed"
    },
    "tags": []
   },
   "outputs": [],
   "source": [
    "from sklearn.linear_model import LinearRegression\n",
    "from sklearn.ensemble import RandomForestRegressor\n",
    "from xgboost import XGBRegressor\n",
    "\n",
    "from sklearn.model_selection import train_test_split\n",
    "\n",
    "from sklearn.preprocessing import StandardScaler"
   ]
  },
  {
   "cell_type": "code",
   "execution_count": 7,
   "id": "69e0082b",
   "metadata": {
    "execution": {
     "iopub.execute_input": "2021-12-27T23:57:21.177506Z",
     "iopub.status.busy": "2021-12-27T23:57:21.175643Z",
     "iopub.status.idle": "2021-12-27T23:57:21.208526Z",
     "shell.execute_reply": "2021-12-27T23:57:21.206945Z",
     "shell.execute_reply.started": "2021-12-27T23:52:51.856134Z"
    },
    "papermill": {
     "duration": 0.060984,
     "end_time": "2021-12-27T23:57:21.208757",
     "exception": false,
     "start_time": "2021-12-27T23:57:21.147773",
     "status": "completed"
    },
    "tags": []
   },
   "outputs": [],
   "source": [
    "y = df.charges\n",
    "X = df.drop('charges', axis=1)\n",
    "\n",
    "X_train, X_test, y_train, y_test = train_test_split(X, y, test_size = .20, random_state=1)\n",
    "\n",
    "scaler = StandardScaler()\n",
    "\n",
    "s_X_train = scaler.fit_transform(X_train)\n",
    "s_X_test = scaler.transform(X_test)\n",
    "\n",
    "#Linear Regression\n",
    "\n",
    "LR = LinearRegression()\n",
    "LR.fit(s_X_train, y_train)\n",
    "y_pred = LR.predict(s_X_test)"
   ]
  },
  {
   "cell_type": "code",
   "execution_count": 8,
   "id": "391d7e14",
   "metadata": {
    "execution": {
     "iopub.execute_input": "2021-12-27T23:57:21.259228Z",
     "iopub.status.busy": "2021-12-27T23:57:21.257496Z",
     "iopub.status.idle": "2021-12-27T23:57:21.260959Z",
     "shell.execute_reply": "2021-12-27T23:57:21.261565Z",
     "shell.execute_reply.started": "2021-12-27T23:52:51.898569Z"
    },
    "papermill": {
     "duration": 0.030271,
     "end_time": "2021-12-27T23:57:21.261758",
     "exception": false,
     "start_time": "2021-12-27T23:57:21.231487",
     "status": "completed"
    },
    "tags": []
   },
   "outputs": [],
   "source": [
    "import math\n",
    "from sklearn.metrics import mean_squared_error as mse, mean_absolute_error as mae, r2_score as r2"
   ]
  },
  {
   "cell_type": "code",
   "execution_count": 9,
   "id": "9881978e",
   "metadata": {
    "execution": {
     "iopub.execute_input": "2021-12-27T23:57:21.310379Z",
     "iopub.status.busy": "2021-12-27T23:57:21.309575Z",
     "iopub.status.idle": "2021-12-27T23:57:21.732430Z",
     "shell.execute_reply": "2021-12-27T23:57:21.731729Z",
     "shell.execute_reply.started": "2021-12-27T23:52:51.907228Z"
    },
    "papermill": {
     "duration": 0.447785,
     "end_time": "2021-12-27T23:57:21.732585",
     "exception": false,
     "start_time": "2021-12-27T23:57:21.284800",
     "status": "completed"
    },
    "tags": []
   },
   "outputs": [],
   "source": [
    "#XGBoost Regressor\n",
    "xgbr = XGBRegressor(verbosity=0)\n",
    "xgbr.fit(X_train, y_train)\n",
    "\n",
    "y_pred_XGBR = xgbr.predict(X_test)"
   ]
  },
  {
   "cell_type": "code",
   "execution_count": 10,
   "id": "6f3718ea",
   "metadata": {
    "execution": {
     "iopub.execute_input": "2021-12-27T23:57:21.786362Z",
     "iopub.status.busy": "2021-12-27T23:57:21.785499Z",
     "iopub.status.idle": "2021-12-27T23:57:21.787408Z",
     "shell.execute_reply": "2021-12-27T23:57:21.787965Z",
     "shell.execute_reply.started": "2021-12-27T23:52:52.466238Z"
    },
    "papermill": {
     "duration": 0.032034,
     "end_time": "2021-12-27T23:57:21.788157",
     "exception": false,
     "start_time": "2021-12-27T23:57:21.756123",
     "status": "completed"
    },
    "tags": []
   },
   "outputs": [],
   "source": [
    "def get_metrics(preds, actual, model_type):\n",
    "    r2s = r2(preds, actual)\n",
    "    maes = mae(preds, actual)\n",
    "    mses = mse(preds, actual)\n",
    "    rmses = math.sqrt(mses)\n",
    "#     return rmse, mse, mae, r2\n",
    "    df = pd.DataFrame([r2s, maes, mses, rmses, model_type]).transpose()\n",
    "    df.columns = ['r2 coeff.', 'MAE', 'MSE', 'RMSE', 'Type of model']\n",
    "    return df"
   ]
  },
  {
   "cell_type": "code",
   "execution_count": 11,
   "id": "14bac3c9",
   "metadata": {
    "execution": {
     "iopub.execute_input": "2021-12-27T23:57:21.837724Z",
     "iopub.status.busy": "2021-12-27T23:57:21.836894Z",
     "iopub.status.idle": "2021-12-27T23:57:21.855376Z",
     "shell.execute_reply": "2021-12-27T23:57:21.854633Z",
     "shell.execute_reply.started": "2021-12-27T23:52:52.477409Z"
    },
    "papermill": {
     "duration": 0.044353,
     "end_time": "2021-12-27T23:57:21.855549",
     "exception": false,
     "start_time": "2021-12-27T23:57:21.811196",
     "status": "completed"
    },
    "tags": []
   },
   "outputs": [
    {
     "data": {
      "text/html": [
       "<div>\n",
       "<style scoped>\n",
       "    .dataframe tbody tr th:only-of-type {\n",
       "        vertical-align: middle;\n",
       "    }\n",
       "\n",
       "    .dataframe tbody tr th {\n",
       "        vertical-align: top;\n",
       "    }\n",
       "\n",
       "    .dataframe thead th {\n",
       "        text-align: right;\n",
       "    }\n",
       "</style>\n",
       "<table border=\"1\" class=\"dataframe\">\n",
       "  <thead>\n",
       "    <tr style=\"text-align: right;\">\n",
       "      <th></th>\n",
       "      <th>r2 coeff.</th>\n",
       "      <th>MAE</th>\n",
       "      <th>MSE</th>\n",
       "      <th>RMSE</th>\n",
       "      <th>Type of model</th>\n",
       "    </tr>\n",
       "  </thead>\n",
       "  <tbody>\n",
       "    <tr>\n",
       "      <th>0</th>\n",
       "      <td>0.624259</td>\n",
       "      <td>3918.300193</td>\n",
       "      <td>34824927.807786</td>\n",
       "      <td>5901.264933</td>\n",
       "      <td>Linear Regression</td>\n",
       "    </tr>\n",
       "    <tr>\n",
       "      <th>0</th>\n",
       "      <td>0.87101</td>\n",
       "      <td>1733.224338</td>\n",
       "      <td>14806208.474594</td>\n",
       "      <td>3847.883636</td>\n",
       "      <td>XGBR</td>\n",
       "    </tr>\n",
       "  </tbody>\n",
       "</table>\n",
       "</div>"
      ],
      "text/plain": [
       "  r2 coeff.          MAE              MSE         RMSE      Type of model\n",
       "0  0.624259  3918.300193  34824927.807786  5901.264933  Linear Regression\n",
       "0   0.87101  1733.224338  14806208.474594  3847.883636               XGBR"
      ]
     },
     "execution_count": 11,
     "metadata": {},
     "output_type": "execute_result"
    }
   ],
   "source": [
    "df_metrics = get_metrics(y_pred, y_test, 'Linear Regression')\n",
    "df_metrics_X = get_metrics(y_pred_XGBR, y_test, 'XGBR')\n",
    "\n",
    "df_metrics = pd.concat([df_metrics, df_metrics_X], axis=0)\n",
    "df_metrics"
   ]
  },
  {
   "cell_type": "markdown",
   "id": "a1875bd4",
   "metadata": {
    "papermill": {
     "duration": 0.0228,
     "end_time": "2021-12-27T23:57:21.901847",
     "exception": false,
     "start_time": "2021-12-27T23:57:21.879047",
     "status": "completed"
    },
    "tags": []
   },
   "source": [
    "Let's improve on this a bit\n",
    "# Back to the drawing-board\n",
    "### Let's perform some feature engineering and outlier analysis to try and fix up our model"
   ]
  },
  {
   "cell_type": "markdown",
   "id": "408b45b2",
   "metadata": {
    "papermill": {
     "duration": 0.022403,
     "end_time": "2021-12-27T23:57:21.946754",
     "exception": false,
     "start_time": "2021-12-27T23:57:21.924351",
     "status": "completed"
    },
    "tags": []
   },
   "source": [
    "### 1. Outlier Analysis & EDA"
   ]
  },
  {
   "cell_type": "code",
   "execution_count": 12,
   "id": "71c86c34",
   "metadata": {
    "execution": {
     "iopub.execute_input": "2021-12-27T23:57:21.997556Z",
     "iopub.status.busy": "2021-12-27T23:57:21.996718Z",
     "iopub.status.idle": "2021-12-27T23:57:22.000002Z",
     "shell.execute_reply": "2021-12-27T23:57:21.999398Z",
     "shell.execute_reply.started": "2021-12-27T23:53:13.706509Z"
    },
    "papermill": {
     "duration": 0.030673,
     "end_time": "2021-12-27T23:57:22.000160",
     "exception": false,
     "start_time": "2021-12-27T23:57:21.969487",
     "status": "completed"
    },
    "tags": []
   },
   "outputs": [],
   "source": [
    "# Work here"
   ]
  },
  {
   "cell_type": "markdown",
   "id": "5649d415",
   "metadata": {
    "papermill": {
     "duration": 0.022625,
     "end_time": "2021-12-27T23:57:22.045736",
     "exception": false,
     "start_time": "2021-12-27T23:57:22.023111",
     "status": "completed"
    },
    "tags": []
   },
   "source": [
    "### 2. Feature Selection Techniques"
   ]
  },
  {
   "cell_type": "code",
   "execution_count": 13,
   "id": "60f5b775",
   "metadata": {
    "execution": {
     "iopub.execute_input": "2021-12-27T23:57:22.096339Z",
     "iopub.status.busy": "2021-12-27T23:57:22.095588Z",
     "iopub.status.idle": "2021-12-27T23:57:22.099134Z",
     "shell.execute_reply": "2021-12-27T23:57:22.098514Z",
     "shell.execute_reply.started": "2021-12-27T23:53:29.176953Z"
    },
    "papermill": {
     "duration": 0.030881,
     "end_time": "2021-12-27T23:57:22.099285",
     "exception": false,
     "start_time": "2021-12-27T23:57:22.068404",
     "status": "completed"
    },
    "tags": []
   },
   "outputs": [],
   "source": [
    "# Work here"
   ]
  },
  {
   "cell_type": "markdown",
   "id": "0af435f8",
   "metadata": {
    "papermill": {
     "duration": 0.024887,
     "end_time": "2021-12-27T23:57:22.147349",
     "exception": false,
     "start_time": "2021-12-27T23:57:22.122462",
     "status": "completed"
    },
    "tags": []
   },
   "source": [
    "### 3. Implementing different regression models"
   ]
  },
  {
   "cell_type": "code",
   "execution_count": 14,
   "id": "fb088b6c",
   "metadata": {
    "execution": {
     "iopub.execute_input": "2021-12-27T23:57:22.199573Z",
     "iopub.status.busy": "2021-12-27T23:57:22.198928Z",
     "iopub.status.idle": "2021-12-27T23:57:22.202239Z",
     "shell.execute_reply": "2021-12-27T23:57:22.201632Z",
     "shell.execute_reply.started": "2021-12-27T23:54:08.799016Z"
    },
    "papermill": {
     "duration": 0.031626,
     "end_time": "2021-12-27T23:57:22.202383",
     "exception": false,
     "start_time": "2021-12-27T23:57:22.170757",
     "status": "completed"
    },
    "tags": []
   },
   "outputs": [],
   "source": [
    "# OLS Regression, Lasso Regression, Ridge Regression, "
   ]
  },
  {
   "cell_type": "markdown",
   "id": "7df62211",
   "metadata": {
    "papermill": {
     "duration": 0.022437,
     "end_time": "2021-12-27T23:57:22.247622",
     "exception": false,
     "start_time": "2021-12-27T23:57:22.225185",
     "status": "completed"
    },
    "tags": []
   },
   "source": [
    "### 4. Evaluation and comparison to original Linear Regression model and XGBRegessor model"
   ]
  },
  {
   "cell_type": "code",
   "execution_count": 15,
   "id": "753ae4fc",
   "metadata": {
    "execution": {
     "iopub.execute_input": "2021-12-27T23:57:22.297761Z",
     "iopub.status.busy": "2021-12-27T23:57:22.297043Z",
     "iopub.status.idle": "2021-12-27T23:57:22.299021Z",
     "shell.execute_reply": "2021-12-27T23:57:22.298397Z",
     "shell.execute_reply.started": "2021-12-27T23:54:37.669280Z"
    },
    "papermill": {
     "duration": 0.028694,
     "end_time": "2021-12-27T23:57:22.299158",
     "exception": false,
     "start_time": "2021-12-27T23:57:22.270464",
     "status": "completed"
    },
    "tags": []
   },
   "outputs": [],
   "source": [
    "# Work here"
   ]
  },
  {
   "cell_type": "code",
   "execution_count": null,
   "id": "e35bba8a",
   "metadata": {
    "papermill": {
     "duration": 0.023387,
     "end_time": "2021-12-27T23:57:22.345831",
     "exception": false,
     "start_time": "2021-12-27T23:57:22.322444",
     "status": "completed"
    },
    "tags": []
   },
   "outputs": [],
   "source": []
  }
 ],
 "metadata": {
  "kernelspec": {
   "display_name": "Python 3",
   "language": "python",
   "name": "python3"
  },
  "language_info": {
   "codemirror_mode": {
    "name": "ipython",
    "version": 3
   },
   "file_extension": ".py",
   "mimetype": "text/x-python",
   "name": "python",
   "nbconvert_exporter": "python",
   "pygments_lexer": "ipython3",
   "version": "3.7.12"
  },
  "papermill": {
   "default_parameters": {},
   "duration": 15.926579,
   "end_time": "2021-12-27T23:57:23.280156",
   "environment_variables": {},
   "exception": null,
   "input_path": "__notebook__.ipynb",
   "output_path": "__notebook__.ipynb",
   "parameters": {},
   "start_time": "2021-12-27T23:57:07.353577",
   "version": "2.3.3"
  }
 },
 "nbformat": 4,
 "nbformat_minor": 5
}
