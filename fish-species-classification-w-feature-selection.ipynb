{
 "cells": [
  {
   "cell_type": "code",
   "execution_count": 1,
   "id": "444f4f6f",
   "metadata": {
    "_cell_guid": "b1076dfc-b9ad-4769-8c92-a6c4dae69d19",
    "_uuid": "8f2839f25d086af736a60e9eeb907d3b93b6e0e5",
    "execution": {
     "iopub.execute_input": "2021-12-25T04:16:07.233552Z",
     "iopub.status.busy": "2021-12-25T04:16:07.231888Z",
     "iopub.status.idle": "2021-12-25T04:16:07.251234Z",
     "shell.execute_reply": "2021-12-25T04:16:07.251792Z",
     "shell.execute_reply.started": "2021-12-25T04:15:22.071571Z"
    },
    "papermill": {
     "duration": 0.050581,
     "end_time": "2021-12-25T04:16:07.252066",
     "exception": false,
     "start_time": "2021-12-25T04:16:07.201485",
     "status": "completed"
    },
    "tags": []
   },
   "outputs": [
    {
     "name": "stdout",
     "output_type": "stream",
     "text": [
      "/kaggle/input/fish-market/Fish.csv\n"
     ]
    }
   ],
   "source": [
    "# This Python 3 environment comes with many helpful analytics libraries installed\n",
    "# It is defined by the kaggle/python Docker image: https://github.com/kaggle/docker-python\n",
    "# For example, here's several helpful packages to load\n",
    "\n",
    "import numpy as np # linear algebra\n",
    "import pandas as pd # data processing, CSV file I/O (e.g. pd.read_csv)\n",
    "\n",
    "# Input data files are available in the read-only \"../input/\" directory\n",
    "# For example, running this (by clicking run or pressing Shift+Enter) will list all files under the input directory\n",
    "\n",
    "import os\n",
    "for dirname, _, filenames in os.walk('/kaggle/input'):\n",
    "    for filename in filenames:\n",
    "        print(os.path.join(dirname, filename))\n",
    "\n",
    "# You can write up to 20GB to the current directory (/kaggle/working/) that gets preserved as output when you create a version using \"Save & Run All\" \n",
    "# You can also write temporary files to /kaggle/temp/, but they won't be saved outside of the current session"
   ]
  },
  {
   "cell_type": "code",
   "execution_count": 2,
   "id": "da5819d8",
   "metadata": {
    "execution": {
     "iopub.execute_input": "2021-12-25T04:16:07.309900Z",
     "iopub.status.busy": "2021-12-25T04:16:07.308963Z",
     "iopub.status.idle": "2021-12-25T04:16:07.321131Z",
     "shell.execute_reply": "2021-12-25T04:16:07.320188Z",
     "shell.execute_reply.started": "2021-12-25T04:15:22.113215Z"
    },
    "papermill": {
     "duration": 0.043373,
     "end_time": "2021-12-25T04:16:07.321359",
     "exception": false,
     "start_time": "2021-12-25T04:16:07.277986",
     "status": "completed"
    },
    "tags": []
   },
   "outputs": [],
   "source": [
    "df = pd.read_csv('../input/fish-market/Fish.csv')"
   ]
  },
  {
   "cell_type": "code",
   "execution_count": 3,
   "id": "c70b64cd",
   "metadata": {
    "execution": {
     "iopub.execute_input": "2021-12-25T04:16:07.389671Z",
     "iopub.status.busy": "2021-12-25T04:16:07.389022Z",
     "iopub.status.idle": "2021-12-25T04:16:07.409285Z",
     "shell.execute_reply": "2021-12-25T04:16:07.409719Z",
     "shell.execute_reply.started": "2021-12-25T04:15:22.133226Z"
    },
    "papermill": {
     "duration": 0.059759,
     "end_time": "2021-12-25T04:16:07.409875",
     "exception": false,
     "start_time": "2021-12-25T04:16:07.350116",
     "status": "completed"
    },
    "tags": []
   },
   "outputs": [
    {
     "data": {
      "text/html": [
       "<div>\n",
       "<style scoped>\n",
       "    .dataframe tbody tr th:only-of-type {\n",
       "        vertical-align: middle;\n",
       "    }\n",
       "\n",
       "    .dataframe tbody tr th {\n",
       "        vertical-align: top;\n",
       "    }\n",
       "\n",
       "    .dataframe thead th {\n",
       "        text-align: right;\n",
       "    }\n",
       "</style>\n",
       "<table border=\"1\" class=\"dataframe\">\n",
       "  <thead>\n",
       "    <tr style=\"text-align: right;\">\n",
       "      <th></th>\n",
       "      <th>Species</th>\n",
       "      <th>Weight</th>\n",
       "      <th>Length1</th>\n",
       "      <th>Length2</th>\n",
       "      <th>Length3</th>\n",
       "      <th>Height</th>\n",
       "      <th>Width</th>\n",
       "    </tr>\n",
       "  </thead>\n",
       "  <tbody>\n",
       "    <tr>\n",
       "      <th>0</th>\n",
       "      <td>Bream</td>\n",
       "      <td>242.0</td>\n",
       "      <td>23.2</td>\n",
       "      <td>25.4</td>\n",
       "      <td>30.0</td>\n",
       "      <td>11.5200</td>\n",
       "      <td>4.0200</td>\n",
       "    </tr>\n",
       "    <tr>\n",
       "      <th>1</th>\n",
       "      <td>Bream</td>\n",
       "      <td>290.0</td>\n",
       "      <td>24.0</td>\n",
       "      <td>26.3</td>\n",
       "      <td>31.2</td>\n",
       "      <td>12.4800</td>\n",
       "      <td>4.3056</td>\n",
       "    </tr>\n",
       "    <tr>\n",
       "      <th>2</th>\n",
       "      <td>Bream</td>\n",
       "      <td>340.0</td>\n",
       "      <td>23.9</td>\n",
       "      <td>26.5</td>\n",
       "      <td>31.1</td>\n",
       "      <td>12.3778</td>\n",
       "      <td>4.6961</td>\n",
       "    </tr>\n",
       "    <tr>\n",
       "      <th>3</th>\n",
       "      <td>Bream</td>\n",
       "      <td>363.0</td>\n",
       "      <td>26.3</td>\n",
       "      <td>29.0</td>\n",
       "      <td>33.5</td>\n",
       "      <td>12.7300</td>\n",
       "      <td>4.4555</td>\n",
       "    </tr>\n",
       "    <tr>\n",
       "      <th>4</th>\n",
       "      <td>Bream</td>\n",
       "      <td>430.0</td>\n",
       "      <td>26.5</td>\n",
       "      <td>29.0</td>\n",
       "      <td>34.0</td>\n",
       "      <td>12.4440</td>\n",
       "      <td>5.1340</td>\n",
       "    </tr>\n",
       "    <tr>\n",
       "      <th>...</th>\n",
       "      <td>...</td>\n",
       "      <td>...</td>\n",
       "      <td>...</td>\n",
       "      <td>...</td>\n",
       "      <td>...</td>\n",
       "      <td>...</td>\n",
       "      <td>...</td>\n",
       "    </tr>\n",
       "    <tr>\n",
       "      <th>154</th>\n",
       "      <td>Smelt</td>\n",
       "      <td>12.2</td>\n",
       "      <td>11.5</td>\n",
       "      <td>12.2</td>\n",
       "      <td>13.4</td>\n",
       "      <td>2.0904</td>\n",
       "      <td>1.3936</td>\n",
       "    </tr>\n",
       "    <tr>\n",
       "      <th>155</th>\n",
       "      <td>Smelt</td>\n",
       "      <td>13.4</td>\n",
       "      <td>11.7</td>\n",
       "      <td>12.4</td>\n",
       "      <td>13.5</td>\n",
       "      <td>2.4300</td>\n",
       "      <td>1.2690</td>\n",
       "    </tr>\n",
       "    <tr>\n",
       "      <th>156</th>\n",
       "      <td>Smelt</td>\n",
       "      <td>12.2</td>\n",
       "      <td>12.1</td>\n",
       "      <td>13.0</td>\n",
       "      <td>13.8</td>\n",
       "      <td>2.2770</td>\n",
       "      <td>1.2558</td>\n",
       "    </tr>\n",
       "    <tr>\n",
       "      <th>157</th>\n",
       "      <td>Smelt</td>\n",
       "      <td>19.7</td>\n",
       "      <td>13.2</td>\n",
       "      <td>14.3</td>\n",
       "      <td>15.2</td>\n",
       "      <td>2.8728</td>\n",
       "      <td>2.0672</td>\n",
       "    </tr>\n",
       "    <tr>\n",
       "      <th>158</th>\n",
       "      <td>Smelt</td>\n",
       "      <td>19.9</td>\n",
       "      <td>13.8</td>\n",
       "      <td>15.0</td>\n",
       "      <td>16.2</td>\n",
       "      <td>2.9322</td>\n",
       "      <td>1.8792</td>\n",
       "    </tr>\n",
       "  </tbody>\n",
       "</table>\n",
       "<p>159 rows × 7 columns</p>\n",
       "</div>"
      ],
      "text/plain": [
       "    Species  Weight  Length1  Length2  Length3   Height   Width\n",
       "0     Bream   242.0     23.2     25.4     30.0  11.5200  4.0200\n",
       "1     Bream   290.0     24.0     26.3     31.2  12.4800  4.3056\n",
       "2     Bream   340.0     23.9     26.5     31.1  12.3778  4.6961\n",
       "3     Bream   363.0     26.3     29.0     33.5  12.7300  4.4555\n",
       "4     Bream   430.0     26.5     29.0     34.0  12.4440  5.1340\n",
       "..      ...     ...      ...      ...      ...      ...     ...\n",
       "154   Smelt    12.2     11.5     12.2     13.4   2.0904  1.3936\n",
       "155   Smelt    13.4     11.7     12.4     13.5   2.4300  1.2690\n",
       "156   Smelt    12.2     12.1     13.0     13.8   2.2770  1.2558\n",
       "157   Smelt    19.7     13.2     14.3     15.2   2.8728  2.0672\n",
       "158   Smelt    19.9     13.8     15.0     16.2   2.9322  1.8792\n",
       "\n",
       "[159 rows x 7 columns]"
      ]
     },
     "execution_count": 3,
     "metadata": {},
     "output_type": "execute_result"
    }
   ],
   "source": [
    "df"
   ]
  },
  {
   "cell_type": "markdown",
   "id": "9d7eb446",
   "metadata": {
    "papermill": {
     "duration": 0.025312,
     "end_time": "2021-12-25T04:16:07.462452",
     "exception": false,
     "start_time": "2021-12-25T04:16:07.437140",
     "status": "completed"
    },
    "tags": []
   },
   "source": [
    "Trying to predict the 'Species' based off the Weight, Length1, Length2, Length3, Height, and Width"
   ]
  },
  {
   "cell_type": "markdown",
   "id": "178a3203",
   "metadata": {
    "papermill": {
     "duration": 0.025192,
     "end_time": "2021-12-25T04:16:07.513219",
     "exception": false,
     "start_time": "2021-12-25T04:16:07.488027",
     "status": "completed"
    },
    "tags": []
   },
   "source": [
    "First let's check for null values"
   ]
  },
  {
   "cell_type": "code",
   "execution_count": 4,
   "id": "efa4d352",
   "metadata": {
    "execution": {
     "iopub.execute_input": "2021-12-25T04:16:07.568380Z",
     "iopub.status.busy": "2021-12-25T04:16:07.567422Z",
     "iopub.status.idle": "2021-12-25T04:16:07.574493Z",
     "shell.execute_reply": "2021-12-25T04:16:07.574933Z",
     "shell.execute_reply.started": "2021-12-25T04:15:22.165518Z"
    },
    "papermill": {
     "duration": 0.036418,
     "end_time": "2021-12-25T04:16:07.575106",
     "exception": false,
     "start_time": "2021-12-25T04:16:07.538688",
     "status": "completed"
    },
    "tags": []
   },
   "outputs": [
    {
     "data": {
      "text/plain": [
       "Species    0\n",
       "Weight     0\n",
       "Length1    0\n",
       "Length2    0\n",
       "Length3    0\n",
       "Height     0\n",
       "Width      0\n",
       "dtype: int64"
      ]
     },
     "execution_count": 4,
     "metadata": {},
     "output_type": "execute_result"
    }
   ],
   "source": [
    "df.isna().sum()"
   ]
  },
  {
   "cell_type": "markdown",
   "id": "9de9de50",
   "metadata": {
    "papermill": {
     "duration": 0.025348,
     "end_time": "2021-12-25T04:16:07.626153",
     "exception": false,
     "start_time": "2021-12-25T04:16:07.600805",
     "status": "completed"
    },
    "tags": []
   },
   "source": [
    "No null values; Let's check for duplicates"
   ]
  },
  {
   "cell_type": "code",
   "execution_count": 5,
   "id": "1f4ad55a",
   "metadata": {
    "execution": {
     "iopub.execute_input": "2021-12-25T04:16:07.681248Z",
     "iopub.status.busy": "2021-12-25T04:16:07.680349Z",
     "iopub.status.idle": "2021-12-25T04:16:07.693765Z",
     "shell.execute_reply": "2021-12-25T04:16:07.694185Z",
     "shell.execute_reply.started": "2021-12-25T04:15:22.173541Z"
    },
    "papermill": {
     "duration": 0.042469,
     "end_time": "2021-12-25T04:16:07.694354",
     "exception": false,
     "start_time": "2021-12-25T04:16:07.651885",
     "status": "completed"
    },
    "tags": []
   },
   "outputs": [
    {
     "data": {
      "text/plain": [
       "0"
      ]
     },
     "execution_count": 5,
     "metadata": {},
     "output_type": "execute_result"
    }
   ],
   "source": [
    "df.duplicated().sum()"
   ]
  },
  {
   "cell_type": "markdown",
   "id": "212e2cc8",
   "metadata": {
    "papermill": {
     "duration": 0.028497,
     "end_time": "2021-12-25T04:16:07.749022",
     "exception": false,
     "start_time": "2021-12-25T04:16:07.720525",
     "status": "completed"
    },
    "tags": []
   },
   "source": [
    "No duplicates either"
   ]
  },
  {
   "cell_type": "code",
   "execution_count": 6,
   "id": "1838be79",
   "metadata": {
    "execution": {
     "iopub.execute_input": "2021-12-25T04:16:07.815925Z",
     "iopub.status.busy": "2021-12-25T04:16:07.815293Z",
     "iopub.status.idle": "2021-12-25T04:16:07.822248Z",
     "shell.execute_reply": "2021-12-25T04:16:07.822663Z",
     "shell.execute_reply.started": "2021-12-25T04:15:22.194809Z"
    },
    "papermill": {
     "duration": 0.045269,
     "end_time": "2021-12-25T04:16:07.822843",
     "exception": false,
     "start_time": "2021-12-25T04:16:07.777574",
     "status": "completed"
    },
    "tags": []
   },
   "outputs": [
    {
     "data": {
      "text/plain": [
       "Species     object\n",
       "Weight     float64\n",
       "Length1    float64\n",
       "Length2    float64\n",
       "Length3    float64\n",
       "Height     float64\n",
       "Width      float64\n",
       "dtype: object"
      ]
     },
     "execution_count": 6,
     "metadata": {},
     "output_type": "execute_result"
    }
   ],
   "source": [
    "df.dtypes"
   ]
  },
  {
   "cell_type": "code",
   "execution_count": 7,
   "id": "6de5a51e",
   "metadata": {
    "execution": {
     "iopub.execute_input": "2021-12-25T04:16:07.883203Z",
     "iopub.status.busy": "2021-12-25T04:16:07.882612Z",
     "iopub.status.idle": "2021-12-25T04:16:08.865823Z",
     "shell.execute_reply": "2021-12-25T04:16:08.865326Z",
     "shell.execute_reply.started": "2021-12-25T04:15:22.203449Z"
    },
    "papermill": {
     "duration": 1.014553,
     "end_time": "2021-12-25T04:16:08.865969",
     "exception": false,
     "start_time": "2021-12-25T04:16:07.851416",
     "status": "completed"
    },
    "tags": []
   },
   "outputs": [],
   "source": [
    "import seaborn as sns"
   ]
  },
  {
   "cell_type": "code",
   "execution_count": 8,
   "id": "915eacac",
   "metadata": {
    "execution": {
     "iopub.execute_input": "2021-12-25T04:16:08.932902Z",
     "iopub.status.busy": "2021-12-25T04:16:08.932282Z",
     "iopub.status.idle": "2021-12-25T04:16:09.160222Z",
     "shell.execute_reply": "2021-12-25T04:16:09.160657Z",
     "shell.execute_reply.started": "2021-12-25T04:15:23.197364Z"
    },
    "papermill": {
     "duration": 0.26829,
     "end_time": "2021-12-25T04:16:09.160828",
     "exception": false,
     "start_time": "2021-12-25T04:16:08.892538",
     "status": "completed"
    },
    "tags": []
   },
   "outputs": [
    {
     "data": {
      "text/plain": [
       "<AxesSubplot:xlabel='Species', ylabel='count'>"
      ]
     },
     "execution_count": 8,
     "metadata": {},
     "output_type": "execute_result"
    },
    {
     "data": {
      "image/png": "[encoded data removed]",
      "text/plain": [
       "<Figure size 432x288 with 1 Axes>"
      ]
     },
     "metadata": {
      "needs_background": "light"
     },
     "output_type": "display_data"
    }
   ],
   "source": [
    "sns.countplot(x='Species', data=df)"
   ]
  },
  {
   "cell_type": "markdown",
   "id": "143aa25b",
   "metadata": {
    "papermill": {
     "duration": 0.027328,
     "end_time": "2021-12-25T04:16:09.215972",
     "exception": false,
     "start_time": "2021-12-25T04:16:09.188644",
     "status": "completed"
    },
    "tags": []
   },
   "source": [
    "Seems to be a little bit skewed"
   ]
  },
  {
   "cell_type": "code",
   "execution_count": 9,
   "id": "fffe5ea6",
   "metadata": {
    "execution": {
     "iopub.execute_input": "2021-12-25T04:16:09.277279Z",
     "iopub.status.busy": "2021-12-25T04:16:09.276655Z",
     "iopub.status.idle": "2021-12-25T04:16:09.278513Z",
     "shell.execute_reply": "2021-12-25T04:16:09.278921Z",
     "shell.execute_reply.started": "2021-12-25T04:15:23.436691Z"
    },
    "papermill": {
     "duration": 0.036076,
     "end_time": "2021-12-25T04:16:09.279103",
     "exception": false,
     "start_time": "2021-12-25T04:16:09.243027",
     "status": "completed"
    },
    "tags": []
   },
   "outputs": [],
   "source": [
    "X = df.drop('Species', axis=1)"
   ]
  },
  {
   "cell_type": "code",
   "execution_count": 10,
   "id": "36d06d6a",
   "metadata": {
    "execution": {
     "iopub.execute_input": "2021-12-25T04:16:09.349062Z",
     "iopub.status.busy": "2021-12-25T04:16:09.348470Z",
     "iopub.status.idle": "2021-12-25T04:16:09.351309Z",
     "shell.execute_reply": "2021-12-25T04:16:09.350382Z",
     "shell.execute_reply.started": "2021-12-25T04:15:23.446359Z"
    },
    "papermill": {
     "duration": 0.039299,
     "end_time": "2021-12-25T04:16:09.351495",
     "exception": false,
     "start_time": "2021-12-25T04:16:09.312196",
     "status": "completed"
    },
    "tags": []
   },
   "outputs": [],
   "source": [
    "y = df['Species']"
   ]
  },
  {
   "cell_type": "code",
   "execution_count": 11,
   "id": "81af53d9",
   "metadata": {
    "execution": {
     "iopub.execute_input": "2021-12-25T04:16:09.423213Z",
     "iopub.status.busy": "2021-12-25T04:16:09.422573Z",
     "iopub.status.idle": "2021-12-25T04:16:09.434636Z",
     "shell.execute_reply": "2021-12-25T04:16:09.434134Z",
     "shell.execute_reply.started": "2021-12-25T04:15:23.459087Z"
    },
    "papermill": {
     "duration": 0.048612,
     "end_time": "2021-12-25T04:16:09.434777",
     "exception": false,
     "start_time": "2021-12-25T04:16:09.386165",
     "status": "completed"
    },
    "tags": []
   },
   "outputs": [
    {
     "data": {
      "text/plain": [
       "(     Weight  Length1  Length2  Length3   Height   Width\n",
       " 0     242.0     23.2     25.4     30.0  11.5200  4.0200\n",
       " 1     290.0     24.0     26.3     31.2  12.4800  4.3056\n",
       " 2     340.0     23.9     26.5     31.1  12.3778  4.6961\n",
       " 3     363.0     26.3     29.0     33.5  12.7300  4.4555\n",
       " 4     430.0     26.5     29.0     34.0  12.4440  5.1340\n",
       " ..      ...      ...      ...      ...      ...     ...\n",
       " 154    12.2     11.5     12.2     13.4   2.0904  1.3936\n",
       " 155    13.4     11.7     12.4     13.5   2.4300  1.2690\n",
       " 156    12.2     12.1     13.0     13.8   2.2770  1.2558\n",
       " 157    19.7     13.2     14.3     15.2   2.8728  2.0672\n",
       " 158    19.9     13.8     15.0     16.2   2.9322  1.8792\n",
       " \n",
       " [159 rows x 6 columns],\n",
       " 0      Bream\n",
       " 1      Bream\n",
       " 2      Bream\n",
       " 3      Bream\n",
       " 4      Bream\n",
       "        ...  \n",
       " 154    Smelt\n",
       " 155    Smelt\n",
       " 156    Smelt\n",
       " 157    Smelt\n",
       " 158    Smelt\n",
       " Name: Species, Length: 159, dtype: object)"
      ]
     },
     "execution_count": 11,
     "metadata": {},
     "output_type": "execute_result"
    }
   ],
   "source": [
    "X, y"
   ]
  },
  {
   "cell_type": "markdown",
   "id": "9347e132",
   "metadata": {
    "papermill": {
     "duration": 0.026774,
     "end_time": "2021-12-25T04:16:09.489104",
     "exception": false,
     "start_time": "2021-12-25T04:16:09.462330",
     "status": "completed"
    },
    "tags": []
   },
   "source": [
    "### Exploring feature selection techniques\n",
    "Note: I know that there are already barely any features, I'm simply including this to practice and improve myself in this realm of ML"
   ]
  },
  {
   "cell_type": "markdown",
   "id": "f5f56044",
   "metadata": {
    "papermill": {
     "duration": 0.026645,
     "end_time": "2021-12-25T04:16:09.542811",
     "exception": false,
     "start_time": "2021-12-25T04:16:09.516166",
     "status": "completed"
    },
    "tags": []
   },
   "source": [
    "Splitting the data first"
   ]
  },
  {
   "cell_type": "code",
   "execution_count": 12,
   "id": "334061c1",
   "metadata": {
    "execution": {
     "iopub.execute_input": "2021-12-25T04:16:09.599999Z",
     "iopub.status.busy": "2021-12-25T04:16:09.599412Z",
     "iopub.status.idle": "2021-12-25T04:16:09.775329Z",
     "shell.execute_reply": "2021-12-25T04:16:09.775823Z",
     "shell.execute_reply.started": "2021-12-25T04:15:23.478041Z"
    },
    "papermill": {
     "duration": 0.205959,
     "end_time": "2021-12-25T04:16:09.775998",
     "exception": false,
     "start_time": "2021-12-25T04:16:09.570039",
     "status": "completed"
    },
    "tags": []
   },
   "outputs": [],
   "source": [
    "from sklearn.model_selection import train_test_split\n",
    "X_train, X_test, y_train, y_test = train_test_split(X,y, test_size=.25, random_state=42)"
   ]
  },
  {
   "cell_type": "markdown",
   "id": "e343d49a",
   "metadata": {
    "papermill": {
     "duration": 0.02828,
     "end_time": "2021-12-25T04:16:09.831611",
     "exception": false,
     "start_time": "2021-12-25T04:16:09.803331",
     "status": "completed"
    },
    "tags": []
   },
   "source": [
    "#### Anova F-value"
   ]
  },
  {
   "cell_type": "code",
   "execution_count": 13,
   "id": "b403758e",
   "metadata": {
    "execution": {
     "iopub.execute_input": "2021-12-25T04:16:09.891183Z",
     "iopub.status.busy": "2021-12-25T04:16:09.890503Z",
     "iopub.status.idle": "2021-12-25T04:16:10.050849Z",
     "shell.execute_reply": "2021-12-25T04:16:10.050390Z",
     "shell.execute_reply.started": "2021-12-25T04:15:23.657614Z"
    },
    "papermill": {
     "duration": 0.191988,
     "end_time": "2021-12-25T04:16:10.050991",
     "exception": false,
     "start_time": "2021-12-25T04:16:09.859003",
     "status": "completed"
    },
    "tags": []
   },
   "outputs": [
    {
     "data": {
      "text/plain": [
       "SelectKBest(k=6)"
      ]
     },
     "execution_count": 13,
     "metadata": {},
     "output_type": "execute_result"
    }
   ],
   "source": [
    " from sklearn.feature_selection import SelectKBest, f_classif\n",
    "\n",
    "selector = SelectKBest(f_classif, k=6)\n",
    "selector.fit(X_train, y_train)"
   ]
  },
  {
   "cell_type": "code",
   "execution_count": 14,
   "id": "40c9163d",
   "metadata": {
    "execution": {
     "iopub.execute_input": "2021-12-25T04:16:10.113197Z",
     "iopub.status.busy": "2021-12-25T04:16:10.112572Z",
     "iopub.status.idle": "2021-12-25T04:16:10.115310Z",
     "shell.execute_reply": "2021-12-25T04:16:10.115828Z",
     "shell.execute_reply.started": "2021-12-25T04:15:23.810848Z"
    },
    "papermill": {
     "duration": 0.036737,
     "end_time": "2021-12-25T04:16:10.115990",
     "exception": false,
     "start_time": "2021-12-25T04:16:10.079253",
     "status": "completed"
    },
    "tags": []
   },
   "outputs": [
    {
     "data": {
      "text/plain": [
       "array([10.51666327, 26.83162347, 27.60998356, 29.52683251, 50.77729783,\n",
       "       15.68150886])"
      ]
     },
     "execution_count": 14,
     "metadata": {},
     "output_type": "execute_result"
    }
   ],
   "source": [
    "selector.scores_"
   ]
  },
  {
   "cell_type": "code",
   "execution_count": 15,
   "id": "ab16395c",
   "metadata": {
    "execution": {
     "iopub.execute_input": "2021-12-25T04:16:10.174402Z",
     "iopub.status.busy": "2021-12-25T04:16:10.173798Z",
     "iopub.status.idle": "2021-12-25T04:16:10.180779Z",
     "shell.execute_reply": "2021-12-25T04:16:10.181346Z",
     "shell.execute_reply.started": "2021-12-25T04:15:23.817954Z"
    },
    "papermill": {
     "duration": 0.037775,
     "end_time": "2021-12-25T04:16:10.181512",
     "exception": false,
     "start_time": "2021-12-25T04:16:10.143737",
     "status": "completed"
    },
    "tags": []
   },
   "outputs": [
    {
     "data": {
      "text/plain": [
       "array([0, 1, 2, 3, 4, 5])"
      ]
     },
     "execution_count": 15,
     "metadata": {},
     "output_type": "execute_result"
    }
   ],
   "source": [
    "cols = selector.get_support(indices=True)\n",
    "cols"
   ]
  },
  {
   "cell_type": "markdown",
   "id": "7089d1bc",
   "metadata": {
    "papermill": {
     "duration": 0.027624,
     "end_time": "2021-12-25T04:16:10.237423",
     "exception": false,
     "start_time": "2021-12-25T04:16:10.209799",
     "status": "completed"
    },
    "tags": []
   },
   "source": [
    "All columns are significant"
   ]
  },
  {
   "cell_type": "code",
   "execution_count": 16,
   "id": "9284126c",
   "metadata": {
    "execution": {
     "iopub.execute_input": "2021-12-25T04:16:10.296631Z",
     "iopub.status.busy": "2021-12-25T04:16:10.295721Z",
     "iopub.status.idle": "2021-12-25T04:16:10.299410Z",
     "shell.execute_reply": "2021-12-25T04:16:10.299882Z",
     "shell.execute_reply.started": "2021-12-25T04:15:23.833717Z"
    },
    "papermill": {
     "duration": 0.034576,
     "end_time": "2021-12-25T04:16:10.300049",
     "exception": false,
     "start_time": "2021-12-25T04:16:10.265473",
     "status": "completed"
    },
    "tags": []
   },
   "outputs": [],
   "source": [
    "from sklearn.preprocessing import LabelEncoder, StandardScaler"
   ]
  },
  {
   "cell_type": "code",
   "execution_count": 17,
   "id": "930888cb",
   "metadata": {
    "execution": {
     "iopub.execute_input": "2021-12-25T04:16:10.361924Z",
     "iopub.status.busy": "2021-12-25T04:16:10.361319Z",
     "iopub.status.idle": "2021-12-25T04:16:10.363028Z",
     "shell.execute_reply": "2021-12-25T04:16:10.363667Z",
     "shell.execute_reply.started": "2021-12-25T04:15:23.841428Z"
    },
    "papermill": {
     "duration": 0.035634,
     "end_time": "2021-12-25T04:16:10.363853",
     "exception": false,
     "start_time": "2021-12-25T04:16:10.328219",
     "status": "completed"
    },
    "tags": []
   },
   "outputs": [],
   "source": [
    "encoder = LabelEncoder()\n",
    "y = encoder.fit_transform(y)\n",
    "y_map = {index:label for index,label in enumerate(encoder.classes_)}"
   ]
  },
  {
   "cell_type": "code",
   "execution_count": 18,
   "id": "f5507aa1",
   "metadata": {
    "execution": {
     "iopub.execute_input": "2021-12-25T04:16:10.426355Z",
     "iopub.status.busy": "2021-12-25T04:16:10.423925Z",
     "iopub.status.idle": "2021-12-25T04:16:10.428595Z",
     "shell.execute_reply": "2021-12-25T04:16:10.429196Z",
     "shell.execute_reply.started": "2021-12-25T04:15:23.853083Z"
    },
    "papermill": {
     "duration": 0.036546,
     "end_time": "2021-12-25T04:16:10.429375",
     "exception": false,
     "start_time": "2021-12-25T04:16:10.392829",
     "status": "completed"
    },
    "tags": []
   },
   "outputs": [
    {
     "data": {
      "text/plain": [
       "{0: 'Bream',\n",
       " 1: 'Parkki',\n",
       " 2: 'Perch',\n",
       " 3: 'Pike',\n",
       " 4: 'Roach',\n",
       " 5: 'Smelt',\n",
       " 6: 'Whitefish'}"
      ]
     },
     "execution_count": 18,
     "metadata": {},
     "output_type": "execute_result"
    }
   ],
   "source": [
    "y_map"
   ]
  },
  {
   "cell_type": "code",
   "execution_count": 19,
   "id": "190f8c87",
   "metadata": {
    "execution": {
     "iopub.execute_input": "2021-12-25T04:16:10.491243Z",
     "iopub.status.busy": "2021-12-25T04:16:10.490636Z",
     "iopub.status.idle": "2021-12-25T04:16:10.495024Z",
     "shell.execute_reply": "2021-12-25T04:16:10.495567Z",
     "shell.execute_reply.started": "2021-12-25T04:15:23.868173Z"
    },
    "papermill": {
     "duration": 0.037436,
     "end_time": "2021-12-25T04:16:10.495731",
     "exception": false,
     "start_time": "2021-12-25T04:16:10.458295",
     "status": "completed"
    },
    "tags": []
   },
   "outputs": [
    {
     "data": {
      "text/plain": [
       "array([0, 0, 0, 0, 0, 0, 0, 0, 0, 0, 0, 0, 0, 0, 0, 0, 0, 0, 0, 0, 0, 0,\n",
       "       0, 0, 0, 0, 0, 0, 0, 0, 0, 0, 0, 0, 0, 4, 4, 4, 4, 4, 4, 4, 4, 4,\n",
       "       4, 4, 4, 4, 4, 4, 4, 4, 4, 4, 4, 6, 6, 6, 6, 6, 6, 1, 1, 1, 1, 1,\n",
       "       1, 1, 1, 1, 1, 1, 2, 2, 2, 2, 2, 2, 2, 2, 2, 2, 2, 2, 2, 2, 2, 2,\n",
       "       2, 2, 2, 2, 2, 2, 2, 2, 2, 2, 2, 2, 2, 2, 2, 2, 2, 2, 2, 2, 2, 2,\n",
       "       2, 2, 2, 2, 2, 2, 2, 2, 2, 2, 2, 2, 2, 2, 2, 2, 2, 2, 3, 3, 3, 3,\n",
       "       3, 3, 3, 3, 3, 3, 3, 3, 3, 3, 3, 3, 3, 5, 5, 5, 5, 5, 5, 5, 5, 5,\n",
       "       5, 5, 5, 5, 5])"
      ]
     },
     "execution_count": 19,
     "metadata": {},
     "output_type": "execute_result"
    }
   ],
   "source": [
    "y"
   ]
  },
  {
   "cell_type": "markdown",
   "id": "6f4f3420",
   "metadata": {
    "papermill": {
     "duration": 0.028341,
     "end_time": "2021-12-25T04:16:10.552565",
     "exception": false,
     "start_time": "2021-12-25T04:16:10.524224",
     "status": "completed"
    },
    "tags": []
   },
   "source": [
    "Using StandardScaler on 'X'"
   ]
  },
  {
   "cell_type": "code",
   "execution_count": 20,
   "id": "911bfa1e",
   "metadata": {
    "execution": {
     "iopub.execute_input": "2021-12-25T04:16:10.613372Z",
     "iopub.status.busy": "2021-12-25T04:16:10.612740Z",
     "iopub.status.idle": "2021-12-25T04:16:10.618727Z",
     "shell.execute_reply": "2021-12-25T04:16:10.619234Z",
     "shell.execute_reply.started": "2021-12-25T04:15:23.880408Z"
    },
    "papermill": {
     "duration": 0.037742,
     "end_time": "2021-12-25T04:16:10.619403",
     "exception": false,
     "start_time": "2021-12-25T04:16:10.581661",
     "status": "completed"
    },
    "tags": []
   },
   "outputs": [],
   "source": [
    "scaler = StandardScaler()\n",
    "X = scaler.fit_transform(X)"
   ]
  },
  {
   "cell_type": "markdown",
   "id": "11b1d202",
   "metadata": {
    "papermill": {
     "duration": 0.028783,
     "end_time": "2021-12-25T04:16:10.676908",
     "exception": false,
     "start_time": "2021-12-25T04:16:10.648125",
     "status": "completed"
    },
    "tags": []
   },
   "source": [
    "Re-splitting X_train, X_test, y_train, y_test"
   ]
  },
  {
   "cell_type": "code",
   "execution_count": 21,
   "id": "41f30bfd",
   "metadata": {
    "execution": {
     "iopub.execute_input": "2021-12-25T04:16:10.737844Z",
     "iopub.status.busy": "2021-12-25T04:16:10.737255Z",
     "iopub.status.idle": "2021-12-25T04:16:10.741969Z",
     "shell.execute_reply": "2021-12-25T04:16:10.742471Z",
     "shell.execute_reply.started": "2021-12-25T04:15:23.894740Z"
    },
    "papermill": {
     "duration": 0.036836,
     "end_time": "2021-12-25T04:16:10.742641",
     "exception": false,
     "start_time": "2021-12-25T04:16:10.705805",
     "status": "completed"
    },
    "tags": []
   },
   "outputs": [],
   "source": [
    "X_train, X_test, y_train, y_test = train_test_split(X,y, test_size=.25, random_state=42)"
   ]
  },
  {
   "cell_type": "code",
   "execution_count": 22,
   "id": "15e2804e",
   "metadata": {
    "execution": {
     "iopub.execute_input": "2021-12-25T04:16:10.803147Z",
     "iopub.status.busy": "2021-12-25T04:16:10.802588Z",
     "iopub.status.idle": "2021-12-25T04:16:10.805772Z",
     "shell.execute_reply": "2021-12-25T04:16:10.806293Z",
     "shell.execute_reply.started": "2021-12-25T04:15:23.904353Z"
    },
    "papermill": {
     "duration": 0.035007,
     "end_time": "2021-12-25T04:16:10.806448",
     "exception": false,
     "start_time": "2021-12-25T04:16:10.771441",
     "status": "completed"
    },
    "tags": []
   },
   "outputs": [],
   "source": [
    "from sklearn.linear_model import LogisticRegression"
   ]
  },
  {
   "cell_type": "code",
   "execution_count": 23,
   "id": "fef9d03f",
   "metadata": {
    "execution": {
     "iopub.execute_input": "2021-12-25T04:16:10.867038Z",
     "iopub.status.busy": "2021-12-25T04:16:10.866410Z",
     "iopub.status.idle": "2021-12-25T04:16:10.889487Z",
     "shell.execute_reply": "2021-12-25T04:16:10.889885Z",
     "shell.execute_reply.started": "2021-12-25T04:15:23.916317Z"
    },
    "papermill": {
     "duration": 0.055019,
     "end_time": "2021-12-25T04:16:10.890053",
     "exception": false,
     "start_time": "2021-12-25T04:16:10.835034",
     "status": "completed"
    },
    "tags": []
   },
   "outputs": [
    {
     "data": {
      "text/plain": [
       "LogisticRegression()"
      ]
     },
     "execution_count": 23,
     "metadata": {},
     "output_type": "execute_result"
    }
   ],
   "source": [
    "log_model = LogisticRegression()\n",
    "log_model.fit(X_train,y_train)"
   ]
  },
  {
   "cell_type": "code",
   "execution_count": 24,
   "id": "223b005c",
   "metadata": {
    "execution": {
     "iopub.execute_input": "2021-12-25T04:16:10.951046Z",
     "iopub.status.busy": "2021-12-25T04:16:10.950461Z",
     "iopub.status.idle": "2021-12-25T04:16:10.955487Z",
     "shell.execute_reply": "2021-12-25T04:16:10.955934Z",
     "shell.execute_reply.started": "2021-12-25T04:15:23.951714Z"
    },
    "papermill": {
     "duration": 0.037212,
     "end_time": "2021-12-25T04:16:10.956120",
     "exception": false,
     "start_time": "2021-12-25T04:16:10.918908",
     "status": "completed"
    },
    "tags": []
   },
   "outputs": [
    {
     "data": {
      "text/plain": [
       "0.85"
      ]
     },
     "execution_count": 24,
     "metadata": {},
     "output_type": "execute_result"
    }
   ],
   "source": [
    "log_model.score(X_test,y_test)"
   ]
  },
  {
   "cell_type": "markdown",
   "id": "53d374b6",
   "metadata": {
    "papermill": {
     "duration": 0.029583,
     "end_time": "2021-12-25T04:16:11.015831",
     "exception": false,
     "start_time": "2021-12-25T04:16:10.986248",
     "status": "completed"
    },
    "tags": []
   },
   "source": [
    "85% accuracy using LogisticRegression, decent"
   ]
  },
  {
   "cell_type": "code",
   "execution_count": 25,
   "id": "b5b76b06",
   "metadata": {
    "execution": {
     "iopub.execute_input": "2021-12-25T04:16:11.078100Z",
     "iopub.status.busy": "2021-12-25T04:16:11.077458Z",
     "iopub.status.idle": "2021-12-25T04:16:11.291353Z",
     "shell.execute_reply": "2021-12-25T04:16:11.291754Z",
     "shell.execute_reply.started": "2021-12-25T04:15:23.960835Z"
    },
    "papermill": {
     "duration": 0.246396,
     "end_time": "2021-12-25T04:16:11.291918",
     "exception": false,
     "start_time": "2021-12-25T04:16:11.045522",
     "status": "completed"
    },
    "tags": []
   },
   "outputs": [
    {
     "data": {
      "text/plain": [
       "0.8"
      ]
     },
     "execution_count": 25,
     "metadata": {},
     "output_type": "execute_result"
    }
   ],
   "source": [
    "from sklearn.ensemble import RandomForestClassifier\n",
    "model = RandomForestClassifier(random_state=42).fit(X_train, y_train)\n",
    "y_pred_rfc = model.predict(X_test)\n",
    "model.score(X_test, y_test)"
   ]
  },
  {
   "cell_type": "markdown",
   "id": "d3545c1b",
   "metadata": {
    "papermill": {
     "duration": 0.02973,
     "end_time": "2021-12-25T04:16:11.351128",
     "exception": false,
     "start_time": "2021-12-25T04:16:11.321398",
     "status": "completed"
    },
    "tags": []
   },
   "source": [
    "80% accuracy using RandomForestClassifier"
   ]
  },
  {
   "cell_type": "markdown",
   "id": "2471d091",
   "metadata": {
    "papermill": {
     "duration": 0.029192,
     "end_time": "2021-12-25T04:16:11.409514",
     "exception": false,
     "start_time": "2021-12-25T04:16:11.380322",
     "status": "completed"
    },
    "tags": []
   },
   "source": [
    "### Metrics"
   ]
  },
  {
   "cell_type": "code",
   "execution_count": 26,
   "id": "c5dfa367",
   "metadata": {
    "execution": {
     "iopub.execute_input": "2021-12-25T04:16:11.471406Z",
     "iopub.status.busy": "2021-12-25T04:16:11.470817Z",
     "iopub.status.idle": "2021-12-25T04:16:11.475142Z",
     "shell.execute_reply": "2021-12-25T04:16:11.474689Z",
     "shell.execute_reply.started": "2021-12-25T04:15:24.181470Z"
    },
    "papermill": {
     "duration": 0.036366,
     "end_time": "2021-12-25T04:16:11.475280",
     "exception": false,
     "start_time": "2021-12-25T04:16:11.438914",
     "status": "completed"
    },
    "tags": []
   },
   "outputs": [],
   "source": [
    "y_pred_log = log_model.predict(X_test)"
   ]
  },
  {
   "cell_type": "code",
   "execution_count": 27,
   "id": "f234d965",
   "metadata": {
    "execution": {
     "iopub.execute_input": "2021-12-25T04:16:11.538527Z",
     "iopub.status.busy": "2021-12-25T04:16:11.537888Z",
     "iopub.status.idle": "2021-12-25T04:16:11.540047Z",
     "shell.execute_reply": "2021-12-25T04:16:11.540485Z",
     "shell.execute_reply.started": "2021-12-25T04:15:24.187221Z"
    },
    "papermill": {
     "duration": 0.035843,
     "end_time": "2021-12-25T04:16:11.540647",
     "exception": false,
     "start_time": "2021-12-25T04:16:11.504804",
     "status": "completed"
    },
    "tags": []
   },
   "outputs": [],
   "source": [
    "from sklearn.metrics import confusion_matrix"
   ]
  },
  {
   "cell_type": "code",
   "execution_count": 28,
   "id": "90ed49bf",
   "metadata": {
    "execution": {
     "iopub.execute_input": "2021-12-25T04:16:11.605441Z",
     "iopub.status.busy": "2021-12-25T04:16:11.604854Z",
     "iopub.status.idle": "2021-12-25T04:16:11.607025Z",
     "shell.execute_reply": "2021-12-25T04:16:11.607503Z",
     "shell.execute_reply.started": "2021-12-25T04:15:24.197921Z"
    },
    "papermill": {
     "duration": 0.037494,
     "end_time": "2021-12-25T04:16:11.607657",
     "exception": false,
     "start_time": "2021-12-25T04:16:11.570163",
     "status": "completed"
    },
    "tags": []
   },
   "outputs": [],
   "source": [
    "matrix = confusion_matrix(y_test, y_pred_log)"
   ]
  },
  {
   "cell_type": "code",
   "execution_count": 29,
   "id": "19447cfc",
   "metadata": {
    "execution": {
     "iopub.execute_input": "2021-12-25T04:16:11.670389Z",
     "iopub.status.busy": "2021-12-25T04:16:11.668668Z",
     "iopub.status.idle": "2021-12-25T04:16:11.672664Z",
     "shell.execute_reply": "2021-12-25T04:16:11.672154Z",
     "shell.execute_reply.started": "2021-12-25T04:15:24.211563Z"
    },
    "papermill": {
     "duration": 0.036108,
     "end_time": "2021-12-25T04:16:11.672795",
     "exception": false,
     "start_time": "2021-12-25T04:16:11.636687",
     "status": "completed"
    },
    "tags": []
   },
   "outputs": [],
   "source": [
    "from sklearn.metrics import roc_curve, roc_auc_score, f1_score, accuracy_score, precision_score, recall_score"
   ]
  },
  {
   "cell_type": "code",
   "execution_count": 30,
   "id": "7d58b339",
   "metadata": {
    "execution": {
     "iopub.execute_input": "2021-12-25T04:16:11.738045Z",
     "iopub.status.busy": "2021-12-25T04:16:11.737458Z",
     "iopub.status.idle": "2021-12-25T04:16:11.743692Z",
     "shell.execute_reply": "2021-12-25T04:16:11.743255Z",
     "shell.execute_reply.started": "2021-12-25T04:15:24.221139Z"
    },
    "papermill": {
     "duration": 0.041527,
     "end_time": "2021-12-25T04:16:11.743827",
     "exception": false,
     "start_time": "2021-12-25T04:16:11.702300",
     "status": "completed"
    },
    "tags": []
   },
   "outputs": [
    {
     "data": {
      "text/plain": [
       "[0.85, 0.6857142857142857, 0.79]"
      ]
     },
     "execution_count": 30,
     "metadata": {},
     "output_type": "execute_result"
    }
   ],
   "source": [
    "l = ['micro', 'macro', 'weighted']\n",
    "scores = []\n",
    "for i in l:\n",
    "    scores.append(f1_score(y_test, y_pred_log, average=i))\n",
    "scores"
   ]
  },
  {
   "cell_type": "code",
   "execution_count": 31,
   "id": "d26e5210",
   "metadata": {
    "execution": {
     "iopub.execute_input": "2021-12-25T04:16:11.811859Z",
     "iopub.status.busy": "2021-12-25T04:16:11.811198Z",
     "iopub.status.idle": "2021-12-25T04:16:11.827171Z",
     "shell.execute_reply": "2021-12-25T04:16:11.826677Z",
     "shell.execute_reply.started": "2021-12-25T04:15:24.235474Z"
    },
    "papermill": {
     "duration": 0.053835,
     "end_time": "2021-12-25T04:16:11.827339",
     "exception": false,
     "start_time": "2021-12-25T04:16:11.773504",
     "status": "completed"
    },
    "tags": []
   },
   "outputs": [
    {
     "name": "stdout",
     "output_type": "stream",
     "text": [
      "Micro Precision: 0.85\n",
      "Micro Recall: 0.85\n",
      "Micro F1-score: 0.85\n",
      "\n",
      "Macro Precision: 0.67\n",
      "Macro Recall: 0.71\n",
      "Macro F1-score: 0.69\n",
      "\n",
      "Weighted Precision: 0.75\n",
      "Weighted Recall: 0.85\n",
      "Weighted F1-score: 0.79\n"
     ]
    },
    {
     "name": "stderr",
     "output_type": "stream",
     "text": [
      "/opt/conda/lib/python3.7/site-packages/sklearn/metrics/_classification.py:1221: UndefinedMetricWarning: Precision is ill-defined and being set to 0.0 in labels with no predicted samples. Use `zero_division` parameter to control this behavior.\n",
      "  _warn_prf(average, modifier, msg_start, len(result))\n"
     ]
    }
   ],
   "source": [
    "print('Micro Precision: {:.2f}'.format(precision_score(y_test, y_pred_log, average='micro')))\n",
    "print('Micro Recall: {:.2f}'.format(recall_score(y_test, y_pred_log, average='micro')))\n",
    "print('Micro F1-score: {:.2f}\\n'.format(f1_score(y_test, y_pred_log, average='micro')))\n",
    "\n",
    "print('Macro Precision: {:.2f}'.format(precision_score(y_test, y_pred_log, average='macro')))\n",
    "print('Macro Recall: {:.2f}'.format(recall_score(y_test, y_pred_log, average='macro')))\n",
    "print('Macro F1-score: {:.2f}\\n'.format(f1_score(y_test, y_pred_log, average='macro')))\n",
    "\n",
    "print('Weighted Precision: {:.2f}'.format(precision_score(y_test, y_pred_log, average='weighted')))\n",
    "print('Weighted Recall: {:.2f}'.format(recall_score(y_test, y_pred_log, average='weighted')))\n",
    "print('Weighted F1-score: {:.2f}'.format(f1_score(y_test, y_pred_log, average='weighted')))"
   ]
  },
  {
   "cell_type": "code",
   "execution_count": 32,
   "id": "caa1d2dd",
   "metadata": {
    "execution": {
     "iopub.execute_input": "2021-12-25T04:16:11.891896Z",
     "iopub.status.busy": "2021-12-25T04:16:11.891314Z",
     "iopub.status.idle": "2021-12-25T04:16:11.899842Z",
     "shell.execute_reply": "2021-12-25T04:16:11.900293Z",
     "shell.execute_reply.started": "2021-12-25T04:15:24.257723Z"
    },
    "papermill": {
     "duration": 0.041844,
     "end_time": "2021-12-25T04:16:11.900454",
     "exception": false,
     "start_time": "2021-12-25T04:16:11.858610",
     "status": "completed"
    },
    "tags": []
   },
   "outputs": [
    {
     "name": "stdout",
     "output_type": "stream",
     "text": [
      "\n",
      "Classification Report\n",
      "\n",
      "              precision    recall  f1-score   support\n",
      "\n",
      "     Class 0       1.00      1.00      1.00        11\n",
      "     Class 1       1.00      1.00      1.00         2\n",
      "     Class 2       0.67      1.00      0.80        12\n",
      "     Class 3       1.00      1.00      1.00         4\n",
      "     Class 4       0.00      0.00      0.00         3\n",
      "     Class 5       1.00      1.00      1.00         5\n",
      "     Class 6       0.00      0.00      0.00         3\n",
      "\n",
      "    accuracy                           0.85        40\n",
      "   macro avg       0.67      0.71      0.69        40\n",
      "weighted avg       0.75      0.85      0.79        40\n",
      "\n"
     ]
    },
    {
     "name": "stderr",
     "output_type": "stream",
     "text": [
      "/opt/conda/lib/python3.7/site-packages/sklearn/metrics/_classification.py:1221: UndefinedMetricWarning: Precision and F-score are ill-defined and being set to 0.0 in labels with no predicted samples. Use `zero_division` parameter to control this behavior.\n",
      "  _warn_prf(average, modifier, msg_start, len(result))\n"
     ]
    }
   ],
   "source": [
    "from sklearn.metrics import classification_report\n",
    "print('\\nClassification Report\\n')\n",
    "print(classification_report(y_test, y_pred_log, target_names=['Class 0', 'Class 1', 'Class 2', 'Class 3', 'Class 4', 'Class 5', 'Class 6']))"
   ]
  },
  {
   "cell_type": "code",
   "execution_count": 33,
   "id": "ba9698f2",
   "metadata": {
    "execution": {
     "iopub.execute_input": "2021-12-25T04:16:11.964333Z",
     "iopub.status.busy": "2021-12-25T04:16:11.963783Z",
     "iopub.status.idle": "2021-12-25T04:16:11.966984Z",
     "shell.execute_reply": "2021-12-25T04:16:11.967472Z",
     "shell.execute_reply.started": "2021-12-25T04:15:24.269996Z"
    },
    "papermill": {
     "duration": 0.036633,
     "end_time": "2021-12-25T04:16:11.967625",
     "exception": false,
     "start_time": "2021-12-25T04:16:11.930992",
     "status": "completed"
    },
    "tags": []
   },
   "outputs": [],
   "source": [
    "import matplotlib.pyplot as plt"
   ]
  },
  {
   "cell_type": "code",
   "execution_count": 34,
   "id": "f822917b",
   "metadata": {
    "execution": {
     "iopub.execute_input": "2021-12-25T04:16:12.058494Z",
     "iopub.status.busy": "2021-12-25T04:16:12.041578Z",
     "iopub.status.idle": "2021-12-25T04:16:12.424450Z",
     "shell.execute_reply": "2021-12-25T04:16:12.424927Z",
     "shell.execute_reply.started": "2021-12-25T04:15:24.277009Z"
    },
    "papermill": {
     "duration": 0.425961,
     "end_time": "2021-12-25T04:16:12.425111",
     "exception": false,
     "start_time": "2021-12-25T04:16:11.999150",
     "status": "completed"
    },
    "tags": []
   },
   "outputs": [
    {
     "data": {
      "image/png": "[encoded data removed]",
      "text/plain": [
       "<Figure size 432x288 with 1 Axes>"
      ]
     },
     "metadata": {
      "needs_background": "light"
     },
     "output_type": "display_data"
    },
    {
     "name": "stdout",
     "output_type": "stream",
     "text": [
      "{0: 'Bream', 1: 'Parkki', 2: 'Perch', 3: 'Pike', 4: 'Roach', 5: 'Smelt', 6: 'Whitefish'}\n"
     ]
    }
   ],
   "source": [
    "sns.heatmap(matrix, annot=True, cbar=None, cmap='Blues')\n",
    "plt.title('Confusion Matrix'), plt.tight_layout()\n",
    "plt.ylabel('True Class'), plt.xlabel('Predicted Class')\n",
    "plt.show()\n",
    "print(y_map)"
   ]
  }
 ],
 "metadata": {
  "kernelspec": {
   "display_name": "Python 3",
   "language": "python",
   "name": "python3"
  },
  "language_info": {
   "codemirror_mode": {
    "name": "ipython",
    "version": 3
   },
   "file_extension": ".py",
   "mimetype": "text/x-python",
   "name": "python",
   "nbconvert_exporter": "python",
   "pygments_lexer": "ipython3",
   "version": "3.7.12"
  },
  "papermill": {
   "default_parameters": {},
   "duration": 14.301091,
   "end_time": "2021-12-25T04:16:13.169195",
   "environment_variables": {},
   "exception": null,
   "input_path": "__notebook__.ipynb",
   "output_path": "__notebook__.ipynb",
   "parameters": {},
   "start_time": "2021-12-25T04:15:58.868104",
   "version": "2.3.3"
  }
 },
 "nbformat": 4,
 "nbformat_minor": 5
}
