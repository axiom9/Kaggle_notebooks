{
 "cells": [
  {
   "cell_type": "code",
   "execution_count": 1,
   "id": "cba5b1f0",
   "metadata": {
    "_cell_guid": "b1076dfc-b9ad-4769-8c92-a6c4dae69d19",
    "_uuid": "8f2839f25d086af736a60e9eeb907d3b93b6e0e5",
    "execution": {
     "iopub.execute_input": "2021-12-25T04:06:42.448536Z",
     "iopub.status.busy": "2021-12-25T04:06:42.446760Z",
     "iopub.status.idle": "2021-12-25T04:06:42.472837Z",
     "shell.execute_reply": "2021-12-25T04:06:42.473442Z",
     "shell.execute_reply.started": "2021-12-25T03:58:54.394999Z"
    },
    "papermill": {
     "duration": 0.118059,
     "end_time": "2021-12-25T04:06:42.473889",
     "exception": false,
     "start_time": "2021-12-25T04:06:42.355830",
     "status": "completed"
    },
    "tags": []
   },
   "outputs": [
    {
     "name": "stdout",
     "output_type": "stream",
     "text": [
      "/kaggle/input/vehicle-dataset-from-cardekho/car data.csv\n",
      "/kaggle/input/vehicle-dataset-from-cardekho/CAR DETAILS FROM CAR DEKHO.csv\n",
      "/kaggle/input/vehicle-dataset-from-cardekho/Car details v3.csv\n"
     ]
    }
   ],
   "source": [
    "# This Python 3 environment comes with many helpful analytics libraries installed\n",
    "# It is defined by the kaggle/python Docker image: https://github.com/kaggle/docker-python\n",
    "# For example, here's several helpful packages to load\n",
    "\n",
    "import numpy as np # linear algebra\n",
    "import pandas as pd # data processing, CSV file I/O (e.g. pd.read_csv)\n",
    "\n",
    "# Input data files are available in the read-only \"../input/\" directory\n",
    "# For example, running this (by clicking run or pressing Shift+Enter) will list all files under the input directory\n",
    "\n",
    "import os\n",
    "for dirname, _, filenames in os.walk('/kaggle/input'):\n",
    "    for filename in filenames:\n",
    "        print(os.path.join(dirname, filename))\n",
    "\n",
    "# You can write up to 20GB to the current directory (/kaggle/working/) that gets preserved as output when you create a version using \"Save & Run All\" \n",
    "# You can also write temporary files to /kaggle/temp/, but they won't be saved outside of the current session"
   ]
  },
  {
   "cell_type": "code",
   "execution_count": 2,
   "id": "9383cb9c",
   "metadata": {
    "execution": {
     "iopub.execute_input": "2021-12-25T04:06:42.649744Z",
     "iopub.status.busy": "2021-12-25T04:06:42.649068Z",
     "iopub.status.idle": "2021-12-25T04:06:42.732659Z",
     "shell.execute_reply": "2021-12-25T04:06:42.733168Z",
     "shell.execute_reply.started": "2021-12-25T03:58:54.434907Z"
    },
    "papermill": {
     "duration": 0.174,
     "end_time": "2021-12-25T04:06:42.733340",
     "exception": false,
     "start_time": "2021-12-25T04:06:42.559340",
     "status": "completed"
    },
    "tags": []
   },
   "outputs": [
    {
     "data": {
      "text/html": [
       "<div>\n",
       "<style scoped>\n",
       "    .dataframe tbody tr th:only-of-type {\n",
       "        vertical-align: middle;\n",
       "    }\n",
       "\n",
       "    .dataframe tbody tr th {\n",
       "        vertical-align: top;\n",
       "    }\n",
       "\n",
       "    .dataframe thead th {\n",
       "        text-align: right;\n",
       "    }\n",
       "</style>\n",
       "<table border=\"1\" class=\"dataframe\">\n",
       "  <thead>\n",
       "    <tr style=\"text-align: right;\">\n",
       "      <th></th>\n",
       "      <th>name</th>\n",
       "      <th>year</th>\n",
       "      <th>selling_price</th>\n",
       "      <th>km_driven</th>\n",
       "      <th>fuel</th>\n",
       "      <th>seller_type</th>\n",
       "      <th>transmission</th>\n",
       "      <th>owner</th>\n",
       "      <th>mileage</th>\n",
       "      <th>engine</th>\n",
       "      <th>max_power</th>\n",
       "      <th>torque</th>\n",
       "      <th>seats</th>\n",
       "    </tr>\n",
       "  </thead>\n",
       "  <tbody>\n",
       "    <tr>\n",
       "      <th>0</th>\n",
       "      <td>Maruti Swift Dzire VDI</td>\n",
       "      <td>2014</td>\n",
       "      <td>450000</td>\n",
       "      <td>145500</td>\n",
       "      <td>Diesel</td>\n",
       "      <td>Individual</td>\n",
       "      <td>Manual</td>\n",
       "      <td>First Owner</td>\n",
       "      <td>23.4 kmpl</td>\n",
       "      <td>1248 CC</td>\n",
       "      <td>74 bhp</td>\n",
       "      <td>190Nm@ 2000rpm</td>\n",
       "      <td>5.0</td>\n",
       "    </tr>\n",
       "    <tr>\n",
       "      <th>1</th>\n",
       "      <td>Skoda Rapid 1.5 TDI Ambition</td>\n",
       "      <td>2014</td>\n",
       "      <td>370000</td>\n",
       "      <td>120000</td>\n",
       "      <td>Diesel</td>\n",
       "      <td>Individual</td>\n",
       "      <td>Manual</td>\n",
       "      <td>Second Owner</td>\n",
       "      <td>21.14 kmpl</td>\n",
       "      <td>1498 CC</td>\n",
       "      <td>103.52 bhp</td>\n",
       "      <td>250Nm@ 1500-2500rpm</td>\n",
       "      <td>5.0</td>\n",
       "    </tr>\n",
       "    <tr>\n",
       "      <th>2</th>\n",
       "      <td>Honda City 2017-2020 EXi</td>\n",
       "      <td>2006</td>\n",
       "      <td>158000</td>\n",
       "      <td>140000</td>\n",
       "      <td>Petrol</td>\n",
       "      <td>Individual</td>\n",
       "      <td>Manual</td>\n",
       "      <td>Third Owner</td>\n",
       "      <td>17.7 kmpl</td>\n",
       "      <td>1497 CC</td>\n",
       "      <td>78 bhp</td>\n",
       "      <td>12.7@ 2,700(kgm@ rpm)</td>\n",
       "      <td>5.0</td>\n",
       "    </tr>\n",
       "    <tr>\n",
       "      <th>3</th>\n",
       "      <td>Hyundai i20 Sportz Diesel</td>\n",
       "      <td>2010</td>\n",
       "      <td>225000</td>\n",
       "      <td>127000</td>\n",
       "      <td>Diesel</td>\n",
       "      <td>Individual</td>\n",
       "      <td>Manual</td>\n",
       "      <td>First Owner</td>\n",
       "      <td>23.0 kmpl</td>\n",
       "      <td>1396 CC</td>\n",
       "      <td>90 bhp</td>\n",
       "      <td>22.4 kgm at 1750-2750rpm</td>\n",
       "      <td>5.0</td>\n",
       "    </tr>\n",
       "    <tr>\n",
       "      <th>4</th>\n",
       "      <td>Maruti Swift VXI BSIII</td>\n",
       "      <td>2007</td>\n",
       "      <td>130000</td>\n",
       "      <td>120000</td>\n",
       "      <td>Petrol</td>\n",
       "      <td>Individual</td>\n",
       "      <td>Manual</td>\n",
       "      <td>First Owner</td>\n",
       "      <td>16.1 kmpl</td>\n",
       "      <td>1298 CC</td>\n",
       "      <td>88.2 bhp</td>\n",
       "      <td>11.5@ 4,500(kgm@ rpm)</td>\n",
       "      <td>5.0</td>\n",
       "    </tr>\n",
       "    <tr>\n",
       "      <th>...</th>\n",
       "      <td>...</td>\n",
       "      <td>...</td>\n",
       "      <td>...</td>\n",
       "      <td>...</td>\n",
       "      <td>...</td>\n",
       "      <td>...</td>\n",
       "      <td>...</td>\n",
       "      <td>...</td>\n",
       "      <td>...</td>\n",
       "      <td>...</td>\n",
       "      <td>...</td>\n",
       "      <td>...</td>\n",
       "      <td>...</td>\n",
       "    </tr>\n",
       "    <tr>\n",
       "      <th>8123</th>\n",
       "      <td>Hyundai i20 Magna</td>\n",
       "      <td>2013</td>\n",
       "      <td>320000</td>\n",
       "      <td>110000</td>\n",
       "      <td>Petrol</td>\n",
       "      <td>Individual</td>\n",
       "      <td>Manual</td>\n",
       "      <td>First Owner</td>\n",
       "      <td>18.5 kmpl</td>\n",
       "      <td>1197 CC</td>\n",
       "      <td>82.85 bhp</td>\n",
       "      <td>113.7Nm@ 4000rpm</td>\n",
       "      <td>5.0</td>\n",
       "    </tr>\n",
       "    <tr>\n",
       "      <th>8124</th>\n",
       "      <td>Hyundai Verna CRDi SX</td>\n",
       "      <td>2007</td>\n",
       "      <td>135000</td>\n",
       "      <td>119000</td>\n",
       "      <td>Diesel</td>\n",
       "      <td>Individual</td>\n",
       "      <td>Manual</td>\n",
       "      <td>Fourth &amp; Above Owner</td>\n",
       "      <td>16.8 kmpl</td>\n",
       "      <td>1493 CC</td>\n",
       "      <td>110 bhp</td>\n",
       "      <td>24@ 1,900-2,750(kgm@ rpm)</td>\n",
       "      <td>5.0</td>\n",
       "    </tr>\n",
       "    <tr>\n",
       "      <th>8125</th>\n",
       "      <td>Maruti Swift Dzire ZDi</td>\n",
       "      <td>2009</td>\n",
       "      <td>382000</td>\n",
       "      <td>120000</td>\n",
       "      <td>Diesel</td>\n",
       "      <td>Individual</td>\n",
       "      <td>Manual</td>\n",
       "      <td>First Owner</td>\n",
       "      <td>19.3 kmpl</td>\n",
       "      <td>1248 CC</td>\n",
       "      <td>73.9 bhp</td>\n",
       "      <td>190Nm@ 2000rpm</td>\n",
       "      <td>5.0</td>\n",
       "    </tr>\n",
       "    <tr>\n",
       "      <th>8126</th>\n",
       "      <td>Tata Indigo CR4</td>\n",
       "      <td>2013</td>\n",
       "      <td>290000</td>\n",
       "      <td>25000</td>\n",
       "      <td>Diesel</td>\n",
       "      <td>Individual</td>\n",
       "      <td>Manual</td>\n",
       "      <td>First Owner</td>\n",
       "      <td>23.57 kmpl</td>\n",
       "      <td>1396 CC</td>\n",
       "      <td>70 bhp</td>\n",
       "      <td>140Nm@ 1800-3000rpm</td>\n",
       "      <td>5.0</td>\n",
       "    </tr>\n",
       "    <tr>\n",
       "      <th>8127</th>\n",
       "      <td>Tata Indigo CR4</td>\n",
       "      <td>2013</td>\n",
       "      <td>290000</td>\n",
       "      <td>25000</td>\n",
       "      <td>Diesel</td>\n",
       "      <td>Individual</td>\n",
       "      <td>Manual</td>\n",
       "      <td>First Owner</td>\n",
       "      <td>23.57 kmpl</td>\n",
       "      <td>1396 CC</td>\n",
       "      <td>70 bhp</td>\n",
       "      <td>140Nm@ 1800-3000rpm</td>\n",
       "      <td>5.0</td>\n",
       "    </tr>\n",
       "  </tbody>\n",
       "</table>\n",
       "<p>8128 rows × 13 columns</p>\n",
       "</div>"
      ],
      "text/plain": [
       "                              name  year  selling_price  km_driven    fuel  \\\n",
       "0           Maruti Swift Dzire VDI  2014         450000     145500  Diesel   \n",
       "1     Skoda Rapid 1.5 TDI Ambition  2014         370000     120000  Diesel   \n",
       "2         Honda City 2017-2020 EXi  2006         158000     140000  Petrol   \n",
       "3        Hyundai i20 Sportz Diesel  2010         225000     127000  Diesel   \n",
       "4           Maruti Swift VXI BSIII  2007         130000     120000  Petrol   \n",
       "...                            ...   ...            ...        ...     ...   \n",
       "8123             Hyundai i20 Magna  2013         320000     110000  Petrol   \n",
       "8124         Hyundai Verna CRDi SX  2007         135000     119000  Diesel   \n",
       "8125        Maruti Swift Dzire ZDi  2009         382000     120000  Diesel   \n",
       "8126               Tata Indigo CR4  2013         290000      25000  Diesel   \n",
       "8127               Tata Indigo CR4  2013         290000      25000  Diesel   \n",
       "\n",
       "     seller_type transmission                 owner     mileage   engine  \\\n",
       "0     Individual       Manual           First Owner   23.4 kmpl  1248 CC   \n",
       "1     Individual       Manual          Second Owner  21.14 kmpl  1498 CC   \n",
       "2     Individual       Manual           Third Owner   17.7 kmpl  1497 CC   \n",
       "3     Individual       Manual           First Owner   23.0 kmpl  1396 CC   \n",
       "4     Individual       Manual           First Owner   16.1 kmpl  1298 CC   \n",
       "...          ...          ...                   ...         ...      ...   \n",
       "8123  Individual       Manual           First Owner   18.5 kmpl  1197 CC   \n",
       "8124  Individual       Manual  Fourth & Above Owner   16.8 kmpl  1493 CC   \n",
       "8125  Individual       Manual           First Owner   19.3 kmpl  1248 CC   \n",
       "8126  Individual       Manual           First Owner  23.57 kmpl  1396 CC   \n",
       "8127  Individual       Manual           First Owner  23.57 kmpl  1396 CC   \n",
       "\n",
       "       max_power                     torque  seats  \n",
       "0         74 bhp             190Nm@ 2000rpm    5.0  \n",
       "1     103.52 bhp        250Nm@ 1500-2500rpm    5.0  \n",
       "2         78 bhp      12.7@ 2,700(kgm@ rpm)    5.0  \n",
       "3         90 bhp   22.4 kgm at 1750-2750rpm    5.0  \n",
       "4       88.2 bhp      11.5@ 4,500(kgm@ rpm)    5.0  \n",
       "...          ...                        ...    ...  \n",
       "8123   82.85 bhp           113.7Nm@ 4000rpm    5.0  \n",
       "8124     110 bhp  24@ 1,900-2,750(kgm@ rpm)    5.0  \n",
       "8125    73.9 bhp             190Nm@ 2000rpm    5.0  \n",
       "8126      70 bhp        140Nm@ 1800-3000rpm    5.0  \n",
       "8127      70 bhp        140Nm@ 1800-3000rpm    5.0  \n",
       "\n",
       "[8128 rows x 13 columns]"
      ]
     },
     "execution_count": 2,
     "metadata": {},
     "output_type": "execute_result"
    }
   ],
   "source": [
    "df = pd.read_csv('../input/vehicle-dataset-from-cardekho/Car details v3.csv')\n",
    "df"
   ]
  },
  {
   "cell_type": "markdown",
   "id": "cd3bcfc4",
   "metadata": {
    "papermill": {
     "duration": 0.085301,
     "end_time": "2021-12-25T04:06:42.909514",
     "exception": false,
     "start_time": "2021-12-25T04:06:42.824213",
     "status": "completed"
    },
    "tags": []
   },
   "source": [
    "## Data Cleaning"
   ]
  },
  {
   "cell_type": "markdown",
   "id": "870a4f3d",
   "metadata": {
    "papermill": {
     "duration": 0.084011,
     "end_time": "2021-12-25T04:06:43.078706",
     "exception": false,
     "start_time": "2021-12-25T04:06:42.994695",
     "status": "completed"
    },
    "tags": []
   },
   "source": [
    "### Part 1. Dealing with numerical NaN's"
   ]
  },
  {
   "cell_type": "code",
   "execution_count": 3,
   "id": "67ffff73",
   "metadata": {
    "execution": {
     "iopub.execute_input": "2021-12-25T04:06:43.257076Z",
     "iopub.status.busy": "2021-12-25T04:06:43.256258Z",
     "iopub.status.idle": "2021-12-25T04:06:43.261379Z",
     "shell.execute_reply": "2021-12-25T04:06:43.262025Z",
     "shell.execute_reply.started": "2021-12-25T03:58:54.482805Z"
    },
    "papermill": {
     "duration": 0.098087,
     "end_time": "2021-12-25T04:06:43.262207",
     "exception": false,
     "start_time": "2021-12-25T04:06:43.164120",
     "status": "completed"
    },
    "tags": []
   },
   "outputs": [],
   "source": [
    "df = df.drop('name', axis=1)"
   ]
  },
  {
   "cell_type": "code",
   "execution_count": 4,
   "id": "9b228b87",
   "metadata": {
    "execution": {
     "iopub.execute_input": "2021-12-25T04:06:43.439248Z",
     "iopub.status.busy": "2021-12-25T04:06:43.438267Z",
     "iopub.status.idle": "2021-12-25T04:06:43.458022Z",
     "shell.execute_reply": "2021-12-25T04:06:43.458469Z",
     "shell.execute_reply.started": "2021-12-25T03:58:54.492828Z"
    },
    "papermill": {
     "duration": 0.108613,
     "end_time": "2021-12-25T04:06:43.458659",
     "exception": false,
     "start_time": "2021-12-25T04:06:43.350046",
     "status": "completed"
    },
    "tags": []
   },
   "outputs": [
    {
     "data": {
      "text/html": [
       "<div>\n",
       "<style scoped>\n",
       "    .dataframe tbody tr th:only-of-type {\n",
       "        vertical-align: middle;\n",
       "    }\n",
       "\n",
       "    .dataframe tbody tr th {\n",
       "        vertical-align: top;\n",
       "    }\n",
       "\n",
       "    .dataframe thead th {\n",
       "        text-align: right;\n",
       "    }\n",
       "</style>\n",
       "<table border=\"1\" class=\"dataframe\">\n",
       "  <thead>\n",
       "    <tr style=\"text-align: right;\">\n",
       "      <th></th>\n",
       "      <th>year</th>\n",
       "      <th>selling_price</th>\n",
       "      <th>km_driven</th>\n",
       "      <th>fuel</th>\n",
       "      <th>seller_type</th>\n",
       "      <th>transmission</th>\n",
       "      <th>owner</th>\n",
       "      <th>mileage</th>\n",
       "      <th>engine</th>\n",
       "      <th>max_power</th>\n",
       "      <th>torque</th>\n",
       "      <th>seats</th>\n",
       "    </tr>\n",
       "  </thead>\n",
       "  <tbody>\n",
       "    <tr>\n",
       "      <th>0</th>\n",
       "      <td>2014</td>\n",
       "      <td>450000</td>\n",
       "      <td>145500</td>\n",
       "      <td>Diesel</td>\n",
       "      <td>Individual</td>\n",
       "      <td>Manual</td>\n",
       "      <td>First Owner</td>\n",
       "      <td>23.4 kmpl</td>\n",
       "      <td>1248 CC</td>\n",
       "      <td>74 bhp</td>\n",
       "      <td>190Nm@ 2000rpm</td>\n",
       "      <td>5.0</td>\n",
       "    </tr>\n",
       "    <tr>\n",
       "      <th>1</th>\n",
       "      <td>2014</td>\n",
       "      <td>370000</td>\n",
       "      <td>120000</td>\n",
       "      <td>Diesel</td>\n",
       "      <td>Individual</td>\n",
       "      <td>Manual</td>\n",
       "      <td>Second Owner</td>\n",
       "      <td>21.14 kmpl</td>\n",
       "      <td>1498 CC</td>\n",
       "      <td>103.52 bhp</td>\n",
       "      <td>250Nm@ 1500-2500rpm</td>\n",
       "      <td>5.0</td>\n",
       "    </tr>\n",
       "    <tr>\n",
       "      <th>2</th>\n",
       "      <td>2006</td>\n",
       "      <td>158000</td>\n",
       "      <td>140000</td>\n",
       "      <td>Petrol</td>\n",
       "      <td>Individual</td>\n",
       "      <td>Manual</td>\n",
       "      <td>Third Owner</td>\n",
       "      <td>17.7 kmpl</td>\n",
       "      <td>1497 CC</td>\n",
       "      <td>78 bhp</td>\n",
       "      <td>12.7@ 2,700(kgm@ rpm)</td>\n",
       "      <td>5.0</td>\n",
       "    </tr>\n",
       "    <tr>\n",
       "      <th>3</th>\n",
       "      <td>2010</td>\n",
       "      <td>225000</td>\n",
       "      <td>127000</td>\n",
       "      <td>Diesel</td>\n",
       "      <td>Individual</td>\n",
       "      <td>Manual</td>\n",
       "      <td>First Owner</td>\n",
       "      <td>23.0 kmpl</td>\n",
       "      <td>1396 CC</td>\n",
       "      <td>90 bhp</td>\n",
       "      <td>22.4 kgm at 1750-2750rpm</td>\n",
       "      <td>5.0</td>\n",
       "    </tr>\n",
       "    <tr>\n",
       "      <th>4</th>\n",
       "      <td>2007</td>\n",
       "      <td>130000</td>\n",
       "      <td>120000</td>\n",
       "      <td>Petrol</td>\n",
       "      <td>Individual</td>\n",
       "      <td>Manual</td>\n",
       "      <td>First Owner</td>\n",
       "      <td>16.1 kmpl</td>\n",
       "      <td>1298 CC</td>\n",
       "      <td>88.2 bhp</td>\n",
       "      <td>11.5@ 4,500(kgm@ rpm)</td>\n",
       "      <td>5.0</td>\n",
       "    </tr>\n",
       "    <tr>\n",
       "      <th>...</th>\n",
       "      <td>...</td>\n",
       "      <td>...</td>\n",
       "      <td>...</td>\n",
       "      <td>...</td>\n",
       "      <td>...</td>\n",
       "      <td>...</td>\n",
       "      <td>...</td>\n",
       "      <td>...</td>\n",
       "      <td>...</td>\n",
       "      <td>...</td>\n",
       "      <td>...</td>\n",
       "      <td>...</td>\n",
       "    </tr>\n",
       "    <tr>\n",
       "      <th>8123</th>\n",
       "      <td>2013</td>\n",
       "      <td>320000</td>\n",
       "      <td>110000</td>\n",
       "      <td>Petrol</td>\n",
       "      <td>Individual</td>\n",
       "      <td>Manual</td>\n",
       "      <td>First Owner</td>\n",
       "      <td>18.5 kmpl</td>\n",
       "      <td>1197 CC</td>\n",
       "      <td>82.85 bhp</td>\n",
       "      <td>113.7Nm@ 4000rpm</td>\n",
       "      <td>5.0</td>\n",
       "    </tr>\n",
       "    <tr>\n",
       "      <th>8124</th>\n",
       "      <td>2007</td>\n",
       "      <td>135000</td>\n",
       "      <td>119000</td>\n",
       "      <td>Diesel</td>\n",
       "      <td>Individual</td>\n",
       "      <td>Manual</td>\n",
       "      <td>Fourth &amp; Above Owner</td>\n",
       "      <td>16.8 kmpl</td>\n",
       "      <td>1493 CC</td>\n",
       "      <td>110 bhp</td>\n",
       "      <td>24@ 1,900-2,750(kgm@ rpm)</td>\n",
       "      <td>5.0</td>\n",
       "    </tr>\n",
       "    <tr>\n",
       "      <th>8125</th>\n",
       "      <td>2009</td>\n",
       "      <td>382000</td>\n",
       "      <td>120000</td>\n",
       "      <td>Diesel</td>\n",
       "      <td>Individual</td>\n",
       "      <td>Manual</td>\n",
       "      <td>First Owner</td>\n",
       "      <td>19.3 kmpl</td>\n",
       "      <td>1248 CC</td>\n",
       "      <td>73.9 bhp</td>\n",
       "      <td>190Nm@ 2000rpm</td>\n",
       "      <td>5.0</td>\n",
       "    </tr>\n",
       "    <tr>\n",
       "      <th>8126</th>\n",
       "      <td>2013</td>\n",
       "      <td>290000</td>\n",
       "      <td>25000</td>\n",
       "      <td>Diesel</td>\n",
       "      <td>Individual</td>\n",
       "      <td>Manual</td>\n",
       "      <td>First Owner</td>\n",
       "      <td>23.57 kmpl</td>\n",
       "      <td>1396 CC</td>\n",
       "      <td>70 bhp</td>\n",
       "      <td>140Nm@ 1800-3000rpm</td>\n",
       "      <td>5.0</td>\n",
       "    </tr>\n",
       "    <tr>\n",
       "      <th>8127</th>\n",
       "      <td>2013</td>\n",
       "      <td>290000</td>\n",
       "      <td>25000</td>\n",
       "      <td>Diesel</td>\n",
       "      <td>Individual</td>\n",
       "      <td>Manual</td>\n",
       "      <td>First Owner</td>\n",
       "      <td>23.57 kmpl</td>\n",
       "      <td>1396 CC</td>\n",
       "      <td>70 bhp</td>\n",
       "      <td>140Nm@ 1800-3000rpm</td>\n",
       "      <td>5.0</td>\n",
       "    </tr>\n",
       "  </tbody>\n",
       "</table>\n",
       "<p>8128 rows × 12 columns</p>\n",
       "</div>"
      ],
      "text/plain": [
       "      year  selling_price  km_driven    fuel seller_type transmission  \\\n",
       "0     2014         450000     145500  Diesel  Individual       Manual   \n",
       "1     2014         370000     120000  Diesel  Individual       Manual   \n",
       "2     2006         158000     140000  Petrol  Individual       Manual   \n",
       "3     2010         225000     127000  Diesel  Individual       Manual   \n",
       "4     2007         130000     120000  Petrol  Individual       Manual   \n",
       "...    ...            ...        ...     ...         ...          ...   \n",
       "8123  2013         320000     110000  Petrol  Individual       Manual   \n",
       "8124  2007         135000     119000  Diesel  Individual       Manual   \n",
       "8125  2009         382000     120000  Diesel  Individual       Manual   \n",
       "8126  2013         290000      25000  Diesel  Individual       Manual   \n",
       "8127  2013         290000      25000  Diesel  Individual       Manual   \n",
       "\n",
       "                     owner     mileage   engine   max_power  \\\n",
       "0              First Owner   23.4 kmpl  1248 CC      74 bhp   \n",
       "1             Second Owner  21.14 kmpl  1498 CC  103.52 bhp   \n",
       "2              Third Owner   17.7 kmpl  1497 CC      78 bhp   \n",
       "3              First Owner   23.0 kmpl  1396 CC      90 bhp   \n",
       "4              First Owner   16.1 kmpl  1298 CC    88.2 bhp   \n",
       "...                    ...         ...      ...         ...   \n",
       "8123           First Owner   18.5 kmpl  1197 CC   82.85 bhp   \n",
       "8124  Fourth & Above Owner   16.8 kmpl  1493 CC     110 bhp   \n",
       "8125           First Owner   19.3 kmpl  1248 CC    73.9 bhp   \n",
       "8126           First Owner  23.57 kmpl  1396 CC      70 bhp   \n",
       "8127           First Owner  23.57 kmpl  1396 CC      70 bhp   \n",
       "\n",
       "                         torque  seats  \n",
       "0                190Nm@ 2000rpm    5.0  \n",
       "1           250Nm@ 1500-2500rpm    5.0  \n",
       "2         12.7@ 2,700(kgm@ rpm)    5.0  \n",
       "3      22.4 kgm at 1750-2750rpm    5.0  \n",
       "4         11.5@ 4,500(kgm@ rpm)    5.0  \n",
       "...                         ...    ...  \n",
       "8123           113.7Nm@ 4000rpm    5.0  \n",
       "8124  24@ 1,900-2,750(kgm@ rpm)    5.0  \n",
       "8125             190Nm@ 2000rpm    5.0  \n",
       "8126        140Nm@ 1800-3000rpm    5.0  \n",
       "8127        140Nm@ 1800-3000rpm    5.0  \n",
       "\n",
       "[8128 rows x 12 columns]"
      ]
     },
     "execution_count": 4,
     "metadata": {},
     "output_type": "execute_result"
    }
   ],
   "source": [
    "df"
   ]
  },
  {
   "cell_type": "code",
   "execution_count": 5,
   "id": "572538ed",
   "metadata": {
    "execution": {
     "iopub.execute_input": "2021-12-25T04:06:43.631494Z",
     "iopub.status.busy": "2021-12-25T04:06:43.630408Z",
     "iopub.status.idle": "2021-12-25T04:06:43.645937Z",
     "shell.execute_reply": "2021-12-25T04:06:43.646503Z",
     "shell.execute_reply.started": "2021-12-25T03:58:54.523206Z"
    },
    "papermill": {
     "duration": 0.103285,
     "end_time": "2021-12-25T04:06:43.646702",
     "exception": false,
     "start_time": "2021-12-25T04:06:43.543417",
     "status": "completed"
    },
    "tags": []
   },
   "outputs": [
    {
     "data": {
      "text/plain": [
       "year               0\n",
       "selling_price      0\n",
       "km_driven          0\n",
       "fuel               0\n",
       "seller_type        0\n",
       "transmission       0\n",
       "owner              0\n",
       "mileage          221\n",
       "engine           221\n",
       "max_power        215\n",
       "torque           222\n",
       "seats            221\n",
       "dtype: int64"
      ]
     },
     "execution_count": 5,
     "metadata": {},
     "output_type": "execute_result"
    }
   ],
   "source": [
    "df.isna().sum()"
   ]
  },
  {
   "cell_type": "markdown",
   "id": "119d019e",
   "metadata": {
    "papermill": {
     "duration": 0.085821,
     "end_time": "2021-12-25T04:06:43.817294",
     "exception": false,
     "start_time": "2021-12-25T04:06:43.731473",
     "status": "completed"
    },
    "tags": []
   },
   "source": [
    "#### Replacing null values and doing additional manipulation for 'mileage' column"
   ]
  },
  {
   "cell_type": "code",
   "execution_count": 6,
   "id": "90482227",
   "metadata": {
    "execution": {
     "iopub.execute_input": "2021-12-25T04:06:43.995658Z",
     "iopub.status.busy": "2021-12-25T04:06:43.994633Z",
     "iopub.status.idle": "2021-12-25T04:06:44.032666Z",
     "shell.execute_reply": "2021-12-25T04:06:44.032057Z",
     "shell.execute_reply.started": "2021-12-25T03:58:54.541760Z"
    },
    "papermill": {
     "duration": 0.128426,
     "end_time": "2021-12-25T04:06:44.032826",
     "exception": false,
     "start_time": "2021-12-25T04:06:43.904400",
     "status": "completed"
    },
    "tags": []
   },
   "outputs": [],
   "source": [
    "# for rindex, rrindex in enumerate(df['mileage']):\n",
    "#     df['mileage'] = df['mileage'][rindex].replace(' kmpl', '')\n",
    "#     print(rindex)\n",
    "\n",
    "df['mileage'].replace(' kmpl', '', inplace=True, regex=True)\n",
    "df['mileage'].replace(' km/kg', '', inplace=True, regex=True)\n",
    "\n",
    "\n",
    "# df['mileage'].apply(lambda x: x.replace(' kmpl', ''))\n",
    "#     f[1] = df[1].apply(lambda x: x + 1)\n",
    "# pd.to_numeric(df['mileage'], errors='raise')\n",
    "# df"
   ]
  },
  {
   "cell_type": "code",
   "execution_count": 7,
   "id": "04967856",
   "metadata": {
    "execution": {
     "iopub.execute_input": "2021-12-25T04:06:44.215282Z",
     "iopub.status.busy": "2021-12-25T04:06:44.214633Z",
     "iopub.status.idle": "2021-12-25T04:06:44.221371Z",
     "shell.execute_reply": "2021-12-25T04:06:44.222056Z",
     "shell.execute_reply.started": "2021-12-25T03:58:54.585925Z"
    },
    "papermill": {
     "duration": 0.104304,
     "end_time": "2021-12-25T04:06:44.222246",
     "exception": false,
     "start_time": "2021-12-25T04:06:44.117942",
     "status": "completed"
    },
    "tags": []
   },
   "outputs": [
    {
     "data": {
      "text/plain": [
       "0       23.40\n",
       "1       21.14\n",
       "2       17.70\n",
       "3       23.00\n",
       "4       16.10\n",
       "        ...  \n",
       "8123    18.50\n",
       "8124    16.80\n",
       "8125    19.30\n",
       "8126    23.57\n",
       "8127    23.57\n",
       "Name: mileage, Length: 8128, dtype: float64"
      ]
     },
     "execution_count": 7,
     "metadata": {},
     "output_type": "execute_result"
    }
   ],
   "source": [
    "pd.to_numeric(df['mileage'])"
   ]
  },
  {
   "cell_type": "code",
   "execution_count": 8,
   "id": "b03a08f3",
   "metadata": {
    "execution": {
     "iopub.execute_input": "2021-12-25T04:06:44.398274Z",
     "iopub.status.busy": "2021-12-25T04:06:44.397632Z",
     "iopub.status.idle": "2021-12-25T04:06:44.410698Z",
     "shell.execute_reply": "2021-12-25T04:06:44.411219Z",
     "shell.execute_reply.started": "2021-12-25T03:58:54.602891Z"
    },
    "papermill": {
     "duration": 0.102017,
     "end_time": "2021-12-25T04:06:44.411400",
     "exception": false,
     "start_time": "2021-12-25T04:06:44.309383",
     "status": "completed"
    },
    "tags": []
   },
   "outputs": [
    {
     "name": "stdout",
     "output_type": "stream",
     "text": [
      "Value for imputation (based off the mean of mileages): 19.42\n"
     ]
    }
   ],
   "source": [
    "df_2 = df[~df['mileage'].isnull()]\n",
    "#df[df['column name'].isnull()]\n",
    "mileages = pd.to_numeric(df_2['mileage'])\n",
    "impute_value = mileages.mean()\n",
    "print(f'Value for imputation (based off the mean of mileages): {round(impute_value, 2)}')"
   ]
  },
  {
   "cell_type": "code",
   "execution_count": 9,
   "id": "c61f7da1",
   "metadata": {
    "execution": {
     "iopub.execute_input": "2021-12-25T04:06:44.588648Z",
     "iopub.status.busy": "2021-12-25T04:06:44.587991Z",
     "iopub.status.idle": "2021-12-25T04:06:44.601274Z",
     "shell.execute_reply": "2021-12-25T04:06:44.601844Z",
     "shell.execute_reply.started": "2021-12-25T03:58:54.625266Z"
    },
    "papermill": {
     "duration": 0.102284,
     "end_time": "2021-12-25T04:06:44.602024",
     "exception": false,
     "start_time": "2021-12-25T04:06:44.499740",
     "status": "completed"
    },
    "tags": []
   },
   "outputs": [],
   "source": [
    "df.mileage = df.mileage.fillna(value=round(impute_value, 2))\n",
    "df.mileage.isna().sum()\n",
    "df.mileage = pd.to_numeric(df.mileage)"
   ]
  },
  {
   "cell_type": "code",
   "execution_count": 10,
   "id": "abc590fa",
   "metadata": {
    "execution": {
     "iopub.execute_input": "2021-12-25T04:06:44.780660Z",
     "iopub.status.busy": "2021-12-25T04:06:44.779961Z",
     "iopub.status.idle": "2021-12-25T04:06:44.800865Z",
     "shell.execute_reply": "2021-12-25T04:06:44.801415Z",
     "shell.execute_reply.started": "2021-12-25T03:58:54.641219Z"
    },
    "papermill": {
     "duration": 0.110883,
     "end_time": "2021-12-25T04:06:44.801624",
     "exception": false,
     "start_time": "2021-12-25T04:06:44.690741",
     "status": "completed"
    },
    "tags": []
   },
   "outputs": [
    {
     "data": {
      "text/html": [
       "<div>\n",
       "<style scoped>\n",
       "    .dataframe tbody tr th:only-of-type {\n",
       "        vertical-align: middle;\n",
       "    }\n",
       "\n",
       "    .dataframe tbody tr th {\n",
       "        vertical-align: top;\n",
       "    }\n",
       "\n",
       "    .dataframe thead th {\n",
       "        text-align: right;\n",
       "    }\n",
       "</style>\n",
       "<table border=\"1\" class=\"dataframe\">\n",
       "  <thead>\n",
       "    <tr style=\"text-align: right;\">\n",
       "      <th></th>\n",
       "      <th>year</th>\n",
       "      <th>selling_price</th>\n",
       "      <th>km_driven</th>\n",
       "      <th>fuel</th>\n",
       "      <th>seller_type</th>\n",
       "      <th>transmission</th>\n",
       "      <th>owner</th>\n",
       "      <th>mileage</th>\n",
       "      <th>engine</th>\n",
       "      <th>max_power</th>\n",
       "      <th>torque</th>\n",
       "      <th>seats</th>\n",
       "    </tr>\n",
       "  </thead>\n",
       "  <tbody>\n",
       "    <tr>\n",
       "      <th>0</th>\n",
       "      <td>2014</td>\n",
       "      <td>450000</td>\n",
       "      <td>145500</td>\n",
       "      <td>Diesel</td>\n",
       "      <td>Individual</td>\n",
       "      <td>Manual</td>\n",
       "      <td>First Owner</td>\n",
       "      <td>23.40</td>\n",
       "      <td>1248 CC</td>\n",
       "      <td>74 bhp</td>\n",
       "      <td>190Nm@ 2000rpm</td>\n",
       "      <td>5.0</td>\n",
       "    </tr>\n",
       "    <tr>\n",
       "      <th>1</th>\n",
       "      <td>2014</td>\n",
       "      <td>370000</td>\n",
       "      <td>120000</td>\n",
       "      <td>Diesel</td>\n",
       "      <td>Individual</td>\n",
       "      <td>Manual</td>\n",
       "      <td>Second Owner</td>\n",
       "      <td>21.14</td>\n",
       "      <td>1498 CC</td>\n",
       "      <td>103.52 bhp</td>\n",
       "      <td>250Nm@ 1500-2500rpm</td>\n",
       "      <td>5.0</td>\n",
       "    </tr>\n",
       "    <tr>\n",
       "      <th>2</th>\n",
       "      <td>2006</td>\n",
       "      <td>158000</td>\n",
       "      <td>140000</td>\n",
       "      <td>Petrol</td>\n",
       "      <td>Individual</td>\n",
       "      <td>Manual</td>\n",
       "      <td>Third Owner</td>\n",
       "      <td>17.70</td>\n",
       "      <td>1497 CC</td>\n",
       "      <td>78 bhp</td>\n",
       "      <td>12.7@ 2,700(kgm@ rpm)</td>\n",
       "      <td>5.0</td>\n",
       "    </tr>\n",
       "    <tr>\n",
       "      <th>3</th>\n",
       "      <td>2010</td>\n",
       "      <td>225000</td>\n",
       "      <td>127000</td>\n",
       "      <td>Diesel</td>\n",
       "      <td>Individual</td>\n",
       "      <td>Manual</td>\n",
       "      <td>First Owner</td>\n",
       "      <td>23.00</td>\n",
       "      <td>1396 CC</td>\n",
       "      <td>90 bhp</td>\n",
       "      <td>22.4 kgm at 1750-2750rpm</td>\n",
       "      <td>5.0</td>\n",
       "    </tr>\n",
       "    <tr>\n",
       "      <th>4</th>\n",
       "      <td>2007</td>\n",
       "      <td>130000</td>\n",
       "      <td>120000</td>\n",
       "      <td>Petrol</td>\n",
       "      <td>Individual</td>\n",
       "      <td>Manual</td>\n",
       "      <td>First Owner</td>\n",
       "      <td>16.10</td>\n",
       "      <td>1298 CC</td>\n",
       "      <td>88.2 bhp</td>\n",
       "      <td>11.5@ 4,500(kgm@ rpm)</td>\n",
       "      <td>5.0</td>\n",
       "    </tr>\n",
       "    <tr>\n",
       "      <th>...</th>\n",
       "      <td>...</td>\n",
       "      <td>...</td>\n",
       "      <td>...</td>\n",
       "      <td>...</td>\n",
       "      <td>...</td>\n",
       "      <td>...</td>\n",
       "      <td>...</td>\n",
       "      <td>...</td>\n",
       "      <td>...</td>\n",
       "      <td>...</td>\n",
       "      <td>...</td>\n",
       "      <td>...</td>\n",
       "    </tr>\n",
       "    <tr>\n",
       "      <th>8123</th>\n",
       "      <td>2013</td>\n",
       "      <td>320000</td>\n",
       "      <td>110000</td>\n",
       "      <td>Petrol</td>\n",
       "      <td>Individual</td>\n",
       "      <td>Manual</td>\n",
       "      <td>First Owner</td>\n",
       "      <td>18.50</td>\n",
       "      <td>1197 CC</td>\n",
       "      <td>82.85 bhp</td>\n",
       "      <td>113.7Nm@ 4000rpm</td>\n",
       "      <td>5.0</td>\n",
       "    </tr>\n",
       "    <tr>\n",
       "      <th>8124</th>\n",
       "      <td>2007</td>\n",
       "      <td>135000</td>\n",
       "      <td>119000</td>\n",
       "      <td>Diesel</td>\n",
       "      <td>Individual</td>\n",
       "      <td>Manual</td>\n",
       "      <td>Fourth &amp; Above Owner</td>\n",
       "      <td>16.80</td>\n",
       "      <td>1493 CC</td>\n",
       "      <td>110 bhp</td>\n",
       "      <td>24@ 1,900-2,750(kgm@ rpm)</td>\n",
       "      <td>5.0</td>\n",
       "    </tr>\n",
       "    <tr>\n",
       "      <th>8125</th>\n",
       "      <td>2009</td>\n",
       "      <td>382000</td>\n",
       "      <td>120000</td>\n",
       "      <td>Diesel</td>\n",
       "      <td>Individual</td>\n",
       "      <td>Manual</td>\n",
       "      <td>First Owner</td>\n",
       "      <td>19.30</td>\n",
       "      <td>1248 CC</td>\n",
       "      <td>73.9 bhp</td>\n",
       "      <td>190Nm@ 2000rpm</td>\n",
       "      <td>5.0</td>\n",
       "    </tr>\n",
       "    <tr>\n",
       "      <th>8126</th>\n",
       "      <td>2013</td>\n",
       "      <td>290000</td>\n",
       "      <td>25000</td>\n",
       "      <td>Diesel</td>\n",
       "      <td>Individual</td>\n",
       "      <td>Manual</td>\n",
       "      <td>First Owner</td>\n",
       "      <td>23.57</td>\n",
       "      <td>1396 CC</td>\n",
       "      <td>70 bhp</td>\n",
       "      <td>140Nm@ 1800-3000rpm</td>\n",
       "      <td>5.0</td>\n",
       "    </tr>\n",
       "    <tr>\n",
       "      <th>8127</th>\n",
       "      <td>2013</td>\n",
       "      <td>290000</td>\n",
       "      <td>25000</td>\n",
       "      <td>Diesel</td>\n",
       "      <td>Individual</td>\n",
       "      <td>Manual</td>\n",
       "      <td>First Owner</td>\n",
       "      <td>23.57</td>\n",
       "      <td>1396 CC</td>\n",
       "      <td>70 bhp</td>\n",
       "      <td>140Nm@ 1800-3000rpm</td>\n",
       "      <td>5.0</td>\n",
       "    </tr>\n",
       "  </tbody>\n",
       "</table>\n",
       "<p>8128 rows × 12 columns</p>\n",
       "</div>"
      ],
      "text/plain": [
       "      year  selling_price  km_driven    fuel seller_type transmission  \\\n",
       "0     2014         450000     145500  Diesel  Individual       Manual   \n",
       "1     2014         370000     120000  Diesel  Individual       Manual   \n",
       "2     2006         158000     140000  Petrol  Individual       Manual   \n",
       "3     2010         225000     127000  Diesel  Individual       Manual   \n",
       "4     2007         130000     120000  Petrol  Individual       Manual   \n",
       "...    ...            ...        ...     ...         ...          ...   \n",
       "8123  2013         320000     110000  Petrol  Individual       Manual   \n",
       "8124  2007         135000     119000  Diesel  Individual       Manual   \n",
       "8125  2009         382000     120000  Diesel  Individual       Manual   \n",
       "8126  2013         290000      25000  Diesel  Individual       Manual   \n",
       "8127  2013         290000      25000  Diesel  Individual       Manual   \n",
       "\n",
       "                     owner  mileage   engine   max_power  \\\n",
       "0              First Owner    23.40  1248 CC      74 bhp   \n",
       "1             Second Owner    21.14  1498 CC  103.52 bhp   \n",
       "2              Third Owner    17.70  1497 CC      78 bhp   \n",
       "3              First Owner    23.00  1396 CC      90 bhp   \n",
       "4              First Owner    16.10  1298 CC    88.2 bhp   \n",
       "...                    ...      ...      ...         ...   \n",
       "8123           First Owner    18.50  1197 CC   82.85 bhp   \n",
       "8124  Fourth & Above Owner    16.80  1493 CC     110 bhp   \n",
       "8125           First Owner    19.30  1248 CC    73.9 bhp   \n",
       "8126           First Owner    23.57  1396 CC      70 bhp   \n",
       "8127           First Owner    23.57  1396 CC      70 bhp   \n",
       "\n",
       "                         torque  seats  \n",
       "0                190Nm@ 2000rpm    5.0  \n",
       "1           250Nm@ 1500-2500rpm    5.0  \n",
       "2         12.7@ 2,700(kgm@ rpm)    5.0  \n",
       "3      22.4 kgm at 1750-2750rpm    5.0  \n",
       "4         11.5@ 4,500(kgm@ rpm)    5.0  \n",
       "...                         ...    ...  \n",
       "8123           113.7Nm@ 4000rpm    5.0  \n",
       "8124  24@ 1,900-2,750(kgm@ rpm)    5.0  \n",
       "8125             190Nm@ 2000rpm    5.0  \n",
       "8126        140Nm@ 1800-3000rpm    5.0  \n",
       "8127        140Nm@ 1800-3000rpm    5.0  \n",
       "\n",
       "[8128 rows x 12 columns]"
      ]
     },
     "execution_count": 10,
     "metadata": {},
     "output_type": "execute_result"
    }
   ],
   "source": [
    "df"
   ]
  },
  {
   "cell_type": "markdown",
   "id": "24f7499c",
   "metadata": {
    "papermill": {
     "duration": 0.088659,
     "end_time": "2021-12-25T04:06:44.978298",
     "exception": false,
     "start_time": "2021-12-25T04:06:44.889639",
     "status": "completed"
    },
    "tags": []
   },
   "source": [
    "#### 'Engine' column"
   ]
  },
  {
   "cell_type": "code",
   "execution_count": 11,
   "id": "d7eb00fa",
   "metadata": {
    "execution": {
     "iopub.execute_input": "2021-12-25T04:06:45.158439Z",
     "iopub.status.busy": "2021-12-25T04:06:45.153864Z",
     "iopub.status.idle": "2021-12-25T04:06:45.162325Z",
     "shell.execute_reply": "2021-12-25T04:06:45.161837Z",
     "shell.execute_reply.started": "2021-12-25T03:58:54.673328Z"
    },
    "papermill": {
     "duration": 0.097891,
     "end_time": "2021-12-25T04:06:45.162474",
     "exception": false,
     "start_time": "2021-12-25T04:06:45.064583",
     "status": "completed"
    },
    "tags": []
   },
   "outputs": [
    {
     "data": {
      "text/plain": [
       "221"
      ]
     },
     "execution_count": 11,
     "metadata": {},
     "output_type": "execute_result"
    }
   ],
   "source": [
    "df.engine.isna().sum()"
   ]
  },
  {
   "cell_type": "code",
   "execution_count": 12,
   "id": "05344094",
   "metadata": {
    "execution": {
     "iopub.execute_input": "2021-12-25T04:06:45.369939Z",
     "iopub.status.busy": "2021-12-25T04:06:45.368723Z",
     "iopub.status.idle": "2021-12-25T04:06:45.395368Z",
     "shell.execute_reply": "2021-12-25T04:06:45.394296Z",
     "shell.execute_reply.started": "2021-12-25T03:58:54.685203Z"
    },
    "papermill": {
     "duration": 0.14595,
     "end_time": "2021-12-25T04:06:45.395523",
     "exception": false,
     "start_time": "2021-12-25T04:06:45.249573",
     "status": "completed"
    },
    "tags": []
   },
   "outputs": [
    {
     "name": "stdout",
     "output_type": "stream",
     "text": [
      "Value for imputation (based off the mean of mileages): 1459\n",
      "Number of nans: 0\n"
     ]
    }
   ],
   "source": [
    "# Same process as 'mileage' column\n",
    "# df['mileage'].replace(' kmpl', '', inplace=True, regex=True)\n",
    "df.engine.replace(' CC', '', inplace=True, regex=True)\n",
    "pd.to_numeric(df.engine)\n",
    "df_engines = df[~df['engine'].isnull()]\n",
    "#df[df['column name'].isnull()]\n",
    "engines = pd.to_numeric(df_engines['engine'])\n",
    "impute_value_engine = int(round(engines.mean(), 0))\n",
    "print(f'Value for imputation (based off the mean of mileages): {impute_value_engine}')\n",
    "\n",
    "#Perform imputation\n",
    "df.engine = df.engine.fillna(value=impute_value_engine)\n",
    "df.engine = pd.to_numeric(df.engine)\n",
    "\n",
    "#Check results\n",
    "print(f'Number of nans: {df.engine.isna().sum()}')"
   ]
  },
  {
   "cell_type": "markdown",
   "id": "8d8249a1",
   "metadata": {
    "execution": {
     "iopub.execute_input": "2021-12-18T01:34:21.69263Z",
     "iopub.status.busy": "2021-12-18T01:34:21.692285Z",
     "iopub.status.idle": "2021-12-18T01:34:21.718697Z",
     "shell.execute_reply": "2021-12-18T01:34:21.717416Z",
     "shell.execute_reply.started": "2021-12-18T01:34:21.692593Z"
    },
    "papermill": {
     "duration": 0.086894,
     "end_time": "2021-12-25T04:06:45.574077",
     "exception": false,
     "start_time": "2021-12-25T04:06:45.487183",
     "status": "completed"
    },
    "tags": []
   },
   "source": [
    "#### Repeating the process for 'max_power'"
   ]
  },
  {
   "cell_type": "code",
   "execution_count": 13,
   "id": "08bae110",
   "metadata": {
    "execution": {
     "iopub.execute_input": "2021-12-25T04:06:45.752455Z",
     "iopub.status.busy": "2021-12-25T04:06:45.751844Z",
     "iopub.status.idle": "2021-12-25T04:06:45.798233Z",
     "shell.execute_reply": "2021-12-25T04:06:45.798876Z",
     "shell.execute_reply.started": "2021-12-25T03:58:54.747004Z"
    },
    "papermill": {
     "duration": 0.137114,
     "end_time": "2021-12-25T04:06:45.799069",
     "exception": false,
     "start_time": "2021-12-25T04:06:45.661955",
     "status": "completed"
    },
    "tags": []
   },
   "outputs": [
    {
     "name": "stdout",
     "output_type": "stream",
     "text": [
      "Value for imputation (based off the mean of mileages): 91\n",
      "Number of nans: 1\n"
     ]
    }
   ],
   "source": [
    "#Same process as above (I should really have a function built for this by now!)\n",
    "# Same process as 'mileage' column\n",
    "# df['mileage'].replace(' kmpl', '', inplace=True, regex=True)\n",
    "df.max_power.replace(' bhp', '', inplace=True, regex=True)\n",
    "pd.to_numeric(df.max_power)\n",
    "df_mp = df[~df['max_power'].isnull()]\n",
    "#df[df['column name'].isnull()]\n",
    "mp = pd.to_numeric(df_mp['max_power'])\n",
    "impute_value_mp = int(round(mp.mean(), 1))\n",
    "print(f'Value for imputation (based off the mean of mileages): {impute_value_mp}')\n",
    "\n",
    "#Perform imputation\n",
    "df.max_power = df.max_power.fillna(value=impute_value_mp)\n",
    "df.max_power = pd.to_numeric(df.max_power)\n",
    "\n",
    "#Check results\n",
    "print(f'Number of nans: {df.max_power.isna().sum()}')"
   ]
  },
  {
   "cell_type": "markdown",
   "id": "d3f286db",
   "metadata": {
    "papermill": {
     "duration": 0.088892,
     "end_time": "2021-12-25T04:06:45.979851",
     "exception": false,
     "start_time": "2021-12-25T04:06:45.890959",
     "status": "completed"
    },
    "tags": []
   },
   "source": [
    "#### Dropping the 'torque' column"
   ]
  },
  {
   "cell_type": "code",
   "execution_count": 14,
   "id": "ea0e2fc7",
   "metadata": {
    "execution": {
     "iopub.execute_input": "2021-12-25T04:06:46.163941Z",
     "iopub.status.busy": "2021-12-25T04:06:46.163272Z",
     "iopub.status.idle": "2021-12-25T04:06:46.168819Z",
     "shell.execute_reply": "2021-12-25T04:06:46.169379Z",
     "shell.execute_reply.started": "2021-12-25T03:58:54.799430Z"
    },
    "papermill": {
     "duration": 0.098922,
     "end_time": "2021-12-25T04:06:46.169577",
     "exception": false,
     "start_time": "2021-12-25T04:06:46.070655",
     "status": "completed"
    },
    "tags": []
   },
   "outputs": [],
   "source": [
    "df_nt = df.drop('torque', axis=1)"
   ]
  },
  {
   "cell_type": "code",
   "execution_count": 15,
   "id": "23c37cc1",
   "metadata": {
    "execution": {
     "iopub.execute_input": "2021-12-25T04:06:46.347924Z",
     "iopub.status.busy": "2021-12-25T04:06:46.347180Z",
     "iopub.status.idle": "2021-12-25T04:06:46.368316Z",
     "shell.execute_reply": "2021-12-25T04:06:46.367674Z",
     "shell.execute_reply.started": "2021-12-25T03:58:54.807882Z"
    },
    "papermill": {
     "duration": 0.111081,
     "end_time": "2021-12-25T04:06:46.368453",
     "exception": false,
     "start_time": "2021-12-25T04:06:46.257372",
     "status": "completed"
    },
    "tags": []
   },
   "outputs": [
    {
     "data": {
      "text/html": [
       "<div>\n",
       "<style scoped>\n",
       "    .dataframe tbody tr th:only-of-type {\n",
       "        vertical-align: middle;\n",
       "    }\n",
       "\n",
       "    .dataframe tbody tr th {\n",
       "        vertical-align: top;\n",
       "    }\n",
       "\n",
       "    .dataframe thead th {\n",
       "        text-align: right;\n",
       "    }\n",
       "</style>\n",
       "<table border=\"1\" class=\"dataframe\">\n",
       "  <thead>\n",
       "    <tr style=\"text-align: right;\">\n",
       "      <th></th>\n",
       "      <th>year</th>\n",
       "      <th>selling_price</th>\n",
       "      <th>km_driven</th>\n",
       "      <th>fuel</th>\n",
       "      <th>seller_type</th>\n",
       "      <th>transmission</th>\n",
       "      <th>owner</th>\n",
       "      <th>mileage</th>\n",
       "      <th>engine</th>\n",
       "      <th>max_power</th>\n",
       "      <th>seats</th>\n",
       "    </tr>\n",
       "  </thead>\n",
       "  <tbody>\n",
       "    <tr>\n",
       "      <th>0</th>\n",
       "      <td>2014</td>\n",
       "      <td>450000</td>\n",
       "      <td>145500</td>\n",
       "      <td>Diesel</td>\n",
       "      <td>Individual</td>\n",
       "      <td>Manual</td>\n",
       "      <td>First Owner</td>\n",
       "      <td>23.40</td>\n",
       "      <td>1248</td>\n",
       "      <td>74.00</td>\n",
       "      <td>5.0</td>\n",
       "    </tr>\n",
       "    <tr>\n",
       "      <th>1</th>\n",
       "      <td>2014</td>\n",
       "      <td>370000</td>\n",
       "      <td>120000</td>\n",
       "      <td>Diesel</td>\n",
       "      <td>Individual</td>\n",
       "      <td>Manual</td>\n",
       "      <td>Second Owner</td>\n",
       "      <td>21.14</td>\n",
       "      <td>1498</td>\n",
       "      <td>103.52</td>\n",
       "      <td>5.0</td>\n",
       "    </tr>\n",
       "    <tr>\n",
       "      <th>2</th>\n",
       "      <td>2006</td>\n",
       "      <td>158000</td>\n",
       "      <td>140000</td>\n",
       "      <td>Petrol</td>\n",
       "      <td>Individual</td>\n",
       "      <td>Manual</td>\n",
       "      <td>Third Owner</td>\n",
       "      <td>17.70</td>\n",
       "      <td>1497</td>\n",
       "      <td>78.00</td>\n",
       "      <td>5.0</td>\n",
       "    </tr>\n",
       "    <tr>\n",
       "      <th>3</th>\n",
       "      <td>2010</td>\n",
       "      <td>225000</td>\n",
       "      <td>127000</td>\n",
       "      <td>Diesel</td>\n",
       "      <td>Individual</td>\n",
       "      <td>Manual</td>\n",
       "      <td>First Owner</td>\n",
       "      <td>23.00</td>\n",
       "      <td>1396</td>\n",
       "      <td>90.00</td>\n",
       "      <td>5.0</td>\n",
       "    </tr>\n",
       "    <tr>\n",
       "      <th>4</th>\n",
       "      <td>2007</td>\n",
       "      <td>130000</td>\n",
       "      <td>120000</td>\n",
       "      <td>Petrol</td>\n",
       "      <td>Individual</td>\n",
       "      <td>Manual</td>\n",
       "      <td>First Owner</td>\n",
       "      <td>16.10</td>\n",
       "      <td>1298</td>\n",
       "      <td>88.20</td>\n",
       "      <td>5.0</td>\n",
       "    </tr>\n",
       "    <tr>\n",
       "      <th>...</th>\n",
       "      <td>...</td>\n",
       "      <td>...</td>\n",
       "      <td>...</td>\n",
       "      <td>...</td>\n",
       "      <td>...</td>\n",
       "      <td>...</td>\n",
       "      <td>...</td>\n",
       "      <td>...</td>\n",
       "      <td>...</td>\n",
       "      <td>...</td>\n",
       "      <td>...</td>\n",
       "    </tr>\n",
       "    <tr>\n",
       "      <th>8123</th>\n",
       "      <td>2013</td>\n",
       "      <td>320000</td>\n",
       "      <td>110000</td>\n",
       "      <td>Petrol</td>\n",
       "      <td>Individual</td>\n",
       "      <td>Manual</td>\n",
       "      <td>First Owner</td>\n",
       "      <td>18.50</td>\n",
       "      <td>1197</td>\n",
       "      <td>82.85</td>\n",
       "      <td>5.0</td>\n",
       "    </tr>\n",
       "    <tr>\n",
       "      <th>8124</th>\n",
       "      <td>2007</td>\n",
       "      <td>135000</td>\n",
       "      <td>119000</td>\n",
       "      <td>Diesel</td>\n",
       "      <td>Individual</td>\n",
       "      <td>Manual</td>\n",
       "      <td>Fourth &amp; Above Owner</td>\n",
       "      <td>16.80</td>\n",
       "      <td>1493</td>\n",
       "      <td>110.00</td>\n",
       "      <td>5.0</td>\n",
       "    </tr>\n",
       "    <tr>\n",
       "      <th>8125</th>\n",
       "      <td>2009</td>\n",
       "      <td>382000</td>\n",
       "      <td>120000</td>\n",
       "      <td>Diesel</td>\n",
       "      <td>Individual</td>\n",
       "      <td>Manual</td>\n",
       "      <td>First Owner</td>\n",
       "      <td>19.30</td>\n",
       "      <td>1248</td>\n",
       "      <td>73.90</td>\n",
       "      <td>5.0</td>\n",
       "    </tr>\n",
       "    <tr>\n",
       "      <th>8126</th>\n",
       "      <td>2013</td>\n",
       "      <td>290000</td>\n",
       "      <td>25000</td>\n",
       "      <td>Diesel</td>\n",
       "      <td>Individual</td>\n",
       "      <td>Manual</td>\n",
       "      <td>First Owner</td>\n",
       "      <td>23.57</td>\n",
       "      <td>1396</td>\n",
       "      <td>70.00</td>\n",
       "      <td>5.0</td>\n",
       "    </tr>\n",
       "    <tr>\n",
       "      <th>8127</th>\n",
       "      <td>2013</td>\n",
       "      <td>290000</td>\n",
       "      <td>25000</td>\n",
       "      <td>Diesel</td>\n",
       "      <td>Individual</td>\n",
       "      <td>Manual</td>\n",
       "      <td>First Owner</td>\n",
       "      <td>23.57</td>\n",
       "      <td>1396</td>\n",
       "      <td>70.00</td>\n",
       "      <td>5.0</td>\n",
       "    </tr>\n",
       "  </tbody>\n",
       "</table>\n",
       "<p>8128 rows × 11 columns</p>\n",
       "</div>"
      ],
      "text/plain": [
       "      year  selling_price  km_driven    fuel seller_type transmission  \\\n",
       "0     2014         450000     145500  Diesel  Individual       Manual   \n",
       "1     2014         370000     120000  Diesel  Individual       Manual   \n",
       "2     2006         158000     140000  Petrol  Individual       Manual   \n",
       "3     2010         225000     127000  Diesel  Individual       Manual   \n",
       "4     2007         130000     120000  Petrol  Individual       Manual   \n",
       "...    ...            ...        ...     ...         ...          ...   \n",
       "8123  2013         320000     110000  Petrol  Individual       Manual   \n",
       "8124  2007         135000     119000  Diesel  Individual       Manual   \n",
       "8125  2009         382000     120000  Diesel  Individual       Manual   \n",
       "8126  2013         290000      25000  Diesel  Individual       Manual   \n",
       "8127  2013         290000      25000  Diesel  Individual       Manual   \n",
       "\n",
       "                     owner  mileage  engine  max_power  seats  \n",
       "0              First Owner    23.40    1248      74.00    5.0  \n",
       "1             Second Owner    21.14    1498     103.52    5.0  \n",
       "2              Third Owner    17.70    1497      78.00    5.0  \n",
       "3              First Owner    23.00    1396      90.00    5.0  \n",
       "4              First Owner    16.10    1298      88.20    5.0  \n",
       "...                    ...      ...     ...        ...    ...  \n",
       "8123           First Owner    18.50    1197      82.85    5.0  \n",
       "8124  Fourth & Above Owner    16.80    1493     110.00    5.0  \n",
       "8125           First Owner    19.30    1248      73.90    5.0  \n",
       "8126           First Owner    23.57    1396      70.00    5.0  \n",
       "8127           First Owner    23.57    1396      70.00    5.0  \n",
       "\n",
       "[8128 rows x 11 columns]"
      ]
     },
     "execution_count": 15,
     "metadata": {},
     "output_type": "execute_result"
    }
   ],
   "source": [
    "df_nt"
   ]
  },
  {
   "cell_type": "code",
   "execution_count": 16,
   "id": "1b104420",
   "metadata": {
    "execution": {
     "iopub.execute_input": "2021-12-25T04:06:46.554199Z",
     "iopub.status.busy": "2021-12-25T04:06:46.553474Z",
     "iopub.status.idle": "2021-12-25T04:06:46.557351Z",
     "shell.execute_reply": "2021-12-25T04:06:46.556709Z",
     "shell.execute_reply.started": "2021-12-25T03:58:54.843186Z"
    },
    "papermill": {
     "duration": 0.099167,
     "end_time": "2021-12-25T04:06:46.557490",
     "exception": false,
     "start_time": "2021-12-25T04:06:46.458323",
     "status": "completed"
    },
    "tags": []
   },
   "outputs": [
    {
     "data": {
      "text/plain": [
       "year               int64\n",
       "selling_price      int64\n",
       "km_driven          int64\n",
       "fuel              object\n",
       "seller_type       object\n",
       "transmission      object\n",
       "owner             object\n",
       "mileage          float64\n",
       "engine             int64\n",
       "max_power        float64\n",
       "seats            float64\n",
       "dtype: object"
      ]
     },
     "execution_count": 16,
     "metadata": {},
     "output_type": "execute_result"
    }
   ],
   "source": [
    "df_nt.dtypes"
   ]
  },
  {
   "cell_type": "markdown",
   "id": "38c999a6",
   "metadata": {
    "papermill": {
     "duration": 0.089039,
     "end_time": "2021-12-25T04:06:46.735898",
     "exception": false,
     "start_time": "2021-12-25T04:06:46.646859",
     "status": "completed"
    },
    "tags": []
   },
   "source": [
    "#### Dealing with 'seats'"
   ]
  },
  {
   "cell_type": "code",
   "execution_count": 17,
   "id": "48392ca7",
   "metadata": {
    "execution": {
     "iopub.execute_input": "2021-12-25T04:06:46.925164Z",
     "iopub.status.busy": "2021-12-25T04:06:46.924469Z",
     "iopub.status.idle": "2021-12-25T04:06:46.928388Z",
     "shell.execute_reply": "2021-12-25T04:06:46.928931Z",
     "shell.execute_reply.started": "2021-12-25T03:58:54.853458Z"
    },
    "papermill": {
     "duration": 0.103779,
     "end_time": "2021-12-25T04:06:46.929112",
     "exception": false,
     "start_time": "2021-12-25T04:06:46.825333",
     "status": "completed"
    },
    "tags": []
   },
   "outputs": [
    {
     "data": {
      "text/plain": [
       "5.0     6254\n",
       "7.0     1120\n",
       "8.0      236\n",
       "4.0      133\n",
       "9.0       80\n",
       "6.0       62\n",
       "10.0      19\n",
       "2.0        2\n",
       "14.0       1\n",
       "Name: seats, dtype: int64"
      ]
     },
     "execution_count": 17,
     "metadata": {},
     "output_type": "execute_result"
    }
   ],
   "source": [
    "df_nt.seats.value_counts()"
   ]
  },
  {
   "cell_type": "code",
   "execution_count": 18,
   "id": "89bdeeaf",
   "metadata": {
    "execution": {
     "iopub.execute_input": "2021-12-25T04:06:47.115406Z",
     "iopub.status.busy": "2021-12-25T04:06:47.114749Z",
     "iopub.status.idle": "2021-12-25T04:06:47.119243Z",
     "shell.execute_reply": "2021-12-25T04:06:47.118587Z",
     "shell.execute_reply.started": "2021-12-25T03:58:54.870266Z"
    },
    "papermill": {
     "duration": 0.096969,
     "end_time": "2021-12-25T04:06:47.119385",
     "exception": false,
     "start_time": "2021-12-25T04:06:47.022416",
     "status": "completed"
    },
    "tags": []
   },
   "outputs": [],
   "source": [
    "#We'll be replacing missing values for the 'seats' column with '5.0', the mode."
   ]
  },
  {
   "cell_type": "code",
   "execution_count": 19,
   "id": "47f66c1d",
   "metadata": {
    "execution": {
     "iopub.execute_input": "2021-12-25T04:06:47.306651Z",
     "iopub.status.busy": "2021-12-25T04:06:47.305896Z",
     "iopub.status.idle": "2021-12-25T04:06:47.310930Z",
     "shell.execute_reply": "2021-12-25T04:06:47.310342Z",
     "shell.execute_reply.started": "2021-12-25T03:58:54.877087Z"
    },
    "papermill": {
     "duration": 0.09975,
     "end_time": "2021-12-25T04:06:47.311073",
     "exception": false,
     "start_time": "2021-12-25T04:06:47.211323",
     "status": "completed"
    },
    "tags": []
   },
   "outputs": [
    {
     "name": "stdout",
     "output_type": "stream",
     "text": [
      "Number of nans for seats column: 0\n"
     ]
    }
   ],
   "source": [
    "df_nt.seats = df_nt.seats.fillna(value=5.0)\n",
    "print(f'Number of nans for seats column: {df_nt.seats.isna().sum()}')"
   ]
  },
  {
   "cell_type": "markdown",
   "id": "00613297",
   "metadata": {
    "papermill": {
     "duration": 0.089892,
     "end_time": "2021-12-25T04:06:47.490257",
     "exception": false,
     "start_time": "2021-12-25T04:06:47.400365",
     "status": "completed"
    },
    "tags": []
   },
   "source": [
    "### Part 2. Dealing with categorical values"
   ]
  },
  {
   "cell_type": "code",
   "execution_count": 20,
   "id": "594a7e4a",
   "metadata": {
    "execution": {
     "iopub.execute_input": "2021-12-25T04:06:47.672917Z",
     "iopub.status.busy": "2021-12-25T04:06:47.672268Z",
     "iopub.status.idle": "2021-12-25T04:06:48.664739Z",
     "shell.execute_reply": "2021-12-25T04:06:48.664181Z",
     "shell.execute_reply.started": "2021-12-25T03:58:54.891554Z"
    },
    "papermill": {
     "duration": 1.084363,
     "end_time": "2021-12-25T04:06:48.664884",
     "exception": false,
     "start_time": "2021-12-25T04:06:47.580521",
     "status": "completed"
    },
    "tags": []
   },
   "outputs": [],
   "source": [
    "import seaborn as sns\n",
    "import matplotlib.pyplot as plt"
   ]
  },
  {
   "cell_type": "code",
   "execution_count": 21,
   "id": "15c68f33",
   "metadata": {
    "execution": {
     "iopub.execute_input": "2021-12-25T04:06:48.850856Z",
     "iopub.status.busy": "2021-12-25T04:06:48.850147Z",
     "iopub.status.idle": "2021-12-25T04:06:49.589770Z",
     "shell.execute_reply": "2021-12-25T04:06:49.590274Z",
     "shell.execute_reply.started": "2021-12-25T03:58:54.902613Z"
    },
    "papermill": {
     "duration": 0.833124,
     "end_time": "2021-12-25T04:06:49.590446",
     "exception": false,
     "start_time": "2021-12-25T04:06:48.757322",
     "status": "completed"
    },
    "tags": []
   },
   "outputs": [
    {
     "data": {
      "image/png": "[encoded data removed]",
      "text/plain": [
       "<Figure size 432x288 with 1 Axes>"
      ]
     },
     "metadata": {
      "needs_background": "light"
     },
     "output_type": "display_data"
    },
    {
     "data": {
      "image/png": "[encoded data removed]",
      "text/plain": [
       "<Figure size 432x288 with 1 Axes>"
      ]
     },
     "metadata": {
      "needs_background": "light"
     },
     "output_type": "display_data"
    },
    {
     "data": {
      "image/png": "[encoded data removed]",
      "text/plain": [
       "<Figure size 432x288 with 1 Axes>"
      ]
     },
     "metadata": {
      "needs_background": "light"
     },
     "output_type": "display_data"
    },
    {
     "data": {
      "image/png": "[encoded data removed]",
      "text/plain": [
       "<Figure size 432x288 with 1 Axes>"
      ]
     },
     "metadata": {
      "needs_background": "light"
     },
     "output_type": "display_data"
    }
   ],
   "source": [
    "#Basic plotting to get a better understanding of categorical columns\n",
    "cat_cols = ['fuel', 'seller_type', 'transmission', 'owner']\n",
    "\n",
    "for i in cat_cols:\n",
    "    sns.countplot(x=i, data = df_nt)\n",
    "    plt.show()"
   ]
  },
  {
   "cell_type": "code",
   "execution_count": 22,
   "id": "b5264f1c",
   "metadata": {
    "execution": {
     "iopub.execute_input": "2021-12-25T04:06:49.785515Z",
     "iopub.status.busy": "2021-12-25T04:06:49.784892Z",
     "iopub.status.idle": "2021-12-25T04:06:49.904582Z",
     "shell.execute_reply": "2021-12-25T04:06:49.905126Z",
     "shell.execute_reply.started": "2021-12-25T03:58:55.544554Z"
    },
    "papermill": {
     "duration": 0.217155,
     "end_time": "2021-12-25T04:06:49.905318",
     "exception": false,
     "start_time": "2021-12-25T04:06:49.688163",
     "status": "completed"
    },
    "tags": []
   },
   "outputs": [],
   "source": [
    "# We can use OHE and OrdinalEncoding to deal with all categorical columns swiftly and efficiently\n",
    "from sklearn.preprocessing import OneHotEncoder, OrdinalEncoder"
   ]
  },
  {
   "cell_type": "markdown",
   "id": "0a355810",
   "metadata": {
    "papermill": {
     "duration": 0.092479,
     "end_time": "2021-12-25T04:06:50.091394",
     "exception": false,
     "start_time": "2021-12-25T04:06:49.998915",
     "status": "completed"
    },
    "tags": []
   },
   "source": [
    "#### Dealing with 'Transmission' column"
   ]
  },
  {
   "cell_type": "code",
   "execution_count": 23,
   "id": "a825112a",
   "metadata": {
    "execution": {
     "iopub.execute_input": "2021-12-25T04:06:50.279084Z",
     "iopub.status.busy": "2021-12-25T04:06:50.278403Z",
     "iopub.status.idle": "2021-12-25T04:06:50.292126Z",
     "shell.execute_reply": "2021-12-25T04:06:50.292656Z",
     "shell.execute_reply.started": "2021-12-25T03:58:55.551345Z"
    },
    "papermill": {
     "duration": 0.108892,
     "end_time": "2021-12-25T04:06:50.292827",
     "exception": false,
     "start_time": "2021-12-25T04:06:50.183935",
     "status": "completed"
    },
    "tags": []
   },
   "outputs": [
    {
     "data": {
      "text/plain": [
       "0    7078\n",
       "1    1050\n",
       "Name: transmission, dtype: int64"
      ]
     },
     "execution_count": 23,
     "metadata": {},
     "output_type": "execute_result"
    }
   ],
   "source": [
    "#Simple binary encoding, 0 if manual, 1 if automatic\n",
    "mapper = {'Manual':0, 'Automatic':1}\n",
    "df_nt.transmission = df_nt.transmission.replace(mapper)\n",
    "df_nt.transmission.value_counts()"
   ]
  },
  {
   "cell_type": "markdown",
   "id": "22079190",
   "metadata": {
    "papermill": {
     "duration": 0.095455,
     "end_time": "2021-12-25T04:06:50.485040",
     "exception": false,
     "start_time": "2021-12-25T04:06:50.389585",
     "status": "completed"
    },
    "tags": []
   },
   "source": [
    "#### OHE"
   ]
  },
  {
   "cell_type": "code",
   "execution_count": 24,
   "id": "e64d4781",
   "metadata": {
    "execution": {
     "iopub.execute_input": "2021-12-25T04:06:50.679326Z",
     "iopub.status.busy": "2021-12-25T04:06:50.678430Z",
     "iopub.status.idle": "2021-12-25T04:06:50.681414Z",
     "shell.execute_reply": "2021-12-25T04:06:50.681950Z",
     "shell.execute_reply.started": "2021-12-25T03:58:55.571775Z"
    },
    "papermill": {
     "duration": 0.102271,
     "end_time": "2021-12-25T04:06:50.682125",
     "exception": false,
     "start_time": "2021-12-25T04:06:50.579854",
     "status": "completed"
    },
    "tags": []
   },
   "outputs": [],
   "source": [
    "import numpy as np"
   ]
  },
  {
   "cell_type": "code",
   "execution_count": 25,
   "id": "1de5071a",
   "metadata": {
    "execution": {
     "iopub.execute_input": "2021-12-25T04:06:50.872171Z",
     "iopub.status.busy": "2021-12-25T04:06:50.871363Z",
     "iopub.status.idle": "2021-12-25T04:06:50.873285Z",
     "shell.execute_reply": "2021-12-25T04:06:50.873785Z",
     "shell.execute_reply.started": "2021-12-25T03:58:55.577065Z"
    },
    "papermill": {
     "duration": 0.098672,
     "end_time": "2021-12-25T04:06:50.873954",
     "exception": false,
     "start_time": "2021-12-25T04:06:50.775282",
     "status": "completed"
    },
    "tags": []
   },
   "outputs": [],
   "source": [
    "# cols = ['fuel', 'seller_type']\n",
    "# ohe = OneHotEncoder()\n",
    "# feature_array = ohe.fit_transform(df[['fuel', 'seller_type']]).toarray()\n",
    "# feature_array"
   ]
  },
  {
   "cell_type": "code",
   "execution_count": 26,
   "id": "9e02c259",
   "metadata": {
    "execution": {
     "iopub.execute_input": "2021-12-25T04:06:51.068707Z",
     "iopub.status.busy": "2021-12-25T04:06:51.067989Z",
     "iopub.status.idle": "2021-12-25T04:06:51.069591Z",
     "shell.execute_reply": "2021-12-25T04:06:51.070062Z",
     "shell.execute_reply.started": "2021-12-25T03:58:55.588176Z"
    },
    "papermill": {
     "duration": 0.100437,
     "end_time": "2021-12-25T04:06:51.070234",
     "exception": false,
     "start_time": "2021-12-25T04:06:50.969797",
     "status": "completed"
    },
    "tags": []
   },
   "outputs": [],
   "source": [
    "# feature_labels = ohe.categories_\n",
    "# # feature_labels =  np.ndarray.flatten(feature_labels)\n",
    "# feature_labels"
   ]
  },
  {
   "cell_type": "code",
   "execution_count": 27,
   "id": "50776078",
   "metadata": {
    "execution": {
     "iopub.execute_input": "2021-12-25T04:06:51.261445Z",
     "iopub.status.busy": "2021-12-25T04:06:51.260806Z",
     "iopub.status.idle": "2021-12-25T04:06:51.264103Z",
     "shell.execute_reply": "2021-12-25T04:06:51.264566Z",
     "shell.execute_reply.started": "2021-12-25T03:58:55.601025Z"
    },
    "papermill": {
     "duration": 0.100883,
     "end_time": "2021-12-25T04:06:51.264750",
     "exception": false,
     "start_time": "2021-12-25T04:06:51.163867",
     "status": "completed"
    },
    "tags": []
   },
   "outputs": [],
   "source": [
    "# cols = ['CNG', 'Diesel', 'LPG', 'Petrol', 'Dealer', 'Individual' ,'Trustmark Dealer']\n",
    "# # '1983', '1991', '1994', '1995', '1996', '1997', '1998', '1999', '2000', '2001', '2002',\n",
    "#         #'2003', '2004', '2005', '2006', '2007', '2008', '2009', '2010', '2011', '2012', '2013',\n",
    "#        # '2014', '2015', '2016', '2017', '2018', '2019', '2020'"
   ]
  },
  {
   "cell_type": "code",
   "execution_count": 28,
   "id": "2cbe8cb2",
   "metadata": {
    "execution": {
     "iopub.execute_input": "2021-12-25T04:06:51.458439Z",
     "iopub.status.busy": "2021-12-25T04:06:51.457810Z",
     "iopub.status.idle": "2021-12-25T04:06:51.461322Z",
     "shell.execute_reply": "2021-12-25T04:06:51.460807Z",
     "shell.execute_reply.started": "2021-12-25T03:58:55.613563Z"
    },
    "papermill": {
     "duration": 0.102016,
     "end_time": "2021-12-25T04:06:51.461468",
     "exception": false,
     "start_time": "2021-12-25T04:06:51.359452",
     "status": "completed"
    },
    "tags": []
   },
   "outputs": [],
   "source": [
    "# df_OHE = pd.DataFrame(feature_array)\n",
    "\n",
    "# df_OHE\n",
    "# # feature_array"
   ]
  },
  {
   "cell_type": "code",
   "execution_count": 29,
   "id": "9f9c632a",
   "metadata": {
    "execution": {
     "iopub.execute_input": "2021-12-25T04:06:51.654479Z",
     "iopub.status.busy": "2021-12-25T04:06:51.653361Z",
     "iopub.status.idle": "2021-12-25T04:06:51.657479Z",
     "shell.execute_reply": "2021-12-25T04:06:51.656848Z",
     "shell.execute_reply.started": "2021-12-25T03:58:55.630949Z"
    },
    "papermill": {
     "duration": 0.101553,
     "end_time": "2021-12-25T04:06:51.657635",
     "exception": false,
     "start_time": "2021-12-25T04:06:51.556082",
     "status": "completed"
    },
    "tags": []
   },
   "outputs": [],
   "source": [
    "# df_nt = df_nt.drop(['fuel', 'seller_type'], axis=1)"
   ]
  },
  {
   "cell_type": "code",
   "execution_count": 30,
   "id": "f4bea731",
   "metadata": {
    "execution": {
     "iopub.execute_input": "2021-12-25T04:06:51.850452Z",
     "iopub.status.busy": "2021-12-25T04:06:51.849483Z",
     "iopub.status.idle": "2021-12-25T04:06:51.852371Z",
     "shell.execute_reply": "2021-12-25T04:06:51.851851Z",
     "shell.execute_reply.started": "2021-12-25T03:58:55.643884Z"
    },
    "papermill": {
     "duration": 0.100035,
     "end_time": "2021-12-25T04:06:51.852506",
     "exception": false,
     "start_time": "2021-12-25T04:06:51.752471",
     "status": "completed"
    },
    "tags": []
   },
   "outputs": [],
   "source": [
    "# df_nt"
   ]
  },
  {
   "cell_type": "code",
   "execution_count": 31,
   "id": "a2a52a0a",
   "metadata": {
    "execution": {
     "iopub.execute_input": "2021-12-25T04:06:52.043490Z",
     "iopub.status.busy": "2021-12-25T04:06:52.042529Z",
     "iopub.status.idle": "2021-12-25T04:06:52.044822Z",
     "shell.execute_reply": "2021-12-25T04:06:52.045415Z",
     "shell.execute_reply.started": "2021-12-25T03:58:55.654970Z"
    },
    "papermill": {
     "duration": 0.099612,
     "end_time": "2021-12-25T04:06:52.045614",
     "exception": false,
     "start_time": "2021-12-25T04:06:51.946002",
     "status": "completed"
    },
    "tags": []
   },
   "outputs": [],
   "source": [
    "# df_nt = pd.concat([df_nt, df_OHE], axis=1)"
   ]
  },
  {
   "cell_type": "code",
   "execution_count": 32,
   "id": "5b053c2d",
   "metadata": {
    "execution": {
     "iopub.execute_input": "2021-12-25T04:06:52.236409Z",
     "iopub.status.busy": "2021-12-25T04:06:52.235254Z",
     "iopub.status.idle": "2021-12-25T04:06:52.238223Z",
     "shell.execute_reply": "2021-12-25T04:06:52.238720Z",
     "shell.execute_reply.started": "2021-12-25T03:58:55.666644Z"
    },
    "papermill": {
     "duration": 0.100061,
     "end_time": "2021-12-25T04:06:52.238899",
     "exception": false,
     "start_time": "2021-12-25T04:06:52.138838",
     "status": "completed"
    },
    "tags": []
   },
   "outputs": [],
   "source": [
    "# df_nt"
   ]
  },
  {
   "cell_type": "markdown",
   "id": "96912270",
   "metadata": {
    "papermill": {
     "duration": 0.101496,
     "end_time": "2021-12-25T04:06:52.454508",
     "exception": false,
     "start_time": "2021-12-25T04:06:52.353012",
     "status": "completed"
    },
    "tags": []
   },
   "source": [
    "#### Dealing with 'owner' column and OrdinalEncoder"
   ]
  },
  {
   "cell_type": "code",
   "execution_count": 33,
   "id": "dbf82cb6",
   "metadata": {
    "execution": {
     "iopub.execute_input": "2021-12-25T04:06:52.665106Z",
     "iopub.status.busy": "2021-12-25T04:06:52.664098Z",
     "iopub.status.idle": "2021-12-25T04:06:52.680454Z",
     "shell.execute_reply": "2021-12-25T04:06:52.681375Z",
     "shell.execute_reply.started": "2021-12-25T03:58:55.676701Z"
    },
    "papermill": {
     "duration": 0.12109,
     "end_time": "2021-12-25T04:06:52.681760",
     "exception": false,
     "start_time": "2021-12-25T04:06:52.560670",
     "status": "completed"
    },
    "tags": []
   },
   "outputs": [],
   "source": [
    "from sklearn.compose import ColumnTransformer"
   ]
  },
  {
   "cell_type": "code",
   "execution_count": 34,
   "id": "318def1c",
   "metadata": {
    "execution": {
     "iopub.execute_input": "2021-12-25T04:06:52.905980Z",
     "iopub.status.busy": "2021-12-25T04:06:52.904972Z",
     "iopub.status.idle": "2021-12-25T04:06:52.910934Z",
     "shell.execute_reply": "2021-12-25T04:06:52.911427Z",
     "shell.execute_reply.started": "2021-12-25T03:58:55.687594Z"
    },
    "papermill": {
     "duration": 0.105302,
     "end_time": "2021-12-25T04:06:52.911622",
     "exception": false,
     "start_time": "2021-12-25T04:06:52.806320",
     "status": "completed"
    },
    "tags": []
   },
   "outputs": [
    {
     "data": {
      "text/plain": [
       "array(['Diesel', 'Petrol', 'LPG', 'CNG'], dtype=object)"
      ]
     },
     "execution_count": 34,
     "metadata": {},
     "output_type": "execute_result"
    }
   ],
   "source": [
    "df.fuel.unique()\n",
    "# df.seller_type.unique()"
   ]
  },
  {
   "cell_type": "code",
   "execution_count": 35,
   "id": "b0b98a63",
   "metadata": {
    "execution": {
     "iopub.execute_input": "2021-12-25T04:06:53.111157Z",
     "iopub.status.busy": "2021-12-25T04:06:53.110138Z",
     "iopub.status.idle": "2021-12-25T04:06:53.133069Z",
     "shell.execute_reply": "2021-12-25T04:06:53.133534Z",
     "shell.execute_reply.started": "2021-12-25T03:58:55.701788Z"
    },
    "papermill": {
     "duration": 0.12676,
     "end_time": "2021-12-25T04:06:53.133727",
     "exception": false,
     "start_time": "2021-12-25T04:06:53.006967",
     "status": "completed"
    },
    "tags": []
   },
   "outputs": [
    {
     "data": {
      "text/html": [
       "<div>\n",
       "<style scoped>\n",
       "    .dataframe tbody tr th:only-of-type {\n",
       "        vertical-align: middle;\n",
       "    }\n",
       "\n",
       "    .dataframe tbody tr th {\n",
       "        vertical-align: top;\n",
       "    }\n",
       "\n",
       "    .dataframe thead th {\n",
       "        text-align: right;\n",
       "    }\n",
       "</style>\n",
       "<table border=\"1\" class=\"dataframe\">\n",
       "  <thead>\n",
       "    <tr style=\"text-align: right;\">\n",
       "      <th></th>\n",
       "      <th>year</th>\n",
       "      <th>selling_price</th>\n",
       "      <th>km_driven</th>\n",
       "      <th>fuel</th>\n",
       "      <th>seller_type</th>\n",
       "      <th>transmission</th>\n",
       "      <th>owner</th>\n",
       "      <th>mileage</th>\n",
       "      <th>engine</th>\n",
       "      <th>max_power</th>\n",
       "      <th>seats</th>\n",
       "    </tr>\n",
       "  </thead>\n",
       "  <tbody>\n",
       "    <tr>\n",
       "      <th>0</th>\n",
       "      <td>2014</td>\n",
       "      <td>450000</td>\n",
       "      <td>145500</td>\n",
       "      <td>Diesel</td>\n",
       "      <td>Individual</td>\n",
       "      <td>0</td>\n",
       "      <td>First Owner</td>\n",
       "      <td>23.40</td>\n",
       "      <td>1248</td>\n",
       "      <td>74.00</td>\n",
       "      <td>5.0</td>\n",
       "    </tr>\n",
       "    <tr>\n",
       "      <th>1</th>\n",
       "      <td>2014</td>\n",
       "      <td>370000</td>\n",
       "      <td>120000</td>\n",
       "      <td>Diesel</td>\n",
       "      <td>Individual</td>\n",
       "      <td>0</td>\n",
       "      <td>Second Owner</td>\n",
       "      <td>21.14</td>\n",
       "      <td>1498</td>\n",
       "      <td>103.52</td>\n",
       "      <td>5.0</td>\n",
       "    </tr>\n",
       "    <tr>\n",
       "      <th>2</th>\n",
       "      <td>2006</td>\n",
       "      <td>158000</td>\n",
       "      <td>140000</td>\n",
       "      <td>Petrol</td>\n",
       "      <td>Individual</td>\n",
       "      <td>0</td>\n",
       "      <td>Third Owner</td>\n",
       "      <td>17.70</td>\n",
       "      <td>1497</td>\n",
       "      <td>78.00</td>\n",
       "      <td>5.0</td>\n",
       "    </tr>\n",
       "    <tr>\n",
       "      <th>3</th>\n",
       "      <td>2010</td>\n",
       "      <td>225000</td>\n",
       "      <td>127000</td>\n",
       "      <td>Diesel</td>\n",
       "      <td>Individual</td>\n",
       "      <td>0</td>\n",
       "      <td>First Owner</td>\n",
       "      <td>23.00</td>\n",
       "      <td>1396</td>\n",
       "      <td>90.00</td>\n",
       "      <td>5.0</td>\n",
       "    </tr>\n",
       "    <tr>\n",
       "      <th>4</th>\n",
       "      <td>2007</td>\n",
       "      <td>130000</td>\n",
       "      <td>120000</td>\n",
       "      <td>Petrol</td>\n",
       "      <td>Individual</td>\n",
       "      <td>0</td>\n",
       "      <td>First Owner</td>\n",
       "      <td>16.10</td>\n",
       "      <td>1298</td>\n",
       "      <td>88.20</td>\n",
       "      <td>5.0</td>\n",
       "    </tr>\n",
       "    <tr>\n",
       "      <th>...</th>\n",
       "      <td>...</td>\n",
       "      <td>...</td>\n",
       "      <td>...</td>\n",
       "      <td>...</td>\n",
       "      <td>...</td>\n",
       "      <td>...</td>\n",
       "      <td>...</td>\n",
       "      <td>...</td>\n",
       "      <td>...</td>\n",
       "      <td>...</td>\n",
       "      <td>...</td>\n",
       "    </tr>\n",
       "    <tr>\n",
       "      <th>8123</th>\n",
       "      <td>2013</td>\n",
       "      <td>320000</td>\n",
       "      <td>110000</td>\n",
       "      <td>Petrol</td>\n",
       "      <td>Individual</td>\n",
       "      <td>0</td>\n",
       "      <td>First Owner</td>\n",
       "      <td>18.50</td>\n",
       "      <td>1197</td>\n",
       "      <td>82.85</td>\n",
       "      <td>5.0</td>\n",
       "    </tr>\n",
       "    <tr>\n",
       "      <th>8124</th>\n",
       "      <td>2007</td>\n",
       "      <td>135000</td>\n",
       "      <td>119000</td>\n",
       "      <td>Diesel</td>\n",
       "      <td>Individual</td>\n",
       "      <td>0</td>\n",
       "      <td>Fourth &amp; Above Owner</td>\n",
       "      <td>16.80</td>\n",
       "      <td>1493</td>\n",
       "      <td>110.00</td>\n",
       "      <td>5.0</td>\n",
       "    </tr>\n",
       "    <tr>\n",
       "      <th>8125</th>\n",
       "      <td>2009</td>\n",
       "      <td>382000</td>\n",
       "      <td>120000</td>\n",
       "      <td>Diesel</td>\n",
       "      <td>Individual</td>\n",
       "      <td>0</td>\n",
       "      <td>First Owner</td>\n",
       "      <td>19.30</td>\n",
       "      <td>1248</td>\n",
       "      <td>73.90</td>\n",
       "      <td>5.0</td>\n",
       "    </tr>\n",
       "    <tr>\n",
       "      <th>8126</th>\n",
       "      <td>2013</td>\n",
       "      <td>290000</td>\n",
       "      <td>25000</td>\n",
       "      <td>Diesel</td>\n",
       "      <td>Individual</td>\n",
       "      <td>0</td>\n",
       "      <td>First Owner</td>\n",
       "      <td>23.57</td>\n",
       "      <td>1396</td>\n",
       "      <td>70.00</td>\n",
       "      <td>5.0</td>\n",
       "    </tr>\n",
       "    <tr>\n",
       "      <th>8127</th>\n",
       "      <td>2013</td>\n",
       "      <td>290000</td>\n",
       "      <td>25000</td>\n",
       "      <td>Diesel</td>\n",
       "      <td>Individual</td>\n",
       "      <td>0</td>\n",
       "      <td>First Owner</td>\n",
       "      <td>23.57</td>\n",
       "      <td>1396</td>\n",
       "      <td>70.00</td>\n",
       "      <td>5.0</td>\n",
       "    </tr>\n",
       "  </tbody>\n",
       "</table>\n",
       "<p>8128 rows × 11 columns</p>\n",
       "</div>"
      ],
      "text/plain": [
       "      year  selling_price  km_driven    fuel seller_type  transmission  \\\n",
       "0     2014         450000     145500  Diesel  Individual             0   \n",
       "1     2014         370000     120000  Diesel  Individual             0   \n",
       "2     2006         158000     140000  Petrol  Individual             0   \n",
       "3     2010         225000     127000  Diesel  Individual             0   \n",
       "4     2007         130000     120000  Petrol  Individual             0   \n",
       "...    ...            ...        ...     ...         ...           ...   \n",
       "8123  2013         320000     110000  Petrol  Individual             0   \n",
       "8124  2007         135000     119000  Diesel  Individual             0   \n",
       "8125  2009         382000     120000  Diesel  Individual             0   \n",
       "8126  2013         290000      25000  Diesel  Individual             0   \n",
       "8127  2013         290000      25000  Diesel  Individual             0   \n",
       "\n",
       "                     owner  mileage  engine  max_power  seats  \n",
       "0              First Owner    23.40    1248      74.00    5.0  \n",
       "1             Second Owner    21.14    1498     103.52    5.0  \n",
       "2              Third Owner    17.70    1497      78.00    5.0  \n",
       "3              First Owner    23.00    1396      90.00    5.0  \n",
       "4              First Owner    16.10    1298      88.20    5.0  \n",
       "...                    ...      ...     ...        ...    ...  \n",
       "8123           First Owner    18.50    1197      82.85    5.0  \n",
       "8124  Fourth & Above Owner    16.80    1493     110.00    5.0  \n",
       "8125           First Owner    19.30    1248      73.90    5.0  \n",
       "8126           First Owner    23.57    1396      70.00    5.0  \n",
       "8127           First Owner    23.57    1396      70.00    5.0  \n",
       "\n",
       "[8128 rows x 11 columns]"
      ]
     },
     "execution_count": 35,
     "metadata": {},
     "output_type": "execute_result"
    }
   ],
   "source": [
    "df_nt"
   ]
  },
  {
   "cell_type": "code",
   "execution_count": 36,
   "id": "a26f498e",
   "metadata": {
    "execution": {
     "iopub.execute_input": "2021-12-25T04:06:53.330311Z",
     "iopub.status.busy": "2021-12-25T04:06:53.329684Z",
     "iopub.status.idle": "2021-12-25T04:06:53.349877Z",
     "shell.execute_reply": "2021-12-25T04:06:53.349296Z",
     "shell.execute_reply.started": "2021-12-25T03:58:55.730625Z"
    },
    "papermill": {
     "duration": 0.121611,
     "end_time": "2021-12-25T04:06:53.350018",
     "exception": false,
     "start_time": "2021-12-25T04:06:53.228407",
     "status": "completed"
    },
    "tags": []
   },
   "outputs": [
    {
     "data": {
      "text/plain": [
       "0    7078\n",
       "1    1050\n",
       "Name: transmission, dtype: int64"
      ]
     },
     "execution_count": 36,
     "metadata": {},
     "output_type": "execute_result"
    }
   ],
   "source": [
    "#Wrapper for seller_type\n",
    "mapp = {'Individual':0, 'Dealer':1, 'Trustmark Dealer':2}\n",
    "df_nt.seller_type = df_nt.seller_type.replace(mapp)\n",
    "\n",
    "#Wrapper for fuel\n",
    "mapp2 = {'Diesel': 0, 'Petrol': 1, 'LPG': 2, 'CNG': 3}\n",
    "df_nt.fuel= df_nt.fuel.replace(mapp2)\n",
    "\n",
    "#Simple binary encoding, 0 if manual, 1 if automatic\n",
    "mapper = {'Manual':0, 'Automatic':1}\n",
    "df_nt.transmission = df_nt.transmission.replace(mapper)\n",
    "df_nt.transmission.value_counts()"
   ]
  },
  {
   "cell_type": "code",
   "execution_count": 37,
   "id": "5a822a80",
   "metadata": {
    "execution": {
     "iopub.execute_input": "2021-12-25T04:06:53.547790Z",
     "iopub.status.busy": "2021-12-25T04:06:53.546837Z",
     "iopub.status.idle": "2021-12-25T04:06:53.567468Z",
     "shell.execute_reply": "2021-12-25T04:06:53.566941Z",
     "shell.execute_reply.started": "2021-12-25T03:58:55.758709Z"
    },
    "papermill": {
     "duration": 0.12002,
     "end_time": "2021-12-25T04:06:53.567618",
     "exception": false,
     "start_time": "2021-12-25T04:06:53.447598",
     "status": "completed"
    },
    "tags": []
   },
   "outputs": [
    {
     "data": {
      "text/html": [
       "<div>\n",
       "<style scoped>\n",
       "    .dataframe tbody tr th:only-of-type {\n",
       "        vertical-align: middle;\n",
       "    }\n",
       "\n",
       "    .dataframe tbody tr th {\n",
       "        vertical-align: top;\n",
       "    }\n",
       "\n",
       "    .dataframe thead th {\n",
       "        text-align: right;\n",
       "    }\n",
       "</style>\n",
       "<table border=\"1\" class=\"dataframe\">\n",
       "  <thead>\n",
       "    <tr style=\"text-align: right;\">\n",
       "      <th></th>\n",
       "      <th>year</th>\n",
       "      <th>selling_price</th>\n",
       "      <th>km_driven</th>\n",
       "      <th>fuel</th>\n",
       "      <th>seller_type</th>\n",
       "      <th>transmission</th>\n",
       "      <th>owner</th>\n",
       "      <th>mileage</th>\n",
       "      <th>engine</th>\n",
       "      <th>max_power</th>\n",
       "      <th>seats</th>\n",
       "    </tr>\n",
       "  </thead>\n",
       "  <tbody>\n",
       "    <tr>\n",
       "      <th>0</th>\n",
       "      <td>2014</td>\n",
       "      <td>450000</td>\n",
       "      <td>145500</td>\n",
       "      <td>0</td>\n",
       "      <td>0</td>\n",
       "      <td>0</td>\n",
       "      <td>First Owner</td>\n",
       "      <td>23.40</td>\n",
       "      <td>1248</td>\n",
       "      <td>74.00</td>\n",
       "      <td>5.0</td>\n",
       "    </tr>\n",
       "    <tr>\n",
       "      <th>1</th>\n",
       "      <td>2014</td>\n",
       "      <td>370000</td>\n",
       "      <td>120000</td>\n",
       "      <td>0</td>\n",
       "      <td>0</td>\n",
       "      <td>0</td>\n",
       "      <td>Second Owner</td>\n",
       "      <td>21.14</td>\n",
       "      <td>1498</td>\n",
       "      <td>103.52</td>\n",
       "      <td>5.0</td>\n",
       "    </tr>\n",
       "    <tr>\n",
       "      <th>2</th>\n",
       "      <td>2006</td>\n",
       "      <td>158000</td>\n",
       "      <td>140000</td>\n",
       "      <td>1</td>\n",
       "      <td>0</td>\n",
       "      <td>0</td>\n",
       "      <td>Third Owner</td>\n",
       "      <td>17.70</td>\n",
       "      <td>1497</td>\n",
       "      <td>78.00</td>\n",
       "      <td>5.0</td>\n",
       "    </tr>\n",
       "    <tr>\n",
       "      <th>3</th>\n",
       "      <td>2010</td>\n",
       "      <td>225000</td>\n",
       "      <td>127000</td>\n",
       "      <td>0</td>\n",
       "      <td>0</td>\n",
       "      <td>0</td>\n",
       "      <td>First Owner</td>\n",
       "      <td>23.00</td>\n",
       "      <td>1396</td>\n",
       "      <td>90.00</td>\n",
       "      <td>5.0</td>\n",
       "    </tr>\n",
       "    <tr>\n",
       "      <th>4</th>\n",
       "      <td>2007</td>\n",
       "      <td>130000</td>\n",
       "      <td>120000</td>\n",
       "      <td>1</td>\n",
       "      <td>0</td>\n",
       "      <td>0</td>\n",
       "      <td>First Owner</td>\n",
       "      <td>16.10</td>\n",
       "      <td>1298</td>\n",
       "      <td>88.20</td>\n",
       "      <td>5.0</td>\n",
       "    </tr>\n",
       "    <tr>\n",
       "      <th>...</th>\n",
       "      <td>...</td>\n",
       "      <td>...</td>\n",
       "      <td>...</td>\n",
       "      <td>...</td>\n",
       "      <td>...</td>\n",
       "      <td>...</td>\n",
       "      <td>...</td>\n",
       "      <td>...</td>\n",
       "      <td>...</td>\n",
       "      <td>...</td>\n",
       "      <td>...</td>\n",
       "    </tr>\n",
       "    <tr>\n",
       "      <th>8123</th>\n",
       "      <td>2013</td>\n",
       "      <td>320000</td>\n",
       "      <td>110000</td>\n",
       "      <td>1</td>\n",
       "      <td>0</td>\n",
       "      <td>0</td>\n",
       "      <td>First Owner</td>\n",
       "      <td>18.50</td>\n",
       "      <td>1197</td>\n",
       "      <td>82.85</td>\n",
       "      <td>5.0</td>\n",
       "    </tr>\n",
       "    <tr>\n",
       "      <th>8124</th>\n",
       "      <td>2007</td>\n",
       "      <td>135000</td>\n",
       "      <td>119000</td>\n",
       "      <td>0</td>\n",
       "      <td>0</td>\n",
       "      <td>0</td>\n",
       "      <td>Fourth &amp; Above Owner</td>\n",
       "      <td>16.80</td>\n",
       "      <td>1493</td>\n",
       "      <td>110.00</td>\n",
       "      <td>5.0</td>\n",
       "    </tr>\n",
       "    <tr>\n",
       "      <th>8125</th>\n",
       "      <td>2009</td>\n",
       "      <td>382000</td>\n",
       "      <td>120000</td>\n",
       "      <td>0</td>\n",
       "      <td>0</td>\n",
       "      <td>0</td>\n",
       "      <td>First Owner</td>\n",
       "      <td>19.30</td>\n",
       "      <td>1248</td>\n",
       "      <td>73.90</td>\n",
       "      <td>5.0</td>\n",
       "    </tr>\n",
       "    <tr>\n",
       "      <th>8126</th>\n",
       "      <td>2013</td>\n",
       "      <td>290000</td>\n",
       "      <td>25000</td>\n",
       "      <td>0</td>\n",
       "      <td>0</td>\n",
       "      <td>0</td>\n",
       "      <td>First Owner</td>\n",
       "      <td>23.57</td>\n",
       "      <td>1396</td>\n",
       "      <td>70.00</td>\n",
       "      <td>5.0</td>\n",
       "    </tr>\n",
       "    <tr>\n",
       "      <th>8127</th>\n",
       "      <td>2013</td>\n",
       "      <td>290000</td>\n",
       "      <td>25000</td>\n",
       "      <td>0</td>\n",
       "      <td>0</td>\n",
       "      <td>0</td>\n",
       "      <td>First Owner</td>\n",
       "      <td>23.57</td>\n",
       "      <td>1396</td>\n",
       "      <td>70.00</td>\n",
       "      <td>5.0</td>\n",
       "    </tr>\n",
       "  </tbody>\n",
       "</table>\n",
       "<p>8128 rows × 11 columns</p>\n",
       "</div>"
      ],
      "text/plain": [
       "      year  selling_price  km_driven  fuel  seller_type  transmission  \\\n",
       "0     2014         450000     145500     0            0             0   \n",
       "1     2014         370000     120000     0            0             0   \n",
       "2     2006         158000     140000     1            0             0   \n",
       "3     2010         225000     127000     0            0             0   \n",
       "4     2007         130000     120000     1            0             0   \n",
       "...    ...            ...        ...   ...          ...           ...   \n",
       "8123  2013         320000     110000     1            0             0   \n",
       "8124  2007         135000     119000     0            0             0   \n",
       "8125  2009         382000     120000     0            0             0   \n",
       "8126  2013         290000      25000     0            0             0   \n",
       "8127  2013         290000      25000     0            0             0   \n",
       "\n",
       "                     owner  mileage  engine  max_power  seats  \n",
       "0              First Owner    23.40    1248      74.00    5.0  \n",
       "1             Second Owner    21.14    1498     103.52    5.0  \n",
       "2              Third Owner    17.70    1497      78.00    5.0  \n",
       "3              First Owner    23.00    1396      90.00    5.0  \n",
       "4              First Owner    16.10    1298      88.20    5.0  \n",
       "...                    ...      ...     ...        ...    ...  \n",
       "8123           First Owner    18.50    1197      82.85    5.0  \n",
       "8124  Fourth & Above Owner    16.80    1493     110.00    5.0  \n",
       "8125           First Owner    19.30    1248      73.90    5.0  \n",
       "8126           First Owner    23.57    1396      70.00    5.0  \n",
       "8127           First Owner    23.57    1396      70.00    5.0  \n",
       "\n",
       "[8128 rows x 11 columns]"
      ]
     },
     "execution_count": 37,
     "metadata": {},
     "output_type": "execute_result"
    }
   ],
   "source": [
    "df_nt"
   ]
  },
  {
   "cell_type": "code",
   "execution_count": 38,
   "id": "dabd9360",
   "metadata": {
    "execution": {
     "iopub.execute_input": "2021-12-25T04:06:53.764521Z",
     "iopub.status.busy": "2021-12-25T04:06:53.763579Z",
     "iopub.status.idle": "2021-12-25T04:06:53.777699Z",
     "shell.execute_reply": "2021-12-25T04:06:53.777114Z",
     "shell.execute_reply.started": "2021-12-25T03:58:55.783270Z"
    },
    "papermill": {
     "duration": 0.113582,
     "end_time": "2021-12-25T04:06:53.777847",
     "exception": false,
     "start_time": "2021-12-25T04:06:53.664265",
     "status": "completed"
    },
    "tags": []
   },
   "outputs": [
    {
     "data": {
      "text/plain": [
       "OrdinalEncoder(categories=[['First Owner', 'Second Owner', 'Third Owner',\n",
       "                            'Fourth & Above Owner', 'Test Drive Car']])"
      ]
     },
     "execution_count": 38,
     "metadata": {},
     "output_type": "execute_result"
    }
   ],
   "source": [
    "# model_ODE = ColumnTransformer(\n",
    "#     [('ODE', OrdinalEncoder(),['owner'])],\n",
    "#     remainder = 'passthrough'\n",
    "#     )\n",
    "\n",
    "# fuix = model_ODE.fit_transform(df_nt)\n",
    "# pd.DataFrame(fuix) \n",
    "# df_nt.owner.unique()\n",
    "cats = ['First Owner', 'Second Owner', 'Third Owner', 'Fourth & Above Owner', 'Test Drive Car']\n",
    "fuel_cats = []\n",
    "seller_type_cats = []\n",
    "\n",
    "# cats\n",
    "ordi = OrdinalEncoder(categories=[cats])\n",
    "ordi.fit(df_nt[['owner']])"
   ]
  },
  {
   "cell_type": "code",
   "execution_count": 39,
   "id": "52110551",
   "metadata": {
    "execution": {
     "iopub.execute_input": "2021-12-25T04:06:53.976179Z",
     "iopub.status.busy": "2021-12-25T04:06:53.975181Z",
     "iopub.status.idle": "2021-12-25T04:06:53.984301Z",
     "shell.execute_reply": "2021-12-25T04:06:53.984882Z",
     "shell.execute_reply.started": "2021-12-25T03:58:55.804852Z"
    },
    "papermill": {
     "duration": 0.109376,
     "end_time": "2021-12-25T04:06:53.985059",
     "exception": false,
     "start_time": "2021-12-25T04:06:53.875683",
     "status": "completed"
    },
    "tags": []
   },
   "outputs": [],
   "source": [
    "df_nt.owner = pd.DataFrame(ordi.transform(df_nt[['owner']])) "
   ]
  },
  {
   "cell_type": "markdown",
   "id": "bb466c06",
   "metadata": {
    "execution": {
     "iopub.execute_input": "2021-12-18T19:25:48.473869Z",
     "iopub.status.busy": "2021-12-18T19:25:48.473031Z",
     "iopub.status.idle": "2021-12-18T19:25:48.478791Z",
     "shell.execute_reply": "2021-12-18T19:25:48.477953Z",
     "shell.execute_reply.started": "2021-12-18T19:25:48.47383Z"
    },
    "papermill": {
     "duration": 0.095137,
     "end_time": "2021-12-25T04:06:54.177027",
     "exception": false,
     "start_time": "2021-12-25T04:06:54.081890",
     "status": "completed"
    },
    "tags": []
   },
   "source": [
    "Additional fixes"
   ]
  },
  {
   "cell_type": "code",
   "execution_count": 40,
   "id": "85053062",
   "metadata": {
    "execution": {
     "iopub.execute_input": "2021-12-25T04:06:54.374576Z",
     "iopub.status.busy": "2021-12-25T04:06:54.373605Z",
     "iopub.status.idle": "2021-12-25T04:06:54.383218Z",
     "shell.execute_reply": "2021-12-25T04:06:54.382573Z",
     "shell.execute_reply.started": "2021-12-25T03:58:55.818388Z"
    },
    "papermill": {
     "duration": 0.108867,
     "end_time": "2021-12-25T04:06:54.383359",
     "exception": false,
     "start_time": "2021-12-25T04:06:54.274492",
     "status": "completed"
    },
    "tags": []
   },
   "outputs": [
    {
     "data": {
      "text/plain": [
       "0"
      ]
     },
     "execution_count": 40,
     "metadata": {},
     "output_type": "execute_result"
    }
   ],
   "source": [
    "df_nt.max_power = df_nt.max_power.fillna(impute_value_mp)\n",
    "df_nt.max_power.isna().sum()\n",
    "\n",
    "df_nt.isna().sum().sum()"
   ]
  },
  {
   "cell_type": "markdown",
   "id": "6511f659",
   "metadata": {
    "papermill": {
     "duration": 0.095803,
     "end_time": "2021-12-25T04:06:54.575771",
     "exception": false,
     "start_time": "2021-12-25T04:06:54.479968",
     "status": "completed"
    },
    "tags": []
   },
   "source": [
    "#### Dealing with 'year'"
   ]
  },
  {
   "cell_type": "markdown",
   "id": "abe3891f",
   "metadata": {
    "papermill": {
     "duration": 0.096734,
     "end_time": "2021-12-25T04:06:54.767237",
     "exception": false,
     "start_time": "2021-12-25T04:06:54.670503",
     "status": "completed"
    },
    "tags": []
   },
   "source": [
    "### Model Splitting / Training"
   ]
  },
  {
   "cell_type": "code",
   "execution_count": 41,
   "id": "4f80ae09",
   "metadata": {
    "execution": {
     "iopub.execute_input": "2021-12-25T04:06:54.967112Z",
     "iopub.status.busy": "2021-12-25T04:06:54.966249Z",
     "iopub.status.idle": "2021-12-25T04:06:54.969508Z",
     "shell.execute_reply": "2021-12-25T04:06:54.970008Z",
     "shell.execute_reply.started": "2021-12-25T03:58:55.834696Z"
    },
    "papermill": {
     "duration": 0.107077,
     "end_time": "2021-12-25T04:06:54.970174",
     "exception": false,
     "start_time": "2021-12-25T04:06:54.863097",
     "status": "completed"
    },
    "tags": []
   },
   "outputs": [
    {
     "data": {
      "text/plain": [
       "year               int64\n",
       "selling_price      int64\n",
       "km_driven          int64\n",
       "fuel               int64\n",
       "seller_type        int64\n",
       "transmission       int64\n",
       "owner            float64\n",
       "mileage          float64\n",
       "engine             int64\n",
       "max_power        float64\n",
       "seats            float64\n",
       "dtype: object"
      ]
     },
     "execution_count": 41,
     "metadata": {},
     "output_type": "execute_result"
    }
   ],
   "source": [
    "df_nt.dtypes"
   ]
  },
  {
   "cell_type": "code",
   "execution_count": 42,
   "id": "88893baf",
   "metadata": {
    "execution": {
     "iopub.execute_input": "2021-12-25T04:06:55.168514Z",
     "iopub.status.busy": "2021-12-25T04:06:55.167570Z",
     "iopub.status.idle": "2021-12-25T04:06:55.477974Z",
     "shell.execute_reply": "2021-12-25T04:06:55.478498Z",
     "shell.execute_reply.started": "2021-12-25T03:58:55.846687Z"
    },
    "papermill": {
     "duration": 0.409109,
     "end_time": "2021-12-25T04:06:55.478691",
     "exception": false,
     "start_time": "2021-12-25T04:06:55.069582",
     "status": "completed"
    },
    "tags": []
   },
   "outputs": [],
   "source": [
    "from sklearn.linear_model import LinearRegression\n",
    "from sklearn.ensemble import RandomForestRegressor\n",
    "from xgboost import XGBRegressor\n",
    "\n",
    "from sklearn.model_selection import train_test_split\n",
    "\n",
    "from sklearn.preprocessing import StandardScaler, RobustScaler, MinMaxScaler"
   ]
  },
  {
   "cell_type": "code",
   "execution_count": 43,
   "id": "fa51a2f2",
   "metadata": {
    "execution": {
     "iopub.execute_input": "2021-12-25T04:06:55.675930Z",
     "iopub.status.busy": "2021-12-25T04:06:55.675088Z",
     "iopub.status.idle": "2021-12-25T04:06:55.678309Z",
     "shell.execute_reply": "2021-12-25T04:06:55.678896Z",
     "shell.execute_reply.started": "2021-12-25T03:58:55.856743Z"
    },
    "papermill": {
     "duration": 0.104737,
     "end_time": "2021-12-25T04:06:55.679065",
     "exception": false,
     "start_time": "2021-12-25T04:06:55.574328",
     "status": "completed"
    },
    "tags": []
   },
   "outputs": [],
   "source": [
    "y = df_nt.selling_price\n",
    "X = df_nt.drop('selling_price', axis=1)\n",
    "# X = df_nt.drop(['selling_price', 'km_driven'], axis=1)"
   ]
  },
  {
   "cell_type": "code",
   "execution_count": 44,
   "id": "b113cf0d",
   "metadata": {
    "execution": {
     "iopub.execute_input": "2021-12-25T04:06:55.878070Z",
     "iopub.status.busy": "2021-12-25T04:06:55.877081Z",
     "iopub.status.idle": "2021-12-25T04:06:55.902717Z",
     "shell.execute_reply": "2021-12-25T04:06:55.903247Z",
     "shell.execute_reply.started": "2021-12-25T03:58:55.872590Z"
    },
    "papermill": {
     "duration": 0.127432,
     "end_time": "2021-12-25T04:06:55.903419",
     "exception": false,
     "start_time": "2021-12-25T04:06:55.775987",
     "status": "completed"
    },
    "tags": []
   },
   "outputs": [
    {
     "data": {
      "text/html": [
       "<div>\n",
       "<style scoped>\n",
       "    .dataframe tbody tr th:only-of-type {\n",
       "        vertical-align: middle;\n",
       "    }\n",
       "\n",
       "    .dataframe tbody tr th {\n",
       "        vertical-align: top;\n",
       "    }\n",
       "\n",
       "    .dataframe thead th {\n",
       "        text-align: right;\n",
       "    }\n",
       "</style>\n",
       "<table border=\"1\" class=\"dataframe\">\n",
       "  <thead>\n",
       "    <tr style=\"text-align: right;\">\n",
       "      <th></th>\n",
       "      <th>year</th>\n",
       "      <th>km_driven</th>\n",
       "      <th>fuel</th>\n",
       "      <th>seller_type</th>\n",
       "      <th>transmission</th>\n",
       "      <th>owner</th>\n",
       "      <th>mileage</th>\n",
       "      <th>engine</th>\n",
       "      <th>max_power</th>\n",
       "      <th>seats</th>\n",
       "    </tr>\n",
       "  </thead>\n",
       "  <tbody>\n",
       "    <tr>\n",
       "      <th>1939</th>\n",
       "      <td>2014</td>\n",
       "      <td>100000</td>\n",
       "      <td>0</td>\n",
       "      <td>0</td>\n",
       "      <td>0</td>\n",
       "      <td>1.0</td>\n",
       "      <td>25.80</td>\n",
       "      <td>1498</td>\n",
       "      <td>98.60</td>\n",
       "      <td>5.0</td>\n",
       "    </tr>\n",
       "    <tr>\n",
       "      <th>5455</th>\n",
       "      <td>2016</td>\n",
       "      <td>120000</td>\n",
       "      <td>0</td>\n",
       "      <td>0</td>\n",
       "      <td>0</td>\n",
       "      <td>1.0</td>\n",
       "      <td>26.59</td>\n",
       "      <td>1248</td>\n",
       "      <td>74.00</td>\n",
       "      <td>5.0</td>\n",
       "    </tr>\n",
       "    <tr>\n",
       "      <th>7079</th>\n",
       "      <td>2012</td>\n",
       "      <td>100000</td>\n",
       "      <td>0</td>\n",
       "      <td>0</td>\n",
       "      <td>0</td>\n",
       "      <td>1.0</td>\n",
       "      <td>21.80</td>\n",
       "      <td>1461</td>\n",
       "      <td>78.00</td>\n",
       "      <td>5.0</td>\n",
       "    </tr>\n",
       "    <tr>\n",
       "      <th>2000</th>\n",
       "      <td>2011</td>\n",
       "      <td>80000</td>\n",
       "      <td>1</td>\n",
       "      <td>0</td>\n",
       "      <td>0</td>\n",
       "      <td>1.0</td>\n",
       "      <td>16.00</td>\n",
       "      <td>1198</td>\n",
       "      <td>90.00</td>\n",
       "      <td>5.0</td>\n",
       "    </tr>\n",
       "    <tr>\n",
       "      <th>1578</th>\n",
       "      <td>2016</td>\n",
       "      <td>56494</td>\n",
       "      <td>1</td>\n",
       "      <td>2</td>\n",
       "      <td>0</td>\n",
       "      <td>0.0</td>\n",
       "      <td>18.20</td>\n",
       "      <td>1199</td>\n",
       "      <td>88.70</td>\n",
       "      <td>5.0</td>\n",
       "    </tr>\n",
       "    <tr>\n",
       "      <th>...</th>\n",
       "      <td>...</td>\n",
       "      <td>...</td>\n",
       "      <td>...</td>\n",
       "      <td>...</td>\n",
       "      <td>...</td>\n",
       "      <td>...</td>\n",
       "      <td>...</td>\n",
       "      <td>...</td>\n",
       "      <td>...</td>\n",
       "      <td>...</td>\n",
       "    </tr>\n",
       "    <tr>\n",
       "      <th>7935</th>\n",
       "      <td>1999</td>\n",
       "      <td>100000</td>\n",
       "      <td>1</td>\n",
       "      <td>0</td>\n",
       "      <td>0</td>\n",
       "      <td>2.0</td>\n",
       "      <td>16.10</td>\n",
       "      <td>796</td>\n",
       "      <td>37.00</td>\n",
       "      <td>4.0</td>\n",
       "    </tr>\n",
       "    <tr>\n",
       "      <th>5192</th>\n",
       "      <td>2016</td>\n",
       "      <td>152000</td>\n",
       "      <td>0</td>\n",
       "      <td>0</td>\n",
       "      <td>0</td>\n",
       "      <td>0.0</td>\n",
       "      <td>21.19</td>\n",
       "      <td>1396</td>\n",
       "      <td>88.73</td>\n",
       "      <td>5.0</td>\n",
       "    </tr>\n",
       "    <tr>\n",
       "      <th>3980</th>\n",
       "      <td>2013</td>\n",
       "      <td>70000</td>\n",
       "      <td>1</td>\n",
       "      <td>0</td>\n",
       "      <td>0</td>\n",
       "      <td>0.0</td>\n",
       "      <td>21.10</td>\n",
       "      <td>814</td>\n",
       "      <td>55.20</td>\n",
       "      <td>5.0</td>\n",
       "    </tr>\n",
       "    <tr>\n",
       "      <th>235</th>\n",
       "      <td>2010</td>\n",
       "      <td>110000</td>\n",
       "      <td>0</td>\n",
       "      <td>0</td>\n",
       "      <td>0</td>\n",
       "      <td>1.0</td>\n",
       "      <td>21.10</td>\n",
       "      <td>1248</td>\n",
       "      <td>73.90</td>\n",
       "      <td>5.0</td>\n",
       "    </tr>\n",
       "    <tr>\n",
       "      <th>5157</th>\n",
       "      <td>2016</td>\n",
       "      <td>65755</td>\n",
       "      <td>1</td>\n",
       "      <td>0</td>\n",
       "      <td>0</td>\n",
       "      <td>0.0</td>\n",
       "      <td>21.40</td>\n",
       "      <td>1197</td>\n",
       "      <td>83.10</td>\n",
       "      <td>5.0</td>\n",
       "    </tr>\n",
       "  </tbody>\n",
       "</table>\n",
       "<p>6502 rows × 10 columns</p>\n",
       "</div>"
      ],
      "text/plain": [
       "      year  km_driven  fuel  seller_type  transmission  owner  mileage  \\\n",
       "1939  2014     100000     0            0             0    1.0    25.80   \n",
       "5455  2016     120000     0            0             0    1.0    26.59   \n",
       "7079  2012     100000     0            0             0    1.0    21.80   \n",
       "2000  2011      80000     1            0             0    1.0    16.00   \n",
       "1578  2016      56494     1            2             0    0.0    18.20   \n",
       "...    ...        ...   ...          ...           ...    ...      ...   \n",
       "7935  1999     100000     1            0             0    2.0    16.10   \n",
       "5192  2016     152000     0            0             0    0.0    21.19   \n",
       "3980  2013      70000     1            0             0    0.0    21.10   \n",
       "235   2010     110000     0            0             0    1.0    21.10   \n",
       "5157  2016      65755     1            0             0    0.0    21.40   \n",
       "\n",
       "      engine  max_power  seats  \n",
       "1939    1498      98.60    5.0  \n",
       "5455    1248      74.00    5.0  \n",
       "7079    1461      78.00    5.0  \n",
       "2000    1198      90.00    5.0  \n",
       "1578    1199      88.70    5.0  \n",
       "...      ...        ...    ...  \n",
       "7935     796      37.00    4.0  \n",
       "5192    1396      88.73    5.0  \n",
       "3980     814      55.20    5.0  \n",
       "235     1248      73.90    5.0  \n",
       "5157    1197      83.10    5.0  \n",
       "\n",
       "[6502 rows x 10 columns]"
      ]
     },
     "execution_count": 44,
     "metadata": {},
     "output_type": "execute_result"
    }
   ],
   "source": [
    "#Splitting data\n",
    "X_train, X_test, y_train, y_test = train_test_split(X, y, test_size = .20, random_state = 1)\n",
    "\n",
    "X_train"
   ]
  },
  {
   "cell_type": "code",
   "execution_count": 45,
   "id": "4e96e0d0",
   "metadata": {
    "execution": {
     "iopub.execute_input": "2021-12-25T04:06:56.099081Z",
     "iopub.status.busy": "2021-12-25T04:06:56.098407Z",
     "iopub.status.idle": "2021-12-25T04:06:56.164444Z",
     "shell.execute_reply": "2021-12-25T04:06:56.165415Z",
     "shell.execute_reply.started": "2021-12-25T03:58:55.907226Z"
    },
    "papermill": {
     "duration": 0.166255,
     "end_time": "2021-12-25T04:06:56.165698",
     "exception": false,
     "start_time": "2021-12-25T04:06:55.999443",
     "status": "completed"
    },
    "tags": []
   },
   "outputs": [
    {
     "data": {
      "text/html": [
       "<div>\n",
       "<style scoped>\n",
       "    .dataframe tbody tr th:only-of-type {\n",
       "        vertical-align: middle;\n",
       "    }\n",
       "\n",
       "    .dataframe tbody tr th {\n",
       "        vertical-align: top;\n",
       "    }\n",
       "\n",
       "    .dataframe thead th {\n",
       "        text-align: right;\n",
       "    }\n",
       "</style>\n",
       "<table border=\"1\" class=\"dataframe\">\n",
       "  <thead>\n",
       "    <tr style=\"text-align: right;\">\n",
       "      <th></th>\n",
       "      <th>year</th>\n",
       "      <th>km_driven</th>\n",
       "      <th>fuel</th>\n",
       "      <th>seller_type</th>\n",
       "      <th>transmission</th>\n",
       "      <th>owner</th>\n",
       "      <th>mileage</th>\n",
       "      <th>engine</th>\n",
       "      <th>max_power</th>\n",
       "      <th>seats</th>\n",
       "    </tr>\n",
       "  </thead>\n",
       "  <tbody>\n",
       "    <tr>\n",
       "      <th>0</th>\n",
       "      <td>0.043356</td>\n",
       "      <td>0.591349</td>\n",
       "      <td>-0.869079</td>\n",
       "      <td>-0.428470</td>\n",
       "      <td>-0.390944</td>\n",
       "      <td>0.746832</td>\n",
       "      <td>1.615652</td>\n",
       "      <td>0.075617</td>\n",
       "      <td>0.189785</td>\n",
       "      <td>-0.425543</td>\n",
       "    </tr>\n",
       "    <tr>\n",
       "      <th>1</th>\n",
       "      <td>0.539226</td>\n",
       "      <td>0.980965</td>\n",
       "      <td>-0.869079</td>\n",
       "      <td>-0.428470</td>\n",
       "      <td>-0.390944</td>\n",
       "      <td>0.746832</td>\n",
       "      <td>1.815501</td>\n",
       "      <td>-0.429495</td>\n",
       "      <td>-0.499886</td>\n",
       "      <td>-0.425543</td>\n",
       "    </tr>\n",
       "    <tr>\n",
       "      <th>2</th>\n",
       "      <td>-0.452514</td>\n",
       "      <td>0.591349</td>\n",
       "      <td>-0.869079</td>\n",
       "      <td>-0.428470</td>\n",
       "      <td>-0.390944</td>\n",
       "      <td>0.746832</td>\n",
       "      <td>0.603756</td>\n",
       "      <td>0.000860</td>\n",
       "      <td>-0.387744</td>\n",
       "      <td>-0.425543</td>\n",
       "    </tr>\n",
       "    <tr>\n",
       "      <th>3</th>\n",
       "      <td>-0.700449</td>\n",
       "      <td>0.201732</td>\n",
       "      <td>0.956099</td>\n",
       "      <td>-0.428470</td>\n",
       "      <td>-0.390944</td>\n",
       "      <td>0.746832</td>\n",
       "      <td>-0.863493</td>\n",
       "      <td>-0.530517</td>\n",
       "      <td>-0.051319</td>\n",
       "      <td>-0.425543</td>\n",
       "    </tr>\n",
       "    <tr>\n",
       "      <th>4</th>\n",
       "      <td>0.539226</td>\n",
       "      <td>-0.256184</td>\n",
       "      <td>0.956099</td>\n",
       "      <td>3.811879</td>\n",
       "      <td>-0.390944</td>\n",
       "      <td>-0.637010</td>\n",
       "      <td>-0.306950</td>\n",
       "      <td>-0.528497</td>\n",
       "      <td>-0.087765</td>\n",
       "      <td>-0.425543</td>\n",
       "    </tr>\n",
       "    <tr>\n",
       "      <th>...</th>\n",
       "      <td>...</td>\n",
       "      <td>...</td>\n",
       "      <td>...</td>\n",
       "      <td>...</td>\n",
       "      <td>...</td>\n",
       "      <td>...</td>\n",
       "      <td>...</td>\n",
       "      <td>...</td>\n",
       "      <td>...</td>\n",
       "      <td>...</td>\n",
       "    </tr>\n",
       "    <tr>\n",
       "      <th>6497</th>\n",
       "      <td>-3.675668</td>\n",
       "      <td>0.591349</td>\n",
       "      <td>0.956099</td>\n",
       "      <td>-0.428470</td>\n",
       "      <td>-0.390944</td>\n",
       "      <td>2.130675</td>\n",
       "      <td>-0.838195</td>\n",
       "      <td>-1.342737</td>\n",
       "      <td>-1.537196</td>\n",
       "      <td>-1.481201</td>\n",
       "    </tr>\n",
       "    <tr>\n",
       "      <th>6498</th>\n",
       "      <td>0.539226</td>\n",
       "      <td>1.604351</td>\n",
       "      <td>-0.869079</td>\n",
       "      <td>-0.428470</td>\n",
       "      <td>-0.390944</td>\n",
       "      <td>-0.637010</td>\n",
       "      <td>0.449442</td>\n",
       "      <td>-0.130469</td>\n",
       "      <td>-0.086924</td>\n",
       "      <td>-0.425543</td>\n",
       "    </tr>\n",
       "    <tr>\n",
       "      <th>6499</th>\n",
       "      <td>-0.204579</td>\n",
       "      <td>0.006924</td>\n",
       "      <td>0.956099</td>\n",
       "      <td>-0.428470</td>\n",
       "      <td>-0.390944</td>\n",
       "      <td>-0.637010</td>\n",
       "      <td>0.426674</td>\n",
       "      <td>-1.306369</td>\n",
       "      <td>-1.026951</td>\n",
       "      <td>-0.425543</td>\n",
       "    </tr>\n",
       "    <tr>\n",
       "      <th>6500</th>\n",
       "      <td>-0.948384</td>\n",
       "      <td>0.786157</td>\n",
       "      <td>-0.869079</td>\n",
       "      <td>-0.428470</td>\n",
       "      <td>-0.390944</td>\n",
       "      <td>0.746832</td>\n",
       "      <td>0.426674</td>\n",
       "      <td>-0.429495</td>\n",
       "      <td>-0.502689</td>\n",
       "      <td>-0.425543</td>\n",
       "    </tr>\n",
       "    <tr>\n",
       "      <th>6501</th>\n",
       "      <td>0.539226</td>\n",
       "      <td>-0.075772</td>\n",
       "      <td>0.956099</td>\n",
       "      <td>-0.428470</td>\n",
       "      <td>-0.390944</td>\n",
       "      <td>-0.637010</td>\n",
       "      <td>0.502566</td>\n",
       "      <td>-0.532538</td>\n",
       "      <td>-0.244763</td>\n",
       "      <td>-0.425543</td>\n",
       "    </tr>\n",
       "  </tbody>\n",
       "</table>\n",
       "<p>6502 rows × 10 columns</p>\n",
       "</div>"
      ],
      "text/plain": [
       "          year  km_driven      fuel  seller_type  transmission     owner  \\\n",
       "0     0.043356   0.591349 -0.869079    -0.428470     -0.390944  0.746832   \n",
       "1     0.539226   0.980965 -0.869079    -0.428470     -0.390944  0.746832   \n",
       "2    -0.452514   0.591349 -0.869079    -0.428470     -0.390944  0.746832   \n",
       "3    -0.700449   0.201732  0.956099    -0.428470     -0.390944  0.746832   \n",
       "4     0.539226  -0.256184  0.956099     3.811879     -0.390944 -0.637010   \n",
       "...        ...        ...       ...          ...           ...       ...   \n",
       "6497 -3.675668   0.591349  0.956099    -0.428470     -0.390944  2.130675   \n",
       "6498  0.539226   1.604351 -0.869079    -0.428470     -0.390944 -0.637010   \n",
       "6499 -0.204579   0.006924  0.956099    -0.428470     -0.390944 -0.637010   \n",
       "6500 -0.948384   0.786157 -0.869079    -0.428470     -0.390944  0.746832   \n",
       "6501  0.539226  -0.075772  0.956099    -0.428470     -0.390944 -0.637010   \n",
       "\n",
       "       mileage    engine  max_power     seats  \n",
       "0     1.615652  0.075617   0.189785 -0.425543  \n",
       "1     1.815501 -0.429495  -0.499886 -0.425543  \n",
       "2     0.603756  0.000860  -0.387744 -0.425543  \n",
       "3    -0.863493 -0.530517  -0.051319 -0.425543  \n",
       "4    -0.306950 -0.528497  -0.087765 -0.425543  \n",
       "...        ...       ...        ...       ...  \n",
       "6497 -0.838195 -1.342737  -1.537196 -1.481201  \n",
       "6498  0.449442 -0.130469  -0.086924 -0.425543  \n",
       "6499  0.426674 -1.306369  -1.026951 -0.425543  \n",
       "6500  0.426674 -0.429495  -0.502689 -0.425543  \n",
       "6501  0.502566 -0.532538  -0.244763 -0.425543  \n",
       "\n",
       "[6502 rows x 10 columns]"
      ]
     },
     "execution_count": 45,
     "metadata": {},
     "output_type": "execute_result"
    }
   ],
   "source": [
    "#Scaling the data for Linear Regression\n",
    "    \n",
    "scaler = StandardScaler()\n",
    "\n",
    "scaled_X_train = pd.DataFrame(scaler.fit_transform(X_train), columns = X_train.columns)\n",
    "scaled_X_test = pd.DataFrame(scaler.fit_transform(X_test), columns = X_test.columns)\n",
    "\n",
    "# Running linear regression\n",
    "\n",
    "LR = LinearRegression()\n",
    "LR.fit(scaled_X_train, y_train)\n",
    "y_pred_LR = LR.predict(scaled_X_test)\n",
    "\n",
    "X_train\n",
    "scaled_X_train\n"
   ]
  },
  {
   "cell_type": "markdown",
   "id": "89427cb5",
   "metadata": {
    "papermill": {
     "duration": 0.100114,
     "end_time": "2021-12-25T04:06:56.407417",
     "exception": false,
     "start_time": "2021-12-25T04:06:56.307303",
     "status": "completed"
    },
    "tags": []
   },
   "source": [
    "Assessing the model"
   ]
  },
  {
   "cell_type": "code",
   "execution_count": 46,
   "id": "9641d378",
   "metadata": {
    "execution": {
     "iopub.execute_input": "2021-12-25T04:06:56.610718Z",
     "iopub.status.busy": "2021-12-25T04:06:56.609978Z",
     "iopub.status.idle": "2021-12-25T04:06:57.156646Z",
     "shell.execute_reply": "2021-12-25T04:06:57.156015Z",
     "shell.execute_reply.started": "2021-12-25T03:58:55.961312Z"
    },
    "papermill": {
     "duration": 0.650059,
     "end_time": "2021-12-25T04:06:57.156828",
     "exception": false,
     "start_time": "2021-12-25T04:06:56.506769",
     "status": "completed"
    },
    "tags": []
   },
   "outputs": [],
   "source": [
    "xgbr = XGBRegressor(verbosity=0)\n",
    "xgbr.fit(X_train, y_train)\n",
    "# print(xgbr.score(scaled_X_train, y_train))\n",
    "\n",
    "y_pred_X = xgbr.predict(X_test)"
   ]
  },
  {
   "cell_type": "markdown",
   "id": "a6206707",
   "metadata": {
    "papermill": {
     "duration": 0.097365,
     "end_time": "2021-12-25T04:06:57.356345",
     "exception": false,
     "start_time": "2021-12-25T04:06:57.258980",
     "status": "completed"
    },
    "tags": []
   },
   "source": [
    "### Assessing model performance"
   ]
  },
  {
   "cell_type": "code",
   "execution_count": 47,
   "id": "f005a459",
   "metadata": {
    "execution": {
     "iopub.execute_input": "2021-12-25T04:06:57.554722Z",
     "iopub.status.busy": "2021-12-25T04:06:57.554008Z",
     "iopub.status.idle": "2021-12-25T04:06:57.557287Z",
     "shell.execute_reply": "2021-12-25T04:06:57.556696Z",
     "shell.execute_reply.started": "2021-12-25T03:58:56.562326Z"
    },
    "papermill": {
     "duration": 0.10446,
     "end_time": "2021-12-25T04:06:57.557429",
     "exception": false,
     "start_time": "2021-12-25T04:06:57.452969",
     "status": "completed"
    },
    "tags": []
   },
   "outputs": [],
   "source": [
    "from sklearn.metrics import r2_score as r2, mean_absolute_error as mae, mean_squared_error as mse\n",
    "import math"
   ]
  },
  {
   "cell_type": "code",
   "execution_count": 48,
   "id": "8819c9a9",
   "metadata": {
    "execution": {
     "iopub.execute_input": "2021-12-25T04:06:57.759235Z",
     "iopub.status.busy": "2021-12-25T04:06:57.755704Z",
     "iopub.status.idle": "2021-12-25T04:06:57.762146Z",
     "shell.execute_reply": "2021-12-25T04:06:57.761565Z",
     "shell.execute_reply.started": "2021-12-25T03:58:56.572418Z"
    },
    "papermill": {
     "duration": 0.106357,
     "end_time": "2021-12-25T04:06:57.762288",
     "exception": false,
     "start_time": "2021-12-25T04:06:57.655931",
     "status": "completed"
    },
    "tags": []
   },
   "outputs": [],
   "source": [
    "def get_metrics(preds, actual, model_type):\n",
    "    r2s = r2(preds, actual)\n",
    "    maes = mae(preds, actual)\n",
    "    mses = mse(preds, actual)\n",
    "    rmses = math.sqrt(mses)\n",
    "#     return rmse, mse, mae, r2\n",
    "    df = pd.DataFrame([r2s, maes, mses, rmses, model_type]).transpose()\n",
    "    df.columns = ['r2 coeff.', 'MAE', 'MSE', 'RMSE', 'Type of model']\n",
    "    return df"
   ]
  },
  {
   "cell_type": "code",
   "execution_count": 49,
   "id": "31861065",
   "metadata": {
    "execution": {
     "iopub.execute_input": "2021-12-25T04:06:57.972039Z",
     "iopub.status.busy": "2021-12-25T04:06:57.962528Z",
     "iopub.status.idle": "2021-12-25T04:06:57.980067Z",
     "shell.execute_reply": "2021-12-25T04:06:57.979395Z",
     "shell.execute_reply.started": "2021-12-25T03:58:56.580892Z"
    },
    "papermill": {
     "duration": 0.121687,
     "end_time": "2021-12-25T04:06:57.980206",
     "exception": false,
     "start_time": "2021-12-25T04:06:57.858519",
     "status": "completed"
    },
    "tags": []
   },
   "outputs": [
    {
     "data": {
      "text/html": [
       "<div>\n",
       "<style scoped>\n",
       "    .dataframe tbody tr th:only-of-type {\n",
       "        vertical-align: middle;\n",
       "    }\n",
       "\n",
       "    .dataframe tbody tr th {\n",
       "        vertical-align: top;\n",
       "    }\n",
       "\n",
       "    .dataframe thead th {\n",
       "        text-align: right;\n",
       "    }\n",
       "</style>\n",
       "<table border=\"1\" class=\"dataframe\">\n",
       "  <thead>\n",
       "    <tr style=\"text-align: right;\">\n",
       "      <th></th>\n",
       "      <th>r2 coeff.</th>\n",
       "      <th>MAE</th>\n",
       "      <th>MSE</th>\n",
       "      <th>RMSE</th>\n",
       "      <th>Type of model</th>\n",
       "    </tr>\n",
       "  </thead>\n",
       "  <tbody>\n",
       "    <tr>\n",
       "      <th>0</th>\n",
       "      <td>0.582183</td>\n",
       "      <td>270351.821424</td>\n",
       "      <td>183487547550.807343</td>\n",
       "      <td>428354.464843</td>\n",
       "      <td>Linear Regression</td>\n",
       "    </tr>\n",
       "    <tr>\n",
       "      <th>0</th>\n",
       "      <td>0.970595</td>\n",
       "      <td>66802.167023</td>\n",
       "      <td>13703221977.427296</td>\n",
       "      <td>117060.761903</td>\n",
       "      <td>XGBR</td>\n",
       "    </tr>\n",
       "  </tbody>\n",
       "</table>\n",
       "</div>"
      ],
      "text/plain": [
       "  r2 coeff.            MAE                  MSE           RMSE  \\\n",
       "0  0.582183  270351.821424  183487547550.807343  428354.464843   \n",
       "0  0.970595   66802.167023   13703221977.427296  117060.761903   \n",
       "\n",
       "       Type of model  \n",
       "0  Linear Regression  \n",
       "0               XGBR  "
      ]
     },
     "execution_count": 49,
     "metadata": {},
     "output_type": "execute_result"
    }
   ],
   "source": [
    "df_metrics = get_metrics(y_pred_LR, y_test, 'Linear Regression')\n",
    "df_metrics_X = get_metrics(y_pred_X, y_test, 'XGBR')\n",
    "\n",
    "df_metrics = pd.concat([df_metrics, df_metrics_X], axis=0)\n",
    "df_metrics"
   ]
  },
  {
   "cell_type": "markdown",
   "id": "48240e3f",
   "metadata": {
    "papermill": {
     "duration": 0.098483,
     "end_time": "2021-12-25T04:06:58.177679",
     "exception": false,
     "start_time": "2021-12-25T04:06:58.079196",
     "status": "completed"
    },
    "tags": []
   },
   "source": [
    "# Back to the drawing-board\n",
    "### Let's perform some feature engineering and attempt to fix-up our model"
   ]
  },
  {
   "cell_type": "code",
   "execution_count": 50,
   "id": "406bcbbb",
   "metadata": {
    "execution": {
     "iopub.execute_input": "2021-12-25T04:06:58.378187Z",
     "iopub.status.busy": "2021-12-25T04:06:58.377432Z",
     "iopub.status.idle": "2021-12-25T04:06:58.379863Z",
     "shell.execute_reply": "2021-12-25T04:06:58.380328Z",
     "shell.execute_reply.started": "2021-12-25T03:58:56.605564Z"
    },
    "papermill": {
     "duration": 0.104572,
     "end_time": "2021-12-25T04:06:58.380509",
     "exception": false,
     "start_time": "2021-12-25T04:06:58.275937",
     "status": "completed"
    },
    "tags": []
   },
   "outputs": [],
   "source": [
    "from matplotlib import rcParams"
   ]
  },
  {
   "cell_type": "code",
   "execution_count": 51,
   "id": "7d773057",
   "metadata": {
    "execution": {
     "iopub.execute_input": "2021-12-25T04:06:58.580206Z",
     "iopub.status.busy": "2021-12-25T04:06:58.579530Z",
     "iopub.status.idle": "2021-12-25T04:06:58.582200Z",
     "shell.execute_reply": "2021-12-25T04:06:58.581415Z",
     "shell.execute_reply.started": "2021-12-25T03:58:56.610542Z"
    },
    "papermill": {
     "duration": 0.103586,
     "end_time": "2021-12-25T04:06:58.582347",
     "exception": false,
     "start_time": "2021-12-25T04:06:58.478761",
     "status": "completed"
    },
    "tags": []
   },
   "outputs": [],
   "source": [
    "# sns.pairplot(data=df)"
   ]
  },
  {
   "cell_type": "code",
   "execution_count": 52,
   "id": "c2a9414c",
   "metadata": {
    "execution": {
     "iopub.execute_input": "2021-12-25T04:06:58.789472Z",
     "iopub.status.busy": "2021-12-25T04:06:58.788694Z",
     "iopub.status.idle": "2021-12-25T04:07:00.679673Z",
     "shell.execute_reply": "2021-12-25T04:07:00.679130Z",
     "shell.execute_reply.started": "2021-12-25T03:58:56.624345Z"
    },
    "papermill": {
     "duration": 1.997837,
     "end_time": "2021-12-25T04:07:00.679824",
     "exception": false,
     "start_time": "2021-12-25T04:06:58.681987",
     "status": "completed"
    },
    "tags": []
   },
   "outputs": [
    {
     "data": {
      "image/png": "[encoded data removed]",
      "text/plain": [
       "<Figure size 1080x576 with 1 Axes>"
      ]
     },
     "metadata": {
      "needs_background": "light"
     },
     "output_type": "display_data"
    }
   ],
   "source": [
    "rcParams['figure.figsize'] = 15,8\n",
    "sns.histplot(x='selling_price', hue='owner', data=df, log_scale=True);"
   ]
  },
  {
   "cell_type": "markdown",
   "id": "ef248a06",
   "metadata": {
    "papermill": {
     "duration": 0.100179,
     "end_time": "2021-12-25T04:07:00.879027",
     "exception": false,
     "start_time": "2021-12-25T04:07:00.778848",
     "status": "completed"
    },
    "tags": []
   },
   "source": [
    "We can see that it's pretty heavily skewed, so if you're a first owner that's a lot better than the second third fourth and test drive cars"
   ]
  },
  {
   "cell_type": "code",
   "execution_count": 53,
   "id": "ba595ad8",
   "metadata": {
    "execution": {
     "iopub.execute_input": "2021-12-25T04:07:01.088636Z",
     "iopub.status.busy": "2021-12-25T04:07:01.087911Z",
     "iopub.status.idle": "2021-12-25T04:07:01.091705Z",
     "shell.execute_reply": "2021-12-25T04:07:01.092305Z",
     "shell.execute_reply.started": "2021-12-25T03:58:58.167458Z"
    },
    "papermill": {
     "duration": 0.112854,
     "end_time": "2021-12-25T04:07:01.092480",
     "exception": false,
     "start_time": "2021-12-25T04:07:00.979626",
     "status": "completed"
    },
    "tags": []
   },
   "outputs": [
    {
     "data": {
      "text/plain": [
       "First Owner             0.650714\n",
       "Second Owner            0.258981\n",
       "Third Owner             0.068282\n",
       "Fourth & Above Owner    0.021407\n",
       "Test Drive Car          0.000615\n",
       "Name: owner, dtype: float64"
      ]
     },
     "execution_count": 53,
     "metadata": {},
     "output_type": "execute_result"
    }
   ],
   "source": [
    "df.owner.value_counts()/ len(df.owner)"
   ]
  },
  {
   "cell_type": "markdown",
   "id": "ce8367d3",
   "metadata": {
    "papermill": {
     "duration": 0.099097,
     "end_time": "2021-12-25T04:07:01.290201",
     "exception": false,
     "start_time": "2021-12-25T04:07:01.191104",
     "status": "completed"
    },
    "tags": []
   },
   "source": [
    "For this, let's combine the classes of '2nd', '3rd', 'fourth and above', and 'test drive car into one variable'"
   ]
  },
  {
   "cell_type": "code",
   "execution_count": 54,
   "id": "3c2f7453",
   "metadata": {
    "execution": {
     "iopub.execute_input": "2021-12-25T04:07:01.493949Z",
     "iopub.status.busy": "2021-12-25T04:07:01.493285Z",
     "iopub.status.idle": "2021-12-25T04:07:01.505625Z",
     "shell.execute_reply": "2021-12-25T04:07:01.506180Z",
     "shell.execute_reply.started": "2021-12-25T03:58:58.178846Z"
    },
    "papermill": {
     "duration": 0.118136,
     "end_time": "2021-12-25T04:07:01.506365",
     "exception": false,
     "start_time": "2021-12-25T04:07:01.388229",
     "status": "completed"
    },
    "tags": []
   },
   "outputs": [
    {
     "data": {
      "text/plain": [
       "0    5289\n",
       "1    2839\n",
       "Name: owner, dtype: int64"
      ]
     },
     "execution_count": 54,
     "metadata": {},
     "output_type": "execute_result"
    }
   ],
   "source": [
    "#Wrapper\n",
    "wr = {'First Owner': 0, 'Second Owner': 1, 'Third Owner': 1, 'Fourth & Above Owner': 1, 'Test Drive Car': 1}\n",
    "df.owner = df.owner.replace(wr)\n",
    "df.owner.value_counts()"
   ]
  },
  {
   "cell_type": "code",
   "execution_count": 55,
   "id": "62b2a728",
   "metadata": {
    "execution": {
     "iopub.execute_input": "2021-12-25T04:07:01.712199Z",
     "iopub.status.busy": "2021-12-25T04:07:01.711475Z",
     "iopub.status.idle": "2021-12-25T04:07:02.623398Z",
     "shell.execute_reply": "2021-12-25T04:07:02.623895Z",
     "shell.execute_reply.started": "2021-12-25T03:58:58.202417Z"
    },
    "papermill": {
     "duration": 1.014592,
     "end_time": "2021-12-25T04:07:02.624086",
     "exception": false,
     "start_time": "2021-12-25T04:07:01.609494",
     "status": "completed"
    },
    "tags": []
   },
   "outputs": [
    {
     "data": {
      "image/png": "[encoded data removed]",
      "text/plain": [
       "<Figure size 1080x576 with 1 Axes>"
      ]
     },
     "metadata": {
      "needs_background": "light"
     },
     "output_type": "display_data"
    }
   ],
   "source": [
    "sns.histplot(x='selling_price', hue='owner', data=df, log_scale=True);"
   ]
  },
  {
   "cell_type": "code",
   "execution_count": 56,
   "id": "4400747c",
   "metadata": {
    "execution": {
     "iopub.execute_input": "2021-12-25T04:07:02.831191Z",
     "iopub.status.busy": "2021-12-25T04:07:02.828608Z",
     "iopub.status.idle": "2021-12-25T04:07:02.834263Z",
     "shell.execute_reply": "2021-12-25T04:07:02.834805Z",
     "shell.execute_reply.started": "2021-12-25T03:58:59.155242Z"
    },
    "papermill": {
     "duration": 0.109012,
     "end_time": "2021-12-25T04:07:02.834988",
     "exception": false,
     "start_time": "2021-12-25T04:07:02.725976",
     "status": "completed"
    },
    "tags": []
   },
   "outputs": [
    {
     "data": {
      "text/plain": [
       "dtype('O')"
      ]
     },
     "execution_count": 56,
     "metadata": {},
     "output_type": "execute_result"
    }
   ],
   "source": [
    "df.fuel.dtype"
   ]
  },
  {
   "cell_type": "code",
   "execution_count": 57,
   "id": "8770f294",
   "metadata": {
    "execution": {
     "iopub.execute_input": "2021-12-25T04:07:03.042317Z",
     "iopub.status.busy": "2021-12-25T04:07:03.041263Z",
     "iopub.status.idle": "2021-12-25T04:07:04.460686Z",
     "shell.execute_reply": "2021-12-25T04:07:04.460049Z",
     "shell.execute_reply.started": "2021-12-25T03:58:59.163346Z"
    },
    "papermill": {
     "duration": 1.523206,
     "end_time": "2021-12-25T04:07:04.460825",
     "exception": false,
     "start_time": "2021-12-25T04:07:02.937619",
     "status": "completed"
    },
    "tags": []
   },
   "outputs": [
    {
     "data": {
      "image/png": "[encoded data removed]",
      "text/plain": [
       "<Figure size 1080x576 with 1 Axes>"
      ]
     },
     "metadata": {
      "needs_background": "light"
     },
     "output_type": "display_data"
    },
    {
     "data": {
      "image/png": "[encoded data removed]",
      "text/plain": [
       "<Figure size 1080x576 with 1 Axes>"
      ]
     },
     "metadata": {
      "needs_background": "light"
     },
     "output_type": "display_data"
    },
    {
     "data": {
      "image/png": "[encoded data removed]",
      "text/plain": [
       "<Figure size 1080x576 with 1 Axes>"
      ]
     },
     "metadata": {
      "needs_background": "light"
     },
     "output_type": "display_data"
    },
    {
     "data": {
      "image/png": "[encoded data removed]",
      "text/plain": [
       "<Figure size 1080x576 with 1 Axes>"
      ]
     },
     "metadata": {
      "needs_background": "light"
     },
     "output_type": "display_data"
    },
    {
     "data": {
      "image/png": "[encoded data removed]",
      "text/plain": [
       "<Figure size 1080x576 with 1 Axes>"
      ]
     },
     "metadata": {
      "needs_background": "light"
     },
     "output_type": "display_data"
    },
    {
     "data": {
      "image/png": "[encoded data removed]",
      "text/plain": [
       "<Figure size 1080x576 with 1 Axes>"
      ]
     },
     "metadata": {
      "needs_background": "light"
     },
     "output_type": "display_data"
    },
    {
     "data": {
      "image/png": "[encoded data removed]",
      "text/plain": [
       "<Figure size 1080x576 with 1 Axes>"
      ]
     },
     "metadata": {
      "needs_background": "light"
     },
     "output_type": "display_data"
    }
   ],
   "source": [
    "numerical_cols = ['selling_price', 'km_driven', 'year', 'engine', 'mileage', 'max_power', 'seats']\n",
    "for col in numerical_cols:\n",
    "    df.boxplot(col)\n",
    "    plt.show()"
   ]
  },
  {
   "cell_type": "markdown",
   "id": "fe51b416",
   "metadata": {
    "papermill": {
     "duration": 0.104903,
     "end_time": "2021-12-25T04:07:04.670721",
     "exception": false,
     "start_time": "2021-12-25T04:07:04.565818",
     "status": "completed"
    },
    "tags": []
   },
   "source": [
    "Seem to be some outliers, especially that one on the top. Let's get rid of that value using z-scores"
   ]
  },
  {
   "cell_type": "code",
   "execution_count": 58,
   "id": "f48037d9",
   "metadata": {
    "execution": {
     "iopub.execute_input": "2021-12-25T04:07:04.887725Z",
     "iopub.status.busy": "2021-12-25T04:07:04.887048Z",
     "iopub.status.idle": "2021-12-25T04:07:04.888678Z",
     "shell.execute_reply": "2021-12-25T04:07:04.889110Z",
     "shell.execute_reply.started": "2021-12-25T03:59:00.586231Z"
    },
    "papermill": {
     "duration": 0.111692,
     "end_time": "2021-12-25T04:07:04.889276",
     "exception": false,
     "start_time": "2021-12-25T04:07:04.777584",
     "status": "completed"
    },
    "tags": []
   },
   "outputs": [],
   "source": [
    "from scipy.stats import zscore"
   ]
  },
  {
   "cell_type": "code",
   "execution_count": 59,
   "id": "63a8b93e",
   "metadata": {
    "execution": {
     "iopub.execute_input": "2021-12-25T04:07:05.109249Z",
     "iopub.status.busy": "2021-12-25T04:07:05.108454Z",
     "iopub.status.idle": "2021-12-25T04:07:05.149107Z",
     "shell.execute_reply": "2021-12-25T04:07:05.149625Z",
     "shell.execute_reply.started": "2021-12-25T03:59:00.592768Z"
    },
    "papermill": {
     "duration": 0.153581,
     "end_time": "2021-12-25T04:07:05.149807",
     "exception": false,
     "start_time": "2021-12-25T04:07:04.996226",
     "status": "completed"
    },
    "tags": []
   },
   "outputs": [
    {
     "data": {
      "text/html": [
       "<div>\n",
       "<style scoped>\n",
       "    .dataframe tbody tr th:only-of-type {\n",
       "        vertical-align: middle;\n",
       "    }\n",
       "\n",
       "    .dataframe tbody tr th {\n",
       "        vertical-align: top;\n",
       "    }\n",
       "\n",
       "    .dataframe thead th {\n",
       "        text-align: right;\n",
       "    }\n",
       "</style>\n",
       "<table border=\"1\" class=\"dataframe\">\n",
       "  <thead>\n",
       "    <tr style=\"text-align: right;\">\n",
       "      <th></th>\n",
       "      <th>year</th>\n",
       "      <th>selling_price</th>\n",
       "      <th>km_driven</th>\n",
       "      <th>fuel</th>\n",
       "      <th>seller_type</th>\n",
       "      <th>transmission</th>\n",
       "      <th>owner</th>\n",
       "      <th>mileage</th>\n",
       "      <th>engine</th>\n",
       "      <th>max_power</th>\n",
       "      <th>torque</th>\n",
       "      <th>seats</th>\n",
       "      <th>zscore_selling_price</th>\n",
       "      <th>zscore_km_driven</th>\n",
       "      <th>zscore_year</th>\n",
       "      <th>zscore_engine</th>\n",
       "      <th>zscore_mileage</th>\n",
       "      <th>zscore_max_power</th>\n",
       "      <th>zscore_seats</th>\n",
       "    </tr>\n",
       "  </thead>\n",
       "  <tbody>\n",
       "    <tr>\n",
       "      <th>0</th>\n",
       "      <td>2014</td>\n",
       "      <td>450000</td>\n",
       "      <td>145500</td>\n",
       "      <td>Diesel</td>\n",
       "      <td>Individual</td>\n",
       "      <td>Manual</td>\n",
       "      <td>0</td>\n",
       "      <td>23.40</td>\n",
       "      <td>1248</td>\n",
       "      <td>74.00</td>\n",
       "      <td>190Nm@ 2000rpm</td>\n",
       "      <td>5.0</td>\n",
       "      <td>-0.233529</td>\n",
       "      <td>1.338363</td>\n",
       "      <td>0.048464</td>\n",
       "      <td>-0.423824</td>\n",
       "      <td>0.999888</td>\n",
       "      <td>NaN</td>\n",
       "      <td>NaN</td>\n",
       "    </tr>\n",
       "    <tr>\n",
       "      <th>1</th>\n",
       "      <td>2014</td>\n",
       "      <td>370000</td>\n",
       "      <td>120000</td>\n",
       "      <td>Diesel</td>\n",
       "      <td>Individual</td>\n",
       "      <td>Manual</td>\n",
       "      <td>1</td>\n",
       "      <td>21.14</td>\n",
       "      <td>1498</td>\n",
       "      <td>103.52</td>\n",
       "      <td>250Nm@ 1500-2500rpm</td>\n",
       "      <td>5.0</td>\n",
       "      <td>-0.332759</td>\n",
       "      <td>0.887411</td>\n",
       "      <td>0.048464</td>\n",
       "      <td>0.079207</td>\n",
       "      <td>0.432281</td>\n",
       "      <td>NaN</td>\n",
       "      <td>NaN</td>\n",
       "    </tr>\n",
       "    <tr>\n",
       "      <th>2</th>\n",
       "      <td>2006</td>\n",
       "      <td>158000</td>\n",
       "      <td>140000</td>\n",
       "      <td>Petrol</td>\n",
       "      <td>Individual</td>\n",
       "      <td>Manual</td>\n",
       "      <td>1</td>\n",
       "      <td>17.70</td>\n",
       "      <td>1497</td>\n",
       "      <td>78.00</td>\n",
       "      <td>12.7@ 2,700(kgm@ rpm)</td>\n",
       "      <td>5.0</td>\n",
       "      <td>-0.595720</td>\n",
       "      <td>1.241098</td>\n",
       "      <td>-1.929775</td>\n",
       "      <td>0.077195</td>\n",
       "      <td>-0.431687</td>\n",
       "      <td>NaN</td>\n",
       "      <td>NaN</td>\n",
       "    </tr>\n",
       "    <tr>\n",
       "      <th>3</th>\n",
       "      <td>2010</td>\n",
       "      <td>225000</td>\n",
       "      <td>127000</td>\n",
       "      <td>Diesel</td>\n",
       "      <td>Individual</td>\n",
       "      <td>Manual</td>\n",
       "      <td>0</td>\n",
       "      <td>23.00</td>\n",
       "      <td>1396</td>\n",
       "      <td>90.00</td>\n",
       "      <td>22.4 kgm at 1750-2750rpm</td>\n",
       "      <td>5.0</td>\n",
       "      <td>-0.512615</td>\n",
       "      <td>1.011202</td>\n",
       "      <td>-0.940656</td>\n",
       "      <td>-0.126030</td>\n",
       "      <td>0.899426</td>\n",
       "      <td>NaN</td>\n",
       "      <td>NaN</td>\n",
       "    </tr>\n",
       "    <tr>\n",
       "      <th>4</th>\n",
       "      <td>2007</td>\n",
       "      <td>130000</td>\n",
       "      <td>120000</td>\n",
       "      <td>Petrol</td>\n",
       "      <td>Individual</td>\n",
       "      <td>Manual</td>\n",
       "      <td>0</td>\n",
       "      <td>16.10</td>\n",
       "      <td>1298</td>\n",
       "      <td>88.20</td>\n",
       "      <td>11.5@ 4,500(kgm@ rpm)</td>\n",
       "      <td>5.0</td>\n",
       "      <td>-0.630451</td>\n",
       "      <td>0.887411</td>\n",
       "      <td>-1.682495</td>\n",
       "      <td>-0.323218</td>\n",
       "      <td>-0.833532</td>\n",
       "      <td>NaN</td>\n",
       "      <td>NaN</td>\n",
       "    </tr>\n",
       "    <tr>\n",
       "      <th>...</th>\n",
       "      <td>...</td>\n",
       "      <td>...</td>\n",
       "      <td>...</td>\n",
       "      <td>...</td>\n",
       "      <td>...</td>\n",
       "      <td>...</td>\n",
       "      <td>...</td>\n",
       "      <td>...</td>\n",
       "      <td>...</td>\n",
       "      <td>...</td>\n",
       "      <td>...</td>\n",
       "      <td>...</td>\n",
       "      <td>...</td>\n",
       "      <td>...</td>\n",
       "      <td>...</td>\n",
       "      <td>...</td>\n",
       "      <td>...</td>\n",
       "      <td>...</td>\n",
       "      <td>...</td>\n",
       "    </tr>\n",
       "    <tr>\n",
       "      <th>8123</th>\n",
       "      <td>2013</td>\n",
       "      <td>320000</td>\n",
       "      <td>110000</td>\n",
       "      <td>Petrol</td>\n",
       "      <td>Individual</td>\n",
       "      <td>Manual</td>\n",
       "      <td>0</td>\n",
       "      <td>18.50</td>\n",
       "      <td>1197</td>\n",
       "      <td>82.85</td>\n",
       "      <td>113.7Nm@ 4000rpm</td>\n",
       "      <td>5.0</td>\n",
       "      <td>-0.394778</td>\n",
       "      <td>0.710567</td>\n",
       "      <td>-0.198816</td>\n",
       "      <td>-0.526443</td>\n",
       "      <td>-0.230764</td>\n",
       "      <td>NaN</td>\n",
       "      <td>NaN</td>\n",
       "    </tr>\n",
       "    <tr>\n",
       "      <th>8124</th>\n",
       "      <td>2007</td>\n",
       "      <td>135000</td>\n",
       "      <td>119000</td>\n",
       "      <td>Diesel</td>\n",
       "      <td>Individual</td>\n",
       "      <td>Manual</td>\n",
       "      <td>1</td>\n",
       "      <td>16.80</td>\n",
       "      <td>1493</td>\n",
       "      <td>110.00</td>\n",
       "      <td>24@ 1,900-2,750(kgm@ rpm)</td>\n",
       "      <td>5.0</td>\n",
       "      <td>-0.624249</td>\n",
       "      <td>0.869726</td>\n",
       "      <td>-1.682495</td>\n",
       "      <td>0.069146</td>\n",
       "      <td>-0.657725</td>\n",
       "      <td>NaN</td>\n",
       "      <td>NaN</td>\n",
       "    </tr>\n",
       "    <tr>\n",
       "      <th>8125</th>\n",
       "      <td>2009</td>\n",
       "      <td>382000</td>\n",
       "      <td>120000</td>\n",
       "      <td>Diesel</td>\n",
       "      <td>Individual</td>\n",
       "      <td>Manual</td>\n",
       "      <td>0</td>\n",
       "      <td>19.30</td>\n",
       "      <td>1248</td>\n",
       "      <td>73.90</td>\n",
       "      <td>190Nm@ 2000rpm</td>\n",
       "      <td>5.0</td>\n",
       "      <td>-0.317875</td>\n",
       "      <td>0.887411</td>\n",
       "      <td>-1.187935</td>\n",
       "      <td>-0.423824</td>\n",
       "      <td>-0.029841</td>\n",
       "      <td>NaN</td>\n",
       "      <td>NaN</td>\n",
       "    </tr>\n",
       "    <tr>\n",
       "      <th>8126</th>\n",
       "      <td>2013</td>\n",
       "      <td>290000</td>\n",
       "      <td>25000</td>\n",
       "      <td>Diesel</td>\n",
       "      <td>Individual</td>\n",
       "      <td>Manual</td>\n",
       "      <td>0</td>\n",
       "      <td>23.57</td>\n",
       "      <td>1396</td>\n",
       "      <td>70.00</td>\n",
       "      <td>140Nm@ 1800-3000rpm</td>\n",
       "      <td>5.0</td>\n",
       "      <td>-0.431990</td>\n",
       "      <td>-0.792605</td>\n",
       "      <td>-0.198816</td>\n",
       "      <td>-0.126030</td>\n",
       "      <td>1.042584</td>\n",
       "      <td>NaN</td>\n",
       "      <td>NaN</td>\n",
       "    </tr>\n",
       "    <tr>\n",
       "      <th>8127</th>\n",
       "      <td>2013</td>\n",
       "      <td>290000</td>\n",
       "      <td>25000</td>\n",
       "      <td>Diesel</td>\n",
       "      <td>Individual</td>\n",
       "      <td>Manual</td>\n",
       "      <td>0</td>\n",
       "      <td>23.57</td>\n",
       "      <td>1396</td>\n",
       "      <td>70.00</td>\n",
       "      <td>140Nm@ 1800-3000rpm</td>\n",
       "      <td>5.0</td>\n",
       "      <td>-0.431990</td>\n",
       "      <td>-0.792605</td>\n",
       "      <td>-0.198816</td>\n",
       "      <td>-0.126030</td>\n",
       "      <td>1.042584</td>\n",
       "      <td>NaN</td>\n",
       "      <td>NaN</td>\n",
       "    </tr>\n",
       "  </tbody>\n",
       "</table>\n",
       "<p>8128 rows × 19 columns</p>\n",
       "</div>"
      ],
      "text/plain": [
       "      year  selling_price  km_driven    fuel seller_type transmission  owner  \\\n",
       "0     2014         450000     145500  Diesel  Individual       Manual      0   \n",
       "1     2014         370000     120000  Diesel  Individual       Manual      1   \n",
       "2     2006         158000     140000  Petrol  Individual       Manual      1   \n",
       "3     2010         225000     127000  Diesel  Individual       Manual      0   \n",
       "4     2007         130000     120000  Petrol  Individual       Manual      0   \n",
       "...    ...            ...        ...     ...         ...          ...    ...   \n",
       "8123  2013         320000     110000  Petrol  Individual       Manual      0   \n",
       "8124  2007         135000     119000  Diesel  Individual       Manual      1   \n",
       "8125  2009         382000     120000  Diesel  Individual       Manual      0   \n",
       "8126  2013         290000      25000  Diesel  Individual       Manual      0   \n",
       "8127  2013         290000      25000  Diesel  Individual       Manual      0   \n",
       "\n",
       "      mileage  engine  max_power                     torque  seats  \\\n",
       "0       23.40    1248      74.00             190Nm@ 2000rpm    5.0   \n",
       "1       21.14    1498     103.52        250Nm@ 1500-2500rpm    5.0   \n",
       "2       17.70    1497      78.00      12.7@ 2,700(kgm@ rpm)    5.0   \n",
       "3       23.00    1396      90.00   22.4 kgm at 1750-2750rpm    5.0   \n",
       "4       16.10    1298      88.20      11.5@ 4,500(kgm@ rpm)    5.0   \n",
       "...       ...     ...        ...                        ...    ...   \n",
       "8123    18.50    1197      82.85           113.7Nm@ 4000rpm    5.0   \n",
       "8124    16.80    1493     110.00  24@ 1,900-2,750(kgm@ rpm)    5.0   \n",
       "8125    19.30    1248      73.90             190Nm@ 2000rpm    5.0   \n",
       "8126    23.57    1396      70.00        140Nm@ 1800-3000rpm    5.0   \n",
       "8127    23.57    1396      70.00        140Nm@ 1800-3000rpm    5.0   \n",
       "\n",
       "      zscore_selling_price  zscore_km_driven  zscore_year  zscore_engine  \\\n",
       "0                -0.233529          1.338363     0.048464      -0.423824   \n",
       "1                -0.332759          0.887411     0.048464       0.079207   \n",
       "2                -0.595720          1.241098    -1.929775       0.077195   \n",
       "3                -0.512615          1.011202    -0.940656      -0.126030   \n",
       "4                -0.630451          0.887411    -1.682495      -0.323218   \n",
       "...                    ...               ...          ...            ...   \n",
       "8123             -0.394778          0.710567    -0.198816      -0.526443   \n",
       "8124             -0.624249          0.869726    -1.682495       0.069146   \n",
       "8125             -0.317875          0.887411    -1.187935      -0.423824   \n",
       "8126             -0.431990         -0.792605    -0.198816      -0.126030   \n",
       "8127             -0.431990         -0.792605    -0.198816      -0.126030   \n",
       "\n",
       "      zscore_mileage  zscore_max_power  zscore_seats  \n",
       "0           0.999888               NaN           NaN  \n",
       "1           0.432281               NaN           NaN  \n",
       "2          -0.431687               NaN           NaN  \n",
       "3           0.899426               NaN           NaN  \n",
       "4          -0.833532               NaN           NaN  \n",
       "...              ...               ...           ...  \n",
       "8123       -0.230764               NaN           NaN  \n",
       "8124       -0.657725               NaN           NaN  \n",
       "8125       -0.029841               NaN           NaN  \n",
       "8126        1.042584               NaN           NaN  \n",
       "8127        1.042584               NaN           NaN  \n",
       "\n",
       "[8128 rows x 19 columns]"
      ]
     },
     "execution_count": 59,
     "metadata": {},
     "output_type": "execute_result"
    }
   ],
   "source": [
    "def gen_zscores(df, col):\n",
    "    df['zscore_'+col] = zscore(df[col])\n",
    "\n",
    "[gen_zscores(df, nc) for nc in numerical_cols]\n",
    "\n",
    "df"
   ]
  },
  {
   "cell_type": "code",
   "execution_count": 60,
   "id": "631280c9",
   "metadata": {
    "execution": {
     "iopub.execute_input": "2021-12-25T04:07:05.367807Z",
     "iopub.status.busy": "2021-12-25T04:07:05.367098Z",
     "iopub.status.idle": "2021-12-25T04:07:05.370293Z",
     "shell.execute_reply": "2021-12-25T04:07:05.370821Z",
     "shell.execute_reply.started": "2021-12-25T03:59:00.644895Z"
    },
    "papermill": {
     "duration": 0.113868,
     "end_time": "2021-12-25T04:07:05.370996",
     "exception": false,
     "start_time": "2021-12-25T04:07:05.257128",
     "status": "completed"
    },
    "tags": []
   },
   "outputs": [],
   "source": [
    "# df = df.drop('zscore_max_power', axis=1)\n",
    "# df = df.drop('zscore_seats', axis=1)"
   ]
  },
  {
   "cell_type": "code",
   "execution_count": 61,
   "id": "fd509b05",
   "metadata": {
    "execution": {
     "iopub.execute_input": "2021-12-25T04:07:05.591586Z",
     "iopub.status.busy": "2021-12-25T04:07:05.590890Z",
     "iopub.status.idle": "2021-12-25T04:07:05.648703Z",
     "shell.execute_reply": "2021-12-25T04:07:05.649171Z",
     "shell.execute_reply.started": "2021-12-25T03:59:00.651408Z"
    },
    "papermill": {
     "duration": 0.171322,
     "end_time": "2021-12-25T04:07:05.649350",
     "exception": false,
     "start_time": "2021-12-25T04:07:05.478028",
     "status": "completed"
    },
    "tags": []
   },
   "outputs": [
    {
     "data": {
      "text/html": [
       "<div>\n",
       "<style scoped>\n",
       "    .dataframe tbody tr th:only-of-type {\n",
       "        vertical-align: middle;\n",
       "    }\n",
       "\n",
       "    .dataframe tbody tr th {\n",
       "        vertical-align: top;\n",
       "    }\n",
       "\n",
       "    .dataframe thead th {\n",
       "        text-align: right;\n",
       "    }\n",
       "</style>\n",
       "<table border=\"1\" class=\"dataframe\">\n",
       "  <thead>\n",
       "    <tr style=\"text-align: right;\">\n",
       "      <th></th>\n",
       "      <th>year</th>\n",
       "      <th>selling_price</th>\n",
       "      <th>km_driven</th>\n",
       "      <th>owner</th>\n",
       "      <th>mileage</th>\n",
       "      <th>engine</th>\n",
       "      <th>max_power</th>\n",
       "      <th>seats</th>\n",
       "      <th>zscore_selling_price</th>\n",
       "      <th>zscore_km_driven</th>\n",
       "      <th>zscore_year</th>\n",
       "      <th>zscore_engine</th>\n",
       "      <th>zscore_mileage</th>\n",
       "      <th>zscore_max_power</th>\n",
       "      <th>zscore_seats</th>\n",
       "    </tr>\n",
       "  </thead>\n",
       "  <tbody>\n",
       "    <tr>\n",
       "      <th>count</th>\n",
       "      <td>8128.000000</td>\n",
       "      <td>8.128000e+03</td>\n",
       "      <td>8.128000e+03</td>\n",
       "      <td>8128.000000</td>\n",
       "      <td>8128.000000</td>\n",
       "      <td>8128.000000</td>\n",
       "      <td>8127.000000</td>\n",
       "      <td>7907.000000</td>\n",
       "      <td>8.128000e+03</td>\n",
       "      <td>8.128000e+03</td>\n",
       "      <td>8.128000e+03</td>\n",
       "      <td>8.128000e+03</td>\n",
       "      <td>8.128000e+03</td>\n",
       "      <td>0.0</td>\n",
       "      <td>0.0</td>\n",
       "    </tr>\n",
       "    <tr>\n",
       "      <th>mean</th>\n",
       "      <td>2013.804011</td>\n",
       "      <td>6.382718e+05</td>\n",
       "      <td>6.981951e+04</td>\n",
       "      <td>0.349286</td>\n",
       "      <td>19.418816</td>\n",
       "      <td>1458.635212</td>\n",
       "      <td>91.504217</td>\n",
       "      <td>5.416719</td>\n",
       "      <td>1.672301e-16</td>\n",
       "      <td>-4.261683e-17</td>\n",
       "      <td>-4.811098e-15</td>\n",
       "      <td>1.363056e-16</td>\n",
       "      <td>-8.269304e-16</td>\n",
       "      <td>NaN</td>\n",
       "      <td>NaN</td>\n",
       "    </tr>\n",
       "    <tr>\n",
       "      <th>std</th>\n",
       "      <td>4.044249</td>\n",
       "      <td>8.062534e+05</td>\n",
       "      <td>5.655055e+04</td>\n",
       "      <td>0.476774</td>\n",
       "      <td>3.981875</td>\n",
       "      <td>497.017508</td>\n",
       "      <td>35.345519</td>\n",
       "      <td>0.959588</td>\n",
       "      <td>1.000062e+00</td>\n",
       "      <td>1.000062e+00</td>\n",
       "      <td>1.000062e+00</td>\n",
       "      <td>1.000062e+00</td>\n",
       "      <td>1.000062e+00</td>\n",
       "      <td>NaN</td>\n",
       "      <td>NaN</td>\n",
       "    </tr>\n",
       "    <tr>\n",
       "      <th>min</th>\n",
       "      <td>1983.000000</td>\n",
       "      <td>2.999900e+04</td>\n",
       "      <td>1.000000e+00</td>\n",
       "      <td>0.000000</td>\n",
       "      <td>0.000000</td>\n",
       "      <td>624.000000</td>\n",
       "      <td>0.000000</td>\n",
       "      <td>2.000000</td>\n",
       "      <td>-7.544901e-01</td>\n",
       "      <td>-1.234697e+00</td>\n",
       "      <td>-7.617213e+00</td>\n",
       "      <td>-1.679391e+00</td>\n",
       "      <td>-4.877102e+00</td>\n",
       "      <td>NaN</td>\n",
       "      <td>NaN</td>\n",
       "    </tr>\n",
       "    <tr>\n",
       "      <th>25%</th>\n",
       "      <td>2011.000000</td>\n",
       "      <td>2.549990e+05</td>\n",
       "      <td>3.500000e+04</td>\n",
       "      <td>0.000000</td>\n",
       "      <td>16.800000</td>\n",
       "      <td>1197.000000</td>\n",
       "      <td>68.100000</td>\n",
       "      <td>5.000000</td>\n",
       "      <td>-4.754044e-01</td>\n",
       "      <td>-6.157615e-01</td>\n",
       "      <td>-6.933756e-01</td>\n",
       "      <td>-5.264428e-01</td>\n",
       "      <td>-6.577247e-01</td>\n",
       "      <td>NaN</td>\n",
       "      <td>NaN</td>\n",
       "    </tr>\n",
       "    <tr>\n",
       "      <th>50%</th>\n",
       "      <td>2015.000000</td>\n",
       "      <td>4.500000e+05</td>\n",
       "      <td>6.000000e+04</td>\n",
       "      <td>0.000000</td>\n",
       "      <td>19.420000</td>\n",
       "      <td>1248.000000</td>\n",
       "      <td>83.100000</td>\n",
       "      <td>5.000000</td>\n",
       "      <td>-2.335288e-01</td>\n",
       "      <td>-1.736520e-01</td>\n",
       "      <td>2.957441e-01</td>\n",
       "      <td>-4.238244e-01</td>\n",
       "      <td>2.972559e-04</td>\n",
       "      <td>NaN</td>\n",
       "      <td>NaN</td>\n",
       "    </tr>\n",
       "    <tr>\n",
       "      <th>75%</th>\n",
       "      <td>2017.000000</td>\n",
       "      <td>6.750000e+05</td>\n",
       "      <td>9.800000e+04</td>\n",
       "      <td>1.000000</td>\n",
       "      <td>22.277500</td>\n",
       "      <td>1582.000000</td>\n",
       "      <td>101.500000</td>\n",
       "      <td>5.000000</td>\n",
       "      <td>4.555696e-02</td>\n",
       "      <td>4.983545e-01</td>\n",
       "      <td>7.903040e-01</td>\n",
       "      <td>2.482254e-01</td>\n",
       "      <td>7.179681e-01</td>\n",
       "      <td>NaN</td>\n",
       "      <td>NaN</td>\n",
       "    </tr>\n",
       "    <tr>\n",
       "      <th>max</th>\n",
       "      <td>2020.000000</td>\n",
       "      <td>1.000000e+07</td>\n",
       "      <td>2.360457e+06</td>\n",
       "      <td>1.000000</td>\n",
       "      <td>42.000000</td>\n",
       "      <td>3604.000000</td>\n",
       "      <td>400.000000</td>\n",
       "      <td>14.000000</td>\n",
       "      <td>1.161211e+01</td>\n",
       "      <td>4.050850e+01</td>\n",
       "      <td>1.532144e+00</td>\n",
       "      <td>4.316743e+00</td>\n",
       "      <td>5.671341e+00</td>\n",
       "      <td>NaN</td>\n",
       "      <td>NaN</td>\n",
       "    </tr>\n",
       "  </tbody>\n",
       "</table>\n",
       "</div>"
      ],
      "text/plain": [
       "              year  selling_price     km_driven        owner      mileage  \\\n",
       "count  8128.000000   8.128000e+03  8.128000e+03  8128.000000  8128.000000   \n",
       "mean   2013.804011   6.382718e+05  6.981951e+04     0.349286    19.418816   \n",
       "std       4.044249   8.062534e+05  5.655055e+04     0.476774     3.981875   \n",
       "min    1983.000000   2.999900e+04  1.000000e+00     0.000000     0.000000   \n",
       "25%    2011.000000   2.549990e+05  3.500000e+04     0.000000    16.800000   \n",
       "50%    2015.000000   4.500000e+05  6.000000e+04     0.000000    19.420000   \n",
       "75%    2017.000000   6.750000e+05  9.800000e+04     1.000000    22.277500   \n",
       "max    2020.000000   1.000000e+07  2.360457e+06     1.000000    42.000000   \n",
       "\n",
       "            engine    max_power        seats  zscore_selling_price  \\\n",
       "count  8128.000000  8127.000000  7907.000000          8.128000e+03   \n",
       "mean   1458.635212    91.504217     5.416719          1.672301e-16   \n",
       "std     497.017508    35.345519     0.959588          1.000062e+00   \n",
       "min     624.000000     0.000000     2.000000         -7.544901e-01   \n",
       "25%    1197.000000    68.100000     5.000000         -4.754044e-01   \n",
       "50%    1248.000000    83.100000     5.000000         -2.335288e-01   \n",
       "75%    1582.000000   101.500000     5.000000          4.555696e-02   \n",
       "max    3604.000000   400.000000    14.000000          1.161211e+01   \n",
       "\n",
       "       zscore_km_driven   zscore_year  zscore_engine  zscore_mileage  \\\n",
       "count      8.128000e+03  8.128000e+03   8.128000e+03    8.128000e+03   \n",
       "mean      -4.261683e-17 -4.811098e-15   1.363056e-16   -8.269304e-16   \n",
       "std        1.000062e+00  1.000062e+00   1.000062e+00    1.000062e+00   \n",
       "min       -1.234697e+00 -7.617213e+00  -1.679391e+00   -4.877102e+00   \n",
       "25%       -6.157615e-01 -6.933756e-01  -5.264428e-01   -6.577247e-01   \n",
       "50%       -1.736520e-01  2.957441e-01  -4.238244e-01    2.972559e-04   \n",
       "75%        4.983545e-01  7.903040e-01   2.482254e-01    7.179681e-01   \n",
       "max        4.050850e+01  1.532144e+00   4.316743e+00    5.671341e+00   \n",
       "\n",
       "       zscore_max_power  zscore_seats  \n",
       "count               0.0           0.0  \n",
       "mean                NaN           NaN  \n",
       "std                 NaN           NaN  \n",
       "min                 NaN           NaN  \n",
       "25%                 NaN           NaN  \n",
       "50%                 NaN           NaN  \n",
       "75%                 NaN           NaN  \n",
       "max                 NaN           NaN  "
      ]
     },
     "execution_count": 61,
     "metadata": {},
     "output_type": "execute_result"
    }
   ],
   "source": [
    "df.describe()"
   ]
  },
  {
   "cell_type": "code",
   "execution_count": 62,
   "id": "c1fc4e09",
   "metadata": {
    "execution": {
     "iopub.execute_input": "2021-12-25T04:07:05.874813Z",
     "iopub.status.busy": "2021-12-25T04:07:05.874115Z",
     "iopub.status.idle": "2021-12-25T04:07:05.903262Z",
     "shell.execute_reply": "2021-12-25T04:07:05.903773Z",
     "shell.execute_reply.started": "2021-12-25T03:59:00.717819Z"
    },
    "papermill": {
     "duration": 0.142372,
     "end_time": "2021-12-25T04:07:05.903948",
     "exception": false,
     "start_time": "2021-12-25T04:07:05.761576",
     "status": "completed"
    },
    "tags": []
   },
   "outputs": [
    {
     "data": {
      "text/html": [
       "<div>\n",
       "<style scoped>\n",
       "    .dataframe tbody tr th:only-of-type {\n",
       "        vertical-align: middle;\n",
       "    }\n",
       "\n",
       "    .dataframe tbody tr th {\n",
       "        vertical-align: top;\n",
       "    }\n",
       "\n",
       "    .dataframe thead th {\n",
       "        text-align: right;\n",
       "    }\n",
       "</style>\n",
       "<table border=\"1\" class=\"dataframe\">\n",
       "  <thead>\n",
       "    <tr style=\"text-align: right;\">\n",
       "      <th></th>\n",
       "      <th>year</th>\n",
       "      <th>selling_price</th>\n",
       "      <th>km_driven</th>\n",
       "      <th>fuel</th>\n",
       "      <th>seller_type</th>\n",
       "      <th>transmission</th>\n",
       "      <th>owner</th>\n",
       "      <th>mileage</th>\n",
       "      <th>engine</th>\n",
       "      <th>max_power</th>\n",
       "      <th>torque</th>\n",
       "      <th>seats</th>\n",
       "      <th>zscore_selling_price</th>\n",
       "      <th>zscore_km_driven</th>\n",
       "      <th>zscore_year</th>\n",
       "      <th>zscore_engine</th>\n",
       "      <th>zscore_mileage</th>\n",
       "      <th>zscore_max_power</th>\n",
       "      <th>zscore_seats</th>\n",
       "    </tr>\n",
       "  </thead>\n",
       "  <tbody>\n",
       "    <tr>\n",
       "      <th>132</th>\n",
       "      <td>2019</td>\n",
       "      <td>5150000</td>\n",
       "      <td>20000</td>\n",
       "      <td>Petrol</td>\n",
       "      <td>Dealer</td>\n",
       "      <td>Automatic</td>\n",
       "      <td>0</td>\n",
       "      <td>22.37</td>\n",
       "      <td>2487</td>\n",
       "      <td>214.56</td>\n",
       "      <td>202Nm@ 3600-5200rpm</td>\n",
       "      <td>5.0</td>\n",
       "      <td>5.596263</td>\n",
       "      <td>-0.881027</td>\n",
       "      <td>1.284864</td>\n",
       "      <td>2.069199</td>\n",
       "      <td>0.741200</td>\n",
       "      <td>NaN</td>\n",
       "      <td>NaN</td>\n",
       "    </tr>\n",
       "    <tr>\n",
       "      <th>136</th>\n",
       "      <td>2017</td>\n",
       "      <td>6000000</td>\n",
       "      <td>37000</td>\n",
       "      <td>Diesel</td>\n",
       "      <td>Dealer</td>\n",
       "      <td>Automatic</td>\n",
       "      <td>0</td>\n",
       "      <td>13.50</td>\n",
       "      <td>2987</td>\n",
       "      <td>254.79</td>\n",
       "      <td>620Nm@ 1600-2400rpm</td>\n",
       "      <td>5.0</td>\n",
       "      <td>6.650587</td>\n",
       "      <td>-0.580393</td>\n",
       "      <td>0.790304</td>\n",
       "      <td>3.075262</td>\n",
       "      <td>-1.486531</td>\n",
       "      <td>NaN</td>\n",
       "      <td>NaN</td>\n",
       "    </tr>\n",
       "    <tr>\n",
       "      <th>139</th>\n",
       "      <td>2019</td>\n",
       "      <td>5800000</td>\n",
       "      <td>7500</td>\n",
       "      <td>Diesel</td>\n",
       "      <td>Dealer</td>\n",
       "      <td>Automatic</td>\n",
       "      <td>0</td>\n",
       "      <td>16.78</td>\n",
       "      <td>1995</td>\n",
       "      <td>190.00</td>\n",
       "      <td>400Nm@ 1750-2500rpm</td>\n",
       "      <td>5.0</td>\n",
       "      <td>6.402510</td>\n",
       "      <td>-1.102082</td>\n",
       "      <td>1.284864</td>\n",
       "      <td>1.079233</td>\n",
       "      <td>-0.662748</td>\n",
       "      <td>NaN</td>\n",
       "      <td>NaN</td>\n",
       "    </tr>\n",
       "    <tr>\n",
       "      <th>148</th>\n",
       "      <td>2017</td>\n",
       "      <td>5850000</td>\n",
       "      <td>47000</td>\n",
       "      <td>Diesel</td>\n",
       "      <td>Dealer</td>\n",
       "      <td>Automatic</td>\n",
       "      <td>0</td>\n",
       "      <td>13.50</td>\n",
       "      <td>2987</td>\n",
       "      <td>282.00</td>\n",
       "      <td>490Nm@ 1600rpm</td>\n",
       "      <td>5.0</td>\n",
       "      <td>6.464529</td>\n",
       "      <td>-0.403549</td>\n",
       "      <td>0.790304</td>\n",
       "      <td>3.075262</td>\n",
       "      <td>-1.486531</td>\n",
       "      <td>NaN</td>\n",
       "      <td>NaN</td>\n",
       "    </tr>\n",
       "    <tr>\n",
       "      <th>170</th>\n",
       "      <td>2017</td>\n",
       "      <td>10000000</td>\n",
       "      <td>30000</td>\n",
       "      <td>Petrol</td>\n",
       "      <td>Individual</td>\n",
       "      <td>Automatic</td>\n",
       "      <td>0</td>\n",
       "      <td>42.00</td>\n",
       "      <td>1969</td>\n",
       "      <td>400.00</td>\n",
       "      <td>640Nm@ 1740rpm</td>\n",
       "      <td>4.0</td>\n",
       "      <td>11.612111</td>\n",
       "      <td>-0.704183</td>\n",
       "      <td>0.790304</td>\n",
       "      <td>1.026918</td>\n",
       "      <td>5.671341</td>\n",
       "      <td>NaN</td>\n",
       "      <td>NaN</td>\n",
       "    </tr>\n",
       "    <tr>\n",
       "      <th>...</th>\n",
       "      <td>...</td>\n",
       "      <td>...</td>\n",
       "      <td>...</td>\n",
       "      <td>...</td>\n",
       "      <td>...</td>\n",
       "      <td>...</td>\n",
       "      <td>...</td>\n",
       "      <td>...</td>\n",
       "      <td>...</td>\n",
       "      <td>...</td>\n",
       "      <td>...</td>\n",
       "      <td>...</td>\n",
       "      <td>...</td>\n",
       "      <td>...</td>\n",
       "      <td>...</td>\n",
       "      <td>...</td>\n",
       "      <td>...</td>\n",
       "      <td>...</td>\n",
       "      <td>...</td>\n",
       "    </tr>\n",
       "    <tr>\n",
       "      <th>7757</th>\n",
       "      <td>2019</td>\n",
       "      <td>5200000</td>\n",
       "      <td>10000</td>\n",
       "      <td>Diesel</td>\n",
       "      <td>Dealer</td>\n",
       "      <td>Automatic</td>\n",
       "      <td>0</td>\n",
       "      <td>18.12</td>\n",
       "      <td>1995</td>\n",
       "      <td>190.00</td>\n",
       "      <td>400Nm@ 1750-2500rpm</td>\n",
       "      <td>5.0</td>\n",
       "      <td>5.658282</td>\n",
       "      <td>-1.057871</td>\n",
       "      <td>1.284864</td>\n",
       "      <td>1.079233</td>\n",
       "      <td>-0.326202</td>\n",
       "      <td>NaN</td>\n",
       "      <td>NaN</td>\n",
       "    </tr>\n",
       "    <tr>\n",
       "      <th>7859</th>\n",
       "      <td>2019</td>\n",
       "      <td>5150000</td>\n",
       "      <td>20000</td>\n",
       "      <td>Petrol</td>\n",
       "      <td>Dealer</td>\n",
       "      <td>Automatic</td>\n",
       "      <td>0</td>\n",
       "      <td>22.37</td>\n",
       "      <td>2487</td>\n",
       "      <td>214.56</td>\n",
       "      <td>202Nm@ 3600-5200rpm</td>\n",
       "      <td>5.0</td>\n",
       "      <td>5.596263</td>\n",
       "      <td>-0.881027</td>\n",
       "      <td>1.284864</td>\n",
       "      <td>2.069199</td>\n",
       "      <td>0.741200</td>\n",
       "      <td>NaN</td>\n",
       "      <td>NaN</td>\n",
       "    </tr>\n",
       "    <tr>\n",
       "      <th>7872</th>\n",
       "      <td>2019</td>\n",
       "      <td>5400000</td>\n",
       "      <td>7500</td>\n",
       "      <td>Diesel</td>\n",
       "      <td>Dealer</td>\n",
       "      <td>Automatic</td>\n",
       "      <td>0</td>\n",
       "      <td>16.78</td>\n",
       "      <td>1995</td>\n",
       "      <td>190.00</td>\n",
       "      <td>400Nm@ 1750-2500rpm</td>\n",
       "      <td>5.0</td>\n",
       "      <td>5.906358</td>\n",
       "      <td>-1.102082</td>\n",
       "      <td>1.284864</td>\n",
       "      <td>1.079233</td>\n",
       "      <td>-0.662748</td>\n",
       "      <td>NaN</td>\n",
       "      <td>NaN</td>\n",
       "    </tr>\n",
       "    <tr>\n",
       "      <th>7873</th>\n",
       "      <td>2019</td>\n",
       "      <td>5500000</td>\n",
       "      <td>8500</td>\n",
       "      <td>Diesel</td>\n",
       "      <td>Dealer</td>\n",
       "      <td>Automatic</td>\n",
       "      <td>0</td>\n",
       "      <td>16.78</td>\n",
       "      <td>1995</td>\n",
       "      <td>190.00</td>\n",
       "      <td>400Nm@ 1750-2500rpm</td>\n",
       "      <td>5.0</td>\n",
       "      <td>6.030396</td>\n",
       "      <td>-1.084398</td>\n",
       "      <td>1.284864</td>\n",
       "      <td>1.079233</td>\n",
       "      <td>-0.662748</td>\n",
       "      <td>NaN</td>\n",
       "      <td>NaN</td>\n",
       "    </tr>\n",
       "    <tr>\n",
       "      <th>7930</th>\n",
       "      <td>2019</td>\n",
       "      <td>5500000</td>\n",
       "      <td>17000</td>\n",
       "      <td>Diesel</td>\n",
       "      <td>Individual</td>\n",
       "      <td>Automatic</td>\n",
       "      <td>0</td>\n",
       "      <td>18.00</td>\n",
       "      <td>1969</td>\n",
       "      <td>190.00</td>\n",
       "      <td>400Nm</td>\n",
       "      <td>5.0</td>\n",
       "      <td>6.030396</td>\n",
       "      <td>-0.934080</td>\n",
       "      <td>1.284864</td>\n",
       "      <td>1.026918</td>\n",
       "      <td>-0.356341</td>\n",
       "      <td>NaN</td>\n",
       "      <td>NaN</td>\n",
       "    </tr>\n",
       "  </tbody>\n",
       "</table>\n",
       "<p>117 rows × 19 columns</p>\n",
       "</div>"
      ],
      "text/plain": [
       "      year  selling_price  km_driven    fuel seller_type transmission  owner  \\\n",
       "132   2019        5150000      20000  Petrol      Dealer    Automatic      0   \n",
       "136   2017        6000000      37000  Diesel      Dealer    Automatic      0   \n",
       "139   2019        5800000       7500  Diesel      Dealer    Automatic      0   \n",
       "148   2017        5850000      47000  Diesel      Dealer    Automatic      0   \n",
       "170   2017       10000000      30000  Petrol  Individual    Automatic      0   \n",
       "...    ...            ...        ...     ...         ...          ...    ...   \n",
       "7757  2019        5200000      10000  Diesel      Dealer    Automatic      0   \n",
       "7859  2019        5150000      20000  Petrol      Dealer    Automatic      0   \n",
       "7872  2019        5400000       7500  Diesel      Dealer    Automatic      0   \n",
       "7873  2019        5500000       8500  Diesel      Dealer    Automatic      0   \n",
       "7930  2019        5500000      17000  Diesel  Individual    Automatic      0   \n",
       "\n",
       "      mileage  engine  max_power               torque  seats  \\\n",
       "132     22.37    2487     214.56  202Nm@ 3600-5200rpm    5.0   \n",
       "136     13.50    2987     254.79  620Nm@ 1600-2400rpm    5.0   \n",
       "139     16.78    1995     190.00  400Nm@ 1750-2500rpm    5.0   \n",
       "148     13.50    2987     282.00       490Nm@ 1600rpm    5.0   \n",
       "170     42.00    1969     400.00       640Nm@ 1740rpm    4.0   \n",
       "...       ...     ...        ...                  ...    ...   \n",
       "7757    18.12    1995     190.00  400Nm@ 1750-2500rpm    5.0   \n",
       "7859    22.37    2487     214.56  202Nm@ 3600-5200rpm    5.0   \n",
       "7872    16.78    1995     190.00  400Nm@ 1750-2500rpm    5.0   \n",
       "7873    16.78    1995     190.00  400Nm@ 1750-2500rpm    5.0   \n",
       "7930    18.00    1969     190.00                400Nm    5.0   \n",
       "\n",
       "      zscore_selling_price  zscore_km_driven  zscore_year  zscore_engine  \\\n",
       "132               5.596263         -0.881027     1.284864       2.069199   \n",
       "136               6.650587         -0.580393     0.790304       3.075262   \n",
       "139               6.402510         -1.102082     1.284864       1.079233   \n",
       "148               6.464529         -0.403549     0.790304       3.075262   \n",
       "170              11.612111         -0.704183     0.790304       1.026918   \n",
       "...                    ...               ...          ...            ...   \n",
       "7757              5.658282         -1.057871     1.284864       1.079233   \n",
       "7859              5.596263         -0.881027     1.284864       2.069199   \n",
       "7872              5.906358         -1.102082     1.284864       1.079233   \n",
       "7873              6.030396         -1.084398     1.284864       1.079233   \n",
       "7930              6.030396         -0.934080     1.284864       1.026918   \n",
       "\n",
       "      zscore_mileage  zscore_max_power  zscore_seats  \n",
       "132         0.741200               NaN           NaN  \n",
       "136        -1.486531               NaN           NaN  \n",
       "139        -0.662748               NaN           NaN  \n",
       "148        -1.486531               NaN           NaN  \n",
       "170         5.671341               NaN           NaN  \n",
       "...              ...               ...           ...  \n",
       "7757       -0.326202               NaN           NaN  \n",
       "7859        0.741200               NaN           NaN  \n",
       "7872       -0.662748               NaN           NaN  \n",
       "7873       -0.662748               NaN           NaN  \n",
       "7930       -0.356341               NaN           NaN  \n",
       "\n",
       "[117 rows x 19 columns]"
      ]
     },
     "execution_count": 62,
     "metadata": {},
     "output_type": "execute_result"
    }
   ],
   "source": [
    "df[df['zscore_selling_price'] > 5]"
   ]
  },
  {
   "cell_type": "code",
   "execution_count": 63,
   "id": "99263d17",
   "metadata": {
    "execution": {
     "iopub.execute_input": "2021-12-25T04:07:06.134357Z",
     "iopub.status.busy": "2021-12-25T04:07:06.132673Z",
     "iopub.status.idle": "2021-12-25T04:07:06.138513Z",
     "shell.execute_reply": "2021-12-25T04:07:06.137859Z",
     "shell.execute_reply.started": "2021-12-25T03:59:00.754894Z"
    },
    "papermill": {
     "duration": 0.12172,
     "end_time": "2021-12-25T04:07:06.138685",
     "exception": false,
     "start_time": "2021-12-25T04:07:06.016965",
     "status": "completed"
    },
    "tags": []
   },
   "outputs": [],
   "source": [
    "df = df[(df.zscore_selling_price>-5) & (df.zscore_selling_price<5)]"
   ]
  },
  {
   "cell_type": "code",
   "execution_count": 64,
   "id": "3de03372",
   "metadata": {
    "execution": {
     "iopub.execute_input": "2021-12-25T04:07:06.371298Z",
     "iopub.status.busy": "2021-12-25T04:07:06.370615Z",
     "iopub.status.idle": "2021-12-25T04:07:06.373417Z",
     "shell.execute_reply": "2021-12-25T04:07:06.373969Z",
     "shell.execute_reply.started": "2021-12-25T03:59:00.763822Z"
    },
    "papermill": {
     "duration": 0.122184,
     "end_time": "2021-12-25T04:07:06.374152",
     "exception": false,
     "start_time": "2021-12-25T04:07:06.251968",
     "status": "completed"
    },
    "tags": []
   },
   "outputs": [],
   "source": [
    "df = df.drop('zscore_selling_price', axis=1)"
   ]
  },
  {
   "cell_type": "code",
   "execution_count": 65,
   "id": "d2aab9c8",
   "metadata": {
    "execution": {
     "iopub.execute_input": "2021-12-25T04:07:06.600939Z",
     "iopub.status.busy": "2021-12-25T04:07:06.600289Z",
     "iopub.status.idle": "2021-12-25T04:07:06.604960Z",
     "shell.execute_reply": "2021-12-25T04:07:06.605489Z",
     "shell.execute_reply.started": "2021-12-25T03:59:00.775103Z"
    },
    "papermill": {
     "duration": 0.116811,
     "end_time": "2021-12-25T04:07:06.605699",
     "exception": false,
     "start_time": "2021-12-25T04:07:06.488888",
     "status": "completed"
    },
    "tags": []
   },
   "outputs": [],
   "source": [
    "def rid_outliers(df, col, zscore_val):\n",
    "    df = df.copy()\n",
    "    df = df[(df[col]>-(zscore_val)) & (df[col]<zscore_val)]\n",
    "    df = df.drop([col], axis=1)\n",
    "    return df"
   ]
  },
  {
   "cell_type": "code",
   "execution_count": 66,
   "id": "4c464a7a",
   "metadata": {
    "execution": {
     "iopub.execute_input": "2021-12-25T04:07:06.826993Z",
     "iopub.status.busy": "2021-12-25T04:07:06.826279Z",
     "iopub.status.idle": "2021-12-25T04:07:06.858784Z",
     "shell.execute_reply": "2021-12-25T04:07:06.859432Z",
     "shell.execute_reply.started": "2021-12-25T03:59:00.787519Z"
    },
    "papermill": {
     "duration": 0.145596,
     "end_time": "2021-12-25T04:07:06.859647",
     "exception": false,
     "start_time": "2021-12-25T04:07:06.714051",
     "status": "completed"
    },
    "tags": []
   },
   "outputs": [
    {
     "data": {
      "text/html": [
       "<div>\n",
       "<style scoped>\n",
       "    .dataframe tbody tr th:only-of-type {\n",
       "        vertical-align: middle;\n",
       "    }\n",
       "\n",
       "    .dataframe tbody tr th {\n",
       "        vertical-align: top;\n",
       "    }\n",
       "\n",
       "    .dataframe thead th {\n",
       "        text-align: right;\n",
       "    }\n",
       "</style>\n",
       "<table border=\"1\" class=\"dataframe\">\n",
       "  <thead>\n",
       "    <tr style=\"text-align: right;\">\n",
       "      <th></th>\n",
       "      <th>year</th>\n",
       "      <th>selling_price</th>\n",
       "      <th>km_driven</th>\n",
       "      <th>fuel</th>\n",
       "      <th>seller_type</th>\n",
       "      <th>transmission</th>\n",
       "      <th>owner</th>\n",
       "      <th>mileage</th>\n",
       "      <th>engine</th>\n",
       "      <th>max_power</th>\n",
       "      <th>torque</th>\n",
       "      <th>seats</th>\n",
       "      <th>zscore_year</th>\n",
       "      <th>zscore_engine</th>\n",
       "      <th>zscore_mileage</th>\n",
       "      <th>zscore_max_power</th>\n",
       "      <th>zscore_seats</th>\n",
       "    </tr>\n",
       "  </thead>\n",
       "  <tbody>\n",
       "    <tr>\n",
       "      <th>0</th>\n",
       "      <td>2014</td>\n",
       "      <td>450000</td>\n",
       "      <td>145500</td>\n",
       "      <td>Diesel</td>\n",
       "      <td>Individual</td>\n",
       "      <td>Manual</td>\n",
       "      <td>0</td>\n",
       "      <td>23.40</td>\n",
       "      <td>1248</td>\n",
       "      <td>74.00</td>\n",
       "      <td>190Nm@ 2000rpm</td>\n",
       "      <td>5.0</td>\n",
       "      <td>0.048464</td>\n",
       "      <td>-0.423824</td>\n",
       "      <td>0.999888</td>\n",
       "      <td>NaN</td>\n",
       "      <td>NaN</td>\n",
       "    </tr>\n",
       "    <tr>\n",
       "      <th>1</th>\n",
       "      <td>2014</td>\n",
       "      <td>370000</td>\n",
       "      <td>120000</td>\n",
       "      <td>Diesel</td>\n",
       "      <td>Individual</td>\n",
       "      <td>Manual</td>\n",
       "      <td>1</td>\n",
       "      <td>21.14</td>\n",
       "      <td>1498</td>\n",
       "      <td>103.52</td>\n",
       "      <td>250Nm@ 1500-2500rpm</td>\n",
       "      <td>5.0</td>\n",
       "      <td>0.048464</td>\n",
       "      <td>0.079207</td>\n",
       "      <td>0.432281</td>\n",
       "      <td>NaN</td>\n",
       "      <td>NaN</td>\n",
       "    </tr>\n",
       "    <tr>\n",
       "      <th>2</th>\n",
       "      <td>2006</td>\n",
       "      <td>158000</td>\n",
       "      <td>140000</td>\n",
       "      <td>Petrol</td>\n",
       "      <td>Individual</td>\n",
       "      <td>Manual</td>\n",
       "      <td>1</td>\n",
       "      <td>17.70</td>\n",
       "      <td>1497</td>\n",
       "      <td>78.00</td>\n",
       "      <td>12.7@ 2,700(kgm@ rpm)</td>\n",
       "      <td>5.0</td>\n",
       "      <td>-1.929775</td>\n",
       "      <td>0.077195</td>\n",
       "      <td>-0.431687</td>\n",
       "      <td>NaN</td>\n",
       "      <td>NaN</td>\n",
       "    </tr>\n",
       "    <tr>\n",
       "      <th>3</th>\n",
       "      <td>2010</td>\n",
       "      <td>225000</td>\n",
       "      <td>127000</td>\n",
       "      <td>Diesel</td>\n",
       "      <td>Individual</td>\n",
       "      <td>Manual</td>\n",
       "      <td>0</td>\n",
       "      <td>23.00</td>\n",
       "      <td>1396</td>\n",
       "      <td>90.00</td>\n",
       "      <td>22.4 kgm at 1750-2750rpm</td>\n",
       "      <td>5.0</td>\n",
       "      <td>-0.940656</td>\n",
       "      <td>-0.126030</td>\n",
       "      <td>0.899426</td>\n",
       "      <td>NaN</td>\n",
       "      <td>NaN</td>\n",
       "    </tr>\n",
       "    <tr>\n",
       "      <th>4</th>\n",
       "      <td>2007</td>\n",
       "      <td>130000</td>\n",
       "      <td>120000</td>\n",
       "      <td>Petrol</td>\n",
       "      <td>Individual</td>\n",
       "      <td>Manual</td>\n",
       "      <td>0</td>\n",
       "      <td>16.10</td>\n",
       "      <td>1298</td>\n",
       "      <td>88.20</td>\n",
       "      <td>11.5@ 4,500(kgm@ rpm)</td>\n",
       "      <td>5.0</td>\n",
       "      <td>-1.682495</td>\n",
       "      <td>-0.323218</td>\n",
       "      <td>-0.833532</td>\n",
       "      <td>NaN</td>\n",
       "      <td>NaN</td>\n",
       "    </tr>\n",
       "    <tr>\n",
       "      <th>...</th>\n",
       "      <td>...</td>\n",
       "      <td>...</td>\n",
       "      <td>...</td>\n",
       "      <td>...</td>\n",
       "      <td>...</td>\n",
       "      <td>...</td>\n",
       "      <td>...</td>\n",
       "      <td>...</td>\n",
       "      <td>...</td>\n",
       "      <td>...</td>\n",
       "      <td>...</td>\n",
       "      <td>...</td>\n",
       "      <td>...</td>\n",
       "      <td>...</td>\n",
       "      <td>...</td>\n",
       "      <td>...</td>\n",
       "      <td>...</td>\n",
       "    </tr>\n",
       "    <tr>\n",
       "      <th>8123</th>\n",
       "      <td>2013</td>\n",
       "      <td>320000</td>\n",
       "      <td>110000</td>\n",
       "      <td>Petrol</td>\n",
       "      <td>Individual</td>\n",
       "      <td>Manual</td>\n",
       "      <td>0</td>\n",
       "      <td>18.50</td>\n",
       "      <td>1197</td>\n",
       "      <td>82.85</td>\n",
       "      <td>113.7Nm@ 4000rpm</td>\n",
       "      <td>5.0</td>\n",
       "      <td>-0.198816</td>\n",
       "      <td>-0.526443</td>\n",
       "      <td>-0.230764</td>\n",
       "      <td>NaN</td>\n",
       "      <td>NaN</td>\n",
       "    </tr>\n",
       "    <tr>\n",
       "      <th>8124</th>\n",
       "      <td>2007</td>\n",
       "      <td>135000</td>\n",
       "      <td>119000</td>\n",
       "      <td>Diesel</td>\n",
       "      <td>Individual</td>\n",
       "      <td>Manual</td>\n",
       "      <td>1</td>\n",
       "      <td>16.80</td>\n",
       "      <td>1493</td>\n",
       "      <td>110.00</td>\n",
       "      <td>24@ 1,900-2,750(kgm@ rpm)</td>\n",
       "      <td>5.0</td>\n",
       "      <td>-1.682495</td>\n",
       "      <td>0.069146</td>\n",
       "      <td>-0.657725</td>\n",
       "      <td>NaN</td>\n",
       "      <td>NaN</td>\n",
       "    </tr>\n",
       "    <tr>\n",
       "      <th>8125</th>\n",
       "      <td>2009</td>\n",
       "      <td>382000</td>\n",
       "      <td>120000</td>\n",
       "      <td>Diesel</td>\n",
       "      <td>Individual</td>\n",
       "      <td>Manual</td>\n",
       "      <td>0</td>\n",
       "      <td>19.30</td>\n",
       "      <td>1248</td>\n",
       "      <td>73.90</td>\n",
       "      <td>190Nm@ 2000rpm</td>\n",
       "      <td>5.0</td>\n",
       "      <td>-1.187935</td>\n",
       "      <td>-0.423824</td>\n",
       "      <td>-0.029841</td>\n",
       "      <td>NaN</td>\n",
       "      <td>NaN</td>\n",
       "    </tr>\n",
       "    <tr>\n",
       "      <th>8126</th>\n",
       "      <td>2013</td>\n",
       "      <td>290000</td>\n",
       "      <td>25000</td>\n",
       "      <td>Diesel</td>\n",
       "      <td>Individual</td>\n",
       "      <td>Manual</td>\n",
       "      <td>0</td>\n",
       "      <td>23.57</td>\n",
       "      <td>1396</td>\n",
       "      <td>70.00</td>\n",
       "      <td>140Nm@ 1800-3000rpm</td>\n",
       "      <td>5.0</td>\n",
       "      <td>-0.198816</td>\n",
       "      <td>-0.126030</td>\n",
       "      <td>1.042584</td>\n",
       "      <td>NaN</td>\n",
       "      <td>NaN</td>\n",
       "    </tr>\n",
       "    <tr>\n",
       "      <th>8127</th>\n",
       "      <td>2013</td>\n",
       "      <td>290000</td>\n",
       "      <td>25000</td>\n",
       "      <td>Diesel</td>\n",
       "      <td>Individual</td>\n",
       "      <td>Manual</td>\n",
       "      <td>0</td>\n",
       "      <td>23.57</td>\n",
       "      <td>1396</td>\n",
       "      <td>70.00</td>\n",
       "      <td>140Nm@ 1800-3000rpm</td>\n",
       "      <td>5.0</td>\n",
       "      <td>-0.198816</td>\n",
       "      <td>-0.126030</td>\n",
       "      <td>1.042584</td>\n",
       "      <td>NaN</td>\n",
       "      <td>NaN</td>\n",
       "    </tr>\n",
       "  </tbody>\n",
       "</table>\n",
       "<p>7993 rows × 17 columns</p>\n",
       "</div>"
      ],
      "text/plain": [
       "      year  selling_price  km_driven    fuel seller_type transmission  owner  \\\n",
       "0     2014         450000     145500  Diesel  Individual       Manual      0   \n",
       "1     2014         370000     120000  Diesel  Individual       Manual      1   \n",
       "2     2006         158000     140000  Petrol  Individual       Manual      1   \n",
       "3     2010         225000     127000  Diesel  Individual       Manual      0   \n",
       "4     2007         130000     120000  Petrol  Individual       Manual      0   \n",
       "...    ...            ...        ...     ...         ...          ...    ...   \n",
       "8123  2013         320000     110000  Petrol  Individual       Manual      0   \n",
       "8124  2007         135000     119000  Diesel  Individual       Manual      1   \n",
       "8125  2009         382000     120000  Diesel  Individual       Manual      0   \n",
       "8126  2013         290000      25000  Diesel  Individual       Manual      0   \n",
       "8127  2013         290000      25000  Diesel  Individual       Manual      0   \n",
       "\n",
       "      mileage  engine  max_power                     torque  seats  \\\n",
       "0       23.40    1248      74.00             190Nm@ 2000rpm    5.0   \n",
       "1       21.14    1498     103.52        250Nm@ 1500-2500rpm    5.0   \n",
       "2       17.70    1497      78.00      12.7@ 2,700(kgm@ rpm)    5.0   \n",
       "3       23.00    1396      90.00   22.4 kgm at 1750-2750rpm    5.0   \n",
       "4       16.10    1298      88.20      11.5@ 4,500(kgm@ rpm)    5.0   \n",
       "...       ...     ...        ...                        ...    ...   \n",
       "8123    18.50    1197      82.85           113.7Nm@ 4000rpm    5.0   \n",
       "8124    16.80    1493     110.00  24@ 1,900-2,750(kgm@ rpm)    5.0   \n",
       "8125    19.30    1248      73.90             190Nm@ 2000rpm    5.0   \n",
       "8126    23.57    1396      70.00        140Nm@ 1800-3000rpm    5.0   \n",
       "8127    23.57    1396      70.00        140Nm@ 1800-3000rpm    5.0   \n",
       "\n",
       "      zscore_year  zscore_engine  zscore_mileage  zscore_max_power  \\\n",
       "0        0.048464      -0.423824        0.999888               NaN   \n",
       "1        0.048464       0.079207        0.432281               NaN   \n",
       "2       -1.929775       0.077195       -0.431687               NaN   \n",
       "3       -0.940656      -0.126030        0.899426               NaN   \n",
       "4       -1.682495      -0.323218       -0.833532               NaN   \n",
       "...           ...            ...             ...               ...   \n",
       "8123    -0.198816      -0.526443       -0.230764               NaN   \n",
       "8124    -1.682495       0.069146       -0.657725               NaN   \n",
       "8125    -1.187935      -0.423824       -0.029841               NaN   \n",
       "8126    -0.198816      -0.126030        1.042584               NaN   \n",
       "8127    -0.198816      -0.126030        1.042584               NaN   \n",
       "\n",
       "      zscore_seats  \n",
       "0              NaN  \n",
       "1              NaN  \n",
       "2              NaN  \n",
       "3              NaN  \n",
       "4              NaN  \n",
       "...            ...  \n",
       "8123           NaN  \n",
       "8124           NaN  \n",
       "8125           NaN  \n",
       "8126           NaN  \n",
       "8127           NaN  \n",
       "\n",
       "[7993 rows x 17 columns]"
      ]
     },
     "execution_count": 66,
     "metadata": {},
     "output_type": "execute_result"
    }
   ],
   "source": [
    "df = rid_outliers(df, 'zscore_km_driven', 4.5)\n",
    "# df = df.drop('zscore_km_driven', axis=1)\n",
    "\n",
    "df = df.drop([8042, 316], axis=0)\n",
    "\n",
    "df"
   ]
  },
  {
   "cell_type": "code",
   "execution_count": 67,
   "id": "6be64c6b",
   "metadata": {
    "execution": {
     "iopub.execute_input": "2021-12-25T04:07:07.083899Z",
     "iopub.status.busy": "2021-12-25T04:07:07.083274Z",
     "iopub.status.idle": "2021-12-25T04:07:07.088434Z",
     "shell.execute_reply": "2021-12-25T04:07:07.088970Z",
     "shell.execute_reply.started": "2021-12-25T03:59:00.831958Z"
    },
    "papermill": {
     "duration": 0.117359,
     "end_time": "2021-12-25T04:07:07.089143",
     "exception": false,
     "start_time": "2021-12-25T04:07:06.971784",
     "status": "completed"
    },
    "tags": []
   },
   "outputs": [],
   "source": [
    "df = df.drop('zscore_year', axis=1)"
   ]
  },
  {
   "cell_type": "code",
   "execution_count": 68,
   "id": "8627dff1",
   "metadata": {
    "execution": {
     "iopub.execute_input": "2021-12-25T04:07:07.311125Z",
     "iopub.status.busy": "2021-12-25T04:07:07.310415Z",
     "iopub.status.idle": "2021-12-25T04:07:07.317358Z",
     "shell.execute_reply": "2021-12-25T04:07:07.317906Z",
     "shell.execute_reply.started": "2021-12-25T03:59:00.840310Z"
    },
    "papermill": {
     "duration": 0.118421,
     "end_time": "2021-12-25T04:07:07.318083",
     "exception": false,
     "start_time": "2021-12-25T04:07:07.199662",
     "status": "completed"
    },
    "tags": []
   },
   "outputs": [],
   "source": [
    "# df[df.zscore_mileage > 3.0]\n",
    "df = rid_outliers(df, 'zscore_mileage', 3.0)"
   ]
  },
  {
   "cell_type": "code",
   "execution_count": 69,
   "id": "d49982fb",
   "metadata": {
    "execution": {
     "iopub.execute_input": "2021-12-25T04:07:07.541740Z",
     "iopub.status.busy": "2021-12-25T04:07:07.541049Z",
     "iopub.status.idle": "2021-12-25T04:07:07.565830Z",
     "shell.execute_reply": "2021-12-25T04:07:07.566328Z",
     "shell.execute_reply.started": "2021-12-25T03:59:00.857008Z"
    },
    "papermill": {
     "duration": 0.138169,
     "end_time": "2021-12-25T04:07:07.566494",
     "exception": false,
     "start_time": "2021-12-25T04:07:07.428325",
     "status": "completed"
    },
    "tags": []
   },
   "outputs": [
    {
     "data": {
      "text/html": [
       "<div>\n",
       "<style scoped>\n",
       "    .dataframe tbody tr th:only-of-type {\n",
       "        vertical-align: middle;\n",
       "    }\n",
       "\n",
       "    .dataframe tbody tr th {\n",
       "        vertical-align: top;\n",
       "    }\n",
       "\n",
       "    .dataframe thead th {\n",
       "        text-align: right;\n",
       "    }\n",
       "</style>\n",
       "<table border=\"1\" class=\"dataframe\">\n",
       "  <thead>\n",
       "    <tr style=\"text-align: right;\">\n",
       "      <th></th>\n",
       "      <th>year</th>\n",
       "      <th>selling_price</th>\n",
       "      <th>km_driven</th>\n",
       "      <th>fuel</th>\n",
       "      <th>seller_type</th>\n",
       "      <th>transmission</th>\n",
       "      <th>owner</th>\n",
       "      <th>mileage</th>\n",
       "      <th>engine</th>\n",
       "      <th>max_power</th>\n",
       "      <th>torque</th>\n",
       "      <th>seats</th>\n",
       "      <th>zscore_engine</th>\n",
       "    </tr>\n",
       "  </thead>\n",
       "  <tbody>\n",
       "    <tr>\n",
       "      <th>0</th>\n",
       "      <td>2014</td>\n",
       "      <td>450000</td>\n",
       "      <td>145500</td>\n",
       "      <td>Diesel</td>\n",
       "      <td>Individual</td>\n",
       "      <td>Manual</td>\n",
       "      <td>0</td>\n",
       "      <td>23.40</td>\n",
       "      <td>1248</td>\n",
       "      <td>74.00</td>\n",
       "      <td>190Nm@ 2000rpm</td>\n",
       "      <td>5.0</td>\n",
       "      <td>-0.423824</td>\n",
       "    </tr>\n",
       "    <tr>\n",
       "      <th>1</th>\n",
       "      <td>2014</td>\n",
       "      <td>370000</td>\n",
       "      <td>120000</td>\n",
       "      <td>Diesel</td>\n",
       "      <td>Individual</td>\n",
       "      <td>Manual</td>\n",
       "      <td>1</td>\n",
       "      <td>21.14</td>\n",
       "      <td>1498</td>\n",
       "      <td>103.52</td>\n",
       "      <td>250Nm@ 1500-2500rpm</td>\n",
       "      <td>5.0</td>\n",
       "      <td>0.079207</td>\n",
       "    </tr>\n",
       "    <tr>\n",
       "      <th>2</th>\n",
       "      <td>2006</td>\n",
       "      <td>158000</td>\n",
       "      <td>140000</td>\n",
       "      <td>Petrol</td>\n",
       "      <td>Individual</td>\n",
       "      <td>Manual</td>\n",
       "      <td>1</td>\n",
       "      <td>17.70</td>\n",
       "      <td>1497</td>\n",
       "      <td>78.00</td>\n",
       "      <td>12.7@ 2,700(kgm@ rpm)</td>\n",
       "      <td>5.0</td>\n",
       "      <td>0.077195</td>\n",
       "    </tr>\n",
       "    <tr>\n",
       "      <th>3</th>\n",
       "      <td>2010</td>\n",
       "      <td>225000</td>\n",
       "      <td>127000</td>\n",
       "      <td>Diesel</td>\n",
       "      <td>Individual</td>\n",
       "      <td>Manual</td>\n",
       "      <td>0</td>\n",
       "      <td>23.00</td>\n",
       "      <td>1396</td>\n",
       "      <td>90.00</td>\n",
       "      <td>22.4 kgm at 1750-2750rpm</td>\n",
       "      <td>5.0</td>\n",
       "      <td>-0.126030</td>\n",
       "    </tr>\n",
       "    <tr>\n",
       "      <th>4</th>\n",
       "      <td>2007</td>\n",
       "      <td>130000</td>\n",
       "      <td>120000</td>\n",
       "      <td>Petrol</td>\n",
       "      <td>Individual</td>\n",
       "      <td>Manual</td>\n",
       "      <td>0</td>\n",
       "      <td>16.10</td>\n",
       "      <td>1298</td>\n",
       "      <td>88.20</td>\n",
       "      <td>11.5@ 4,500(kgm@ rpm)</td>\n",
       "      <td>5.0</td>\n",
       "      <td>-0.323218</td>\n",
       "    </tr>\n",
       "    <tr>\n",
       "      <th>...</th>\n",
       "      <td>...</td>\n",
       "      <td>...</td>\n",
       "      <td>...</td>\n",
       "      <td>...</td>\n",
       "      <td>...</td>\n",
       "      <td>...</td>\n",
       "      <td>...</td>\n",
       "      <td>...</td>\n",
       "      <td>...</td>\n",
       "      <td>...</td>\n",
       "      <td>...</td>\n",
       "      <td>...</td>\n",
       "      <td>...</td>\n",
       "    </tr>\n",
       "    <tr>\n",
       "      <th>8123</th>\n",
       "      <td>2013</td>\n",
       "      <td>320000</td>\n",
       "      <td>110000</td>\n",
       "      <td>Petrol</td>\n",
       "      <td>Individual</td>\n",
       "      <td>Manual</td>\n",
       "      <td>0</td>\n",
       "      <td>18.50</td>\n",
       "      <td>1197</td>\n",
       "      <td>82.85</td>\n",
       "      <td>113.7Nm@ 4000rpm</td>\n",
       "      <td>5.0</td>\n",
       "      <td>-0.526443</td>\n",
       "    </tr>\n",
       "    <tr>\n",
       "      <th>8124</th>\n",
       "      <td>2007</td>\n",
       "      <td>135000</td>\n",
       "      <td>119000</td>\n",
       "      <td>Diesel</td>\n",
       "      <td>Individual</td>\n",
       "      <td>Manual</td>\n",
       "      <td>1</td>\n",
       "      <td>16.80</td>\n",
       "      <td>1493</td>\n",
       "      <td>110.00</td>\n",
       "      <td>24@ 1,900-2,750(kgm@ rpm)</td>\n",
       "      <td>5.0</td>\n",
       "      <td>0.069146</td>\n",
       "    </tr>\n",
       "    <tr>\n",
       "      <th>8125</th>\n",
       "      <td>2009</td>\n",
       "      <td>382000</td>\n",
       "      <td>120000</td>\n",
       "      <td>Diesel</td>\n",
       "      <td>Individual</td>\n",
       "      <td>Manual</td>\n",
       "      <td>0</td>\n",
       "      <td>19.30</td>\n",
       "      <td>1248</td>\n",
       "      <td>73.90</td>\n",
       "      <td>190Nm@ 2000rpm</td>\n",
       "      <td>5.0</td>\n",
       "      <td>-0.423824</td>\n",
       "    </tr>\n",
       "    <tr>\n",
       "      <th>8126</th>\n",
       "      <td>2013</td>\n",
       "      <td>290000</td>\n",
       "      <td>25000</td>\n",
       "      <td>Diesel</td>\n",
       "      <td>Individual</td>\n",
       "      <td>Manual</td>\n",
       "      <td>0</td>\n",
       "      <td>23.57</td>\n",
       "      <td>1396</td>\n",
       "      <td>70.00</td>\n",
       "      <td>140Nm@ 1800-3000rpm</td>\n",
       "      <td>5.0</td>\n",
       "      <td>-0.126030</td>\n",
       "    </tr>\n",
       "    <tr>\n",
       "      <th>8127</th>\n",
       "      <td>2013</td>\n",
       "      <td>290000</td>\n",
       "      <td>25000</td>\n",
       "      <td>Diesel</td>\n",
       "      <td>Individual</td>\n",
       "      <td>Manual</td>\n",
       "      <td>0</td>\n",
       "      <td>23.57</td>\n",
       "      <td>1396</td>\n",
       "      <td>70.00</td>\n",
       "      <td>140Nm@ 1800-3000rpm</td>\n",
       "      <td>5.0</td>\n",
       "      <td>-0.126030</td>\n",
       "    </tr>\n",
       "  </tbody>\n",
       "</table>\n",
       "<p>7970 rows × 13 columns</p>\n",
       "</div>"
      ],
      "text/plain": [
       "      year  selling_price  km_driven    fuel seller_type transmission  owner  \\\n",
       "0     2014         450000     145500  Diesel  Individual       Manual      0   \n",
       "1     2014         370000     120000  Diesel  Individual       Manual      1   \n",
       "2     2006         158000     140000  Petrol  Individual       Manual      1   \n",
       "3     2010         225000     127000  Diesel  Individual       Manual      0   \n",
       "4     2007         130000     120000  Petrol  Individual       Manual      0   \n",
       "...    ...            ...        ...     ...         ...          ...    ...   \n",
       "8123  2013         320000     110000  Petrol  Individual       Manual      0   \n",
       "8124  2007         135000     119000  Diesel  Individual       Manual      1   \n",
       "8125  2009         382000     120000  Diesel  Individual       Manual      0   \n",
       "8126  2013         290000      25000  Diesel  Individual       Manual      0   \n",
       "8127  2013         290000      25000  Diesel  Individual       Manual      0   \n",
       "\n",
       "      mileage  engine  max_power                     torque  seats  \\\n",
       "0       23.40    1248      74.00             190Nm@ 2000rpm    5.0   \n",
       "1       21.14    1498     103.52        250Nm@ 1500-2500rpm    5.0   \n",
       "2       17.70    1497      78.00      12.7@ 2,700(kgm@ rpm)    5.0   \n",
       "3       23.00    1396      90.00   22.4 kgm at 1750-2750rpm    5.0   \n",
       "4       16.10    1298      88.20      11.5@ 4,500(kgm@ rpm)    5.0   \n",
       "...       ...     ...        ...                        ...    ...   \n",
       "8123    18.50    1197      82.85           113.7Nm@ 4000rpm    5.0   \n",
       "8124    16.80    1493     110.00  24@ 1,900-2,750(kgm@ rpm)    5.0   \n",
       "8125    19.30    1248      73.90             190Nm@ 2000rpm    5.0   \n",
       "8126    23.57    1396      70.00        140Nm@ 1800-3000rpm    5.0   \n",
       "8127    23.57    1396      70.00        140Nm@ 1800-3000rpm    5.0   \n",
       "\n",
       "      zscore_engine  \n",
       "0         -0.423824  \n",
       "1          0.079207  \n",
       "2          0.077195  \n",
       "3         -0.126030  \n",
       "4         -0.323218  \n",
       "...             ...  \n",
       "8123      -0.526443  \n",
       "8124       0.069146  \n",
       "8125      -0.423824  \n",
       "8126      -0.126030  \n",
       "8127      -0.126030  \n",
       "\n",
       "[7970 rows x 13 columns]"
      ]
     },
     "execution_count": 69,
     "metadata": {},
     "output_type": "execute_result"
    }
   ],
   "source": [
    "df = df.drop(['zscore_max_power', 'zscore_seats'], axis=1)\n",
    "df"
   ]
  },
  {
   "cell_type": "code",
   "execution_count": 70,
   "id": "d432cb40",
   "metadata": {
    "execution": {
     "iopub.execute_input": "2021-12-25T04:07:07.787151Z",
     "iopub.status.busy": "2021-12-25T04:07:07.786530Z",
     "iopub.status.idle": "2021-12-25T04:07:07.793321Z",
     "shell.execute_reply": "2021-12-25T04:07:07.793925Z",
     "shell.execute_reply.started": "2021-12-25T03:59:00.891172Z"
    },
    "papermill": {
     "duration": 0.119009,
     "end_time": "2021-12-25T04:07:07.794100",
     "exception": false,
     "start_time": "2021-12-25T04:07:07.675091",
     "status": "completed"
    },
    "tags": []
   },
   "outputs": [],
   "source": [
    "df = rid_outliers(df, 'zscore_engine', 3.4)"
   ]
  },
  {
   "cell_type": "code",
   "execution_count": 71,
   "id": "aadc73e5",
   "metadata": {
    "execution": {
     "iopub.execute_input": "2021-12-25T04:07:08.018987Z",
     "iopub.status.busy": "2021-12-25T04:07:08.018305Z",
     "iopub.status.idle": "2021-12-25T04:07:09.554653Z",
     "shell.execute_reply": "2021-12-25T04:07:09.554111Z",
     "shell.execute_reply.started": "2021-12-25T03:59:00.901757Z"
    },
    "papermill": {
     "duration": 1.651942,
     "end_time": "2021-12-25T04:07:09.554816",
     "exception": false,
     "start_time": "2021-12-25T04:07:07.902874",
     "status": "completed"
    },
    "tags": []
   },
   "outputs": [
    {
     "data": {
      "image/png": "[encoded data removed]",
      "text/plain": [
       "<Figure size 1080x576 with 1 Axes>"
      ]
     },
     "metadata": {
      "needs_background": "light"
     },
     "output_type": "display_data"
    },
    {
     "data": {
      "image/png": "[encoded data removed]",
      "text/plain": [
       "<Figure size 1080x576 with 1 Axes>"
      ]
     },
     "metadata": {
      "needs_background": "light"
     },
     "output_type": "display_data"
    },
    {
     "data": {
      "image/png": "[encoded data removed]",
      "text/plain": [
       "<Figure size 1080x576 with 1 Axes>"
      ]
     },
     "metadata": {
      "needs_background": "light"
     },
     "output_type": "display_data"
    },
    {
     "data": {
      "image/png": "[encoded data removed]",
      "text/plain": [
       "<Figure size 1080x576 with 1 Axes>"
      ]
     },
     "metadata": {
      "needs_background": "light"
     },
     "output_type": "display_data"
    },
    {
     "data": {
      "image/png": "[encoded data removed]",
      "text/plain": [
       "<Figure size 1080x576 with 1 Axes>"
      ]
     },
     "metadata": {
      "needs_background": "light"
     },
     "output_type": "display_data"
    },
    {
     "data": {
      "image/png": "[encoded data removed]",
      "text/plain": [
       "<Figure size 1080x576 with 1 Axes>"
      ]
     },
     "metadata": {
      "needs_background": "light"
     },
     "output_type": "display_data"
    },
    {
     "data": {
      "image/png": "[encoded data removed]",
      "text/plain": [
       "<Figure size 1080x576 with 1 Axes>"
      ]
     },
     "metadata": {
      "needs_background": "light"
     },
     "output_type": "display_data"
    }
   ],
   "source": [
    "numerical_cols = ['selling_price', 'km_driven', 'year', 'engine', 'mileage', 'max_power', 'seats']\n",
    "for col in numerical_cols:\n",
    "    df.boxplot(col)\n",
    "    plt.show()"
   ]
  },
  {
   "cell_type": "markdown",
   "id": "866a105b",
   "metadata": {
    "papermill": {
     "duration": 0.117856,
     "end_time": "2021-12-25T04:07:09.790022",
     "exception": false,
     "start_time": "2021-12-25T04:07:09.672166",
     "status": "completed"
    },
    "tags": []
   },
   "source": [
    "Data looks a bit better in terms of outliers, let's add one final touch"
   ]
  },
  {
   "cell_type": "code",
   "execution_count": 72,
   "id": "78d4d983",
   "metadata": {
    "execution": {
     "iopub.execute_input": "2021-12-25T04:07:10.037195Z",
     "iopub.status.busy": "2021-12-25T04:07:10.036498Z",
     "iopub.status.idle": "2021-12-25T04:07:10.039095Z",
     "shell.execute_reply": "2021-12-25T04:07:10.039633Z",
     "shell.execute_reply.started": "2021-12-25T03:59:02.269505Z"
    },
    "papermill": {
     "duration": 0.134796,
     "end_time": "2021-12-25T04:07:10.039806",
     "exception": false,
     "start_time": "2021-12-25T04:07:09.905010",
     "status": "completed"
    },
    "tags": []
   },
   "outputs": [
    {
     "data": {
      "text/html": [
       "<div>\n",
       "<style scoped>\n",
       "    .dataframe tbody tr th:only-of-type {\n",
       "        vertical-align: middle;\n",
       "    }\n",
       "\n",
       "    .dataframe tbody tr th {\n",
       "        vertical-align: top;\n",
       "    }\n",
       "\n",
       "    .dataframe thead th {\n",
       "        text-align: right;\n",
       "    }\n",
       "</style>\n",
       "<table border=\"1\" class=\"dataframe\">\n",
       "  <thead>\n",
       "    <tr style=\"text-align: right;\">\n",
       "      <th></th>\n",
       "      <th>year</th>\n",
       "      <th>selling_price</th>\n",
       "      <th>km_driven</th>\n",
       "      <th>fuel</th>\n",
       "      <th>seller_type</th>\n",
       "      <th>transmission</th>\n",
       "      <th>owner</th>\n",
       "      <th>mileage</th>\n",
       "      <th>engine</th>\n",
       "      <th>max_power</th>\n",
       "      <th>torque</th>\n",
       "      <th>seats</th>\n",
       "    </tr>\n",
       "  </thead>\n",
       "  <tbody>\n",
       "    <tr>\n",
       "      <th>4575</th>\n",
       "      <td>2010</td>\n",
       "      <td>235000</td>\n",
       "      <td>50000</td>\n",
       "      <td>Diesel</td>\n",
       "      <td>Individual</td>\n",
       "      <td>Manual</td>\n",
       "      <td>0</td>\n",
       "      <td>10.71</td>\n",
       "      <td>1948</td>\n",
       "      <td>90.0</td>\n",
       "      <td>190Nm@ 2000-3000rpm</td>\n",
       "      <td>14.0</td>\n",
       "    </tr>\n",
       "  </tbody>\n",
       "</table>\n",
       "</div>"
      ],
      "text/plain": [
       "      year  selling_price  km_driven    fuel seller_type transmission  owner  \\\n",
       "4575  2010         235000      50000  Diesel  Individual       Manual      0   \n",
       "\n",
       "      mileage  engine  max_power               torque  seats  \n",
       "4575    10.71    1948       90.0  190Nm@ 2000-3000rpm   14.0  "
      ]
     },
     "execution_count": 72,
     "metadata": {},
     "output_type": "execute_result"
    }
   ],
   "source": [
    "df[df.seats == 14.0]"
   ]
  },
  {
   "cell_type": "code",
   "execution_count": 73,
   "id": "eb6174b3",
   "metadata": {
    "execution": {
     "iopub.execute_input": "2021-12-25T04:07:10.272787Z",
     "iopub.status.busy": "2021-12-25T04:07:10.272035Z",
     "iopub.status.idle": "2021-12-25T04:07:10.294805Z",
     "shell.execute_reply": "2021-12-25T04:07:10.295371Z",
     "shell.execute_reply.started": "2021-12-25T03:59:02.287291Z"
    },
    "papermill": {
     "duration": 0.14082,
     "end_time": "2021-12-25T04:07:10.295565",
     "exception": false,
     "start_time": "2021-12-25T04:07:10.154745",
     "status": "completed"
    },
    "tags": []
   },
   "outputs": [
    {
     "data": {
      "text/html": [
       "<div>\n",
       "<style scoped>\n",
       "    .dataframe tbody tr th:only-of-type {\n",
       "        vertical-align: middle;\n",
       "    }\n",
       "\n",
       "    .dataframe tbody tr th {\n",
       "        vertical-align: top;\n",
       "    }\n",
       "\n",
       "    .dataframe thead th {\n",
       "        text-align: right;\n",
       "    }\n",
       "</style>\n",
       "<table border=\"1\" class=\"dataframe\">\n",
       "  <thead>\n",
       "    <tr style=\"text-align: right;\">\n",
       "      <th></th>\n",
       "      <th>year</th>\n",
       "      <th>selling_price</th>\n",
       "      <th>km_driven</th>\n",
       "      <th>fuel</th>\n",
       "      <th>seller_type</th>\n",
       "      <th>transmission</th>\n",
       "      <th>owner</th>\n",
       "      <th>mileage</th>\n",
       "      <th>engine</th>\n",
       "      <th>max_power</th>\n",
       "      <th>torque</th>\n",
       "      <th>seats</th>\n",
       "    </tr>\n",
       "  </thead>\n",
       "  <tbody>\n",
       "    <tr>\n",
       "      <th>0</th>\n",
       "      <td>2014</td>\n",
       "      <td>450000</td>\n",
       "      <td>145500</td>\n",
       "      <td>Diesel</td>\n",
       "      <td>Individual</td>\n",
       "      <td>Manual</td>\n",
       "      <td>0</td>\n",
       "      <td>23.40</td>\n",
       "      <td>1248</td>\n",
       "      <td>74.00</td>\n",
       "      <td>190Nm@ 2000rpm</td>\n",
       "      <td>5.0</td>\n",
       "    </tr>\n",
       "    <tr>\n",
       "      <th>1</th>\n",
       "      <td>2014</td>\n",
       "      <td>370000</td>\n",
       "      <td>120000</td>\n",
       "      <td>Diesel</td>\n",
       "      <td>Individual</td>\n",
       "      <td>Manual</td>\n",
       "      <td>1</td>\n",
       "      <td>21.14</td>\n",
       "      <td>1498</td>\n",
       "      <td>103.52</td>\n",
       "      <td>250Nm@ 1500-2500rpm</td>\n",
       "      <td>5.0</td>\n",
       "    </tr>\n",
       "    <tr>\n",
       "      <th>2</th>\n",
       "      <td>2006</td>\n",
       "      <td>158000</td>\n",
       "      <td>140000</td>\n",
       "      <td>Petrol</td>\n",
       "      <td>Individual</td>\n",
       "      <td>Manual</td>\n",
       "      <td>1</td>\n",
       "      <td>17.70</td>\n",
       "      <td>1497</td>\n",
       "      <td>78.00</td>\n",
       "      <td>12.7@ 2,700(kgm@ rpm)</td>\n",
       "      <td>5.0</td>\n",
       "    </tr>\n",
       "    <tr>\n",
       "      <th>3</th>\n",
       "      <td>2010</td>\n",
       "      <td>225000</td>\n",
       "      <td>127000</td>\n",
       "      <td>Diesel</td>\n",
       "      <td>Individual</td>\n",
       "      <td>Manual</td>\n",
       "      <td>0</td>\n",
       "      <td>23.00</td>\n",
       "      <td>1396</td>\n",
       "      <td>90.00</td>\n",
       "      <td>22.4 kgm at 1750-2750rpm</td>\n",
       "      <td>5.0</td>\n",
       "    </tr>\n",
       "    <tr>\n",
       "      <th>4</th>\n",
       "      <td>2007</td>\n",
       "      <td>130000</td>\n",
       "      <td>120000</td>\n",
       "      <td>Petrol</td>\n",
       "      <td>Individual</td>\n",
       "      <td>Manual</td>\n",
       "      <td>0</td>\n",
       "      <td>16.10</td>\n",
       "      <td>1298</td>\n",
       "      <td>88.20</td>\n",
       "      <td>11.5@ 4,500(kgm@ rpm)</td>\n",
       "      <td>5.0</td>\n",
       "    </tr>\n",
       "    <tr>\n",
       "      <th>...</th>\n",
       "      <td>...</td>\n",
       "      <td>...</td>\n",
       "      <td>...</td>\n",
       "      <td>...</td>\n",
       "      <td>...</td>\n",
       "      <td>...</td>\n",
       "      <td>...</td>\n",
       "      <td>...</td>\n",
       "      <td>...</td>\n",
       "      <td>...</td>\n",
       "      <td>...</td>\n",
       "      <td>...</td>\n",
       "    </tr>\n",
       "    <tr>\n",
       "      <th>8123</th>\n",
       "      <td>2013</td>\n",
       "      <td>320000</td>\n",
       "      <td>110000</td>\n",
       "      <td>Petrol</td>\n",
       "      <td>Individual</td>\n",
       "      <td>Manual</td>\n",
       "      <td>0</td>\n",
       "      <td>18.50</td>\n",
       "      <td>1197</td>\n",
       "      <td>82.85</td>\n",
       "      <td>113.7Nm@ 4000rpm</td>\n",
       "      <td>5.0</td>\n",
       "    </tr>\n",
       "    <tr>\n",
       "      <th>8124</th>\n",
       "      <td>2007</td>\n",
       "      <td>135000</td>\n",
       "      <td>119000</td>\n",
       "      <td>Diesel</td>\n",
       "      <td>Individual</td>\n",
       "      <td>Manual</td>\n",
       "      <td>1</td>\n",
       "      <td>16.80</td>\n",
       "      <td>1493</td>\n",
       "      <td>110.00</td>\n",
       "      <td>24@ 1,900-2,750(kgm@ rpm)</td>\n",
       "      <td>5.0</td>\n",
       "    </tr>\n",
       "    <tr>\n",
       "      <th>8125</th>\n",
       "      <td>2009</td>\n",
       "      <td>382000</td>\n",
       "      <td>120000</td>\n",
       "      <td>Diesel</td>\n",
       "      <td>Individual</td>\n",
       "      <td>Manual</td>\n",
       "      <td>0</td>\n",
       "      <td>19.30</td>\n",
       "      <td>1248</td>\n",
       "      <td>73.90</td>\n",
       "      <td>190Nm@ 2000rpm</td>\n",
       "      <td>5.0</td>\n",
       "    </tr>\n",
       "    <tr>\n",
       "      <th>8126</th>\n",
       "      <td>2013</td>\n",
       "      <td>290000</td>\n",
       "      <td>25000</td>\n",
       "      <td>Diesel</td>\n",
       "      <td>Individual</td>\n",
       "      <td>Manual</td>\n",
       "      <td>0</td>\n",
       "      <td>23.57</td>\n",
       "      <td>1396</td>\n",
       "      <td>70.00</td>\n",
       "      <td>140Nm@ 1800-3000rpm</td>\n",
       "      <td>5.0</td>\n",
       "    </tr>\n",
       "    <tr>\n",
       "      <th>8127</th>\n",
       "      <td>2013</td>\n",
       "      <td>290000</td>\n",
       "      <td>25000</td>\n",
       "      <td>Diesel</td>\n",
       "      <td>Individual</td>\n",
       "      <td>Manual</td>\n",
       "      <td>0</td>\n",
       "      <td>23.57</td>\n",
       "      <td>1396</td>\n",
       "      <td>70.00</td>\n",
       "      <td>140Nm@ 1800-3000rpm</td>\n",
       "      <td>5.0</td>\n",
       "    </tr>\n",
       "  </tbody>\n",
       "</table>\n",
       "<p>7957 rows × 12 columns</p>\n",
       "</div>"
      ],
      "text/plain": [
       "      year  selling_price  km_driven    fuel seller_type transmission  owner  \\\n",
       "0     2014         450000     145500  Diesel  Individual       Manual      0   \n",
       "1     2014         370000     120000  Diesel  Individual       Manual      1   \n",
       "2     2006         158000     140000  Petrol  Individual       Manual      1   \n",
       "3     2010         225000     127000  Diesel  Individual       Manual      0   \n",
       "4     2007         130000     120000  Petrol  Individual       Manual      0   \n",
       "...    ...            ...        ...     ...         ...          ...    ...   \n",
       "8123  2013         320000     110000  Petrol  Individual       Manual      0   \n",
       "8124  2007         135000     119000  Diesel  Individual       Manual      1   \n",
       "8125  2009         382000     120000  Diesel  Individual       Manual      0   \n",
       "8126  2013         290000      25000  Diesel  Individual       Manual      0   \n",
       "8127  2013         290000      25000  Diesel  Individual       Manual      0   \n",
       "\n",
       "      mileage  engine  max_power                     torque  seats  \n",
       "0       23.40    1248      74.00             190Nm@ 2000rpm    5.0  \n",
       "1       21.14    1498     103.52        250Nm@ 1500-2500rpm    5.0  \n",
       "2       17.70    1497      78.00      12.7@ 2,700(kgm@ rpm)    5.0  \n",
       "3       23.00    1396      90.00   22.4 kgm at 1750-2750rpm    5.0  \n",
       "4       16.10    1298      88.20      11.5@ 4,500(kgm@ rpm)    5.0  \n",
       "...       ...     ...        ...                        ...    ...  \n",
       "8123    18.50    1197      82.85           113.7Nm@ 4000rpm    5.0  \n",
       "8124    16.80    1493     110.00  24@ 1,900-2,750(kgm@ rpm)    5.0  \n",
       "8125    19.30    1248      73.90             190Nm@ 2000rpm    5.0  \n",
       "8126    23.57    1396      70.00        140Nm@ 1800-3000rpm    5.0  \n",
       "8127    23.57    1396      70.00        140Nm@ 1800-3000rpm    5.0  \n",
       "\n",
       "[7957 rows x 12 columns]"
      ]
     },
     "execution_count": 73,
     "metadata": {},
     "output_type": "execute_result"
    }
   ],
   "source": [
    "#From above, the index is 4575, dropping this index due to the seat count being so high (probably a bus, we're trying to predict car selling prices)\n",
    "df = df.drop(4575)\n",
    "df"
   ]
  },
  {
   "cell_type": "code",
   "execution_count": 74,
   "id": "5a6a758c",
   "metadata": {
    "execution": {
     "iopub.execute_input": "2021-12-25T04:07:10.533040Z",
     "iopub.status.busy": "2021-12-25T04:07:10.532297Z",
     "iopub.status.idle": "2021-12-25T04:07:10.574083Z",
     "shell.execute_reply": "2021-12-25T04:07:10.574595Z",
     "shell.execute_reply.started": "2021-12-25T03:59:02.323108Z"
    },
    "papermill": {
     "duration": 0.161366,
     "end_time": "2021-12-25T04:07:10.574776",
     "exception": false,
     "start_time": "2021-12-25T04:07:10.413410",
     "status": "completed"
    },
    "tags": []
   },
   "outputs": [
    {
     "data": {
      "text/html": [
       "<div>\n",
       "<style scoped>\n",
       "    .dataframe tbody tr th:only-of-type {\n",
       "        vertical-align: middle;\n",
       "    }\n",
       "\n",
       "    .dataframe tbody tr th {\n",
       "        vertical-align: top;\n",
       "    }\n",
       "\n",
       "    .dataframe thead th {\n",
       "        text-align: right;\n",
       "    }\n",
       "</style>\n",
       "<table border=\"1\" class=\"dataframe\">\n",
       "  <thead>\n",
       "    <tr style=\"text-align: right;\">\n",
       "      <th></th>\n",
       "      <th>year</th>\n",
       "      <th>selling_price</th>\n",
       "      <th>km_driven</th>\n",
       "      <th>fuel</th>\n",
       "      <th>seller_type</th>\n",
       "      <th>transmission</th>\n",
       "      <th>owner</th>\n",
       "      <th>mileage</th>\n",
       "      <th>engine</th>\n",
       "      <th>max_power</th>\n",
       "      <th>torque</th>\n",
       "      <th>seats</th>\n",
       "      <th>zscore_selling_price</th>\n",
       "      <th>zscore_km_driven</th>\n",
       "      <th>zscore_year</th>\n",
       "      <th>zscore_engine</th>\n",
       "      <th>zscore_mileage</th>\n",
       "      <th>zscore_max_power</th>\n",
       "      <th>zscore_seats</th>\n",
       "    </tr>\n",
       "  </thead>\n",
       "  <tbody>\n",
       "    <tr>\n",
       "      <th>0</th>\n",
       "      <td>2014</td>\n",
       "      <td>450000</td>\n",
       "      <td>145500</td>\n",
       "      <td>Diesel</td>\n",
       "      <td>Individual</td>\n",
       "      <td>Manual</td>\n",
       "      <td>0</td>\n",
       "      <td>23.40</td>\n",
       "      <td>1248</td>\n",
       "      <td>74.00</td>\n",
       "      <td>190Nm@ 2000rpm</td>\n",
       "      <td>5.0</td>\n",
       "      <td>-0.208806</td>\n",
       "      <td>1.664172</td>\n",
       "      <td>0.065140</td>\n",
       "      <td>-0.404496</td>\n",
       "      <td>1.014920</td>\n",
       "      <td>NaN</td>\n",
       "      <td>NaN</td>\n",
       "    </tr>\n",
       "    <tr>\n",
       "      <th>1</th>\n",
       "      <td>2014</td>\n",
       "      <td>370000</td>\n",
       "      <td>120000</td>\n",
       "      <td>Diesel</td>\n",
       "      <td>Individual</td>\n",
       "      <td>Manual</td>\n",
       "      <td>1</td>\n",
       "      <td>21.14</td>\n",
       "      <td>1498</td>\n",
       "      <td>103.52</td>\n",
       "      <td>250Nm@ 1500-2500rpm</td>\n",
       "      <td>5.0</td>\n",
       "      <td>-0.355701</td>\n",
       "      <td>1.104736</td>\n",
       "      <td>0.065140</td>\n",
       "      <td>0.113414</td>\n",
       "      <td>0.428272</td>\n",
       "      <td>NaN</td>\n",
       "      <td>NaN</td>\n",
       "    </tr>\n",
       "    <tr>\n",
       "      <th>2</th>\n",
       "      <td>2006</td>\n",
       "      <td>158000</td>\n",
       "      <td>140000</td>\n",
       "      <td>Petrol</td>\n",
       "      <td>Individual</td>\n",
       "      <td>Manual</td>\n",
       "      <td>1</td>\n",
       "      <td>17.70</td>\n",
       "      <td>1497</td>\n",
       "      <td>78.00</td>\n",
       "      <td>12.7@ 2,700(kgm@ rpm)</td>\n",
       "      <td>5.0</td>\n",
       "      <td>-0.744973</td>\n",
       "      <td>1.543509</td>\n",
       "      <td>-1.930325</td>\n",
       "      <td>0.111343</td>\n",
       "      <td>-0.464679</td>\n",
       "      <td>NaN</td>\n",
       "      <td>NaN</td>\n",
       "    </tr>\n",
       "    <tr>\n",
       "      <th>3</th>\n",
       "      <td>2010</td>\n",
       "      <td>225000</td>\n",
       "      <td>127000</td>\n",
       "      <td>Diesel</td>\n",
       "      <td>Individual</td>\n",
       "      <td>Manual</td>\n",
       "      <td>0</td>\n",
       "      <td>23.00</td>\n",
       "      <td>1396</td>\n",
       "      <td>90.00</td>\n",
       "      <td>22.4 kgm at 1750-2750rpm</td>\n",
       "      <td>5.0</td>\n",
       "      <td>-0.621949</td>\n",
       "      <td>1.258307</td>\n",
       "      <td>-0.932592</td>\n",
       "      <td>-0.097893</td>\n",
       "      <td>0.911088</td>\n",
       "      <td>NaN</td>\n",
       "      <td>NaN</td>\n",
       "    </tr>\n",
       "    <tr>\n",
       "      <th>4</th>\n",
       "      <td>2007</td>\n",
       "      <td>130000</td>\n",
       "      <td>120000</td>\n",
       "      <td>Petrol</td>\n",
       "      <td>Individual</td>\n",
       "      <td>Manual</td>\n",
       "      <td>0</td>\n",
       "      <td>16.10</td>\n",
       "      <td>1298</td>\n",
       "      <td>88.20</td>\n",
       "      <td>11.5@ 4,500(kgm@ rpm)</td>\n",
       "      <td>5.0</td>\n",
       "      <td>-0.796387</td>\n",
       "      <td>1.104736</td>\n",
       "      <td>-1.680892</td>\n",
       "      <td>-0.300914</td>\n",
       "      <td>-0.880005</td>\n",
       "      <td>NaN</td>\n",
       "      <td>NaN</td>\n",
       "    </tr>\n",
       "    <tr>\n",
       "      <th>...</th>\n",
       "      <td>...</td>\n",
       "      <td>...</td>\n",
       "      <td>...</td>\n",
       "      <td>...</td>\n",
       "      <td>...</td>\n",
       "      <td>...</td>\n",
       "      <td>...</td>\n",
       "      <td>...</td>\n",
       "      <td>...</td>\n",
       "      <td>...</td>\n",
       "      <td>...</td>\n",
       "      <td>...</td>\n",
       "      <td>...</td>\n",
       "      <td>...</td>\n",
       "      <td>...</td>\n",
       "      <td>...</td>\n",
       "      <td>...</td>\n",
       "      <td>...</td>\n",
       "      <td>...</td>\n",
       "    </tr>\n",
       "    <tr>\n",
       "      <th>8123</th>\n",
       "      <td>2013</td>\n",
       "      <td>320000</td>\n",
       "      <td>110000</td>\n",
       "      <td>Petrol</td>\n",
       "      <td>Individual</td>\n",
       "      <td>Manual</td>\n",
       "      <td>0</td>\n",
       "      <td>18.50</td>\n",
       "      <td>1197</td>\n",
       "      <td>82.85</td>\n",
       "      <td>113.7Nm@ 4000rpm</td>\n",
       "      <td>5.0</td>\n",
       "      <td>-0.447511</td>\n",
       "      <td>0.885350</td>\n",
       "      <td>-0.184293</td>\n",
       "      <td>-0.510149</td>\n",
       "      <td>-0.257016</td>\n",
       "      <td>NaN</td>\n",
       "      <td>NaN</td>\n",
       "    </tr>\n",
       "    <tr>\n",
       "      <th>8124</th>\n",
       "      <td>2007</td>\n",
       "      <td>135000</td>\n",
       "      <td>119000</td>\n",
       "      <td>Diesel</td>\n",
       "      <td>Individual</td>\n",
       "      <td>Manual</td>\n",
       "      <td>1</td>\n",
       "      <td>16.80</td>\n",
       "      <td>1493</td>\n",
       "      <td>110.00</td>\n",
       "      <td>24@ 1,900-2,750(kgm@ rpm)</td>\n",
       "      <td>5.0</td>\n",
       "      <td>-0.787206</td>\n",
       "      <td>1.082797</td>\n",
       "      <td>-1.680892</td>\n",
       "      <td>0.103056</td>\n",
       "      <td>-0.698300</td>\n",
       "      <td>NaN</td>\n",
       "      <td>NaN</td>\n",
       "    </tr>\n",
       "    <tr>\n",
       "      <th>8125</th>\n",
       "      <td>2009</td>\n",
       "      <td>382000</td>\n",
       "      <td>120000</td>\n",
       "      <td>Diesel</td>\n",
       "      <td>Individual</td>\n",
       "      <td>Manual</td>\n",
       "      <td>0</td>\n",
       "      <td>19.30</td>\n",
       "      <td>1248</td>\n",
       "      <td>73.90</td>\n",
       "      <td>190Nm@ 2000rpm</td>\n",
       "      <td>5.0</td>\n",
       "      <td>-0.333667</td>\n",
       "      <td>1.104736</td>\n",
       "      <td>-1.182025</td>\n",
       "      <td>-0.404496</td>\n",
       "      <td>-0.049353</td>\n",
       "      <td>NaN</td>\n",
       "      <td>NaN</td>\n",
       "    </tr>\n",
       "    <tr>\n",
       "      <th>8126</th>\n",
       "      <td>2013</td>\n",
       "      <td>290000</td>\n",
       "      <td>25000</td>\n",
       "      <td>Diesel</td>\n",
       "      <td>Individual</td>\n",
       "      <td>Manual</td>\n",
       "      <td>0</td>\n",
       "      <td>23.57</td>\n",
       "      <td>1396</td>\n",
       "      <td>70.00</td>\n",
       "      <td>140Nm@ 1800-3000rpm</td>\n",
       "      <td>5.0</td>\n",
       "      <td>-0.502596</td>\n",
       "      <td>-0.979436</td>\n",
       "      <td>-0.184293</td>\n",
       "      <td>-0.097893</td>\n",
       "      <td>1.059048</td>\n",
       "      <td>NaN</td>\n",
       "      <td>NaN</td>\n",
       "    </tr>\n",
       "    <tr>\n",
       "      <th>8127</th>\n",
       "      <td>2013</td>\n",
       "      <td>290000</td>\n",
       "      <td>25000</td>\n",
       "      <td>Diesel</td>\n",
       "      <td>Individual</td>\n",
       "      <td>Manual</td>\n",
       "      <td>0</td>\n",
       "      <td>23.57</td>\n",
       "      <td>1396</td>\n",
       "      <td>70.00</td>\n",
       "      <td>140Nm@ 1800-3000rpm</td>\n",
       "      <td>5.0</td>\n",
       "      <td>-0.502596</td>\n",
       "      <td>-0.979436</td>\n",
       "      <td>-0.184293</td>\n",
       "      <td>-0.097893</td>\n",
       "      <td>1.059048</td>\n",
       "      <td>NaN</td>\n",
       "      <td>NaN</td>\n",
       "    </tr>\n",
       "  </tbody>\n",
       "</table>\n",
       "<p>7957 rows × 19 columns</p>\n",
       "</div>"
      ],
      "text/plain": [
       "      year  selling_price  km_driven    fuel seller_type transmission  owner  \\\n",
       "0     2014         450000     145500  Diesel  Individual       Manual      0   \n",
       "1     2014         370000     120000  Diesel  Individual       Manual      1   \n",
       "2     2006         158000     140000  Petrol  Individual       Manual      1   \n",
       "3     2010         225000     127000  Diesel  Individual       Manual      0   \n",
       "4     2007         130000     120000  Petrol  Individual       Manual      0   \n",
       "...    ...            ...        ...     ...         ...          ...    ...   \n",
       "8123  2013         320000     110000  Petrol  Individual       Manual      0   \n",
       "8124  2007         135000     119000  Diesel  Individual       Manual      1   \n",
       "8125  2009         382000     120000  Diesel  Individual       Manual      0   \n",
       "8126  2013         290000      25000  Diesel  Individual       Manual      0   \n",
       "8127  2013         290000      25000  Diesel  Individual       Manual      0   \n",
       "\n",
       "      mileage  engine  max_power                     torque  seats  \\\n",
       "0       23.40    1248      74.00             190Nm@ 2000rpm    5.0   \n",
       "1       21.14    1498     103.52        250Nm@ 1500-2500rpm    5.0   \n",
       "2       17.70    1497      78.00      12.7@ 2,700(kgm@ rpm)    5.0   \n",
       "3       23.00    1396      90.00   22.4 kgm at 1750-2750rpm    5.0   \n",
       "4       16.10    1298      88.20      11.5@ 4,500(kgm@ rpm)    5.0   \n",
       "...       ...     ...        ...                        ...    ...   \n",
       "8123    18.50    1197      82.85           113.7Nm@ 4000rpm    5.0   \n",
       "8124    16.80    1493     110.00  24@ 1,900-2,750(kgm@ rpm)    5.0   \n",
       "8125    19.30    1248      73.90             190Nm@ 2000rpm    5.0   \n",
       "8126    23.57    1396      70.00        140Nm@ 1800-3000rpm    5.0   \n",
       "8127    23.57    1396      70.00        140Nm@ 1800-3000rpm    5.0   \n",
       "\n",
       "      zscore_selling_price  zscore_km_driven  zscore_year  zscore_engine  \\\n",
       "0                -0.208806          1.664172     0.065140      -0.404496   \n",
       "1                -0.355701          1.104736     0.065140       0.113414   \n",
       "2                -0.744973          1.543509    -1.930325       0.111343   \n",
       "3                -0.621949          1.258307    -0.932592      -0.097893   \n",
       "4                -0.796387          1.104736    -1.680892      -0.300914   \n",
       "...                    ...               ...          ...            ...   \n",
       "8123             -0.447511          0.885350    -0.184293      -0.510149   \n",
       "8124             -0.787206          1.082797    -1.680892       0.103056   \n",
       "8125             -0.333667          1.104736    -1.182025      -0.404496   \n",
       "8126             -0.502596         -0.979436    -0.184293      -0.097893   \n",
       "8127             -0.502596         -0.979436    -0.184293      -0.097893   \n",
       "\n",
       "      zscore_mileage  zscore_max_power  zscore_seats  \n",
       "0           1.014920               NaN           NaN  \n",
       "1           0.428272               NaN           NaN  \n",
       "2          -0.464679               NaN           NaN  \n",
       "3           0.911088               NaN           NaN  \n",
       "4          -0.880005               NaN           NaN  \n",
       "...              ...               ...           ...  \n",
       "8123       -0.257016               NaN           NaN  \n",
       "8124       -0.698300               NaN           NaN  \n",
       "8125       -0.049353               NaN           NaN  \n",
       "8126        1.059048               NaN           NaN  \n",
       "8127        1.059048               NaN           NaN  \n",
       "\n",
       "[7957 rows x 19 columns]"
      ]
     },
     "execution_count": 74,
     "metadata": {},
     "output_type": "execute_result"
    }
   ],
   "source": [
    "[gen_zscores(df, nc) for nc in numerical_cols]\n",
    "df"
   ]
  },
  {
   "cell_type": "code",
   "execution_count": 75,
   "id": "2ce97884",
   "metadata": {
    "execution": {
     "iopub.execute_input": "2021-12-25T04:07:10.818317Z",
     "iopub.status.busy": "2021-12-25T04:07:10.817630Z",
     "iopub.status.idle": "2021-12-25T04:07:11.577880Z",
     "shell.execute_reply": "2021-12-25T04:07:11.578405Z",
     "shell.execute_reply.started": "2021-12-25T03:59:02.369968Z"
    },
    "papermill": {
     "duration": 0.883547,
     "end_time": "2021-12-25T04:07:11.578655",
     "exception": false,
     "start_time": "2021-12-25T04:07:10.695108",
     "status": "completed"
    },
    "tags": []
   },
   "outputs": [
    {
     "name": "stderr",
     "output_type": "stream",
     "text": [
      "/opt/conda/lib/python3.7/site-packages/seaborn/_decorators.py:43: FutureWarning: Pass the following variable as a keyword arg: x. From version 0.12, the only valid positional argument will be `data`, and passing other arguments without an explicit keyword will result in an error or misinterpretation.\n",
      "  FutureWarning\n"
     ]
    },
    {
     "data": {
      "image/png": "[encoded data removed]",
      "text/plain": [
       "<Figure size 1080x576 with 1 Axes>"
      ]
     },
     "metadata": {
      "needs_background": "light"
     },
     "output_type": "display_data"
    },
    {
     "name": "stderr",
     "output_type": "stream",
     "text": [
      "/opt/conda/lib/python3.7/site-packages/seaborn/_decorators.py:43: FutureWarning: Pass the following variable as a keyword arg: x. From version 0.12, the only valid positional argument will be `data`, and passing other arguments without an explicit keyword will result in an error or misinterpretation.\n",
      "  FutureWarning\n"
     ]
    },
    {
     "data": {
      "image/png": "[encoded data removed]",
      "text/plain": [
       "<Figure size 1080x576 with 1 Axes>"
      ]
     },
     "metadata": {
      "needs_background": "light"
     },
     "output_type": "display_data"
    },
    {
     "name": "stderr",
     "output_type": "stream",
     "text": [
      "/opt/conda/lib/python3.7/site-packages/seaborn/_decorators.py:43: FutureWarning: Pass the following variable as a keyword arg: x. From version 0.12, the only valid positional argument will be `data`, and passing other arguments without an explicit keyword will result in an error or misinterpretation.\n",
      "  FutureWarning\n"
     ]
    },
    {
     "data": {
      "image/png": "[encoded data removed]",
      "text/plain": [
       "<Figure size 1080x576 with 1 Axes>"
      ]
     },
     "metadata": {
      "needs_background": "light"
     },
     "output_type": "display_data"
    },
    {
     "name": "stderr",
     "output_type": "stream",
     "text": [
      "/opt/conda/lib/python3.7/site-packages/seaborn/_decorators.py:43: FutureWarning: Pass the following variable as a keyword arg: x. From version 0.12, the only valid positional argument will be `data`, and passing other arguments without an explicit keyword will result in an error or misinterpretation.\n",
      "  FutureWarning\n"
     ]
    },
    {
     "data": {
      "image/png": "[encoded data removed]",
      "text/plain": [
       "<Figure size 1080x576 with 1 Axes>"
      ]
     },
     "metadata": {
      "needs_background": "light"
     },
     "output_type": "display_data"
    },
    {
     "name": "stderr",
     "output_type": "stream",
     "text": [
      "/opt/conda/lib/python3.7/site-packages/seaborn/_decorators.py:43: FutureWarning: Pass the following variable as a keyword arg: x. From version 0.12, the only valid positional argument will be `data`, and passing other arguments without an explicit keyword will result in an error or misinterpretation.\n",
      "  FutureWarning\n"
     ]
    },
    {
     "data": {
      "image/png": "[encoded data removed]",
      "text/plain": [
       "<Figure size 1080x576 with 1 Axes>"
      ]
     },
     "metadata": {
      "needs_background": "light"
     },
     "output_type": "display_data"
    }
   ],
   "source": [
    "zs = ['zscore_selling_price', 'zscore_km_driven', 'zscore_year', 'zscore_engine', 'zscore_mileage']\n",
    "\n",
    "for z in zs:\n",
    "    sns.boxplot(df[z])\n",
    "    plt.show()"
   ]
  },
  {
   "cell_type": "markdown",
   "id": "fed626d2",
   "metadata": {
    "papermill": {
     "duration": 0.123346,
     "end_time": "2021-12-25T04:07:11.825231",
     "exception": false,
     "start_time": "2021-12-25T04:07:11.701885",
     "status": "completed"
    },
    "tags": []
   },
   "source": [
    "#### Let's leave the outlier trimming at this for the time being, we can always return to it and cut some additional data out if our model is not performing to expectations"
   ]
  },
  {
   "cell_type": "code",
   "execution_count": 76,
   "id": "cc7c91da",
   "metadata": {
    "execution": {
     "iopub.execute_input": "2021-12-25T04:07:12.075888Z",
     "iopub.status.busy": "2021-12-25T04:07:12.075160Z",
     "iopub.status.idle": "2021-12-25T04:07:12.079514Z",
     "shell.execute_reply": "2021-12-25T04:07:12.078988Z",
     "shell.execute_reply.started": "2021-12-25T03:59:03.295294Z"
    },
    "papermill": {
     "duration": 0.131973,
     "end_time": "2021-12-25T04:07:12.079677",
     "exception": false,
     "start_time": "2021-12-25T04:07:11.947704",
     "status": "completed"
    },
    "tags": []
   },
   "outputs": [],
   "source": [
    "df = df.drop(zs, axis=1)"
   ]
  },
  {
   "cell_type": "code",
   "execution_count": 77,
   "id": "cdc4e24b",
   "metadata": {
    "execution": {
     "iopub.execute_input": "2021-12-25T04:07:12.332791Z",
     "iopub.status.busy": "2021-12-25T04:07:12.331916Z",
     "iopub.status.idle": "2021-12-25T04:07:12.335685Z",
     "shell.execute_reply": "2021-12-25T04:07:12.335142Z",
     "shell.execute_reply.started": "2021-12-25T03:59:03.304545Z"
    },
    "papermill": {
     "duration": 0.131946,
     "end_time": "2021-12-25T04:07:12.335832",
     "exception": false,
     "start_time": "2021-12-25T04:07:12.203886",
     "status": "completed"
    },
    "tags": []
   },
   "outputs": [],
   "source": [
    "df = df.drop(['zscore_max_power', 'zscore_seats'], axis=1)"
   ]
  },
  {
   "cell_type": "markdown",
   "id": "ae75d7b7",
   "metadata": {
    "papermill": {
     "duration": 0.121624,
     "end_time": "2021-12-25T04:07:12.579673",
     "exception": false,
     "start_time": "2021-12-25T04:07:12.458049",
     "status": "completed"
    },
    "tags": []
   },
   "source": [
    "### Additional EDA"
   ]
  },
  {
   "cell_type": "code",
   "execution_count": 78,
   "id": "f1541c77",
   "metadata": {
    "execution": {
     "iopub.execute_input": "2021-12-25T04:07:12.834195Z",
     "iopub.status.busy": "2021-12-25T04:07:12.829851Z",
     "iopub.status.idle": "2021-12-25T04:07:13.399242Z",
     "shell.execute_reply": "2021-12-25T04:07:13.398696Z",
     "shell.execute_reply.started": "2021-12-25T03:59:03.315075Z"
    },
    "papermill": {
     "duration": 0.697527,
     "end_time": "2021-12-25T04:07:13.399387",
     "exception": false,
     "start_time": "2021-12-25T04:07:12.701860",
     "status": "completed"
    },
    "tags": []
   },
   "outputs": [
    {
     "data": {
      "image/png": "[encoded data removed]",
      "text/plain": [
       "<Figure size 1080x576 with 1 Axes>"
      ]
     },
     "metadata": {
      "needs_background": "light"
     },
     "output_type": "display_data"
    },
    {
     "data": {
      "image/png": "[encoded data removed]",
      "text/plain": [
       "<Figure size 1080x576 with 1 Axes>"
      ]
     },
     "metadata": {
      "needs_background": "light"
     },
     "output_type": "display_data"
    },
    {
     "data": {
      "image/png": "[encoded data removed]",
      "text/plain": [
       "<Figure size 1080x576 with 1 Axes>"
      ]
     },
     "metadata": {
      "needs_background": "light"
     },
     "output_type": "display_data"
    }
   ],
   "source": [
    "cats = ['fuel', 'seller_type', 'transmission']\n",
    "for c in cats:\n",
    "    sns.countplot(x=c, data=df)\n",
    "    plt.show()"
   ]
  },
  {
   "cell_type": "markdown",
   "id": "777e2cc0",
   "metadata": {
    "papermill": {
     "duration": 0.124405,
     "end_time": "2021-12-25T04:07:13.648796",
     "exception": false,
     "start_time": "2021-12-25T04:07:13.524391",
     "status": "completed"
    },
    "tags": []
   },
   "source": [
    "As we previously have done, we'll simply be label encoding the categorical columns in the following manner:\n",
    "1. For the seller type, the individual can be a '0', the dealer will be '1', and the trustmark dealer will be '2'.\n",
    "2. For fuel we're going to modify it slightly from our previous run: Diesel will be 0, petrol will be 1, and 'LPG' and 'CNG' will both become 2 (the two will effectively be combined into one).\n",
    "3. Simple binary encoding for transmission, 0 if manual, 1 if automatic"
   ]
  },
  {
   "cell_type": "code",
   "execution_count": 79,
   "id": "76e913b8",
   "metadata": {
    "execution": {
     "iopub.execute_input": "2021-12-25T04:07:13.900787Z",
     "iopub.status.busy": "2021-12-25T04:07:13.900070Z",
     "iopub.status.idle": "2021-12-25T04:07:13.944334Z",
     "shell.execute_reply": "2021-12-25T04:07:13.944846Z",
     "shell.execute_reply.started": "2021-12-25T03:59:03.919587Z"
    },
    "papermill": {
     "duration": 0.170661,
     "end_time": "2021-12-25T04:07:13.945022",
     "exception": false,
     "start_time": "2021-12-25T04:07:13.774361",
     "status": "completed"
    },
    "tags": []
   },
   "outputs": [
    {
     "data": {
      "text/html": [
       "<div>\n",
       "<style scoped>\n",
       "    .dataframe tbody tr th:only-of-type {\n",
       "        vertical-align: middle;\n",
       "    }\n",
       "\n",
       "    .dataframe tbody tr th {\n",
       "        vertical-align: top;\n",
       "    }\n",
       "\n",
       "    .dataframe thead th {\n",
       "        text-align: right;\n",
       "    }\n",
       "</style>\n",
       "<table border=\"1\" class=\"dataframe\">\n",
       "  <thead>\n",
       "    <tr style=\"text-align: right;\">\n",
       "      <th></th>\n",
       "      <th>year</th>\n",
       "      <th>selling_price</th>\n",
       "      <th>km_driven</th>\n",
       "      <th>fuel</th>\n",
       "      <th>seller_type</th>\n",
       "      <th>transmission</th>\n",
       "      <th>owner</th>\n",
       "      <th>mileage</th>\n",
       "      <th>engine</th>\n",
       "      <th>max_power</th>\n",
       "      <th>torque</th>\n",
       "      <th>seats</th>\n",
       "    </tr>\n",
       "  </thead>\n",
       "  <tbody>\n",
       "    <tr>\n",
       "      <th>0</th>\n",
       "      <td>2014</td>\n",
       "      <td>450000</td>\n",
       "      <td>145500</td>\n",
       "      <td>0</td>\n",
       "      <td>0</td>\n",
       "      <td>0</td>\n",
       "      <td>0</td>\n",
       "      <td>23.40</td>\n",
       "      <td>1248</td>\n",
       "      <td>74.00</td>\n",
       "      <td>190Nm@ 2000rpm</td>\n",
       "      <td>5.0</td>\n",
       "    </tr>\n",
       "    <tr>\n",
       "      <th>1</th>\n",
       "      <td>2014</td>\n",
       "      <td>370000</td>\n",
       "      <td>120000</td>\n",
       "      <td>0</td>\n",
       "      <td>0</td>\n",
       "      <td>0</td>\n",
       "      <td>1</td>\n",
       "      <td>21.14</td>\n",
       "      <td>1498</td>\n",
       "      <td>103.52</td>\n",
       "      <td>250Nm@ 1500-2500rpm</td>\n",
       "      <td>5.0</td>\n",
       "    </tr>\n",
       "    <tr>\n",
       "      <th>2</th>\n",
       "      <td>2006</td>\n",
       "      <td>158000</td>\n",
       "      <td>140000</td>\n",
       "      <td>1</td>\n",
       "      <td>0</td>\n",
       "      <td>0</td>\n",
       "      <td>1</td>\n",
       "      <td>17.70</td>\n",
       "      <td>1497</td>\n",
       "      <td>78.00</td>\n",
       "      <td>12.7@ 2,700(kgm@ rpm)</td>\n",
       "      <td>5.0</td>\n",
       "    </tr>\n",
       "    <tr>\n",
       "      <th>3</th>\n",
       "      <td>2010</td>\n",
       "      <td>225000</td>\n",
       "      <td>127000</td>\n",
       "      <td>0</td>\n",
       "      <td>0</td>\n",
       "      <td>0</td>\n",
       "      <td>0</td>\n",
       "      <td>23.00</td>\n",
       "      <td>1396</td>\n",
       "      <td>90.00</td>\n",
       "      <td>22.4 kgm at 1750-2750rpm</td>\n",
       "      <td>5.0</td>\n",
       "    </tr>\n",
       "    <tr>\n",
       "      <th>4</th>\n",
       "      <td>2007</td>\n",
       "      <td>130000</td>\n",
       "      <td>120000</td>\n",
       "      <td>1</td>\n",
       "      <td>0</td>\n",
       "      <td>0</td>\n",
       "      <td>0</td>\n",
       "      <td>16.10</td>\n",
       "      <td>1298</td>\n",
       "      <td>88.20</td>\n",
       "      <td>11.5@ 4,500(kgm@ rpm)</td>\n",
       "      <td>5.0</td>\n",
       "    </tr>\n",
       "    <tr>\n",
       "      <th>...</th>\n",
       "      <td>...</td>\n",
       "      <td>...</td>\n",
       "      <td>...</td>\n",
       "      <td>...</td>\n",
       "      <td>...</td>\n",
       "      <td>...</td>\n",
       "      <td>...</td>\n",
       "      <td>...</td>\n",
       "      <td>...</td>\n",
       "      <td>...</td>\n",
       "      <td>...</td>\n",
       "      <td>...</td>\n",
       "    </tr>\n",
       "    <tr>\n",
       "      <th>8123</th>\n",
       "      <td>2013</td>\n",
       "      <td>320000</td>\n",
       "      <td>110000</td>\n",
       "      <td>1</td>\n",
       "      <td>0</td>\n",
       "      <td>0</td>\n",
       "      <td>0</td>\n",
       "      <td>18.50</td>\n",
       "      <td>1197</td>\n",
       "      <td>82.85</td>\n",
       "      <td>113.7Nm@ 4000rpm</td>\n",
       "      <td>5.0</td>\n",
       "    </tr>\n",
       "    <tr>\n",
       "      <th>8124</th>\n",
       "      <td>2007</td>\n",
       "      <td>135000</td>\n",
       "      <td>119000</td>\n",
       "      <td>0</td>\n",
       "      <td>0</td>\n",
       "      <td>0</td>\n",
       "      <td>1</td>\n",
       "      <td>16.80</td>\n",
       "      <td>1493</td>\n",
       "      <td>110.00</td>\n",
       "      <td>24@ 1,900-2,750(kgm@ rpm)</td>\n",
       "      <td>5.0</td>\n",
       "    </tr>\n",
       "    <tr>\n",
       "      <th>8125</th>\n",
       "      <td>2009</td>\n",
       "      <td>382000</td>\n",
       "      <td>120000</td>\n",
       "      <td>0</td>\n",
       "      <td>0</td>\n",
       "      <td>0</td>\n",
       "      <td>0</td>\n",
       "      <td>19.30</td>\n",
       "      <td>1248</td>\n",
       "      <td>73.90</td>\n",
       "      <td>190Nm@ 2000rpm</td>\n",
       "      <td>5.0</td>\n",
       "    </tr>\n",
       "    <tr>\n",
       "      <th>8126</th>\n",
       "      <td>2013</td>\n",
       "      <td>290000</td>\n",
       "      <td>25000</td>\n",
       "      <td>0</td>\n",
       "      <td>0</td>\n",
       "      <td>0</td>\n",
       "      <td>0</td>\n",
       "      <td>23.57</td>\n",
       "      <td>1396</td>\n",
       "      <td>70.00</td>\n",
       "      <td>140Nm@ 1800-3000rpm</td>\n",
       "      <td>5.0</td>\n",
       "    </tr>\n",
       "    <tr>\n",
       "      <th>8127</th>\n",
       "      <td>2013</td>\n",
       "      <td>290000</td>\n",
       "      <td>25000</td>\n",
       "      <td>0</td>\n",
       "      <td>0</td>\n",
       "      <td>0</td>\n",
       "      <td>0</td>\n",
       "      <td>23.57</td>\n",
       "      <td>1396</td>\n",
       "      <td>70.00</td>\n",
       "      <td>140Nm@ 1800-3000rpm</td>\n",
       "      <td>5.0</td>\n",
       "    </tr>\n",
       "  </tbody>\n",
       "</table>\n",
       "<p>7957 rows × 12 columns</p>\n",
       "</div>"
      ],
      "text/plain": [
       "      year  selling_price  km_driven  fuel  seller_type  transmission  owner  \\\n",
       "0     2014         450000     145500     0            0             0      0   \n",
       "1     2014         370000     120000     0            0             0      1   \n",
       "2     2006         158000     140000     1            0             0      1   \n",
       "3     2010         225000     127000     0            0             0      0   \n",
       "4     2007         130000     120000     1            0             0      0   \n",
       "...    ...            ...        ...   ...          ...           ...    ...   \n",
       "8123  2013         320000     110000     1            0             0      0   \n",
       "8124  2007         135000     119000     0            0             0      1   \n",
       "8125  2009         382000     120000     0            0             0      0   \n",
       "8126  2013         290000      25000     0            0             0      0   \n",
       "8127  2013         290000      25000     0            0             0      0   \n",
       "\n",
       "      mileage  engine  max_power                     torque  seats  \n",
       "0       23.40    1248      74.00             190Nm@ 2000rpm    5.0  \n",
       "1       21.14    1498     103.52        250Nm@ 1500-2500rpm    5.0  \n",
       "2       17.70    1497      78.00      12.7@ 2,700(kgm@ rpm)    5.0  \n",
       "3       23.00    1396      90.00   22.4 kgm at 1750-2750rpm    5.0  \n",
       "4       16.10    1298      88.20      11.5@ 4,500(kgm@ rpm)    5.0  \n",
       "...       ...     ...        ...                        ...    ...  \n",
       "8123    18.50    1197      82.85           113.7Nm@ 4000rpm    5.0  \n",
       "8124    16.80    1493     110.00  24@ 1,900-2,750(kgm@ rpm)    5.0  \n",
       "8125    19.30    1248      73.90             190Nm@ 2000rpm    5.0  \n",
       "8126    23.57    1396      70.00        140Nm@ 1800-3000rpm    5.0  \n",
       "8127    23.57    1396      70.00        140Nm@ 1800-3000rpm    5.0  \n",
       "\n",
       "[7957 rows x 12 columns]"
      ]
     },
     "execution_count": 79,
     "metadata": {},
     "output_type": "execute_result"
    }
   ],
   "source": [
    "#Wrapper for seller_type\n",
    "mapp = {'Individual':0, 'Dealer':1, 'Trustmark Dealer':2}\n",
    "df.seller_type = df.seller_type.replace(mapp)\n",
    "\n",
    "#Wrapper for fuel\n",
    "mapp2 = {'Diesel': 0, 'Petrol': 1, 'LPG': 2, 'CNG': 2}\n",
    "df.fuel= df.fuel.replace(mapp2)\n",
    "\n",
    "#Simple binary encoding, 0 if manual, 1 if automatic\n",
    "mapper = {'Manual':0, 'Automatic':1}\n",
    "df.transmission = df.transmission.replace(mapper)\n",
    "df.transmission.value_counts()\n",
    "\n",
    "df"
   ]
  },
  {
   "cell_type": "code",
   "execution_count": 80,
   "id": "d29dbff4",
   "metadata": {
    "execution": {
     "iopub.execute_input": "2021-12-25T04:07:14.198693Z",
     "iopub.status.busy": "2021-12-25T04:07:14.197940Z",
     "iopub.status.idle": "2021-12-25T04:07:14.206504Z",
     "shell.execute_reply": "2021-12-25T04:07:14.207143Z",
     "shell.execute_reply.started": "2021-12-25T03:59:03.965462Z"
    },
    "papermill": {
     "duration": 0.136491,
     "end_time": "2021-12-25T04:07:14.207316",
     "exception": false,
     "start_time": "2021-12-25T04:07:14.070825",
     "status": "completed"
    },
    "tags": []
   },
   "outputs": [
    {
     "data": {
      "text/plain": [
       "year               0\n",
       "selling_price      0\n",
       "km_driven          0\n",
       "fuel               0\n",
       "seller_type        0\n",
       "transmission       0\n",
       "owner              0\n",
       "mileage            0\n",
       "engine             0\n",
       "max_power          1\n",
       "torque           221\n",
       "seats            220\n",
       "dtype: int64"
      ]
     },
     "execution_count": 80,
     "metadata": {},
     "output_type": "execute_result"
    }
   ],
   "source": [
    "df.isna().sum()"
   ]
  },
  {
   "cell_type": "code",
   "execution_count": 81,
   "id": "e975ee68",
   "metadata": {
    "execution": {
     "iopub.execute_input": "2021-12-25T04:07:14.463589Z",
     "iopub.status.busy": "2021-12-25T04:07:14.462911Z",
     "iopub.status.idle": "2021-12-25T04:07:14.755411Z",
     "shell.execute_reply": "2021-12-25T04:07:14.754891Z",
     "shell.execute_reply.started": "2021-12-25T03:59:03.977301Z"
    },
    "papermill": {
     "duration": 0.421685,
     "end_time": "2021-12-25T04:07:14.755601",
     "exception": false,
     "start_time": "2021-12-25T04:07:14.333916",
     "status": "completed"
    },
    "tags": []
   },
   "outputs": [
    {
     "data": {
      "text/plain": [
       "<AxesSubplot:xlabel='seats', ylabel='Count'>"
      ]
     },
     "execution_count": 81,
     "metadata": {},
     "output_type": "execute_result"
    },
    {
     "data": {
      "image/png": "[encoded data removed]",
      "text/plain": [
       "<Figure size 1080x576 with 1 Axes>"
      ]
     },
     "metadata": {
      "needs_background": "light"
     },
     "output_type": "display_data"
    }
   ],
   "source": [
    "sns.histplot(x='seats', data=df)"
   ]
  },
  {
   "cell_type": "code",
   "execution_count": 82,
   "id": "6d023b48",
   "metadata": {
    "execution": {
     "iopub.execute_input": "2021-12-25T04:07:15.019810Z",
     "iopub.status.busy": "2021-12-25T04:07:15.019088Z",
     "iopub.status.idle": "2021-12-25T04:07:15.024930Z",
     "shell.execute_reply": "2021-12-25T04:07:15.025454Z",
     "shell.execute_reply.started": "2021-12-25T03:59:04.267420Z"
    },
    "papermill": {
     "duration": 0.137042,
     "end_time": "2021-12-25T04:07:15.025659",
     "exception": false,
     "start_time": "2021-12-25T04:07:14.888617",
     "status": "completed"
    },
    "tags": []
   },
   "outputs": [
    {
     "name": "stdout",
     "output_type": "stream",
     "text": [
      "Number of nans for seats column: 0\n"
     ]
    }
   ],
   "source": [
    "# We will impute the seats NaN values with 5, the most common occurance\n",
    "df.seats = df.seats.fillna(value=5.0)\n",
    "print(f'Number of nans for seats column: {df.seats.isna().sum()}')"
   ]
  },
  {
   "cell_type": "code",
   "execution_count": 83,
   "id": "401c259a",
   "metadata": {
    "execution": {
     "iopub.execute_input": "2021-12-25T04:07:15.282955Z",
     "iopub.status.busy": "2021-12-25T04:07:15.282227Z",
     "iopub.status.idle": "2021-12-25T04:07:15.302487Z",
     "shell.execute_reply": "2021-12-25T04:07:15.303089Z",
     "shell.execute_reply.started": "2021-12-25T03:59:04.275791Z"
    },
    "papermill": {
     "duration": 0.149872,
     "end_time": "2021-12-25T04:07:15.303255",
     "exception": false,
     "start_time": "2021-12-25T04:07:15.153383",
     "status": "completed"
    },
    "tags": []
   },
   "outputs": [
    {
     "data": {
      "text/html": [
       "<div>\n",
       "<style scoped>\n",
       "    .dataframe tbody tr th:only-of-type {\n",
       "        vertical-align: middle;\n",
       "    }\n",
       "\n",
       "    .dataframe tbody tr th {\n",
       "        vertical-align: top;\n",
       "    }\n",
       "\n",
       "    .dataframe thead th {\n",
       "        text-align: right;\n",
       "    }\n",
       "</style>\n",
       "<table border=\"1\" class=\"dataframe\">\n",
       "  <thead>\n",
       "    <tr style=\"text-align: right;\">\n",
       "      <th></th>\n",
       "      <th>year</th>\n",
       "      <th>selling_price</th>\n",
       "      <th>km_driven</th>\n",
       "      <th>fuel</th>\n",
       "      <th>seller_type</th>\n",
       "      <th>transmission</th>\n",
       "      <th>owner</th>\n",
       "      <th>mileage</th>\n",
       "      <th>engine</th>\n",
       "      <th>max_power</th>\n",
       "      <th>seats</th>\n",
       "    </tr>\n",
       "  </thead>\n",
       "  <tbody>\n",
       "    <tr>\n",
       "      <th>0</th>\n",
       "      <td>2014</td>\n",
       "      <td>450000</td>\n",
       "      <td>145500</td>\n",
       "      <td>0</td>\n",
       "      <td>0</td>\n",
       "      <td>0</td>\n",
       "      <td>0</td>\n",
       "      <td>23.40</td>\n",
       "      <td>1248</td>\n",
       "      <td>74.00</td>\n",
       "      <td>5.0</td>\n",
       "    </tr>\n",
       "    <tr>\n",
       "      <th>1</th>\n",
       "      <td>2014</td>\n",
       "      <td>370000</td>\n",
       "      <td>120000</td>\n",
       "      <td>0</td>\n",
       "      <td>0</td>\n",
       "      <td>0</td>\n",
       "      <td>1</td>\n",
       "      <td>21.14</td>\n",
       "      <td>1498</td>\n",
       "      <td>103.52</td>\n",
       "      <td>5.0</td>\n",
       "    </tr>\n",
       "    <tr>\n",
       "      <th>2</th>\n",
       "      <td>2006</td>\n",
       "      <td>158000</td>\n",
       "      <td>140000</td>\n",
       "      <td>1</td>\n",
       "      <td>0</td>\n",
       "      <td>0</td>\n",
       "      <td>1</td>\n",
       "      <td>17.70</td>\n",
       "      <td>1497</td>\n",
       "      <td>78.00</td>\n",
       "      <td>5.0</td>\n",
       "    </tr>\n",
       "    <tr>\n",
       "      <th>3</th>\n",
       "      <td>2010</td>\n",
       "      <td>225000</td>\n",
       "      <td>127000</td>\n",
       "      <td>0</td>\n",
       "      <td>0</td>\n",
       "      <td>0</td>\n",
       "      <td>0</td>\n",
       "      <td>23.00</td>\n",
       "      <td>1396</td>\n",
       "      <td>90.00</td>\n",
       "      <td>5.0</td>\n",
       "    </tr>\n",
       "    <tr>\n",
       "      <th>4</th>\n",
       "      <td>2007</td>\n",
       "      <td>130000</td>\n",
       "      <td>120000</td>\n",
       "      <td>1</td>\n",
       "      <td>0</td>\n",
       "      <td>0</td>\n",
       "      <td>0</td>\n",
       "      <td>16.10</td>\n",
       "      <td>1298</td>\n",
       "      <td>88.20</td>\n",
       "      <td>5.0</td>\n",
       "    </tr>\n",
       "    <tr>\n",
       "      <th>...</th>\n",
       "      <td>...</td>\n",
       "      <td>...</td>\n",
       "      <td>...</td>\n",
       "      <td>...</td>\n",
       "      <td>...</td>\n",
       "      <td>...</td>\n",
       "      <td>...</td>\n",
       "      <td>...</td>\n",
       "      <td>...</td>\n",
       "      <td>...</td>\n",
       "      <td>...</td>\n",
       "    </tr>\n",
       "    <tr>\n",
       "      <th>8123</th>\n",
       "      <td>2013</td>\n",
       "      <td>320000</td>\n",
       "      <td>110000</td>\n",
       "      <td>1</td>\n",
       "      <td>0</td>\n",
       "      <td>0</td>\n",
       "      <td>0</td>\n",
       "      <td>18.50</td>\n",
       "      <td>1197</td>\n",
       "      <td>82.85</td>\n",
       "      <td>5.0</td>\n",
       "    </tr>\n",
       "    <tr>\n",
       "      <th>8124</th>\n",
       "      <td>2007</td>\n",
       "      <td>135000</td>\n",
       "      <td>119000</td>\n",
       "      <td>0</td>\n",
       "      <td>0</td>\n",
       "      <td>0</td>\n",
       "      <td>1</td>\n",
       "      <td>16.80</td>\n",
       "      <td>1493</td>\n",
       "      <td>110.00</td>\n",
       "      <td>5.0</td>\n",
       "    </tr>\n",
       "    <tr>\n",
       "      <th>8125</th>\n",
       "      <td>2009</td>\n",
       "      <td>382000</td>\n",
       "      <td>120000</td>\n",
       "      <td>0</td>\n",
       "      <td>0</td>\n",
       "      <td>0</td>\n",
       "      <td>0</td>\n",
       "      <td>19.30</td>\n",
       "      <td>1248</td>\n",
       "      <td>73.90</td>\n",
       "      <td>5.0</td>\n",
       "    </tr>\n",
       "    <tr>\n",
       "      <th>8126</th>\n",
       "      <td>2013</td>\n",
       "      <td>290000</td>\n",
       "      <td>25000</td>\n",
       "      <td>0</td>\n",
       "      <td>0</td>\n",
       "      <td>0</td>\n",
       "      <td>0</td>\n",
       "      <td>23.57</td>\n",
       "      <td>1396</td>\n",
       "      <td>70.00</td>\n",
       "      <td>5.0</td>\n",
       "    </tr>\n",
       "    <tr>\n",
       "      <th>8127</th>\n",
       "      <td>2013</td>\n",
       "      <td>290000</td>\n",
       "      <td>25000</td>\n",
       "      <td>0</td>\n",
       "      <td>0</td>\n",
       "      <td>0</td>\n",
       "      <td>0</td>\n",
       "      <td>23.57</td>\n",
       "      <td>1396</td>\n",
       "      <td>70.00</td>\n",
       "      <td>5.0</td>\n",
       "    </tr>\n",
       "  </tbody>\n",
       "</table>\n",
       "<p>7957 rows × 11 columns</p>\n",
       "</div>"
      ],
      "text/plain": [
       "      year  selling_price  km_driven  fuel  seller_type  transmission  owner  \\\n",
       "0     2014         450000     145500     0            0             0      0   \n",
       "1     2014         370000     120000     0            0             0      1   \n",
       "2     2006         158000     140000     1            0             0      1   \n",
       "3     2010         225000     127000     0            0             0      0   \n",
       "4     2007         130000     120000     1            0             0      0   \n",
       "...    ...            ...        ...   ...          ...           ...    ...   \n",
       "8123  2013         320000     110000     1            0             0      0   \n",
       "8124  2007         135000     119000     0            0             0      1   \n",
       "8125  2009         382000     120000     0            0             0      0   \n",
       "8126  2013         290000      25000     0            0             0      0   \n",
       "8127  2013         290000      25000     0            0             0      0   \n",
       "\n",
       "      mileage  engine  max_power  seats  \n",
       "0       23.40    1248      74.00    5.0  \n",
       "1       21.14    1498     103.52    5.0  \n",
       "2       17.70    1497      78.00    5.0  \n",
       "3       23.00    1396      90.00    5.0  \n",
       "4       16.10    1298      88.20    5.0  \n",
       "...       ...     ...        ...    ...  \n",
       "8123    18.50    1197      82.85    5.0  \n",
       "8124    16.80    1493     110.00    5.0  \n",
       "8125    19.30    1248      73.90    5.0  \n",
       "8126    23.57    1396      70.00    5.0  \n",
       "8127    23.57    1396      70.00    5.0  \n",
       "\n",
       "[7957 rows x 11 columns]"
      ]
     },
     "execution_count": 83,
     "metadata": {},
     "output_type": "execute_result"
    }
   ],
   "source": [
    "df = df.drop(['torque'], axis = 1)\n",
    "df"
   ]
  },
  {
   "cell_type": "code",
   "execution_count": 84,
   "id": "34e653bb",
   "metadata": {
    "execution": {
     "iopub.execute_input": "2021-12-25T04:07:15.560011Z",
     "iopub.status.busy": "2021-12-25T04:07:15.559352Z",
     "iopub.status.idle": "2021-12-25T04:07:15.566889Z",
     "shell.execute_reply": "2021-12-25T04:07:15.567464Z",
     "shell.execute_reply.started": "2021-12-25T03:59:04.305621Z"
    },
    "papermill": {
     "duration": 0.136956,
     "end_time": "2021-12-25T04:07:15.567641",
     "exception": false,
     "start_time": "2021-12-25T04:07:15.430685",
     "status": "completed"
    },
    "tags": []
   },
   "outputs": [
    {
     "data": {
      "text/plain": [
       "year             0\n",
       "selling_price    0\n",
       "km_driven        0\n",
       "fuel             0\n",
       "seller_type      0\n",
       "transmission     0\n",
       "owner            0\n",
       "mileage          0\n",
       "engine           0\n",
       "max_power        0\n",
       "seats            0\n",
       "dtype: int64"
      ]
     },
     "execution_count": 84,
     "metadata": {},
     "output_type": "execute_result"
    }
   ],
   "source": [
    "df.max_power = df.max_power.fillna(value=impute_value_mp)\n",
    "df.isna().sum()"
   ]
  },
  {
   "cell_type": "markdown",
   "id": "dd88cef5",
   "metadata": {
    "papermill": {
     "duration": 0.128466,
     "end_time": "2021-12-25T04:07:15.822949",
     "exception": false,
     "start_time": "2021-12-25T04:07:15.694483",
     "status": "completed"
    },
    "tags": []
   },
   "source": [
    "## Scaling and building our model"
   ]
  },
  {
   "cell_type": "code",
   "execution_count": 85,
   "id": "5a6d65b2",
   "metadata": {
    "execution": {
     "iopub.execute_input": "2021-12-25T04:07:16.082862Z",
     "iopub.status.busy": "2021-12-25T04:07:16.082133Z",
     "iopub.status.idle": "2021-12-25T04:07:16.088100Z",
     "shell.execute_reply": "2021-12-25T04:07:16.087516Z",
     "shell.execute_reply.started": "2021-12-25T03:59:04.316458Z"
    },
    "papermill": {
     "duration": 0.137415,
     "end_time": "2021-12-25T04:07:16.088263",
     "exception": false,
     "start_time": "2021-12-25T04:07:15.950848",
     "status": "completed"
    },
    "tags": []
   },
   "outputs": [],
   "source": [
    "y = df.selling_price\n",
    "X = df.drop('selling_price', axis=1)"
   ]
  },
  {
   "cell_type": "markdown",
   "id": "d7db5e1d",
   "metadata": {
    "papermill": {
     "duration": 0.128868,
     "end_time": "2021-12-25T04:07:16.347736",
     "exception": false,
     "start_time": "2021-12-25T04:07:16.218868",
     "status": "completed"
    },
    "tags": []
   },
   "source": [
    "### Linear Regression"
   ]
  },
  {
   "cell_type": "code",
   "execution_count": 86,
   "id": "c68432ff",
   "metadata": {
    "execution": {
     "iopub.execute_input": "2021-12-25T04:07:16.608426Z",
     "iopub.status.busy": "2021-12-25T04:07:16.607579Z",
     "iopub.status.idle": "2021-12-25T04:07:16.630367Z",
     "shell.execute_reply": "2021-12-25T04:07:16.631220Z",
     "shell.execute_reply.started": "2021-12-25T03:59:04.326358Z"
    },
    "papermill": {
     "duration": 0.156715,
     "end_time": "2021-12-25T04:07:16.631533",
     "exception": false,
     "start_time": "2021-12-25T04:07:16.474818",
     "status": "completed"
    },
    "tags": []
   },
   "outputs": [],
   "source": [
    "#Splitting data\n",
    "X_train, X_test, y_train, y_test = train_test_split(X, y, test_size = .25, random_state = 1)\n",
    "\n",
    "#Scaling the data for Linear Regression\n",
    "    \n",
    "scaler = StandardScaler()\n",
    "\n",
    "scaled_X_train = pd.DataFrame(scaler.fit_transform(X_train), columns = X_train.columns)\n",
    "scaled_X_test = pd.DataFrame(scaler.transform(X_test), columns = X_test.columns)\n",
    "\n",
    "# Running linear regression\n",
    "\n",
    "LR_2 = LinearRegression()\n",
    "LR_2.fit(scaled_X_train, y_train)\n",
    "y_pred_LR_2 = LR_2.predict(scaled_X_test)\n"
   ]
  },
  {
   "cell_type": "markdown",
   "id": "76161f9a",
   "metadata": {
    "papermill": {
     "duration": 0.129004,
     "end_time": "2021-12-25T04:07:16.944800",
     "exception": false,
     "start_time": "2021-12-25T04:07:16.815796",
     "status": "completed"
    },
    "tags": []
   },
   "source": [
    "### XGBoostRegressor"
   ]
  },
  {
   "cell_type": "code",
   "execution_count": 87,
   "id": "58b55540",
   "metadata": {
    "execution": {
     "iopub.execute_input": "2021-12-25T04:07:17.205408Z",
     "iopub.status.busy": "2021-12-25T04:07:17.204254Z",
     "iopub.status.idle": "2021-12-25T04:07:17.733235Z",
     "shell.execute_reply": "2021-12-25T04:07:17.734145Z",
     "shell.execute_reply.started": "2021-12-25T03:59:04.357329Z"
    },
    "papermill": {
     "duration": 0.662585,
     "end_time": "2021-12-25T04:07:17.734353",
     "exception": false,
     "start_time": "2021-12-25T04:07:17.071768",
     "status": "completed"
    },
    "tags": []
   },
   "outputs": [],
   "source": [
    "xgbr_2 = XGBRegressor(verbosity=0)\n",
    "xgbr_2.fit(X_train, y_train)\n",
    "y_pred_X_2 = xgbr_2.predict(X_test)"
   ]
  },
  {
   "cell_type": "code",
   "execution_count": 88,
   "id": "76bad177",
   "metadata": {
    "execution": {
     "iopub.execute_input": "2021-12-25T04:07:17.999238Z",
     "iopub.status.busy": "2021-12-25T04:07:17.998573Z",
     "iopub.status.idle": "2021-12-25T04:07:18.005791Z",
     "shell.execute_reply": "2021-12-25T04:07:18.006370Z",
     "shell.execute_reply.started": "2021-12-25T03:59:04.985598Z"
    },
    "papermill": {
     "duration": 0.141961,
     "end_time": "2021-12-25T04:07:18.006559",
     "exception": false,
     "start_time": "2021-12-25T04:07:17.864598",
     "status": "completed"
    },
    "tags": []
   },
   "outputs": [
    {
     "data": {
      "text/html": [
       "<div>\n",
       "<style scoped>\n",
       "    .dataframe tbody tr th:only-of-type {\n",
       "        vertical-align: middle;\n",
       "    }\n",
       "\n",
       "    .dataframe tbody tr th {\n",
       "        vertical-align: top;\n",
       "    }\n",
       "\n",
       "    .dataframe thead th {\n",
       "        text-align: right;\n",
       "    }\n",
       "</style>\n",
       "<table border=\"1\" class=\"dataframe\">\n",
       "  <thead>\n",
       "    <tr style=\"text-align: right;\">\n",
       "      <th></th>\n",
       "      <th>r2 coeff.</th>\n",
       "      <th>MAE</th>\n",
       "      <th>MSE</th>\n",
       "      <th>RMSE</th>\n",
       "      <th>Type of model</th>\n",
       "    </tr>\n",
       "  </thead>\n",
       "  <tbody>\n",
       "    <tr>\n",
       "      <th>0</th>\n",
       "      <td>0.582183</td>\n",
       "      <td>270351.821424</td>\n",
       "      <td>183487547550.807343</td>\n",
       "      <td>428354.464843</td>\n",
       "      <td>Linear Regression</td>\n",
       "    </tr>\n",
       "    <tr>\n",
       "      <th>0</th>\n",
       "      <td>0.970595</td>\n",
       "      <td>66802.167023</td>\n",
       "      <td>13703221977.427296</td>\n",
       "      <td>117060.761903</td>\n",
       "      <td>XGBR</td>\n",
       "    </tr>\n",
       "  </tbody>\n",
       "</table>\n",
       "</div>"
      ],
      "text/plain": [
       "  r2 coeff.            MAE                  MSE           RMSE  \\\n",
       "0  0.582183  270351.821424  183487547550.807343  428354.464843   \n",
       "0  0.970595   66802.167023   13703221977.427296  117060.761903   \n",
       "\n",
       "       Type of model  \n",
       "0  Linear Regression  \n",
       "0               XGBR  "
      ]
     },
     "execution_count": 88,
     "metadata": {},
     "output_type": "execute_result"
    }
   ],
   "source": [
    "df_metrics"
   ]
  },
  {
   "cell_type": "code",
   "execution_count": 89,
   "id": "a668ae0c",
   "metadata": {
    "execution": {
     "iopub.execute_input": "2021-12-25T04:07:18.276307Z",
     "iopub.status.busy": "2021-12-25T04:07:18.275632Z",
     "iopub.status.idle": "2021-12-25T04:07:18.287822Z",
     "shell.execute_reply": "2021-12-25T04:07:18.288342Z",
     "shell.execute_reply.started": "2021-12-25T03:59:04.998070Z"
    },
    "papermill": {
     "duration": 0.152344,
     "end_time": "2021-12-25T04:07:18.288525",
     "exception": false,
     "start_time": "2021-12-25T04:07:18.136181",
     "status": "completed"
    },
    "tags": []
   },
   "outputs": [
    {
     "data": {
      "text/html": [
       "<div>\n",
       "<style scoped>\n",
       "    .dataframe tbody tr th:only-of-type {\n",
       "        vertical-align: middle;\n",
       "    }\n",
       "\n",
       "    .dataframe tbody tr th {\n",
       "        vertical-align: top;\n",
       "    }\n",
       "\n",
       "    .dataframe thead th {\n",
       "        text-align: right;\n",
       "    }\n",
       "</style>\n",
       "<table border=\"1\" class=\"dataframe\">\n",
       "  <thead>\n",
       "    <tr style=\"text-align: right;\">\n",
       "      <th></th>\n",
       "      <th>r2 coeff.</th>\n",
       "      <th>MAE</th>\n",
       "      <th>MSE</th>\n",
       "      <th>RMSE</th>\n",
       "      <th>Type of model</th>\n",
       "    </tr>\n",
       "  </thead>\n",
       "  <tbody>\n",
       "    <tr>\n",
       "      <th>0</th>\n",
       "      <td>0.582183</td>\n",
       "      <td>270351.821424</td>\n",
       "      <td>183487547550.807343</td>\n",
       "      <td>428354.464843</td>\n",
       "      <td>Linear Regression</td>\n",
       "    </tr>\n",
       "    <tr>\n",
       "      <th>0</th>\n",
       "      <td>0.970595</td>\n",
       "      <td>66802.167023</td>\n",
       "      <td>13703221977.427296</td>\n",
       "      <td>117060.761903</td>\n",
       "      <td>XGBR</td>\n",
       "    </tr>\n",
       "    <tr>\n",
       "      <th>0</th>\n",
       "      <td>0.581912</td>\n",
       "      <td>196667.74801</td>\n",
       "      <td>92492856579.598984</td>\n",
       "      <td>304126.382577</td>\n",
       "      <td>Linear Regression - Revised</td>\n",
       "    </tr>\n",
       "    <tr>\n",
       "      <th>0</th>\n",
       "      <td>0.949008</td>\n",
       "      <td>65068.332318</td>\n",
       "      <td>16148647360.152979</td>\n",
       "      <td>127077.32827</td>\n",
       "      <td>XGBR - revised</td>\n",
       "    </tr>\n",
       "  </tbody>\n",
       "</table>\n",
       "</div>"
      ],
      "text/plain": [
       "  r2 coeff.            MAE                  MSE           RMSE  \\\n",
       "0  0.582183  270351.821424  183487547550.807343  428354.464843   \n",
       "0  0.970595   66802.167023   13703221977.427296  117060.761903   \n",
       "0  0.581912   196667.74801   92492856579.598984  304126.382577   \n",
       "0  0.949008   65068.332318   16148647360.152979   127077.32827   \n",
       "\n",
       "                 Type of model  \n",
       "0            Linear Regression  \n",
       "0                         XGBR  \n",
       "0  Linear Regression - Revised  \n",
       "0               XGBR - revised  "
      ]
     },
     "execution_count": 89,
     "metadata": {},
     "output_type": "execute_result"
    }
   ],
   "source": [
    "df_metrics_LR2 = get_metrics(y_pred_LR_2, y_test, 'Linear Regression - Revised')\n",
    "df_metrics_X2 = get_metrics(y_pred_X_2, y_test, 'XGBR - revised')\n",
    "\n",
    "df_metrics = pd.concat([df_metrics, df_metrics_LR2, df_metrics_X2], axis=0)\n",
    "df_metrics"
   ]
  },
  {
   "cell_type": "markdown",
   "id": "79a28d8d",
   "metadata": {
    "papermill": {
     "duration": 0.129614,
     "end_time": "2021-12-25T04:07:18.549044",
     "exception": false,
     "start_time": "2021-12-25T04:07:18.419430",
     "status": "completed"
    },
    "tags": []
   },
   "source": [
    "Conclusion: Linear Regression improved ever so slightly, XGBR got worst"
   ]
  },
  {
   "cell_type": "markdown",
   "id": "313320f0",
   "metadata": {
    "papermill": {
     "duration": 0.128291,
     "end_time": "2021-12-25T04:07:18.806388",
     "exception": false,
     "start_time": "2021-12-25T04:07:18.678097",
     "status": "completed"
    },
    "tags": []
   },
   "source": [
    "## Hyperparameter Optimization"
   ]
  },
  {
   "cell_type": "code",
   "execution_count": 90,
   "id": "16ba689d",
   "metadata": {
    "execution": {
     "iopub.execute_input": "2021-12-25T04:07:19.073861Z",
     "iopub.status.busy": "2021-12-25T04:07:19.073126Z",
     "iopub.status.idle": "2021-12-25T04:07:19.076053Z",
     "shell.execute_reply": "2021-12-25T04:07:19.076649Z",
     "shell.execute_reply.started": "2021-12-25T04:05:00.901322Z"
    },
    "papermill": {
     "duration": 0.137179,
     "end_time": "2021-12-25T04:07:19.076832",
     "exception": false,
     "start_time": "2021-12-25T04:07:18.939653",
     "status": "completed"
    },
    "tags": []
   },
   "outputs": [],
   "source": [
    "#To be continued..."
   ]
  }
 ],
 "metadata": {
  "kernelspec": {
   "display_name": "Python 3",
   "language": "python",
   "name": "python3"
  },
  "language_info": {
   "codemirror_mode": {
    "name": "ipython",
    "version": 3
   },
   "file_extension": ".py",
   "mimetype": "text/x-python",
   "name": "python",
   "nbconvert_exporter": "python",
   "pygments_lexer": "ipython3",
   "version": "3.7.12"
  },
  "papermill": {
   "default_parameters": {},
   "duration": 47.547512,
   "end_time": "2021-12-25T04:07:20.018366",
   "environment_variables": {},
   "exception": null,
   "input_path": "__notebook__.ipynb",
   "output_path": "__notebook__.ipynb",
   "parameters": {},
   "start_time": "2021-12-25T04:06:32.470854",
   "version": "2.3.3"
  }
 },
 "nbformat": 4,
 "nbformat_minor": 5
}
