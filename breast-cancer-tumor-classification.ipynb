{
 "cells": [
  {
   "cell_type": "code",
   "execution_count": 1,
   "id": "cd2feb0d",
   "metadata": {
    "_cell_guid": "b1076dfc-b9ad-4769-8c92-a6c4dae69d19",
    "_uuid": "8f2839f25d086af736a60e9eeb907d3b93b6e0e5",
    "execution": {
     "iopub.execute_input": "2022-01-08T02:43:19.536476Z",
     "iopub.status.busy": "2022-01-08T02:43:19.527389Z",
     "iopub.status.idle": "2022-01-08T02:43:19.548279Z",
     "shell.execute_reply": "2022-01-08T02:43:19.548900Z",
     "shell.execute_reply.started": "2022-01-08T02:09:38.096840Z"
    },
    "papermill": {
     "duration": 0.10849,
     "end_time": "2022-01-08T02:43:19.549262",
     "exception": false,
     "start_time": "2022-01-08T02:43:19.440772",
     "status": "completed"
    },
    "tags": []
   },
   "outputs": [
    {
     "name": "stdout",
     "output_type": "stream",
     "text": [
      "/kaggle/input/breast-cancer-wisconsin-data/data.csv\n"
     ]
    }
   ],
   "source": [
    "# This Python 3 environment comes with many helpful analytics libraries installed\n",
    "# It is defined by the kaggle/python Docker image: https://github.com/kaggle/docker-python\n",
    "# For example, here's several helpful packages to load\n",
    "\n",
    "import numpy as np # linear algebra\n",
    "import pandas as pd # data processing, CSV file I/O (e.g. pd.read_csv)\n",
    "\n",
    "# Input data files are available in the read-only \"../input/\" directory\n",
    "# For example, running this (by clicking run or pressing Shift+Enter) will list all files under the input directory\n",
    "\n",
    "import os\n",
    "for dirname, _, filenames in os.walk('/kaggle/input'):\n",
    "    for filename in filenames:\n",
    "        print(os.path.join(dirname, filename))\n",
    "\n",
    "# You can write up to 20GB to the current directory (/kaggle/working/) that gets preserved as output when you create a version using \"Save & Run All\" \n",
    "# You can also write temporary files to /kaggle/temp/, but they won't be saved outside of the current session"
   ]
  },
  {
   "cell_type": "markdown",
   "id": "c049d472",
   "metadata": {
    "papermill": {
     "duration": 0.079492,
     "end_time": "2022-01-08T02:43:19.710535",
     "exception": false,
     "start_time": "2022-01-08T02:43:19.631043",
     "status": "completed"
    },
    "tags": []
   },
   "source": [
    "# Loading data in"
   ]
  },
  {
   "cell_type": "code",
   "execution_count": 2,
   "id": "f9d39054",
   "metadata": {
    "execution": {
     "iopub.execute_input": "2022-01-08T02:43:19.881042Z",
     "iopub.status.busy": "2022-01-08T02:43:19.880158Z",
     "iopub.status.idle": "2022-01-08T02:43:19.953062Z",
     "shell.execute_reply": "2022-01-08T02:43:19.952378Z",
     "shell.execute_reply.started": "2022-01-08T02:09:38.134380Z"
    },
    "papermill": {
     "duration": 0.161215,
     "end_time": "2022-01-08T02:43:19.953248",
     "exception": false,
     "start_time": "2022-01-08T02:43:19.792033",
     "status": "completed"
    },
    "tags": []
   },
   "outputs": [
    {
     "data": {
      "text/html": [
       "<div>\n",
       "<style scoped>\n",
       "    .dataframe tbody tr th:only-of-type {\n",
       "        vertical-align: middle;\n",
       "    }\n",
       "\n",
       "    .dataframe tbody tr th {\n",
       "        vertical-align: top;\n",
       "    }\n",
       "\n",
       "    .dataframe thead th {\n",
       "        text-align: right;\n",
       "    }\n",
       "</style>\n",
       "<table border=\"1\" class=\"dataframe\">\n",
       "  <thead>\n",
       "    <tr style=\"text-align: right;\">\n",
       "      <th></th>\n",
       "      <th>id</th>\n",
       "      <th>diagnosis</th>\n",
       "      <th>radius_mean</th>\n",
       "      <th>texture_mean</th>\n",
       "      <th>perimeter_mean</th>\n",
       "      <th>area_mean</th>\n",
       "      <th>smoothness_mean</th>\n",
       "      <th>compactness_mean</th>\n",
       "      <th>concavity_mean</th>\n",
       "      <th>concave points_mean</th>\n",
       "      <th>...</th>\n",
       "      <th>texture_worst</th>\n",
       "      <th>perimeter_worst</th>\n",
       "      <th>area_worst</th>\n",
       "      <th>smoothness_worst</th>\n",
       "      <th>compactness_worst</th>\n",
       "      <th>concavity_worst</th>\n",
       "      <th>concave points_worst</th>\n",
       "      <th>symmetry_worst</th>\n",
       "      <th>fractal_dimension_worst</th>\n",
       "      <th>Unnamed: 32</th>\n",
       "    </tr>\n",
       "  </thead>\n",
       "  <tbody>\n",
       "    <tr>\n",
       "      <th>0</th>\n",
       "      <td>842302</td>\n",
       "      <td>M</td>\n",
       "      <td>17.99</td>\n",
       "      <td>10.38</td>\n",
       "      <td>122.80</td>\n",
       "      <td>1001.0</td>\n",
       "      <td>0.11840</td>\n",
       "      <td>0.27760</td>\n",
       "      <td>0.30010</td>\n",
       "      <td>0.14710</td>\n",
       "      <td>...</td>\n",
       "      <td>17.33</td>\n",
       "      <td>184.60</td>\n",
       "      <td>2019.0</td>\n",
       "      <td>0.16220</td>\n",
       "      <td>0.66560</td>\n",
       "      <td>0.7119</td>\n",
       "      <td>0.2654</td>\n",
       "      <td>0.4601</td>\n",
       "      <td>0.11890</td>\n",
       "      <td>NaN</td>\n",
       "    </tr>\n",
       "    <tr>\n",
       "      <th>1</th>\n",
       "      <td>842517</td>\n",
       "      <td>M</td>\n",
       "      <td>20.57</td>\n",
       "      <td>17.77</td>\n",
       "      <td>132.90</td>\n",
       "      <td>1326.0</td>\n",
       "      <td>0.08474</td>\n",
       "      <td>0.07864</td>\n",
       "      <td>0.08690</td>\n",
       "      <td>0.07017</td>\n",
       "      <td>...</td>\n",
       "      <td>23.41</td>\n",
       "      <td>158.80</td>\n",
       "      <td>1956.0</td>\n",
       "      <td>0.12380</td>\n",
       "      <td>0.18660</td>\n",
       "      <td>0.2416</td>\n",
       "      <td>0.1860</td>\n",
       "      <td>0.2750</td>\n",
       "      <td>0.08902</td>\n",
       "      <td>NaN</td>\n",
       "    </tr>\n",
       "    <tr>\n",
       "      <th>2</th>\n",
       "      <td>84300903</td>\n",
       "      <td>M</td>\n",
       "      <td>19.69</td>\n",
       "      <td>21.25</td>\n",
       "      <td>130.00</td>\n",
       "      <td>1203.0</td>\n",
       "      <td>0.10960</td>\n",
       "      <td>0.15990</td>\n",
       "      <td>0.19740</td>\n",
       "      <td>0.12790</td>\n",
       "      <td>...</td>\n",
       "      <td>25.53</td>\n",
       "      <td>152.50</td>\n",
       "      <td>1709.0</td>\n",
       "      <td>0.14440</td>\n",
       "      <td>0.42450</td>\n",
       "      <td>0.4504</td>\n",
       "      <td>0.2430</td>\n",
       "      <td>0.3613</td>\n",
       "      <td>0.08758</td>\n",
       "      <td>NaN</td>\n",
       "    </tr>\n",
       "    <tr>\n",
       "      <th>3</th>\n",
       "      <td>84348301</td>\n",
       "      <td>M</td>\n",
       "      <td>11.42</td>\n",
       "      <td>20.38</td>\n",
       "      <td>77.58</td>\n",
       "      <td>386.1</td>\n",
       "      <td>0.14250</td>\n",
       "      <td>0.28390</td>\n",
       "      <td>0.24140</td>\n",
       "      <td>0.10520</td>\n",
       "      <td>...</td>\n",
       "      <td>26.50</td>\n",
       "      <td>98.87</td>\n",
       "      <td>567.7</td>\n",
       "      <td>0.20980</td>\n",
       "      <td>0.86630</td>\n",
       "      <td>0.6869</td>\n",
       "      <td>0.2575</td>\n",
       "      <td>0.6638</td>\n",
       "      <td>0.17300</td>\n",
       "      <td>NaN</td>\n",
       "    </tr>\n",
       "    <tr>\n",
       "      <th>4</th>\n",
       "      <td>84358402</td>\n",
       "      <td>M</td>\n",
       "      <td>20.29</td>\n",
       "      <td>14.34</td>\n",
       "      <td>135.10</td>\n",
       "      <td>1297.0</td>\n",
       "      <td>0.10030</td>\n",
       "      <td>0.13280</td>\n",
       "      <td>0.19800</td>\n",
       "      <td>0.10430</td>\n",
       "      <td>...</td>\n",
       "      <td>16.67</td>\n",
       "      <td>152.20</td>\n",
       "      <td>1575.0</td>\n",
       "      <td>0.13740</td>\n",
       "      <td>0.20500</td>\n",
       "      <td>0.4000</td>\n",
       "      <td>0.1625</td>\n",
       "      <td>0.2364</td>\n",
       "      <td>0.07678</td>\n",
       "      <td>NaN</td>\n",
       "    </tr>\n",
       "    <tr>\n",
       "      <th>...</th>\n",
       "      <td>...</td>\n",
       "      <td>...</td>\n",
       "      <td>...</td>\n",
       "      <td>...</td>\n",
       "      <td>...</td>\n",
       "      <td>...</td>\n",
       "      <td>...</td>\n",
       "      <td>...</td>\n",
       "      <td>...</td>\n",
       "      <td>...</td>\n",
       "      <td>...</td>\n",
       "      <td>...</td>\n",
       "      <td>...</td>\n",
       "      <td>...</td>\n",
       "      <td>...</td>\n",
       "      <td>...</td>\n",
       "      <td>...</td>\n",
       "      <td>...</td>\n",
       "      <td>...</td>\n",
       "      <td>...</td>\n",
       "      <td>...</td>\n",
       "    </tr>\n",
       "    <tr>\n",
       "      <th>564</th>\n",
       "      <td>926424</td>\n",
       "      <td>M</td>\n",
       "      <td>21.56</td>\n",
       "      <td>22.39</td>\n",
       "      <td>142.00</td>\n",
       "      <td>1479.0</td>\n",
       "      <td>0.11100</td>\n",
       "      <td>0.11590</td>\n",
       "      <td>0.24390</td>\n",
       "      <td>0.13890</td>\n",
       "      <td>...</td>\n",
       "      <td>26.40</td>\n",
       "      <td>166.10</td>\n",
       "      <td>2027.0</td>\n",
       "      <td>0.14100</td>\n",
       "      <td>0.21130</td>\n",
       "      <td>0.4107</td>\n",
       "      <td>0.2216</td>\n",
       "      <td>0.2060</td>\n",
       "      <td>0.07115</td>\n",
       "      <td>NaN</td>\n",
       "    </tr>\n",
       "    <tr>\n",
       "      <th>565</th>\n",
       "      <td>926682</td>\n",
       "      <td>M</td>\n",
       "      <td>20.13</td>\n",
       "      <td>28.25</td>\n",
       "      <td>131.20</td>\n",
       "      <td>1261.0</td>\n",
       "      <td>0.09780</td>\n",
       "      <td>0.10340</td>\n",
       "      <td>0.14400</td>\n",
       "      <td>0.09791</td>\n",
       "      <td>...</td>\n",
       "      <td>38.25</td>\n",
       "      <td>155.00</td>\n",
       "      <td>1731.0</td>\n",
       "      <td>0.11660</td>\n",
       "      <td>0.19220</td>\n",
       "      <td>0.3215</td>\n",
       "      <td>0.1628</td>\n",
       "      <td>0.2572</td>\n",
       "      <td>0.06637</td>\n",
       "      <td>NaN</td>\n",
       "    </tr>\n",
       "    <tr>\n",
       "      <th>566</th>\n",
       "      <td>926954</td>\n",
       "      <td>M</td>\n",
       "      <td>16.60</td>\n",
       "      <td>28.08</td>\n",
       "      <td>108.30</td>\n",
       "      <td>858.1</td>\n",
       "      <td>0.08455</td>\n",
       "      <td>0.10230</td>\n",
       "      <td>0.09251</td>\n",
       "      <td>0.05302</td>\n",
       "      <td>...</td>\n",
       "      <td>34.12</td>\n",
       "      <td>126.70</td>\n",
       "      <td>1124.0</td>\n",
       "      <td>0.11390</td>\n",
       "      <td>0.30940</td>\n",
       "      <td>0.3403</td>\n",
       "      <td>0.1418</td>\n",
       "      <td>0.2218</td>\n",
       "      <td>0.07820</td>\n",
       "      <td>NaN</td>\n",
       "    </tr>\n",
       "    <tr>\n",
       "      <th>567</th>\n",
       "      <td>927241</td>\n",
       "      <td>M</td>\n",
       "      <td>20.60</td>\n",
       "      <td>29.33</td>\n",
       "      <td>140.10</td>\n",
       "      <td>1265.0</td>\n",
       "      <td>0.11780</td>\n",
       "      <td>0.27700</td>\n",
       "      <td>0.35140</td>\n",
       "      <td>0.15200</td>\n",
       "      <td>...</td>\n",
       "      <td>39.42</td>\n",
       "      <td>184.60</td>\n",
       "      <td>1821.0</td>\n",
       "      <td>0.16500</td>\n",
       "      <td>0.86810</td>\n",
       "      <td>0.9387</td>\n",
       "      <td>0.2650</td>\n",
       "      <td>0.4087</td>\n",
       "      <td>0.12400</td>\n",
       "      <td>NaN</td>\n",
       "    </tr>\n",
       "    <tr>\n",
       "      <th>568</th>\n",
       "      <td>92751</td>\n",
       "      <td>B</td>\n",
       "      <td>7.76</td>\n",
       "      <td>24.54</td>\n",
       "      <td>47.92</td>\n",
       "      <td>181.0</td>\n",
       "      <td>0.05263</td>\n",
       "      <td>0.04362</td>\n",
       "      <td>0.00000</td>\n",
       "      <td>0.00000</td>\n",
       "      <td>...</td>\n",
       "      <td>30.37</td>\n",
       "      <td>59.16</td>\n",
       "      <td>268.6</td>\n",
       "      <td>0.08996</td>\n",
       "      <td>0.06444</td>\n",
       "      <td>0.0000</td>\n",
       "      <td>0.0000</td>\n",
       "      <td>0.2871</td>\n",
       "      <td>0.07039</td>\n",
       "      <td>NaN</td>\n",
       "    </tr>\n",
       "  </tbody>\n",
       "</table>\n",
       "<p>569 rows × 33 columns</p>\n",
       "</div>"
      ],
      "text/plain": [
       "           id diagnosis  radius_mean  texture_mean  perimeter_mean  area_mean  \\\n",
       "0      842302         M        17.99         10.38          122.80     1001.0   \n",
       "1      842517         M        20.57         17.77          132.90     1326.0   \n",
       "2    84300903         M        19.69         21.25          130.00     1203.0   \n",
       "3    84348301         M        11.42         20.38           77.58      386.1   \n",
       "4    84358402         M        20.29         14.34          135.10     1297.0   \n",
       "..        ...       ...          ...           ...             ...        ...   \n",
       "564    926424         M        21.56         22.39          142.00     1479.0   \n",
       "565    926682         M        20.13         28.25          131.20     1261.0   \n",
       "566    926954         M        16.60         28.08          108.30      858.1   \n",
       "567    927241         M        20.60         29.33          140.10     1265.0   \n",
       "568     92751         B         7.76         24.54           47.92      181.0   \n",
       "\n",
       "     smoothness_mean  compactness_mean  concavity_mean  concave points_mean  \\\n",
       "0            0.11840           0.27760         0.30010              0.14710   \n",
       "1            0.08474           0.07864         0.08690              0.07017   \n",
       "2            0.10960           0.15990         0.19740              0.12790   \n",
       "3            0.14250           0.28390         0.24140              0.10520   \n",
       "4            0.10030           0.13280         0.19800              0.10430   \n",
       "..               ...               ...             ...                  ...   \n",
       "564          0.11100           0.11590         0.24390              0.13890   \n",
       "565          0.09780           0.10340         0.14400              0.09791   \n",
       "566          0.08455           0.10230         0.09251              0.05302   \n",
       "567          0.11780           0.27700         0.35140              0.15200   \n",
       "568          0.05263           0.04362         0.00000              0.00000   \n",
       "\n",
       "     ...  texture_worst  perimeter_worst  area_worst  smoothness_worst  \\\n",
       "0    ...          17.33           184.60      2019.0           0.16220   \n",
       "1    ...          23.41           158.80      1956.0           0.12380   \n",
       "2    ...          25.53           152.50      1709.0           0.14440   \n",
       "3    ...          26.50            98.87       567.7           0.20980   \n",
       "4    ...          16.67           152.20      1575.0           0.13740   \n",
       "..   ...            ...              ...         ...               ...   \n",
       "564  ...          26.40           166.10      2027.0           0.14100   \n",
       "565  ...          38.25           155.00      1731.0           0.11660   \n",
       "566  ...          34.12           126.70      1124.0           0.11390   \n",
       "567  ...          39.42           184.60      1821.0           0.16500   \n",
       "568  ...          30.37            59.16       268.6           0.08996   \n",
       "\n",
       "     compactness_worst  concavity_worst  concave points_worst  symmetry_worst  \\\n",
       "0              0.66560           0.7119                0.2654          0.4601   \n",
       "1              0.18660           0.2416                0.1860          0.2750   \n",
       "2              0.42450           0.4504                0.2430          0.3613   \n",
       "3              0.86630           0.6869                0.2575          0.6638   \n",
       "4              0.20500           0.4000                0.1625          0.2364   \n",
       "..                 ...              ...                   ...             ...   \n",
       "564            0.21130           0.4107                0.2216          0.2060   \n",
       "565            0.19220           0.3215                0.1628          0.2572   \n",
       "566            0.30940           0.3403                0.1418          0.2218   \n",
       "567            0.86810           0.9387                0.2650          0.4087   \n",
       "568            0.06444           0.0000                0.0000          0.2871   \n",
       "\n",
       "     fractal_dimension_worst  Unnamed: 32  \n",
       "0                    0.11890          NaN  \n",
       "1                    0.08902          NaN  \n",
       "2                    0.08758          NaN  \n",
       "3                    0.17300          NaN  \n",
       "4                    0.07678          NaN  \n",
       "..                       ...          ...  \n",
       "564                  0.07115          NaN  \n",
       "565                  0.06637          NaN  \n",
       "566                  0.07820          NaN  \n",
       "567                  0.12400          NaN  \n",
       "568                  0.07039          NaN  \n",
       "\n",
       "[569 rows x 33 columns]"
      ]
     },
     "execution_count": 2,
     "metadata": {},
     "output_type": "execute_result"
    }
   ],
   "source": [
    "df = pd.read_csv('../input/breast-cancer-wisconsin-data/data.csv')\n",
    "df"
   ]
  },
  {
   "cell_type": "markdown",
   "id": "9519ff1c",
   "metadata": {
    "papermill": {
     "duration": 0.082318,
     "end_time": "2022-01-08T02:43:20.120380",
     "exception": false,
     "start_time": "2022-01-08T02:43:20.038062",
     "status": "completed"
    },
    "tags": []
   },
   "source": [
    "### We're trying to predict the 'diagnosis' (i.e. is it Malignant, M, or is it Benign, B)"
   ]
  },
  {
   "cell_type": "code",
   "execution_count": 3,
   "id": "e6631c66",
   "metadata": {
    "execution": {
     "iopub.execute_input": "2022-01-08T02:43:20.291377Z",
     "iopub.status.busy": "2022-01-08T02:43:20.290582Z",
     "iopub.status.idle": "2022-01-08T02:43:20.293389Z",
     "shell.execute_reply": "2022-01-08T02:43:20.293890Z",
     "shell.execute_reply.started": "2022-01-08T02:09:38.210350Z"
    },
    "papermill": {
     "duration": 0.092233,
     "end_time": "2022-01-08T02:43:20.294087",
     "exception": false,
     "start_time": "2022-01-08T02:43:20.201854",
     "status": "completed"
    },
    "tags": []
   },
   "outputs": [
    {
     "data": {
      "text/plain": [
       "id                           int64\n",
       "diagnosis                   object\n",
       "radius_mean                float64\n",
       "texture_mean               float64\n",
       "perimeter_mean             float64\n",
       "area_mean                  float64\n",
       "smoothness_mean            float64\n",
       "compactness_mean           float64\n",
       "concavity_mean             float64\n",
       "concave points_mean        float64\n",
       "symmetry_mean              float64\n",
       "fractal_dimension_mean     float64\n",
       "radius_se                  float64\n",
       "texture_se                 float64\n",
       "perimeter_se               float64\n",
       "area_se                    float64\n",
       "smoothness_se              float64\n",
       "compactness_se             float64\n",
       "concavity_se               float64\n",
       "concave points_se          float64\n",
       "symmetry_se                float64\n",
       "fractal_dimension_se       float64\n",
       "radius_worst               float64\n",
       "texture_worst              float64\n",
       "perimeter_worst            float64\n",
       "area_worst                 float64\n",
       "smoothness_worst           float64\n",
       "compactness_worst          float64\n",
       "concavity_worst            float64\n",
       "concave points_worst       float64\n",
       "symmetry_worst             float64\n",
       "fractal_dimension_worst    float64\n",
       "Unnamed: 32                float64\n",
       "dtype: object"
      ]
     },
     "execution_count": 3,
     "metadata": {},
     "output_type": "execute_result"
    }
   ],
   "source": [
    "df.dtypes"
   ]
  },
  {
   "cell_type": "code",
   "execution_count": 4,
   "id": "dbbfce4d",
   "metadata": {
    "execution": {
     "iopub.execute_input": "2022-01-08T02:43:20.460451Z",
     "iopub.status.busy": "2022-01-08T02:43:20.459681Z",
     "iopub.status.idle": "2022-01-08T02:43:20.469478Z",
     "shell.execute_reply": "2022-01-08T02:43:20.470060Z",
     "shell.execute_reply.started": "2022-01-08T02:09:38.220839Z"
    },
    "papermill": {
     "duration": 0.095185,
     "end_time": "2022-01-08T02:43:20.470259",
     "exception": false,
     "start_time": "2022-01-08T02:43:20.375074",
     "status": "completed"
    },
    "tags": []
   },
   "outputs": [
    {
     "data": {
      "text/plain": [
       "id                           0\n",
       "diagnosis                    0\n",
       "radius_mean                  0\n",
       "texture_mean                 0\n",
       "perimeter_mean               0\n",
       "area_mean                    0\n",
       "smoothness_mean              0\n",
       "compactness_mean             0\n",
       "concavity_mean               0\n",
       "concave points_mean          0\n",
       "symmetry_mean                0\n",
       "fractal_dimension_mean       0\n",
       "radius_se                    0\n",
       "texture_se                   0\n",
       "perimeter_se                 0\n",
       "area_se                      0\n",
       "smoothness_se                0\n",
       "compactness_se               0\n",
       "concavity_se                 0\n",
       "concave points_se            0\n",
       "symmetry_se                  0\n",
       "fractal_dimension_se         0\n",
       "radius_worst                 0\n",
       "texture_worst                0\n",
       "perimeter_worst              0\n",
       "area_worst                   0\n",
       "smoothness_worst             0\n",
       "compactness_worst            0\n",
       "concavity_worst              0\n",
       "concave points_worst         0\n",
       "symmetry_worst               0\n",
       "fractal_dimension_worst      0\n",
       "Unnamed: 32                569\n",
       "dtype: int64"
      ]
     },
     "execution_count": 4,
     "metadata": {},
     "output_type": "execute_result"
    }
   ],
   "source": [
    "df.isna().sum()"
   ]
  },
  {
   "cell_type": "code",
   "execution_count": 5,
   "id": "1f8a1472",
   "metadata": {
    "execution": {
     "iopub.execute_input": "2022-01-08T02:43:20.639280Z",
     "iopub.status.busy": "2022-01-08T02:43:20.638523Z",
     "iopub.status.idle": "2022-01-08T02:43:20.663064Z",
     "shell.execute_reply": "2022-01-08T02:43:20.664901Z",
     "shell.execute_reply.started": "2022-01-08T02:09:38.237011Z"
    },
    "papermill": {
     "duration": 0.112728,
     "end_time": "2022-01-08T02:43:20.665135",
     "exception": false,
     "start_time": "2022-01-08T02:43:20.552407",
     "status": "completed"
    },
    "tags": []
   },
   "outputs": [
    {
     "name": "stdout",
     "output_type": "stream",
     "text": [
      "<class 'pandas.core.frame.DataFrame'>\n",
      "RangeIndex: 569 entries, 0 to 568\n",
      "Data columns (total 33 columns):\n",
      " #   Column                   Non-Null Count  Dtype  \n",
      "---  ------                   --------------  -----  \n",
      " 0   id                       569 non-null    int64  \n",
      " 1   diagnosis                569 non-null    object \n",
      " 2   radius_mean              569 non-null    float64\n",
      " 3   texture_mean             569 non-null    float64\n",
      " 4   perimeter_mean           569 non-null    float64\n",
      " 5   area_mean                569 non-null    float64\n",
      " 6   smoothness_mean          569 non-null    float64\n",
      " 7   compactness_mean         569 non-null    float64\n",
      " 8   concavity_mean           569 non-null    float64\n",
      " 9   concave points_mean      569 non-null    float64\n",
      " 10  symmetry_mean            569 non-null    float64\n",
      " 11  fractal_dimension_mean   569 non-null    float64\n",
      " 12  radius_se                569 non-null    float64\n",
      " 13  texture_se               569 non-null    float64\n",
      " 14  perimeter_se             569 non-null    float64\n",
      " 15  area_se                  569 non-null    float64\n",
      " 16  smoothness_se            569 non-null    float64\n",
      " 17  compactness_se           569 non-null    float64\n",
      " 18  concavity_se             569 non-null    float64\n",
      " 19  concave points_se        569 non-null    float64\n",
      " 20  symmetry_se              569 non-null    float64\n",
      " 21  fractal_dimension_se     569 non-null    float64\n",
      " 22  radius_worst             569 non-null    float64\n",
      " 23  texture_worst            569 non-null    float64\n",
      " 24  perimeter_worst          569 non-null    float64\n",
      " 25  area_worst               569 non-null    float64\n",
      " 26  smoothness_worst         569 non-null    float64\n",
      " 27  compactness_worst        569 non-null    float64\n",
      " 28  concavity_worst          569 non-null    float64\n",
      " 29  concave points_worst     569 non-null    float64\n",
      " 30  symmetry_worst           569 non-null    float64\n",
      " 31  fractal_dimension_worst  569 non-null    float64\n",
      " 32  Unnamed: 32              0 non-null      float64\n",
      "dtypes: float64(31), int64(1), object(1)\n",
      "memory usage: 146.8+ KB\n"
     ]
    }
   ],
   "source": [
    "df.info()"
   ]
  },
  {
   "cell_type": "markdown",
   "id": "9f6acfc8",
   "metadata": {
    "papermill": {
     "duration": 0.082224,
     "end_time": "2022-01-08T02:43:20.829889",
     "exception": false,
     "start_time": "2022-01-08T02:43:20.747665",
     "status": "completed"
    },
    "tags": []
   },
   "source": [
    "Let's start by dropping the 'id' column and the 'Unnamed: 32' column"
   ]
  },
  {
   "cell_type": "code",
   "execution_count": 6,
   "id": "a192cb78",
   "metadata": {
    "execution": {
     "iopub.execute_input": "2022-01-08T02:43:21.003320Z",
     "iopub.status.busy": "2022-01-08T02:43:21.002524Z",
     "iopub.status.idle": "2022-01-08T02:43:21.005662Z",
     "shell.execute_reply": "2022-01-08T02:43:21.005151Z",
     "shell.execute_reply.started": "2022-01-08T02:09:38.265960Z"
    },
    "papermill": {
     "duration": 0.092824,
     "end_time": "2022-01-08T02:43:21.005817",
     "exception": false,
     "start_time": "2022-01-08T02:43:20.912993",
     "status": "completed"
    },
    "tags": []
   },
   "outputs": [],
   "source": [
    "cols_to_drop = ['id', 'Unnamed: 32']\n",
    "df = df.drop(cols_to_drop, axis=1)"
   ]
  },
  {
   "cell_type": "markdown",
   "id": "c1b90dcc",
   "metadata": {
    "execution": {
     "iopub.execute_input": "2022-01-04T02:18:14.760084Z",
     "iopub.status.busy": "2022-01-04T02:18:14.759754Z",
     "iopub.status.idle": "2022-01-04T02:18:14.798952Z",
     "shell.execute_reply": "2022-01-04T02:18:14.798019Z",
     "shell.execute_reply.started": "2022-01-04T02:18:14.76005Z"
    },
    "papermill": {
     "duration": 0.08177,
     "end_time": "2022-01-08T02:43:21.170093",
     "exception": false,
     "start_time": "2022-01-08T02:43:21.088323",
     "status": "completed"
    },
    "tags": []
   },
   "source": [
    "# Pre-processing"
   ]
  },
  {
   "cell_type": "code",
   "execution_count": 7,
   "id": "2ec13956",
   "metadata": {
    "execution": {
     "iopub.execute_input": "2022-01-08T02:43:21.341685Z",
     "iopub.status.busy": "2022-01-08T02:43:21.340855Z",
     "iopub.status.idle": "2022-01-08T02:43:21.344459Z",
     "shell.execute_reply": "2022-01-08T02:43:21.344942Z",
     "shell.execute_reply.started": "2022-01-08T02:09:38.273198Z"
    },
    "papermill": {
     "duration": 0.092252,
     "end_time": "2022-01-08T02:43:21.345161",
     "exception": false,
     "start_time": "2022-01-08T02:43:21.252909",
     "status": "completed"
    },
    "tags": []
   },
   "outputs": [],
   "source": [
    "#Wrapper for 'diagnosis' (i.e. M = 0, B = 1)\n",
    "wrapper = {'M':0, 'B':1}\n",
    "df.diagnosis = df.diagnosis.replace(wrapper)"
   ]
  },
  {
   "cell_type": "code",
   "execution_count": 8,
   "id": "15c5c5a4",
   "metadata": {
    "execution": {
     "iopub.execute_input": "2022-01-08T02:43:21.514242Z",
     "iopub.status.busy": "2022-01-08T02:43:21.513554Z",
     "iopub.status.idle": "2022-01-08T02:43:21.549959Z",
     "shell.execute_reply": "2022-01-08T02:43:21.550457Z",
     "shell.execute_reply.started": "2022-01-08T02:09:38.288487Z"
    },
    "papermill": {
     "duration": 0.122759,
     "end_time": "2022-01-08T02:43:21.550669",
     "exception": false,
     "start_time": "2022-01-08T02:43:21.427910",
     "status": "completed"
    },
    "tags": []
   },
   "outputs": [
    {
     "data": {
      "text/html": [
       "<div>\n",
       "<style scoped>\n",
       "    .dataframe tbody tr th:only-of-type {\n",
       "        vertical-align: middle;\n",
       "    }\n",
       "\n",
       "    .dataframe tbody tr th {\n",
       "        vertical-align: top;\n",
       "    }\n",
       "\n",
       "    .dataframe thead th {\n",
       "        text-align: right;\n",
       "    }\n",
       "</style>\n",
       "<table border=\"1\" class=\"dataframe\">\n",
       "  <thead>\n",
       "    <tr style=\"text-align: right;\">\n",
       "      <th></th>\n",
       "      <th>diagnosis</th>\n",
       "      <th>radius_mean</th>\n",
       "      <th>texture_mean</th>\n",
       "      <th>perimeter_mean</th>\n",
       "      <th>area_mean</th>\n",
       "      <th>smoothness_mean</th>\n",
       "      <th>compactness_mean</th>\n",
       "      <th>concavity_mean</th>\n",
       "      <th>concave points_mean</th>\n",
       "      <th>symmetry_mean</th>\n",
       "      <th>...</th>\n",
       "      <th>radius_worst</th>\n",
       "      <th>texture_worst</th>\n",
       "      <th>perimeter_worst</th>\n",
       "      <th>area_worst</th>\n",
       "      <th>smoothness_worst</th>\n",
       "      <th>compactness_worst</th>\n",
       "      <th>concavity_worst</th>\n",
       "      <th>concave points_worst</th>\n",
       "      <th>symmetry_worst</th>\n",
       "      <th>fractal_dimension_worst</th>\n",
       "    </tr>\n",
       "  </thead>\n",
       "  <tbody>\n",
       "    <tr>\n",
       "      <th>0</th>\n",
       "      <td>0</td>\n",
       "      <td>17.99</td>\n",
       "      <td>10.38</td>\n",
       "      <td>122.80</td>\n",
       "      <td>1001.0</td>\n",
       "      <td>0.11840</td>\n",
       "      <td>0.27760</td>\n",
       "      <td>0.30010</td>\n",
       "      <td>0.14710</td>\n",
       "      <td>0.2419</td>\n",
       "      <td>...</td>\n",
       "      <td>25.380</td>\n",
       "      <td>17.33</td>\n",
       "      <td>184.60</td>\n",
       "      <td>2019.0</td>\n",
       "      <td>0.16220</td>\n",
       "      <td>0.66560</td>\n",
       "      <td>0.7119</td>\n",
       "      <td>0.2654</td>\n",
       "      <td>0.4601</td>\n",
       "      <td>0.11890</td>\n",
       "    </tr>\n",
       "    <tr>\n",
       "      <th>1</th>\n",
       "      <td>0</td>\n",
       "      <td>20.57</td>\n",
       "      <td>17.77</td>\n",
       "      <td>132.90</td>\n",
       "      <td>1326.0</td>\n",
       "      <td>0.08474</td>\n",
       "      <td>0.07864</td>\n",
       "      <td>0.08690</td>\n",
       "      <td>0.07017</td>\n",
       "      <td>0.1812</td>\n",
       "      <td>...</td>\n",
       "      <td>24.990</td>\n",
       "      <td>23.41</td>\n",
       "      <td>158.80</td>\n",
       "      <td>1956.0</td>\n",
       "      <td>0.12380</td>\n",
       "      <td>0.18660</td>\n",
       "      <td>0.2416</td>\n",
       "      <td>0.1860</td>\n",
       "      <td>0.2750</td>\n",
       "      <td>0.08902</td>\n",
       "    </tr>\n",
       "    <tr>\n",
       "      <th>2</th>\n",
       "      <td>0</td>\n",
       "      <td>19.69</td>\n",
       "      <td>21.25</td>\n",
       "      <td>130.00</td>\n",
       "      <td>1203.0</td>\n",
       "      <td>0.10960</td>\n",
       "      <td>0.15990</td>\n",
       "      <td>0.19740</td>\n",
       "      <td>0.12790</td>\n",
       "      <td>0.2069</td>\n",
       "      <td>...</td>\n",
       "      <td>23.570</td>\n",
       "      <td>25.53</td>\n",
       "      <td>152.50</td>\n",
       "      <td>1709.0</td>\n",
       "      <td>0.14440</td>\n",
       "      <td>0.42450</td>\n",
       "      <td>0.4504</td>\n",
       "      <td>0.2430</td>\n",
       "      <td>0.3613</td>\n",
       "      <td>0.08758</td>\n",
       "    </tr>\n",
       "    <tr>\n",
       "      <th>3</th>\n",
       "      <td>0</td>\n",
       "      <td>11.42</td>\n",
       "      <td>20.38</td>\n",
       "      <td>77.58</td>\n",
       "      <td>386.1</td>\n",
       "      <td>0.14250</td>\n",
       "      <td>0.28390</td>\n",
       "      <td>0.24140</td>\n",
       "      <td>0.10520</td>\n",
       "      <td>0.2597</td>\n",
       "      <td>...</td>\n",
       "      <td>14.910</td>\n",
       "      <td>26.50</td>\n",
       "      <td>98.87</td>\n",
       "      <td>567.7</td>\n",
       "      <td>0.20980</td>\n",
       "      <td>0.86630</td>\n",
       "      <td>0.6869</td>\n",
       "      <td>0.2575</td>\n",
       "      <td>0.6638</td>\n",
       "      <td>0.17300</td>\n",
       "    </tr>\n",
       "    <tr>\n",
       "      <th>4</th>\n",
       "      <td>0</td>\n",
       "      <td>20.29</td>\n",
       "      <td>14.34</td>\n",
       "      <td>135.10</td>\n",
       "      <td>1297.0</td>\n",
       "      <td>0.10030</td>\n",
       "      <td>0.13280</td>\n",
       "      <td>0.19800</td>\n",
       "      <td>0.10430</td>\n",
       "      <td>0.1809</td>\n",
       "      <td>...</td>\n",
       "      <td>22.540</td>\n",
       "      <td>16.67</td>\n",
       "      <td>152.20</td>\n",
       "      <td>1575.0</td>\n",
       "      <td>0.13740</td>\n",
       "      <td>0.20500</td>\n",
       "      <td>0.4000</td>\n",
       "      <td>0.1625</td>\n",
       "      <td>0.2364</td>\n",
       "      <td>0.07678</td>\n",
       "    </tr>\n",
       "    <tr>\n",
       "      <th>...</th>\n",
       "      <td>...</td>\n",
       "      <td>...</td>\n",
       "      <td>...</td>\n",
       "      <td>...</td>\n",
       "      <td>...</td>\n",
       "      <td>...</td>\n",
       "      <td>...</td>\n",
       "      <td>...</td>\n",
       "      <td>...</td>\n",
       "      <td>...</td>\n",
       "      <td>...</td>\n",
       "      <td>...</td>\n",
       "      <td>...</td>\n",
       "      <td>...</td>\n",
       "      <td>...</td>\n",
       "      <td>...</td>\n",
       "      <td>...</td>\n",
       "      <td>...</td>\n",
       "      <td>...</td>\n",
       "      <td>...</td>\n",
       "      <td>...</td>\n",
       "    </tr>\n",
       "    <tr>\n",
       "      <th>564</th>\n",
       "      <td>0</td>\n",
       "      <td>21.56</td>\n",
       "      <td>22.39</td>\n",
       "      <td>142.00</td>\n",
       "      <td>1479.0</td>\n",
       "      <td>0.11100</td>\n",
       "      <td>0.11590</td>\n",
       "      <td>0.24390</td>\n",
       "      <td>0.13890</td>\n",
       "      <td>0.1726</td>\n",
       "      <td>...</td>\n",
       "      <td>25.450</td>\n",
       "      <td>26.40</td>\n",
       "      <td>166.10</td>\n",
       "      <td>2027.0</td>\n",
       "      <td>0.14100</td>\n",
       "      <td>0.21130</td>\n",
       "      <td>0.4107</td>\n",
       "      <td>0.2216</td>\n",
       "      <td>0.2060</td>\n",
       "      <td>0.07115</td>\n",
       "    </tr>\n",
       "    <tr>\n",
       "      <th>565</th>\n",
       "      <td>0</td>\n",
       "      <td>20.13</td>\n",
       "      <td>28.25</td>\n",
       "      <td>131.20</td>\n",
       "      <td>1261.0</td>\n",
       "      <td>0.09780</td>\n",
       "      <td>0.10340</td>\n",
       "      <td>0.14400</td>\n",
       "      <td>0.09791</td>\n",
       "      <td>0.1752</td>\n",
       "      <td>...</td>\n",
       "      <td>23.690</td>\n",
       "      <td>38.25</td>\n",
       "      <td>155.00</td>\n",
       "      <td>1731.0</td>\n",
       "      <td>0.11660</td>\n",
       "      <td>0.19220</td>\n",
       "      <td>0.3215</td>\n",
       "      <td>0.1628</td>\n",
       "      <td>0.2572</td>\n",
       "      <td>0.06637</td>\n",
       "    </tr>\n",
       "    <tr>\n",
       "      <th>566</th>\n",
       "      <td>0</td>\n",
       "      <td>16.60</td>\n",
       "      <td>28.08</td>\n",
       "      <td>108.30</td>\n",
       "      <td>858.1</td>\n",
       "      <td>0.08455</td>\n",
       "      <td>0.10230</td>\n",
       "      <td>0.09251</td>\n",
       "      <td>0.05302</td>\n",
       "      <td>0.1590</td>\n",
       "      <td>...</td>\n",
       "      <td>18.980</td>\n",
       "      <td>34.12</td>\n",
       "      <td>126.70</td>\n",
       "      <td>1124.0</td>\n",
       "      <td>0.11390</td>\n",
       "      <td>0.30940</td>\n",
       "      <td>0.3403</td>\n",
       "      <td>0.1418</td>\n",
       "      <td>0.2218</td>\n",
       "      <td>0.07820</td>\n",
       "    </tr>\n",
       "    <tr>\n",
       "      <th>567</th>\n",
       "      <td>0</td>\n",
       "      <td>20.60</td>\n",
       "      <td>29.33</td>\n",
       "      <td>140.10</td>\n",
       "      <td>1265.0</td>\n",
       "      <td>0.11780</td>\n",
       "      <td>0.27700</td>\n",
       "      <td>0.35140</td>\n",
       "      <td>0.15200</td>\n",
       "      <td>0.2397</td>\n",
       "      <td>...</td>\n",
       "      <td>25.740</td>\n",
       "      <td>39.42</td>\n",
       "      <td>184.60</td>\n",
       "      <td>1821.0</td>\n",
       "      <td>0.16500</td>\n",
       "      <td>0.86810</td>\n",
       "      <td>0.9387</td>\n",
       "      <td>0.2650</td>\n",
       "      <td>0.4087</td>\n",
       "      <td>0.12400</td>\n",
       "    </tr>\n",
       "    <tr>\n",
       "      <th>568</th>\n",
       "      <td>1</td>\n",
       "      <td>7.76</td>\n",
       "      <td>24.54</td>\n",
       "      <td>47.92</td>\n",
       "      <td>181.0</td>\n",
       "      <td>0.05263</td>\n",
       "      <td>0.04362</td>\n",
       "      <td>0.00000</td>\n",
       "      <td>0.00000</td>\n",
       "      <td>0.1587</td>\n",
       "      <td>...</td>\n",
       "      <td>9.456</td>\n",
       "      <td>30.37</td>\n",
       "      <td>59.16</td>\n",
       "      <td>268.6</td>\n",
       "      <td>0.08996</td>\n",
       "      <td>0.06444</td>\n",
       "      <td>0.0000</td>\n",
       "      <td>0.0000</td>\n",
       "      <td>0.2871</td>\n",
       "      <td>0.07039</td>\n",
       "    </tr>\n",
       "  </tbody>\n",
       "</table>\n",
       "<p>569 rows × 31 columns</p>\n",
       "</div>"
      ],
      "text/plain": [
       "     diagnosis  radius_mean  texture_mean  perimeter_mean  area_mean  \\\n",
       "0            0        17.99         10.38          122.80     1001.0   \n",
       "1            0        20.57         17.77          132.90     1326.0   \n",
       "2            0        19.69         21.25          130.00     1203.0   \n",
       "3            0        11.42         20.38           77.58      386.1   \n",
       "4            0        20.29         14.34          135.10     1297.0   \n",
       "..         ...          ...           ...             ...        ...   \n",
       "564          0        21.56         22.39          142.00     1479.0   \n",
       "565          0        20.13         28.25          131.20     1261.0   \n",
       "566          0        16.60         28.08          108.30      858.1   \n",
       "567          0        20.60         29.33          140.10     1265.0   \n",
       "568          1         7.76         24.54           47.92      181.0   \n",
       "\n",
       "     smoothness_mean  compactness_mean  concavity_mean  concave points_mean  \\\n",
       "0            0.11840           0.27760         0.30010              0.14710   \n",
       "1            0.08474           0.07864         0.08690              0.07017   \n",
       "2            0.10960           0.15990         0.19740              0.12790   \n",
       "3            0.14250           0.28390         0.24140              0.10520   \n",
       "4            0.10030           0.13280         0.19800              0.10430   \n",
       "..               ...               ...             ...                  ...   \n",
       "564          0.11100           0.11590         0.24390              0.13890   \n",
       "565          0.09780           0.10340         0.14400              0.09791   \n",
       "566          0.08455           0.10230         0.09251              0.05302   \n",
       "567          0.11780           0.27700         0.35140              0.15200   \n",
       "568          0.05263           0.04362         0.00000              0.00000   \n",
       "\n",
       "     symmetry_mean  ...  radius_worst  texture_worst  perimeter_worst  \\\n",
       "0           0.2419  ...        25.380          17.33           184.60   \n",
       "1           0.1812  ...        24.990          23.41           158.80   \n",
       "2           0.2069  ...        23.570          25.53           152.50   \n",
       "3           0.2597  ...        14.910          26.50            98.87   \n",
       "4           0.1809  ...        22.540          16.67           152.20   \n",
       "..             ...  ...           ...            ...              ...   \n",
       "564         0.1726  ...        25.450          26.40           166.10   \n",
       "565         0.1752  ...        23.690          38.25           155.00   \n",
       "566         0.1590  ...        18.980          34.12           126.70   \n",
       "567         0.2397  ...        25.740          39.42           184.60   \n",
       "568         0.1587  ...         9.456          30.37            59.16   \n",
       "\n",
       "     area_worst  smoothness_worst  compactness_worst  concavity_worst  \\\n",
       "0        2019.0           0.16220            0.66560           0.7119   \n",
       "1        1956.0           0.12380            0.18660           0.2416   \n",
       "2        1709.0           0.14440            0.42450           0.4504   \n",
       "3         567.7           0.20980            0.86630           0.6869   \n",
       "4        1575.0           0.13740            0.20500           0.4000   \n",
       "..          ...               ...                ...              ...   \n",
       "564      2027.0           0.14100            0.21130           0.4107   \n",
       "565      1731.0           0.11660            0.19220           0.3215   \n",
       "566      1124.0           0.11390            0.30940           0.3403   \n",
       "567      1821.0           0.16500            0.86810           0.9387   \n",
       "568       268.6           0.08996            0.06444           0.0000   \n",
       "\n",
       "     concave points_worst  symmetry_worst  fractal_dimension_worst  \n",
       "0                  0.2654          0.4601                  0.11890  \n",
       "1                  0.1860          0.2750                  0.08902  \n",
       "2                  0.2430          0.3613                  0.08758  \n",
       "3                  0.2575          0.6638                  0.17300  \n",
       "4                  0.1625          0.2364                  0.07678  \n",
       "..                    ...             ...                      ...  \n",
       "564                0.2216          0.2060                  0.07115  \n",
       "565                0.1628          0.2572                  0.06637  \n",
       "566                0.1418          0.2218                  0.07820  \n",
       "567                0.2650          0.4087                  0.12400  \n",
       "568                0.0000          0.2871                  0.07039  \n",
       "\n",
       "[569 rows x 31 columns]"
      ]
     },
     "execution_count": 8,
     "metadata": {},
     "output_type": "execute_result"
    }
   ],
   "source": [
    "df"
   ]
  },
  {
   "cell_type": "markdown",
   "id": "31a4d5a8",
   "metadata": {
    "papermill": {
     "duration": 0.082225,
     "end_time": "2022-01-08T02:43:21.715915",
     "exception": false,
     "start_time": "2022-01-08T02:43:21.633690",
     "status": "completed"
    },
    "tags": []
   },
   "source": [
    "# Creating a baseline model for which to improve upon later"
   ]
  },
  {
   "cell_type": "markdown",
   "id": "9e282f16",
   "metadata": {
    "papermill": {
     "duration": 0.08318,
     "end_time": "2022-01-08T02:43:21.882272",
     "exception": false,
     "start_time": "2022-01-08T02:43:21.799092",
     "status": "completed"
    },
    "tags": []
   },
   "source": [
    "## Splitting and scaling data"
   ]
  },
  {
   "cell_type": "code",
   "execution_count": 9,
   "id": "637b4527",
   "metadata": {
    "execution": {
     "iopub.execute_input": "2022-01-08T02:43:22.052911Z",
     "iopub.status.busy": "2022-01-08T02:43:22.052166Z",
     "iopub.status.idle": "2022-01-08T02:43:23.507902Z",
     "shell.execute_reply": "2022-01-08T02:43:23.507233Z",
     "shell.execute_reply.started": "2022-01-08T02:09:38.339340Z"
    },
    "papermill": {
     "duration": 1.542203,
     "end_time": "2022-01-08T02:43:23.508069",
     "exception": false,
     "start_time": "2022-01-08T02:43:21.965866",
     "status": "completed"
    },
    "tags": []
   },
   "outputs": [],
   "source": [
    "from sklearn.model_selection import train_test_split\n",
    "from sklearn.preprocessing import MinMaxScaler\n",
    "from sklearn.pipeline import Pipeline\n",
    "from sklearn.linear_model import LogisticRegression\n",
    "from sklearn.metrics import classification_report\n",
    "import seaborn as sns\n",
    "import matplotlib.pyplot as plt"
   ]
  },
  {
   "cell_type": "code",
   "execution_count": 10,
   "id": "d8633e86",
   "metadata": {
    "execution": {
     "iopub.execute_input": "2022-01-08T02:43:23.675542Z",
     "iopub.status.busy": "2022-01-08T02:43:23.674924Z",
     "iopub.status.idle": "2022-01-08T02:43:23.678871Z",
     "shell.execute_reply": "2022-01-08T02:43:23.679374Z",
     "shell.execute_reply.started": "2022-01-08T02:09:39.711557Z"
    },
    "papermill": {
     "duration": 0.089308,
     "end_time": "2022-01-08T02:43:23.679540",
     "exception": false,
     "start_time": "2022-01-08T02:43:23.590232",
     "status": "completed"
    },
    "tags": []
   },
   "outputs": [],
   "source": [
    "def split_data(df):\n",
    "    X = df.drop('diagnosis', axis=1)\n",
    "    y = df['diagnosis']\n",
    "    return X, y"
   ]
  },
  {
   "cell_type": "code",
   "execution_count": 11,
   "id": "c8b9fa52",
   "metadata": {
    "execution": {
     "iopub.execute_input": "2022-01-08T02:43:23.847992Z",
     "iopub.status.busy": "2022-01-08T02:43:23.847279Z",
     "iopub.status.idle": "2022-01-08T02:43:23.856174Z",
     "shell.execute_reply": "2022-01-08T02:43:23.856647Z",
     "shell.execute_reply.started": "2022-01-08T02:09:39.718255Z"
    },
    "papermill": {
     "duration": 0.09421,
     "end_time": "2022-01-08T02:43:23.856898",
     "exception": false,
     "start_time": "2022-01-08T02:43:23.762688",
     "status": "completed"
    },
    "tags": []
   },
   "outputs": [],
   "source": [
    "X, y = split_data(df)\n",
    "\n",
    "X_train, X_test, y_train, y_test = train_test_split(X, y, test_size=.25, random_state=42)"
   ]
  },
  {
   "cell_type": "markdown",
   "id": "0c87e19a",
   "metadata": {
    "papermill": {
     "duration": 0.081998,
     "end_time": "2022-01-08T02:43:24.023552",
     "exception": false,
     "start_time": "2022-01-08T02:43:23.941554",
     "status": "completed"
    },
    "tags": []
   },
   "source": [
    "#### Making pipeline"
   ]
  },
  {
   "cell_type": "code",
   "execution_count": 12,
   "id": "ff012311",
   "metadata": {
    "execution": {
     "iopub.execute_input": "2022-01-08T02:43:24.195167Z",
     "iopub.status.busy": "2022-01-08T02:43:24.194390Z",
     "iopub.status.idle": "2022-01-08T02:43:24.198196Z",
     "shell.execute_reply": "2022-01-08T02:43:24.198674Z",
     "shell.execute_reply.started": "2022-01-08T02:09:39.733565Z"
    },
    "papermill": {
     "duration": 0.0918,
     "end_time": "2022-01-08T02:43:24.198899",
     "exception": false,
     "start_time": "2022-01-08T02:43:24.107099",
     "status": "completed"
    },
    "tags": []
   },
   "outputs": [],
   "source": [
    "scaler = MinMaxScaler()\n",
    "model = LogisticRegression()"
   ]
  },
  {
   "cell_type": "code",
   "execution_count": 13,
   "id": "f3cee12e",
   "metadata": {
    "execution": {
     "iopub.execute_input": "2022-01-08T02:43:24.368631Z",
     "iopub.status.busy": "2022-01-08T02:43:24.367940Z",
     "iopub.status.idle": "2022-01-08T02:43:24.372114Z",
     "shell.execute_reply": "2022-01-08T02:43:24.372624Z",
     "shell.execute_reply.started": "2022-01-08T02:09:39.743061Z"
    },
    "papermill": {
     "duration": 0.090796,
     "end_time": "2022-01-08T02:43:24.372848",
     "exception": false,
     "start_time": "2022-01-08T02:43:24.282052",
     "status": "completed"
    },
    "tags": []
   },
   "outputs": [],
   "source": [
    "pipe = Pipeline(steps=[('scaler', scaler), ('model', model)])"
   ]
  },
  {
   "cell_type": "code",
   "execution_count": 14,
   "id": "f4f440de",
   "metadata": {
    "execution": {
     "iopub.execute_input": "2022-01-08T02:43:24.543439Z",
     "iopub.status.busy": "2022-01-08T02:43:24.542575Z",
     "iopub.status.idle": "2022-01-08T02:43:24.580435Z",
     "shell.execute_reply": "2022-01-08T02:43:24.581332Z",
     "shell.execute_reply.started": "2022-01-08T02:09:39.753959Z"
    },
    "papermill": {
     "duration": 0.125451,
     "end_time": "2022-01-08T02:43:24.581649",
     "exception": false,
     "start_time": "2022-01-08T02:43:24.456198",
     "status": "completed"
    },
    "tags": []
   },
   "outputs": [
    {
     "data": {
      "text/plain": [
       "Pipeline(steps=[('scaler', MinMaxScaler()), ('model', LogisticRegression())])"
      ]
     },
     "execution_count": 14,
     "metadata": {},
     "output_type": "execute_result"
    }
   ],
   "source": [
    "pipe.fit(X_train, y_train)"
   ]
  },
  {
   "cell_type": "code",
   "execution_count": 15,
   "id": "e16c9f2f",
   "metadata": {
    "execution": {
     "iopub.execute_input": "2022-01-08T02:43:24.815084Z",
     "iopub.status.busy": "2022-01-08T02:43:24.814274Z",
     "iopub.status.idle": "2022-01-08T02:43:24.819114Z",
     "shell.execute_reply": "2022-01-08T02:43:24.819623Z",
     "shell.execute_reply.started": "2022-01-08T02:09:39.794745Z"
    },
    "papermill": {
     "duration": 0.105773,
     "end_time": "2022-01-08T02:43:24.819824",
     "exception": false,
     "start_time": "2022-01-08T02:43:24.714051",
     "status": "completed"
    },
    "tags": []
   },
   "outputs": [
    {
     "data": {
      "text/plain": [
       "array([1, 0, 0, 1, 1, 0, 0, 0, 0, 1, 1, 0, 1, 0, 1, 0, 1, 1, 1, 0, 1, 1,\n",
       "       0, 1, 1, 1, 1, 1, 1, 0, 1, 1, 1, 1, 1, 1, 0, 1, 0, 1, 1, 0, 1, 1,\n",
       "       1, 1, 1, 1, 1, 1, 0, 0, 1, 1, 1, 1, 1, 0, 0, 1, 1, 0, 0, 1, 1, 1,\n",
       "       0, 0, 1, 1, 0, 0, 1, 0, 1, 1, 1, 1, 1, 1, 0, 1, 0, 0, 0, 0, 0, 0,\n",
       "       1, 1, 1, 1, 1, 1, 1, 1, 0, 0, 1, 0, 0, 1, 0, 0, 1, 1, 1, 0, 1, 1,\n",
       "       0, 1, 1, 0, 1, 0, 1, 1, 1, 0, 1, 1, 1, 0, 1, 0, 0, 1, 1, 0, 0, 0,\n",
       "       1, 1, 1, 0, 1, 1, 1, 0, 1, 0, 1])"
      ]
     },
     "execution_count": 15,
     "metadata": {},
     "output_type": "execute_result"
    }
   ],
   "source": [
    "y_preds = pipe.predict(X_test)\n",
    "y_preds"
   ]
  },
  {
   "cell_type": "markdown",
   "id": "002cf337",
   "metadata": {
    "papermill": {
     "duration": 0.083472,
     "end_time": "2022-01-08T02:43:24.989594",
     "exception": false,
     "start_time": "2022-01-08T02:43:24.906122",
     "status": "completed"
    },
    "tags": []
   },
   "source": [
    "## Metrics for evaluation"
   ]
  },
  {
   "cell_type": "code",
   "execution_count": 16,
   "id": "0f063284",
   "metadata": {
    "execution": {
     "iopub.execute_input": "2022-01-08T02:43:25.163776Z",
     "iopub.status.busy": "2022-01-08T02:43:25.163025Z",
     "iopub.status.idle": "2022-01-08T02:43:25.164764Z",
     "shell.execute_reply": "2022-01-08T02:43:25.165327Z",
     "shell.execute_reply.started": "2022-01-08T02:09:39.811114Z"
    },
    "papermill": {
     "duration": 0.0909,
     "end_time": "2022-01-08T02:43:25.165531",
     "exception": false,
     "start_time": "2022-01-08T02:43:25.074631",
     "status": "completed"
    },
    "tags": []
   },
   "outputs": [],
   "source": [
    "from sklearn.metrics import confusion_matrix\n",
    "from sklearn.metrics import accuracy_score"
   ]
  },
  {
   "cell_type": "code",
   "execution_count": 17,
   "id": "0067c8f0",
   "metadata": {
    "execution": {
     "iopub.execute_input": "2022-01-08T02:43:25.336115Z",
     "iopub.status.busy": "2022-01-08T02:43:25.335405Z",
     "iopub.status.idle": "2022-01-08T02:43:25.352315Z",
     "shell.execute_reply": "2022-01-08T02:43:25.353396Z",
     "shell.execute_reply.started": "2022-01-08T02:09:39.818571Z"
    },
    "papermill": {
     "duration": 0.104529,
     "end_time": "2022-01-08T02:43:25.353766",
     "exception": false,
     "start_time": "2022-01-08T02:43:25.249237",
     "status": "completed"
    },
    "tags": []
   },
   "outputs": [
    {
     "name": "stdout",
     "output_type": "stream",
     "text": [
      "The accuracy between X_test and y_test is: 0.9790209790209791\n",
      "The accuracy between X_train and y_train is: 0.9671361502347418\n"
     ]
    }
   ],
   "source": [
    "print(f'The accuracy between X_test and y_test is: {pipe.score(X_test, y_test)}\\nThe accuracy between X_train and y_train is: {pipe.score(X_train, y_train)}')"
   ]
  },
  {
   "cell_type": "code",
   "execution_count": 18,
   "id": "149c8a1a",
   "metadata": {
    "execution": {
     "iopub.execute_input": "2022-01-08T02:43:25.578458Z",
     "iopub.status.busy": "2022-01-08T02:43:25.577705Z",
     "iopub.status.idle": "2022-01-08T02:43:25.586374Z",
     "shell.execute_reply": "2022-01-08T02:43:25.587129Z",
     "shell.execute_reply.started": "2022-01-08T02:09:39.846532Z"
    },
    "papermill": {
     "duration": 0.099274,
     "end_time": "2022-01-08T02:43:25.587405",
     "exception": false,
     "start_time": "2022-01-08T02:43:25.488131",
     "status": "completed"
    },
    "tags": []
   },
   "outputs": [
    {
     "name": "stdout",
     "output_type": "stream",
     "text": [
      "              precision    recall  f1-score   support\n",
      "\n",
      "  Metastasis       0.98      0.96      0.97        54\n",
      "      Benign       0.98      0.99      0.98        89\n",
      "\n",
      "    accuracy                           0.98       143\n",
      "   macro avg       0.98      0.98      0.98       143\n",
      "weighted avg       0.98      0.98      0.98       143\n",
      "\n"
     ]
    }
   ],
   "source": [
    "print(classification_report(y_test, y_preds, target_names=['Metastasis', 'Benign']))"
   ]
  },
  {
   "cell_type": "code",
   "execution_count": 19,
   "id": "e3aa4a4a",
   "metadata": {
    "execution": {
     "iopub.execute_input": "2022-01-08T02:43:25.763275Z",
     "iopub.status.busy": "2022-01-08T02:43:25.762550Z",
     "iopub.status.idle": "2022-01-08T02:43:25.931932Z",
     "shell.execute_reply": "2022-01-08T02:43:25.930948Z",
     "shell.execute_reply.started": "2022-01-08T02:09:39.878898Z"
    },
    "papermill": {
     "duration": 0.257665,
     "end_time": "2022-01-08T02:43:25.932201",
     "exception": false,
     "start_time": "2022-01-08T02:43:25.674536",
     "status": "completed"
    },
    "tags": []
   },
   "outputs": [
    {
     "data": {
      "image/png": "[encoded data removed]",
      "text/plain": [
       "<Figure size 432x288 with 1 Axes>"
      ]
     },
     "metadata": {
      "needs_background": "light"
     },
     "output_type": "display_data"
    },
    {
     "name": "stdout",
     "output_type": "stream",
     "text": [
      "0: Metastasis (M)\n",
      "1: Benign (B)\n"
     ]
    }
   ],
   "source": [
    "matrix = confusion_matrix(y_test, y_preds)\n",
    "sns.heatmap(matrix, annot=True, cbar=None, cmap='Blues')\n",
    "plt.title('Confusion Matrix'), plt.tight_layout()\n",
    "plt.ylabel('True Class'), plt.xlabel('Predicted Class')\n",
    "plt.show()\n",
    "print('0: Metastasis (M)\\n1: Benign (B)')"
   ]
  },
  {
   "cell_type": "markdown",
   "id": "65a4c0fc",
   "metadata": {
    "papermill": {
     "duration": 0.086588,
     "end_time": "2022-01-08T02:43:26.117802",
     "exception": false,
     "start_time": "2022-01-08T02:43:26.031214",
     "status": "completed"
    },
    "tags": []
   },
   "source": [
    "### Let's improve on this!"
   ]
  },
  {
   "cell_type": "markdown",
   "id": "95b46422",
   "metadata": {
    "execution": {
     "iopub.execute_input": "2022-01-04T02:22:28.671932Z",
     "iopub.status.busy": "2022-01-04T02:22:28.671674Z",
     "iopub.status.idle": "2022-01-04T02:22:28.681636Z",
     "shell.execute_reply": "2022-01-04T02:22:28.680745Z",
     "shell.execute_reply.started": "2022-01-04T02:22:28.671903Z"
    },
    "papermill": {
     "duration": 0.084949,
     "end_time": "2022-01-08T02:43:26.289662",
     "exception": false,
     "start_time": "2022-01-08T02:43:26.204713",
     "status": "completed"
    },
    "tags": []
   },
   "source": [
    "# Back to the drawing board - EDA"
   ]
  },
  {
   "cell_type": "code",
   "execution_count": 20,
   "id": "ae3b1b96",
   "metadata": {
    "execution": {
     "iopub.execute_input": "2022-01-08T02:43:26.465530Z",
     "iopub.status.busy": "2022-01-08T02:43:26.464791Z",
     "iopub.status.idle": "2022-01-08T02:43:26.468650Z",
     "shell.execute_reply": "2022-01-08T02:43:26.469198Z",
     "shell.execute_reply.started": "2022-01-08T02:09:40.084988Z"
    },
    "jupyter": {
     "source_hidden": true
    },
    "papermill": {
     "duration": 0.093259,
     "end_time": "2022-01-08T02:43:26.469404",
     "exception": false,
     "start_time": "2022-01-08T02:43:26.376145",
     "status": "completed"
    },
    "tags": []
   },
   "outputs": [],
   "source": [
    "import matplotlib.pyplot as plt\n",
    "from scipy.stats import zscore"
   ]
  },
  {
   "cell_type": "code",
   "execution_count": 21,
   "id": "59402cd2",
   "metadata": {
    "execution": {
     "iopub.execute_input": "2022-01-08T02:43:26.644804Z",
     "iopub.status.busy": "2022-01-08T02:43:26.643876Z",
     "iopub.status.idle": "2022-01-08T02:43:26.842605Z",
     "shell.execute_reply": "2022-01-08T02:43:26.843461Z",
     "shell.execute_reply.started": "2022-01-08T02:09:40.091925Z"
    },
    "jupyter": {
     "source_hidden": true
    },
    "papermill": {
     "duration": 0.28877,
     "end_time": "2022-01-08T02:43:26.843788",
     "exception": false,
     "start_time": "2022-01-08T02:43:26.555018",
     "status": "completed"
    },
    "tags": []
   },
   "outputs": [
    {
     "name": "stderr",
     "output_type": "stream",
     "text": [
      "/opt/conda/lib/python3.7/site-packages/seaborn/_decorators.py:43: FutureWarning: Pass the following variable as a keyword arg: x. From version 0.12, the only valid positional argument will be `data`, and passing other arguments without an explicit keyword will result in an error or misinterpretation.\n",
      "  FutureWarning\n"
     ]
    },
    {
     "data": {
      "image/png": "[encoded data removed]",
      "text/plain": [
       "<Figure size 432x288 with 1 Axes>"
      ]
     },
     "metadata": {
      "needs_background": "light"
     },
     "output_type": "display_data"
    }
   ],
   "source": [
    "sns.countplot(df.diagnosis);"
   ]
  },
  {
   "cell_type": "markdown",
   "id": "42234d2f",
   "metadata": {
    "papermill": {
     "duration": 0.087117,
     "end_time": "2022-01-08T02:43:27.020091",
     "exception": false,
     "start_time": "2022-01-08T02:43:26.932974",
     "status": "completed"
    },
    "tags": []
   },
   "source": [
    "## Outlier analysis\n",
    "#### Box plots"
   ]
  },
  {
   "cell_type": "code",
   "execution_count": 22,
   "id": "af61a755",
   "metadata": {
    "execution": {
     "iopub.execute_input": "2022-01-08T02:43:27.201444Z",
     "iopub.status.busy": "2022-01-08T02:43:27.200646Z",
     "iopub.status.idle": "2022-01-08T02:43:27.202195Z",
     "shell.execute_reply": "2022-01-08T02:43:27.202680Z",
     "shell.execute_reply.started": "2022-01-08T02:09:40.299091Z"
    },
    "papermill": {
     "duration": 0.095098,
     "end_time": "2022-01-08T02:43:27.202892",
     "exception": false,
     "start_time": "2022-01-08T02:43:27.107794",
     "status": "completed"
    },
    "tags": []
   },
   "outputs": [],
   "source": [
    "from scipy.stats import zscore"
   ]
  },
  {
   "cell_type": "code",
   "execution_count": 23,
   "id": "7df9d66d",
   "metadata": {
    "execution": {
     "iopub.execute_input": "2022-01-08T02:43:27.383880Z",
     "iopub.status.busy": "2022-01-08T02:43:27.383118Z",
     "iopub.status.idle": "2022-01-08T02:43:32.838386Z",
     "shell.execute_reply": "2022-01-08T02:43:32.837736Z",
     "shell.execute_reply.started": "2022-01-08T02:09:40.305486Z"
    },
    "papermill": {
     "duration": 5.546406,
     "end_time": "2022-01-08T02:43:32.838579",
     "exception": false,
     "start_time": "2022-01-08T02:43:27.292173",
     "status": "completed"
    },
    "tags": []
   },
   "outputs": [
    {
     "data": {
      "image/png": "[encoded data removed]",
      "text/plain": [
       "<Figure size 432x288 with 1 Axes>"
      ]
     },
     "metadata": {
      "needs_background": "light"
     },
     "output_type": "display_data"
    },
    {
     "data": {
      "image/png": "[encoded data removed]",
      "text/plain": [
       "<Figure size 432x288 with 1 Axes>"
      ]
     },
     "metadata": {
      "needs_background": "light"
     },
     "output_type": "display_data"
    },
    {
     "data": {
      "image/png": "[encoded data removed]",
      "text/plain": [
       "<Figure size 432x288 with 1 Axes>"
      ]
     },
     "metadata": {
      "needs_background": "light"
     },
     "output_type": "display_data"
    },
    {
     "data": {
      "image/png": "[encoded data removed]",
      "text/plain": [
       "<Figure size 432x288 with 1 Axes>"
      ]
     },
     "metadata": {
      "needs_background": "light"
     },
     "output_type": "display_data"
    },
    {
     "data": {
      "image/png": "[encoded data removed]",
      "text/plain": [
       "<Figure size 432x288 with 1 Axes>"
      ]
     },
     "metadata": {
      "needs_background": "light"
     },
     "output_type": "display_data"
    },
    {
     "data": {
      "image/png": "[encoded data removed]",
      "text/plain": [
       "<Figure size 432x288 with 1 Axes>"
      ]
     },
     "metadata": {
      "needs_background": "light"
     },
     "output_type": "display_data"
    },
    {
     "data": {
      "image/png": "[encoded data removed]",
      "text/plain": [
       "<Figure size 432x288 with 1 Axes>"
      ]
     },
     "metadata": {
      "needs_background": "light"
     },
     "output_type": "display_data"
    },
    {
     "data": {
      "image/png": "[encoded data removed]",
      "text/plain": [
       "<Figure size 432x288 with 1 Axes>"
      ]
     },
     "metadata": {
      "needs_background": "light"
     },
     "output_type": "display_data"
    },
    {
     "data": {
      "image/png": "[encoded data removed]",
      "text/plain": [
       "<Figure size 432x288 with 1 Axes>"
      ]
     },
     "metadata": {
      "needs_background": "light"
     },
     "output_type": "display_data"
    },
    {
     "data": {
      "image/png": "[encoded data removed]",
      "text/plain": [
       "<Figure size 432x288 with 1 Axes>"
      ]
     },
     "metadata": {
      "needs_background": "light"
     },
     "output_type": "display_data"
    },
    {
     "data": {
      "image/png": "[encoded data removed]",
      "text/plain": [
       "<Figure size 432x288 with 1 Axes>"
      ]
     },
     "metadata": {
      "needs_background": "light"
     },
     "output_type": "display_data"
    },
    {
     "data": {
      "image/png": "[encoded data removed]",
      "text/plain": [
       "<Figure size 432x288 with 1 Axes>"
      ]
     },
     "metadata": {
      "needs_background": "light"
     },
     "output_type": "display_data"
    },
    {
     "data": {
      "image/png": "[encoded data removed]",
      "text/plain": [
       "<Figure size 432x288 with 1 Axes>"
      ]
     },
     "metadata": {
      "needs_background": "light"
     },
     "output_type": "display_data"
    },
    {
     "data": {
      "image/png": "[encoded data removed]",
      "text/plain": [
       "<Figure size 432x288 with 1 Axes>"
      ]
     },
     "metadata": {
      "needs_background": "light"
     },
     "output_type": "display_data"
    },
    {
     "data": {
      "image/png": "[encoded data removed]",
      "text/plain": [
       "<Figure size 432x288 with 1 Axes>"
      ]
     },
     "metadata": {
      "needs_background": "light"
     },
     "output_type": "display_data"
    },
    {
     "data": {
      "image/png": "[encoded data removed]",
      "text/plain": [
       "<Figure size 432x288 with 1 Axes>"
      ]
     },
     "metadata": {
      "needs_background": "light"
     },
     "output_type": "display_data"
    },
    {
     "data": {
      "image/png": "[encoded data removed]",
      "text/plain": [
       "<Figure size 432x288 with 1 Axes>"
      ]
     },
     "metadata": {
      "needs_background": "light"
     },
     "output_type": "display_data"
    },
    {
     "data": {
      "image/png": "[encoded data removed]",
      "text/plain": [
       "<Figure size 432x288 with 1 Axes>"
      ]
     },
     "metadata": {
      "needs_background": "light"
     },
     "output_type": "display_data"
    },
    {
     "data": {
      "image/png": "[encoded data removed]",
      "text/plain": [
       "<Figure size 432x288 with 1 Axes>"
      ]
     },
     "metadata": {
      "needs_background": "light"
     },
     "output_type": "display_data"
    },
    {
     "data": {
      "image/png": "[encoded data removed]",
      "text/plain": [
       "<Figure size 432x288 with 1 Axes>"
      ]
     },
     "metadata": {
      "needs_background": "light"
     },
     "output_type": "display_data"
    },
    {
     "data": {
      "image/png": "[encoded data removed]",
      "text/plain": [
       "<Figure size 432x288 with 1 Axes>"
      ]
     },
     "metadata": {
      "needs_background": "light"
     },
     "output_type": "display_data"
    },
    {
     "data": {
      "image/png": "[encoded data removed]",
      "text/plain": [
       "<Figure size 432x288 with 1 Axes>"
      ]
     },
     "metadata": {
      "needs_background": "light"
     },
     "output_type": "display_data"
    },
    {
     "data": {
      "image/png": "[encoded data removed]",
      "text/plain": [
       "<Figure size 432x288 with 1 Axes>"
      ]
     },
     "metadata": {
      "needs_background": "light"
     },
     "output_type": "display_data"
    },
    {
     "data": {
      "image/png": "[encoded data removed]",
      "text/plain": [
       "<Figure size 432x288 with 1 Axes>"
      ]
     },
     "metadata": {
      "needs_background": "light"
     },
     "output_type": "display_data"
    },
    {
     "data": {
      "image/png": "[encoded data removed]",
      "text/plain": [
       "<Figure size 432x288 with 1 Axes>"
      ]
     },
     "metadata": {
      "needs_background": "light"
     },
     "output_type": "display_data"
    },
    {
     "data": {
      "image/png": "[encoded data removed]",
      "text/plain": [
       "<Figure size 432x288 with 1 Axes>"
      ]
     },
     "metadata": {
      "needs_background": "light"
     },
     "output_type": "display_data"
    },
    {
     "data": {
      "image/png": "[encoded data removed]",
      "text/plain": [
       "<Figure size 432x288 with 1 Axes>"
      ]
     },
     "metadata": {
      "needs_background": "light"
     },
     "output_type": "display_data"
    },
    {
     "data": {
      "image/png": "[encoded data removed]",
      "text/plain": [
       "<Figure size 432x288 with 1 Axes>"
      ]
     },
     "metadata": {
      "needs_background": "light"
     },
     "output_type": "display_data"
    },
    {
     "data": {
      "image/png": "[encoded data removed]",
      "text/plain": [
       "<Figure size 432x288 with 1 Axes>"
      ]
     },
     "metadata": {
      "needs_background": "light"
     },
     "output_type": "display_data"
    },
    {
     "data": {
      "image/png": "[encoded data removed]",
      "text/plain": [
       "<Figure size 432x288 with 1 Axes>"
      ]
     },
     "metadata": {
      "needs_background": "light"
     },
     "output_type": "display_data"
    }
   ],
   "source": [
    "cols = df.columns[1:] #Exclude the first column (since it's diagnosis)\n",
    "for col in cols:\n",
    "    df.boxplot(col)\n",
    "    plt.show()"
   ]
  },
  {
   "cell_type": "markdown",
   "id": "67fa6ac4",
   "metadata": {
    "papermill": {
     "duration": 0.106512,
     "end_time": "2022-01-08T02:43:33.055104",
     "exception": false,
     "start_time": "2022-01-08T02:43:32.948592",
     "status": "completed"
    },
    "tags": []
   },
   "source": [
    "While there are lots of values that are seemingly outliers, they are inherently not. However, some of the columns that we can choose to look in to are of the following:\n",
    "\n",
    "fractal_dimension_worst, symmetry_worst, fractal_dimension_se, symmetry_se, concave points_se, concavity_se, compactness_se, smoothness_se, area_se, perimeter_se, texture_se, radius_se\n"
   ]
  },
  {
   "cell_type": "markdown",
   "id": "b3423a97",
   "metadata": {
    "papermill": {
     "duration": 0.107576,
     "end_time": "2022-01-08T02:43:33.269871",
     "exception": false,
     "start_time": "2022-01-08T02:43:33.162295",
     "status": "completed"
    },
    "tags": []
   },
   "source": [
    "#### Z-score analysis\n",
    "(make new DF's for z-scores and VIF's and then filter the original DF based on those [i.e., if it falls within the threshold or not])"
   ]
  },
  {
   "cell_type": "code",
   "execution_count": 24,
   "id": "894fac90",
   "metadata": {
    "execution": {
     "iopub.execute_input": "2022-01-08T02:43:33.488323Z",
     "iopub.status.busy": "2022-01-08T02:43:33.487217Z",
     "iopub.status.idle": "2022-01-08T02:43:33.491054Z",
     "shell.execute_reply": "2022-01-08T02:43:33.491610Z",
     "shell.execute_reply.started": "2022-01-08T02:09:45.349157Z"
    },
    "jupyter": {
     "source_hidden": true
    },
    "papermill": {
     "duration": 0.115343,
     "end_time": "2022-01-08T02:43:33.491816",
     "exception": false,
     "start_time": "2022-01-08T02:43:33.376473",
     "status": "completed"
    },
    "tags": []
   },
   "outputs": [],
   "source": [
    "from scipy.stats import zscore"
   ]
  },
  {
   "cell_type": "code",
   "execution_count": 25,
   "id": "54bfb815",
   "metadata": {
    "execution": {
     "iopub.execute_input": "2022-01-08T02:43:33.710802Z",
     "iopub.status.busy": "2022-01-08T02:43:33.709657Z",
     "iopub.status.idle": "2022-01-08T02:43:33.713696Z",
     "shell.execute_reply": "2022-01-08T02:43:33.714396Z",
     "shell.execute_reply.started": "2022-01-08T02:09:45.354439Z"
    },
    "jupyter": {
     "source_hidden": true
    },
    "papermill": {
     "duration": 0.116204,
     "end_time": "2022-01-08T02:43:33.714609",
     "exception": false,
     "start_time": "2022-01-08T02:43:33.598405",
     "status": "completed"
    },
    "tags": []
   },
   "outputs": [],
   "source": [
    "# z_df = pd.DataFrame() #Making a new DataFrame for which to gather all the z-scores\n",
    "# def gen_zscores(df, col, df2):\n",
    "#     df2['zscore_'+col] = zscore(df[col])\n",
    "    \n",
    "# [gen_zscores(df=df, col=nc, df2=z_df) for nc in df.columns[1:]] # This will add the new columns all at the end of the current df\n",
    "\n",
    "# z_df"
   ]
  },
  {
   "cell_type": "code",
   "execution_count": 26,
   "id": "b378ae96",
   "metadata": {
    "execution": {
     "iopub.execute_input": "2022-01-08T02:43:33.991580Z",
     "iopub.status.busy": "2022-01-08T02:43:33.990487Z",
     "iopub.status.idle": "2022-01-08T02:43:33.993020Z",
     "shell.execute_reply": "2022-01-08T02:43:33.993610Z",
     "shell.execute_reply.started": "2022-01-08T02:09:45.371914Z"
    },
    "jupyter": {
     "source_hidden": true
    },
    "papermill": {
     "duration": 0.166005,
     "end_time": "2022-01-08T02:43:33.993824",
     "exception": false,
     "start_time": "2022-01-08T02:43:33.827819",
     "status": "completed"
    },
    "tags": []
   },
   "outputs": [],
   "source": [
    "# columns_to_examine = ['zscore_fractal_dimension_worst', 'zscore_symmetry_worst', 'zscore_fractal_dimension_se', 'zscore_symmetry_se', 'zscore_concave points_se', 'zscore_concavity_se', 'zscore_compactness_se', 'zscore_smoothness_se', 'zscore_area_se', 'zscore_perimeter_se', 'zscore_texture_se', 'zscore_radius_se']"
   ]
  },
  {
   "cell_type": "code",
   "execution_count": 27,
   "id": "52ac7f4e",
   "metadata": {
    "execution": {
     "iopub.execute_input": "2022-01-08T02:43:34.227225Z",
     "iopub.status.busy": "2022-01-08T02:43:34.226148Z",
     "iopub.status.idle": "2022-01-08T02:43:34.230066Z",
     "shell.execute_reply": "2022-01-08T02:43:34.230547Z",
     "shell.execute_reply.started": "2022-01-08T02:09:45.382568Z"
    },
    "jupyter": {
     "source_hidden": true
    },
    "papermill": {
     "duration": 0.122091,
     "end_time": "2022-01-08T02:43:34.230755",
     "exception": false,
     "start_time": "2022-01-08T02:43:34.108664",
     "status": "completed"
    },
    "tags": []
   },
   "outputs": [],
   "source": [
    "# drop = [] #We use this list to keep track of indices we want to get rid of\n",
    "\n",
    "# for i, column in enumerate(columns_to_examine):\n",
    "#     drop.append(z_df.index[z_df[columns_to_examine[i]] > 9].tolist())\n",
    "    \n",
    "# drop"
   ]
  },
  {
   "cell_type": "markdown",
   "id": "cd4dc41b",
   "metadata": {
    "papermill": {
     "duration": 0.10723,
     "end_time": "2022-01-08T02:43:34.446683",
     "exception": false,
     "start_time": "2022-01-08T02:43:34.339453",
     "status": "completed"
    },
    "tags": []
   },
   "source": [
    "I've decided on picking a z-score of anything greater than 5.0 to be excluded from our model training. For reference, a z-score of 3 encompasses nearly 99% of the population."
   ]
  },
  {
   "cell_type": "code",
   "execution_count": 28,
   "id": "5185009d",
   "metadata": {
    "execution": {
     "iopub.execute_input": "2022-01-08T02:43:34.667396Z",
     "iopub.status.busy": "2022-01-08T02:43:34.666281Z",
     "iopub.status.idle": "2022-01-08T02:43:34.668322Z",
     "shell.execute_reply": "2022-01-08T02:43:34.668953Z",
     "shell.execute_reply.started": "2022-01-08T02:09:45.398545Z"
    },
    "jupyter": {
     "source_hidden": true
    },
    "papermill": {
     "duration": 0.115808,
     "end_time": "2022-01-08T02:43:34.669167",
     "exception": false,
     "start_time": "2022-01-08T02:43:34.553359",
     "status": "completed"
    },
    "tags": []
   },
   "outputs": [],
   "source": [
    "# # Convert the list 'drop' from a list of lists into a set\n",
    "# outer_list = []\n",
    "# def lists_to_list(nested_lists): \n",
    "#     for el in nested_lists: \n",
    "#         if type(el) == list: \n",
    "#             lists_to_list(el) \n",
    "#         else: \n",
    "#             outer_list.append(el)\n",
    "#     return set(outer_list)\n",
    "\n",
    "# indices_to_drop = lists_to_list(drop)\n",
    "# print(f'Set of indices to drop: {indices_to_drop}, \\nLength of set: {len(indices_to_drop)}')"
   ]
  },
  {
   "cell_type": "code",
   "execution_count": 29,
   "id": "aaa46dc0",
   "metadata": {
    "execution": {
     "iopub.execute_input": "2022-01-08T02:43:34.896311Z",
     "iopub.status.busy": "2022-01-08T02:43:34.895195Z",
     "iopub.status.idle": "2022-01-08T02:43:34.898736Z",
     "shell.execute_reply": "2022-01-08T02:43:34.899383Z",
     "shell.execute_reply.started": "2022-01-08T02:09:45.406358Z"
    },
    "jupyter": {
     "source_hidden": true
    },
    "papermill": {
     "duration": 0.117405,
     "end_time": "2022-01-08T02:43:34.899589",
     "exception": false,
     "start_time": "2022-01-08T02:43:34.782184",
     "status": "completed"
    },
    "tags": []
   },
   "outputs": [],
   "source": [
    "# # Dropping all the rows from 'df' with indices from the above set\n",
    "# df = df.drop(indices_to_drop, axis=0)"
   ]
  },
  {
   "cell_type": "markdown",
   "id": "01150959",
   "metadata": {
    "papermill": {
     "duration": 0.107354,
     "end_time": "2022-01-08T02:43:35.116406",
     "exception": false,
     "start_time": "2022-01-08T02:43:35.009052",
     "status": "completed"
    },
    "tags": []
   },
   "source": [
    "## Multicollinearity Analysis"
   ]
  },
  {
   "cell_type": "markdown",
   "id": "a230b858",
   "metadata": {
    "papermill": {
     "duration": 0.105695,
     "end_time": "2022-01-08T02:43:35.329198",
     "exception": false,
     "start_time": "2022-01-08T02:43:35.223503",
     "status": "completed"
    },
    "tags": []
   },
   "source": [
    "#### Variance Inflation Factor (VIF)\n",
    "https://towardsdatascience.com/everything-you-need-to-know-about-multicollinearity-2f21f082d6dc\n",
    "\n",
    "https://www.youtube.com/watch?v=Mq2sce8TjLw"
   ]
  },
  {
   "cell_type": "code",
   "execution_count": 30,
   "id": "526e1ef2",
   "metadata": {
    "execution": {
     "iopub.execute_input": "2022-01-08T02:43:35.546861Z",
     "iopub.status.busy": "2022-01-08T02:43:35.545740Z",
     "iopub.status.idle": "2022-01-08T02:43:35.935239Z",
     "shell.execute_reply": "2022-01-08T02:43:35.934498Z",
     "shell.execute_reply.started": "2022-01-08T02:09:45.597353Z"
    },
    "jupyter": {
     "source_hidden": true
    },
    "papermill": {
     "duration": 0.49934,
     "end_time": "2022-01-08T02:43:35.935419",
     "exception": false,
     "start_time": "2022-01-08T02:43:35.436079",
     "status": "completed"
    },
    "tags": []
   },
   "outputs": [],
   "source": [
    "from statsmodels.stats.outliers_influence import variance_inflation_factor as vif"
   ]
  },
  {
   "cell_type": "code",
   "execution_count": 31,
   "id": "87e43109",
   "metadata": {
    "execution": {
     "iopub.execute_input": "2022-01-08T02:43:36.157513Z",
     "iopub.status.busy": "2022-01-08T02:43:36.153533Z",
     "iopub.status.idle": "2022-01-08T02:43:36.160377Z",
     "shell.execute_reply": "2022-01-08T02:43:36.159668Z",
     "shell.execute_reply.started": "2022-01-08T02:09:45.710390Z"
    },
    "jupyter": {
     "source_hidden": true
    },
    "papermill": {
     "duration": 0.117678,
     "end_time": "2022-01-08T02:43:36.160534",
     "exception": false,
     "start_time": "2022-01-08T02:43:36.042856",
     "status": "completed"
    },
    "tags": []
   },
   "outputs": [],
   "source": [
    "# Create a function to generate the VIF's for each feature\n",
    "def gen_VIF(columns, df=df):\n",
    "    df = df.copy()\n",
    "    feature_df = df[columns]\n",
    "    vif_data_out = pd.DataFrame()\n",
    "    vif_data_out['Feature'] = feature_df.columns\n",
    "    vif_data_out['VIF'] = [vif(feature_df.values, i) for i in range(len(feature_df.columns))]\n",
    "    \n",
    "    return vif_data_out"
   ]
  },
  {
   "cell_type": "code",
   "execution_count": 32,
   "id": "2bccc894",
   "metadata": {
    "execution": {
     "iopub.execute_input": "2022-01-08T02:43:36.379310Z",
     "iopub.status.busy": "2022-01-08T02:43:36.378549Z",
     "iopub.status.idle": "2022-01-08T02:43:36.383569Z",
     "shell.execute_reply": "2022-01-08T02:43:36.384184Z",
     "shell.execute_reply.started": "2022-01-08T02:09:45.718511Z"
    },
    "jupyter": {
     "source_hidden": true
    },
    "papermill": {
     "duration": 0.116136,
     "end_time": "2022-01-08T02:43:36.384396",
     "exception": false,
     "start_time": "2022-01-08T02:43:36.268260",
     "status": "completed"
    },
    "tags": []
   },
   "outputs": [],
   "source": [
    "X_var_mean = ['radius_mean','texture_mean','perimeter_mean', 'area_mean', 'smoothness_mean', 'compactness_mean', 'concavity_mean', 'concave points_mean', 'symmetry_mean', 'fractal_dimension_mean']\n",
    "X_var_se = ['radius_se', 'texture_se', 'perimeter_se', 'area_se' ,'smoothness_se' ,'compactness_se' ,'concavity_se', 'concave points_se', 'symmetry_se', 'fractal_dimension_se']\n",
    "X_var_worst = ['radius_worst', 'texture_worst', 'perimeter_worst', 'area_worst', 'smoothness_worst', 'compactness_worst', 'concavity_worst', 'concave points_worst', 'symmetry_worst', 'fractal_dimension_worst']"
   ]
  },
  {
   "cell_type": "code",
   "execution_count": 33,
   "id": "a2c0dffd",
   "metadata": {
    "execution": {
     "iopub.execute_input": "2022-01-08T02:43:36.601726Z",
     "iopub.status.busy": "2022-01-08T02:43:36.600957Z",
     "iopub.status.idle": "2022-01-08T02:43:36.635423Z",
     "shell.execute_reply": "2022-01-08T02:43:36.634761Z",
     "shell.execute_reply.started": "2022-01-08T02:09:45.730595Z"
    },
    "jupyter": {
     "source_hidden": true
    },
    "papermill": {
     "duration": 0.144583,
     "end_time": "2022-01-08T02:43:36.635601",
     "exception": false,
     "start_time": "2022-01-08T02:43:36.491018",
     "status": "completed"
    },
    "tags": []
   },
   "outputs": [
    {
     "data": {
      "text/html": [
       "<div>\n",
       "<style scoped>\n",
       "    .dataframe tbody tr th:only-of-type {\n",
       "        vertical-align: middle;\n",
       "    }\n",
       "\n",
       "    .dataframe tbody tr th {\n",
       "        vertical-align: top;\n",
       "    }\n",
       "\n",
       "    .dataframe thead th {\n",
       "        text-align: right;\n",
       "    }\n",
       "</style>\n",
       "<table border=\"1\" class=\"dataframe\">\n",
       "  <thead>\n",
       "    <tr style=\"text-align: right;\">\n",
       "      <th></th>\n",
       "      <th>Feature</th>\n",
       "      <th>VIF</th>\n",
       "    </tr>\n",
       "  </thead>\n",
       "  <tbody>\n",
       "    <tr>\n",
       "      <th>0</th>\n",
       "      <td>radius_mean</td>\n",
       "      <td>27447.771770</td>\n",
       "    </tr>\n",
       "    <tr>\n",
       "      <th>1</th>\n",
       "      <td>texture_mean</td>\n",
       "      <td>23.933372</td>\n",
       "    </tr>\n",
       "    <tr>\n",
       "      <th>2</th>\n",
       "      <td>perimeter_mean</td>\n",
       "      <td>29501.347528</td>\n",
       "    </tr>\n",
       "    <tr>\n",
       "      <th>3</th>\n",
       "      <td>area_mean</td>\n",
       "      <td>157.954975</td>\n",
       "    </tr>\n",
       "    <tr>\n",
       "      <th>4</th>\n",
       "      <td>smoothness_mean</td>\n",
       "      <td>136.564939</td>\n",
       "    </tr>\n",
       "    <tr>\n",
       "      <th>5</th>\n",
       "      <td>compactness_mean</td>\n",
       "      <td>81.953895</td>\n",
       "    </tr>\n",
       "    <tr>\n",
       "      <th>6</th>\n",
       "      <td>concavity_mean</td>\n",
       "      <td>26.049705</td>\n",
       "    </tr>\n",
       "    <tr>\n",
       "      <th>7</th>\n",
       "      <td>concave points_mean</td>\n",
       "      <td>52.400513</td>\n",
       "    </tr>\n",
       "    <tr>\n",
       "      <th>8</th>\n",
       "      <td>symmetry_mean</td>\n",
       "      <td>74.980219</td>\n",
       "    </tr>\n",
       "    <tr>\n",
       "      <th>9</th>\n",
       "      <td>fractal_dimension_mean</td>\n",
       "      <td>193.849464</td>\n",
       "    </tr>\n",
       "  </tbody>\n",
       "</table>\n",
       "</div>"
      ],
      "text/plain": [
       "                  Feature           VIF\n",
       "0             radius_mean  27447.771770\n",
       "1            texture_mean     23.933372\n",
       "2          perimeter_mean  29501.347528\n",
       "3               area_mean    157.954975\n",
       "4         smoothness_mean    136.564939\n",
       "5        compactness_mean     81.953895\n",
       "6          concavity_mean     26.049705\n",
       "7     concave points_mean     52.400513\n",
       "8           symmetry_mean     74.980219\n",
       "9  fractal_dimension_mean    193.849464"
      ]
     },
     "execution_count": 33,
     "metadata": {},
     "output_type": "execute_result"
    }
   ],
   "source": [
    "gen_VIF(X_var_mean)"
   ]
  },
  {
   "cell_type": "markdown",
   "id": "ceacc99d",
   "metadata": {
    "papermill": {
     "duration": 0.109261,
     "end_time": "2022-01-08T02:43:36.854003",
     "exception": false,
     "start_time": "2022-01-08T02:43:36.744742",
     "status": "completed"
    },
    "tags": []
   },
   "source": [
    "'radius_mean' and 'perimeter_mean' show signs of multi-colinearity"
   ]
  },
  {
   "cell_type": "code",
   "execution_count": 34,
   "id": "da29faaa",
   "metadata": {
    "execution": {
     "iopub.execute_input": "2022-01-08T02:43:37.076533Z",
     "iopub.status.busy": "2022-01-08T02:43:37.075729Z",
     "iopub.status.idle": "2022-01-08T02:43:37.078960Z",
     "shell.execute_reply": "2022-01-08T02:43:37.079501Z",
     "shell.execute_reply.started": "2022-01-08T02:09:45.770427Z"
    },
    "jupyter": {
     "source_hidden": true
    },
    "papermill": {
     "duration": 0.115452,
     "end_time": "2022-01-08T02:43:37.079704",
     "exception": false,
     "start_time": "2022-01-08T02:43:36.964252",
     "status": "completed"
    },
    "tags": []
   },
   "outputs": [],
   "source": [
    "# df = df.drop('radius_mean', axis=1)"
   ]
  },
  {
   "cell_type": "code",
   "execution_count": 35,
   "id": "55619562",
   "metadata": {
    "execution": {
     "iopub.execute_input": "2022-01-08T02:43:37.296980Z",
     "iopub.status.busy": "2022-01-08T02:43:37.296315Z",
     "iopub.status.idle": "2022-01-08T02:43:37.319521Z",
     "shell.execute_reply": "2022-01-08T02:43:37.320193Z",
     "shell.execute_reply.started": "2022-01-08T02:09:45.775628Z"
    },
    "jupyter": {
     "source_hidden": true
    },
    "papermill": {
     "duration": 0.133372,
     "end_time": "2022-01-08T02:43:37.320397",
     "exception": false,
     "start_time": "2022-01-08T02:43:37.187025",
     "status": "completed"
    },
    "tags": []
   },
   "outputs": [
    {
     "data": {
      "text/html": [
       "<div>\n",
       "<style scoped>\n",
       "    .dataframe tbody tr th:only-of-type {\n",
       "        vertical-align: middle;\n",
       "    }\n",
       "\n",
       "    .dataframe tbody tr th {\n",
       "        vertical-align: top;\n",
       "    }\n",
       "\n",
       "    .dataframe thead th {\n",
       "        text-align: right;\n",
       "    }\n",
       "</style>\n",
       "<table border=\"1\" class=\"dataframe\">\n",
       "  <thead>\n",
       "    <tr style=\"text-align: right;\">\n",
       "      <th></th>\n",
       "      <th>Feature</th>\n",
       "      <th>VIF</th>\n",
       "    </tr>\n",
       "  </thead>\n",
       "  <tbody>\n",
       "    <tr>\n",
       "      <th>0</th>\n",
       "      <td>radius_se</td>\n",
       "      <td>86.702093</td>\n",
       "    </tr>\n",
       "    <tr>\n",
       "      <th>1</th>\n",
       "      <td>texture_se</td>\n",
       "      <td>7.706940</td>\n",
       "    </tr>\n",
       "    <tr>\n",
       "      <th>2</th>\n",
       "      <td>perimeter_se</td>\n",
       "      <td>76.861387</td>\n",
       "    </tr>\n",
       "    <tr>\n",
       "      <th>3</th>\n",
       "      <td>area_se</td>\n",
       "      <td>26.625721</td>\n",
       "    </tr>\n",
       "    <tr>\n",
       "      <th>4</th>\n",
       "      <td>smoothness_se</td>\n",
       "      <td>9.261231</td>\n",
       "    </tr>\n",
       "    <tr>\n",
       "      <th>5</th>\n",
       "      <td>compactness_se</td>\n",
       "      <td>15.352177</td>\n",
       "    </tr>\n",
       "    <tr>\n",
       "      <th>6</th>\n",
       "      <td>concavity_se</td>\n",
       "      <td>8.157192</td>\n",
       "    </tr>\n",
       "    <tr>\n",
       "      <th>7</th>\n",
       "      <td>concave points_se</td>\n",
       "      <td>16.555154</td>\n",
       "    </tr>\n",
       "    <tr>\n",
       "      <th>8</th>\n",
       "      <td>symmetry_se</td>\n",
       "      <td>9.804762</td>\n",
       "    </tr>\n",
       "    <tr>\n",
       "      <th>9</th>\n",
       "      <td>fractal_dimension_se</td>\n",
       "      <td>11.105938</td>\n",
       "    </tr>\n",
       "  </tbody>\n",
       "</table>\n",
       "</div>"
      ],
      "text/plain": [
       "                Feature        VIF\n",
       "0             radius_se  86.702093\n",
       "1            texture_se   7.706940\n",
       "2          perimeter_se  76.861387\n",
       "3               area_se  26.625721\n",
       "4         smoothness_se   9.261231\n",
       "5        compactness_se  15.352177\n",
       "6          concavity_se   8.157192\n",
       "7     concave points_se  16.555154\n",
       "8           symmetry_se   9.804762\n",
       "9  fractal_dimension_se  11.105938"
      ]
     },
     "execution_count": 35,
     "metadata": {},
     "output_type": "execute_result"
    }
   ],
   "source": [
    "gen_VIF(X_var_se)"
   ]
  },
  {
   "cell_type": "markdown",
   "id": "4feb4f5d",
   "metadata": {
    "papermill": {
     "duration": 0.108195,
     "end_time": "2022-01-08T02:43:37.537261",
     "exception": false,
     "start_time": "2022-01-08T02:43:37.429066",
     "status": "completed"
    },
    "tags": []
   },
   "source": [
    "'radius_se' and 'perimeter_se' show signs of multi-colinearity"
   ]
  },
  {
   "cell_type": "code",
   "execution_count": 36,
   "id": "86fa32e8",
   "metadata": {
    "execution": {
     "iopub.execute_input": "2022-01-08T02:43:37.757569Z",
     "iopub.status.busy": "2022-01-08T02:43:37.756894Z",
     "iopub.status.idle": "2022-01-08T02:43:37.760638Z",
     "shell.execute_reply": "2022-01-08T02:43:37.761286Z",
     "shell.execute_reply.started": "2022-01-08T02:09:45.805832Z"
    },
    "jupyter": {
     "source_hidden": true
    },
    "papermill": {
     "duration": 0.116706,
     "end_time": "2022-01-08T02:43:37.761493",
     "exception": false,
     "start_time": "2022-01-08T02:43:37.644787",
     "status": "completed"
    },
    "tags": []
   },
   "outputs": [],
   "source": [
    "# df = df.drop('radius_se', axis=1)"
   ]
  },
  {
   "cell_type": "code",
   "execution_count": 37,
   "id": "2634aa26",
   "metadata": {
    "execution": {
     "iopub.execute_input": "2022-01-08T02:43:37.984279Z",
     "iopub.status.busy": "2022-01-08T02:43:37.983534Z",
     "iopub.status.idle": "2022-01-08T02:43:38.008454Z",
     "shell.execute_reply": "2022-01-08T02:43:38.009124Z",
     "shell.execute_reply.started": "2022-01-08T02:09:45.811812Z"
    },
    "jupyter": {
     "source_hidden": true
    },
    "papermill": {
     "duration": 0.138017,
     "end_time": "2022-01-08T02:43:38.009335",
     "exception": false,
     "start_time": "2022-01-08T02:43:37.871318",
     "status": "completed"
    },
    "tags": []
   },
   "outputs": [
    {
     "data": {
      "text/html": [
       "<div>\n",
       "<style scoped>\n",
       "    .dataframe tbody tr th:only-of-type {\n",
       "        vertical-align: middle;\n",
       "    }\n",
       "\n",
       "    .dataframe tbody tr th {\n",
       "        vertical-align: top;\n",
       "    }\n",
       "\n",
       "    .dataframe thead th {\n",
       "        text-align: right;\n",
       "    }\n",
       "</style>\n",
       "<table border=\"1\" class=\"dataframe\">\n",
       "  <thead>\n",
       "    <tr style=\"text-align: right;\">\n",
       "      <th></th>\n",
       "      <th>Feature</th>\n",
       "      <th>VIF</th>\n",
       "    </tr>\n",
       "  </thead>\n",
       "  <tbody>\n",
       "    <tr>\n",
       "      <th>0</th>\n",
       "      <td>radius_worst</td>\n",
       "      <td>1576.484468</td>\n",
       "    </tr>\n",
       "    <tr>\n",
       "      <th>1</th>\n",
       "      <td>texture_worst</td>\n",
       "      <td>22.648946</td>\n",
       "    </tr>\n",
       "    <tr>\n",
       "      <th>2</th>\n",
       "      <td>perimeter_worst</td>\n",
       "      <td>1434.831269</td>\n",
       "    </tr>\n",
       "    <tr>\n",
       "      <th>3</th>\n",
       "      <td>area_worst</td>\n",
       "      <td>57.122238</td>\n",
       "    </tr>\n",
       "    <tr>\n",
       "      <th>4</th>\n",
       "      <td>smoothness_worst</td>\n",
       "      <td>67.306324</td>\n",
       "    </tr>\n",
       "    <tr>\n",
       "      <th>5</th>\n",
       "      <td>compactness_worst</td>\n",
       "      <td>34.075212</td>\n",
       "    </tr>\n",
       "    <tr>\n",
       "      <th>6</th>\n",
       "      <td>concavity_worst</td>\n",
       "      <td>19.049757</td>\n",
       "    </tr>\n",
       "    <tr>\n",
       "      <th>7</th>\n",
       "      <td>concave points_worst</td>\n",
       "      <td>36.332374</td>\n",
       "    </tr>\n",
       "    <tr>\n",
       "      <th>8</th>\n",
       "      <td>symmetry_worst</td>\n",
       "      <td>38.812700</td>\n",
       "    </tr>\n",
       "    <tr>\n",
       "      <th>9</th>\n",
       "      <td>fractal_dimension_worst</td>\n",
       "      <td>86.164311</td>\n",
       "    </tr>\n",
       "  </tbody>\n",
       "</table>\n",
       "</div>"
      ],
      "text/plain": [
       "                   Feature          VIF\n",
       "0             radius_worst  1576.484468\n",
       "1            texture_worst    22.648946\n",
       "2          perimeter_worst  1434.831269\n",
       "3               area_worst    57.122238\n",
       "4         smoothness_worst    67.306324\n",
       "5        compactness_worst    34.075212\n",
       "6          concavity_worst    19.049757\n",
       "7     concave points_worst    36.332374\n",
       "8           symmetry_worst    38.812700\n",
       "9  fractal_dimension_worst    86.164311"
      ]
     },
     "execution_count": 37,
     "metadata": {},
     "output_type": "execute_result"
    }
   ],
   "source": [
    "gen_VIF(X_var_worst)"
   ]
  },
  {
   "cell_type": "markdown",
   "id": "89084a23",
   "metadata": {
    "papermill": {
     "duration": 0.107633,
     "end_time": "2022-01-08T02:43:38.226395",
     "exception": false,
     "start_time": "2022-01-08T02:43:38.118762",
     "status": "completed"
    },
    "tags": []
   },
   "source": [
    "'radius_worst' and 'perimeter_worst' show signs of multi-colinearity"
   ]
  },
  {
   "cell_type": "code",
   "execution_count": 38,
   "id": "539e5e30",
   "metadata": {
    "execution": {
     "iopub.execute_input": "2022-01-08T02:43:38.446525Z",
     "iopub.status.busy": "2022-01-08T02:43:38.445782Z",
     "iopub.status.idle": "2022-01-08T02:43:38.448925Z",
     "shell.execute_reply": "2022-01-08T02:43:38.449677Z",
     "shell.execute_reply.started": "2022-01-08T02:09:45.840808Z"
    },
    "jupyter": {
     "source_hidden": true
    },
    "papermill": {
     "duration": 0.115753,
     "end_time": "2022-01-08T02:43:38.449914",
     "exception": false,
     "start_time": "2022-01-08T02:43:38.334161",
     "status": "completed"
    },
    "tags": []
   },
   "outputs": [],
   "source": [
    "# df = df.drop('radius_worst', axis=1)"
   ]
  },
  {
   "cell_type": "markdown",
   "id": "09dd0426",
   "metadata": {
    "papermill": {
     "duration": 0.107862,
     "end_time": "2022-01-08T02:43:38.666731",
     "exception": false,
     "start_time": "2022-01-08T02:43:38.558869",
     "status": "completed"
    },
    "tags": []
   },
   "source": [
    "## Additional Feature Exploration methods"
   ]
  },
  {
   "cell_type": "markdown",
   "id": "d4845eb6",
   "metadata": {
    "papermill": {
     "duration": 0.126398,
     "end_time": "2022-01-08T02:43:38.916628",
     "exception": false,
     "start_time": "2022-01-08T02:43:38.790230",
     "status": "completed"
    },
    "tags": []
   },
   "source": [
    "#### ANOVA F-Value Analysis"
   ]
  },
  {
   "cell_type": "code",
   "execution_count": 39,
   "id": "2930a80e",
   "metadata": {
    "execution": {
     "iopub.execute_input": "2022-01-08T02:43:39.141890Z",
     "iopub.status.busy": "2022-01-08T02:43:39.141152Z",
     "iopub.status.idle": "2022-01-08T02:43:39.222540Z",
     "shell.execute_reply": "2022-01-08T02:43:39.221919Z",
     "shell.execute_reply.started": "2022-01-08T02:09:45.846268Z"
    },
    "papermill": {
     "duration": 0.194468,
     "end_time": "2022-01-08T02:43:39.222719",
     "exception": false,
     "start_time": "2022-01-08T02:43:39.028251",
     "status": "completed"
    },
    "tags": []
   },
   "outputs": [],
   "source": [
    "from sklearn.feature_selection import SelectKBest, f_classif"
   ]
  },
  {
   "cell_type": "code",
   "execution_count": 40,
   "id": "19d88b8a",
   "metadata": {
    "execution": {
     "iopub.execute_input": "2022-01-08T02:43:39.445790Z",
     "iopub.status.busy": "2022-01-08T02:43:39.445043Z",
     "iopub.status.idle": "2022-01-08T02:43:39.452879Z",
     "shell.execute_reply": "2022-01-08T02:43:39.453433Z",
     "shell.execute_reply.started": "2022-01-08T02:09:45.934069Z"
    },
    "papermill": {
     "duration": 0.121642,
     "end_time": "2022-01-08T02:43:39.453644",
     "exception": false,
     "start_time": "2022-01-08T02:43:39.332002",
     "status": "completed"
    },
    "tags": []
   },
   "outputs": [],
   "source": [
    "def ANOVA_F_val_scores(df, k):\n",
    "\n",
    "    X, y = split_data(df)\n",
    "    X_train, X_test, y_train, y_test = train_test_split(X, y, test_size = .25, random_state=12)\n",
    "\n",
    "    # Feature selection using ANOVA F-value\n",
    "    def select_features(X_train, y_train, X_test, k):\n",
    "\n",
    "    #     fs = SelectKBest(score_func=f_classif, k='all')\n",
    "        fs = SelectKBest(score_func=f_classif, k=k) #'k' best features\n",
    "\n",
    "        fs.fit(X_train, y_train)\n",
    "\n",
    "        X_train_fs = fs.transform(X_train)\n",
    "        X_test_fs = fs.transform(X_test)\n",
    "\n",
    "        return X_train_fs, X_test_fs, fs\n",
    "    \n",
    "    #Running the function above\n",
    "    X_train_fs, X_test_fs, fs = select_features(X_train, y_train, X_test, k=k)\n",
    "    \n",
    "    #Feed into pipeline\n",
    "    pipe = Pipeline(steps=[('scaler', MinMaxScaler()), ('model', LogisticRegression(solver='liblinear'))])\n",
    "    \n",
    "    #Fit the pipeline on our data that was selected using 'SelectKBest' and the defined 'k'\n",
    "    pipe.fit(X_train_fs, y_train)\n",
    "    \n",
    "    #Output the pipeline accuracy score\n",
    "    return pipe.score(X_test_fs, y_test)"
   ]
  },
  {
   "cell_type": "code",
   "execution_count": 41,
   "id": "c2274653",
   "metadata": {
    "execution": {
     "iopub.execute_input": "2022-01-08T02:43:39.674770Z",
     "iopub.status.busy": "2022-01-08T02:43:39.674024Z",
     "iopub.status.idle": "2022-01-08T02:43:39.692424Z",
     "shell.execute_reply": "2022-01-08T02:43:39.692971Z",
     "shell.execute_reply.started": "2022-01-08T02:09:45.945625Z"
    },
    "papermill": {
     "duration": 0.130521,
     "end_time": "2022-01-08T02:43:39.693185",
     "exception": false,
     "start_time": "2022-01-08T02:43:39.562664",
     "status": "completed"
    },
    "tags": []
   },
   "outputs": [
    {
     "data": {
      "text/plain": [
       "0.951048951048951"
      ]
     },
     "execution_count": 41,
     "metadata": {},
     "output_type": "execute_result"
    }
   ],
   "source": [
    "score = ANOVA_F_val_scores(df, k='all')\n",
    "score"
   ]
  },
  {
   "cell_type": "code",
   "execution_count": 42,
   "id": "9f58489a",
   "metadata": {
    "execution": {
     "iopub.execute_input": "2022-01-08T02:43:39.916544Z",
     "iopub.status.busy": "2022-01-08T02:43:39.915785Z",
     "iopub.status.idle": "2022-01-08T02:43:39.935868Z",
     "shell.execute_reply": "2022-01-08T02:43:39.936408Z",
     "shell.execute_reply.started": "2022-01-08T02:09:45.976618Z"
    },
    "papermill": {
     "duration": 0.132933,
     "end_time": "2022-01-08T02:43:39.936610",
     "exception": false,
     "start_time": "2022-01-08T02:43:39.803677",
     "status": "completed"
    },
    "tags": []
   },
   "outputs": [
    {
     "data": {
      "text/plain": [
       "0.951048951048951"
      ]
     },
     "execution_count": 42,
     "metadata": {},
     "output_type": "execute_result"
    }
   ],
   "source": [
    "score_25 = ANOVA_F_val_scores(df, k=25)\n",
    "score_25"
   ]
  },
  {
   "cell_type": "code",
   "execution_count": 43,
   "id": "1b706548",
   "metadata": {
    "execution": {
     "iopub.execute_input": "2022-01-08T02:43:40.163521Z",
     "iopub.status.busy": "2022-01-08T02:43:40.162710Z",
     "iopub.status.idle": "2022-01-08T02:43:40.167479Z",
     "shell.execute_reply": "2022-01-08T02:43:40.168109Z",
     "shell.execute_reply.started": "2022-01-08T02:09:45.997627Z"
    },
    "papermill": {
     "duration": 0.118876,
     "end_time": "2022-01-08T02:43:40.168310",
     "exception": false,
     "start_time": "2022-01-08T02:43:40.049434",
     "status": "completed"
    },
    "tags": []
   },
   "outputs": [
    {
     "name": "stdout",
     "output_type": "stream",
     "text": [
      "The score for the pipeline with k = 25 is: 0.951048951048951\n",
      "The score for the pipeline with k = all is: 0.951048951048951\n"
     ]
    }
   ],
   "source": [
    "print(f'The score for the pipeline with k = 25 is: {score_25}\\nThe score for the pipeline with k = all is: {score}')"
   ]
  },
  {
   "cell_type": "markdown",
   "id": "82af74aa",
   "metadata": {
    "papermill": {
     "duration": 0.108667,
     "end_time": "2022-01-08T02:43:40.386183",
     "exception": false,
     "start_time": "2022-01-08T02:43:40.277516",
     "status": "completed"
    },
    "tags": []
   },
   "source": [
    "Same score, less features.\n",
    "\n",
    "To summarize, the ANOVA F-Value was used here to reduce the number of features (from 30 to 25) whilst maintaining optimum model accuracy"
   ]
  },
  {
   "cell_type": "code",
   "execution_count": 44,
   "id": "406f2b27",
   "metadata": {
    "execution": {
     "iopub.execute_input": "2022-01-08T02:43:40.607303Z",
     "iopub.status.busy": "2022-01-08T02:43:40.606517Z",
     "iopub.status.idle": "2022-01-08T02:43:40.820671Z",
     "shell.execute_reply": "2022-01-08T02:43:40.821265Z",
     "shell.execute_reply.started": "2022-01-08T02:09:46.002903Z"
    },
    "papermill": {
     "duration": 0.326467,
     "end_time": "2022-01-08T02:43:40.821473",
     "exception": false,
     "start_time": "2022-01-08T02:43:40.495006",
     "status": "completed"
    },
    "tags": []
   },
   "outputs": [
    {
     "data": {
      "text/plain": [
       "[None,\n",
       " None,\n",
       " None,\n",
       " None,\n",
       " None,\n",
       " None,\n",
       " None,\n",
       " None,\n",
       " None,\n",
       " None,\n",
       " None,\n",
       " None,\n",
       " None,\n",
       " None,\n",
       " None,\n",
       " None,\n",
       " None,\n",
       " None,\n",
       " None,\n",
       " None,\n",
       " None]"
      ]
     },
     "execution_count": 44,
     "metadata": {},
     "output_type": "execute_result"
    }
   ],
   "source": [
    "ks = range(10,31)\n",
    "scores = []\n",
    "[scores.append(ANOVA_F_val_scores(df, k)) for k in ks]"
   ]
  },
  {
   "cell_type": "code",
   "execution_count": 45,
   "id": "50fa6ed2",
   "metadata": {
    "execution": {
     "iopub.execute_input": "2022-01-08T02:43:41.048573Z",
     "iopub.status.busy": "2022-01-08T02:43:41.047754Z",
     "iopub.status.idle": "2022-01-08T02:43:41.387030Z",
     "shell.execute_reply": "2022-01-08T02:43:41.387756Z",
     "shell.execute_reply.started": "2022-01-08T02:09:46.214383Z"
    },
    "papermill": {
     "duration": 0.456312,
     "end_time": "2022-01-08T02:43:41.388003",
     "exception": false,
     "start_time": "2022-01-08T02:43:40.931691",
     "status": "completed"
    },
    "tags": []
   },
   "outputs": [
    {
     "data": {
      "image/png": "[encoded data removed]",
      "text/plain": [
       "<Figure size 432x288 with 1 Axes>"
      ]
     },
     "metadata": {},
     "output_type": "display_data"
    }
   ],
   "source": [
    "sns.set(style=\"darkgrid\")\n",
    "sns.lineplot(x=ks, y=scores);\n",
    "plt.title('Plot of model scores vs K');\n",
    "plt.xlabel('K')\n",
    "plt.ylabel('Score');"
   ]
  },
  {
   "cell_type": "markdown",
   "id": "9746c572",
   "metadata": {
    "papermill": {
     "duration": 0.110499,
     "end_time": "2022-01-08T02:43:41.609284",
     "exception": false,
     "start_time": "2022-01-08T02:43:41.498785",
     "status": "completed"
    },
    "tags": []
   },
   "source": [
    "#### You can see here that as 'k' increases our model score tends to increase. In this case however, our peak model performance is reached at k=25. So anything beyond ~25 doesn't really help us increase our model accuracy. So we should set our 'k' in SelectKBest to be 25."
   ]
  },
  {
   "cell_type": "code",
   "execution_count": 46,
   "id": "4e012cea",
   "metadata": {
    "execution": {
     "iopub.execute_input": "2022-01-08T02:43:41.843451Z",
     "iopub.status.busy": "2022-01-08T02:43:41.842611Z",
     "iopub.status.idle": "2022-01-08T02:43:41.847819Z",
     "shell.execute_reply": "2022-01-08T02:43:41.848433Z",
     "shell.execute_reply.started": "2022-01-08T02:09:46.535978Z"
    },
    "papermill": {
     "duration": 0.129064,
     "end_time": "2022-01-08T02:43:41.848649",
     "exception": false,
     "start_time": "2022-01-08T02:43:41.719585",
     "status": "completed"
    },
    "tags": []
   },
   "outputs": [
    {
     "data": {
      "text/plain": [
       "SelectKBest(k=25)"
      ]
     },
     "execution_count": 46,
     "metadata": {},
     "output_type": "execute_result"
    }
   ],
   "source": [
    "X, y = split_data(df)\n",
    "\n",
    "f = SelectKBest(score_func=f_classif, k=25)\n",
    "\n",
    "f.fit(X, y)"
   ]
  },
  {
   "cell_type": "code",
   "execution_count": 47,
   "id": "8f32bda0",
   "metadata": {
    "execution": {
     "iopub.execute_input": "2022-01-08T02:43:42.079162Z",
     "iopub.status.busy": "2022-01-08T02:43:42.078344Z",
     "iopub.status.idle": "2022-01-08T02:43:42.094028Z",
     "shell.execute_reply": "2022-01-08T02:43:42.094578Z",
     "shell.execute_reply.started": "2022-01-08T02:09:46.548785Z"
    },
    "papermill": {
     "duration": 0.133704,
     "end_time": "2022-01-08T02:43:42.094792",
     "exception": false,
     "start_time": "2022-01-08T02:43:41.961088",
     "status": "completed"
    },
    "tags": []
   },
   "outputs": [
    {
     "data": {
      "text/html": [
       "<div>\n",
       "<style scoped>\n",
       "    .dataframe tbody tr th:only-of-type {\n",
       "        vertical-align: middle;\n",
       "    }\n",
       "\n",
       "    .dataframe tbody tr th {\n",
       "        vertical-align: top;\n",
       "    }\n",
       "\n",
       "    .dataframe thead th {\n",
       "        text-align: right;\n",
       "    }\n",
       "</style>\n",
       "<table border=\"1\" class=\"dataframe\">\n",
       "  <thead>\n",
       "    <tr style=\"text-align: right;\">\n",
       "      <th></th>\n",
       "      <th>Input Features</th>\n",
       "      <th>F-scores</th>\n",
       "      <th>P-values</th>\n",
       "    </tr>\n",
       "  </thead>\n",
       "  <tbody>\n",
       "    <tr>\n",
       "      <th>9</th>\n",
       "      <td>fractal_dimension_mean</td>\n",
       "      <td>0.093459</td>\n",
       "      <td>0.759937</td>\n",
       "    </tr>\n",
       "    <tr>\n",
       "      <th>11</th>\n",
       "      <td>texture_se</td>\n",
       "      <td>0.039095</td>\n",
       "      <td>0.843332</td>\n",
       "    </tr>\n",
       "    <tr>\n",
       "      <th>14</th>\n",
       "      <td>smoothness_se</td>\n",
       "      <td>2.557968</td>\n",
       "      <td>0.110297</td>\n",
       "    </tr>\n",
       "    <tr>\n",
       "      <th>18</th>\n",
       "      <td>symmetry_se</td>\n",
       "      <td>0.024117</td>\n",
       "      <td>0.876642</td>\n",
       "    </tr>\n",
       "    <tr>\n",
       "      <th>19</th>\n",
       "      <td>fractal_dimension_se</td>\n",
       "      <td>3.468275</td>\n",
       "      <td>0.063074</td>\n",
       "    </tr>\n",
       "  </tbody>\n",
       "</table>\n",
       "</div>"
      ],
      "text/plain": [
       "            Input Features  F-scores  P-values\n",
       "9   fractal_dimension_mean  0.093459  0.759937\n",
       "11              texture_se  0.039095  0.843332\n",
       "14           smoothness_se  2.557968  0.110297\n",
       "18             symmetry_se  0.024117  0.876642\n",
       "19    fractal_dimension_se  3.468275  0.063074"
      ]
     },
     "execution_count": 47,
     "metadata": {},
     "output_type": "execute_result"
    }
   ],
   "source": [
    "f_pvals = pd.DataFrame(np.round(f.pvalues_, 6))\n",
    "features = pd.DataFrame(X.columns)\n",
    "f_scores = pd.DataFrame(f.scores_)\n",
    "score_df = pd.concat([features, f_scores, f_pvals], axis=1)\n",
    "    \n",
    "#Assign column names\n",
    "score_df.columns=['Input Features', 'F-scores', 'P-values']\n",
    "\n",
    "#Display the score_df and filter the rows based on p-values which are greater than .05 (i.e. not significant)\n",
    "score_df[score_df['P-values'] > .05]"
   ]
  },
  {
   "cell_type": "markdown",
   "id": "6fe2a467",
   "metadata": {
    "papermill": {
     "duration": 0.112645,
     "end_time": "2022-01-08T02:43:42.319455",
     "exception": false,
     "start_time": "2022-01-08T02:43:42.206810",
     "status": "completed"
    },
    "tags": []
   },
   "source": [
    "#### Point-Biserial Correlation\n",
    "https://medium.com/@outside2SDs/an-overview-of-correlation-measures-between-categorical-and-continuous-variables-4c7f85610365\n",
    "\n",
    "https://www.youtube.com/watch?v=AlFZlhVLdJs\n",
    "\n",
    "https://towardsdatascience.com/point-biserial-correlation-with-python-f7cd591bd3b1"
   ]
  },
  {
   "cell_type": "markdown",
   "id": "470e1859",
   "metadata": {
    "papermill": {
     "duration": 0.11077,
     "end_time": "2022-01-08T02:43:42.543133",
     "exception": false,
     "start_time": "2022-01-08T02:43:42.432363",
     "status": "completed"
    },
    "tags": []
   },
   "source": [
    "Like the ANOVA F-value, the point-biserial correlation tells a story of the data and the correlations within it. Ideally, it's used in the cases in which you have a binary variable to predict (i.e. in this case, it's diagnosis) and we have continuous data. \n",
    "\n",
    "We'll be using the SciPy library for this as it has a very nice built in function. \n",
    "\n",
    "\"The point biserial correlation is used to measure the relationship between a binary variable, x, and a continuous variable, y. Like other correlation coefficients, this one varies between -1 and +1 with 0 implying no correlation. Correlations of -1 or +1 imply a determinative relationship.\" - SciPy Documentation (https://docs.scipy.org/doc/scipy-0.14.0/reference/generated/scipy.stats.pointbiserialr.html)"
   ]
  },
  {
   "cell_type": "code",
   "execution_count": 48,
   "id": "85384fd2",
   "metadata": {
    "execution": {
     "iopub.execute_input": "2022-01-08T02:43:42.769191Z",
     "iopub.status.busy": "2022-01-08T02:43:42.768397Z",
     "iopub.status.idle": "2022-01-08T02:43:42.771702Z",
     "shell.execute_reply": "2022-01-08T02:43:42.772399Z",
     "shell.execute_reply.started": "2022-01-08T02:09:46.568832Z"
    },
    "papermill": {
     "duration": 0.118668,
     "end_time": "2022-01-08T02:43:42.772601",
     "exception": false,
     "start_time": "2022-01-08T02:43:42.653933",
     "status": "completed"
    },
    "tags": []
   },
   "outputs": [],
   "source": [
    "from scipy.stats import pointbiserialr as pbs"
   ]
  },
  {
   "cell_type": "code",
   "execution_count": 49,
   "id": "1b59fe62",
   "metadata": {
    "execution": {
     "iopub.execute_input": "2022-01-08T02:43:43.001199Z",
     "iopub.status.busy": "2022-01-08T02:43:43.000374Z",
     "iopub.status.idle": "2022-01-08T02:43:43.021022Z",
     "shell.execute_reply": "2022-01-08T02:43:43.021654Z",
     "shell.execute_reply.started": "2022-01-08T02:09:46.579601Z"
    },
    "papermill": {
     "duration": 0.137819,
     "end_time": "2022-01-08T02:43:43.021876",
     "exception": false,
     "start_time": "2022-01-08T02:43:42.884057",
     "status": "completed"
    },
    "tags": []
   },
   "outputs": [],
   "source": [
    "#Re-initiating the original dataframe\n",
    "\n",
    "original_df = pd.read_csv('../input/breast-cancer-wisconsin-data/data.csv')\n",
    "\n",
    "wrapper = {'M':0, 'B':1}\n",
    "original_df.diagnosis = original_df.diagnosis.replace(wrapper)\n",
    "\n",
    "original_df = original_df.drop(['id', 'Unnamed: 32'], axis=1)"
   ]
  },
  {
   "cell_type": "code",
   "execution_count": 50,
   "id": "73471e22",
   "metadata": {
    "execution": {
     "iopub.execute_input": "2022-01-08T02:43:43.253849Z",
     "iopub.status.busy": "2022-01-08T02:43:43.253123Z",
     "iopub.status.idle": "2022-01-08T02:43:43.263881Z",
     "shell.execute_reply": "2022-01-08T02:43:43.264463Z",
     "shell.execute_reply.started": "2022-01-08T02:09:46.605429Z"
    },
    "papermill": {
     "duration": 0.127564,
     "end_time": "2022-01-08T02:43:43.264692",
     "exception": false,
     "start_time": "2022-01-08T02:43:43.137128",
     "status": "completed"
    },
    "tags": []
   },
   "outputs": [],
   "source": [
    "# List comprehension to run the pointbiserialr SciPy function on all columns of the dataset\n",
    "pbs_out = [pbs(y, original_df[col]) for col in original_df.columns[1:]]"
   ]
  },
  {
   "cell_type": "code",
   "execution_count": 51,
   "id": "a50b239b",
   "metadata": {
    "execution": {
     "iopub.execute_input": "2022-01-08T02:43:43.493810Z",
     "iopub.status.busy": "2022-01-08T02:43:43.493115Z",
     "iopub.status.idle": "2022-01-08T02:43:43.510362Z",
     "shell.execute_reply": "2022-01-08T02:43:43.509791Z",
     "shell.execute_reply.started": "2022-01-08T02:09:46.618998Z"
    },
    "papermill": {
     "duration": 0.134065,
     "end_time": "2022-01-08T02:43:43.510530",
     "exception": false,
     "start_time": "2022-01-08T02:43:43.376465",
     "status": "completed"
    },
    "tags": []
   },
   "outputs": [
    {
     "data": {
      "text/html": [
       "<div>\n",
       "<style scoped>\n",
       "    .dataframe tbody tr th:only-of-type {\n",
       "        vertical-align: middle;\n",
       "    }\n",
       "\n",
       "    .dataframe tbody tr th {\n",
       "        vertical-align: top;\n",
       "    }\n",
       "\n",
       "    .dataframe thead th {\n",
       "        text-align: right;\n",
       "    }\n",
       "</style>\n",
       "<table border=\"1\" class=\"dataframe\">\n",
       "  <thead>\n",
       "    <tr style=\"text-align: right;\">\n",
       "      <th></th>\n",
       "      <th>Input Features</th>\n",
       "      <th>R value (correlation coeff.)</th>\n",
       "      <th>P-value</th>\n",
       "    </tr>\n",
       "  </thead>\n",
       "  <tbody>\n",
       "    <tr>\n",
       "      <th>9</th>\n",
       "      <td>fractal_dimension_mean</td>\n",
       "      <td>0.012838</td>\n",
       "      <td>0.75994</td>\n",
       "    </tr>\n",
       "    <tr>\n",
       "      <th>11</th>\n",
       "      <td>texture_se</td>\n",
       "      <td>0.008303</td>\n",
       "      <td>0.84333</td>\n",
       "    </tr>\n",
       "    <tr>\n",
       "      <th>14</th>\n",
       "      <td>smoothness_se</td>\n",
       "      <td>0.067016</td>\n",
       "      <td>0.11030</td>\n",
       "    </tr>\n",
       "    <tr>\n",
       "      <th>18</th>\n",
       "      <td>symmetry_se</td>\n",
       "      <td>0.006522</td>\n",
       "      <td>0.87664</td>\n",
       "    </tr>\n",
       "    <tr>\n",
       "      <th>19</th>\n",
       "      <td>fractal_dimension_se</td>\n",
       "      <td>-0.077972</td>\n",
       "      <td>0.06307</td>\n",
       "    </tr>\n",
       "  </tbody>\n",
       "</table>\n",
       "</div>"
      ],
      "text/plain": [
       "            Input Features  R value (correlation coeff.)  P-value\n",
       "9   fractal_dimension_mean                      0.012838  0.75994\n",
       "11              texture_se                      0.008303  0.84333\n",
       "14           smoothness_se                      0.067016  0.11030\n",
       "18             symmetry_se                      0.006522  0.87664\n",
       "19    fractal_dimension_se                     -0.077972  0.06307"
      ]
     },
     "execution_count": 51,
     "metadata": {},
     "output_type": "execute_result"
    }
   ],
   "source": [
    "pbs_r, pbs_pval = [], []\n",
    "\n",
    "#Creating a DataFrame to concatenate the results and view together (extracting the important values out from each tuple of pbs output)\n",
    "pbs_r = pd.DataFrame([pbs_out[i][0] for i in range(len(pbs_out))])\n",
    "pbs_pval = pd.DataFrame([pbs_out[i][1] for i in range(len(pbs_out))])\n",
    "\n",
    "#Concatenating the results\n",
    "df_pbs = pd.concat([features, pbs_r, np.round(pbs_pval, 5)], axis = 1)\n",
    "df_pbs.columns=['Input Features', 'R value (correlation coeff.)', 'P-value']\n",
    "\n",
    "#Filtering to view the rows with p-values < .05\n",
    "df_pbs[df_pbs['P-value'] > .05]"
   ]
  },
  {
   "cell_type": "markdown",
   "id": "d1a6aabf",
   "metadata": {
    "papermill": {
     "duration": 0.111532,
     "end_time": "2022-01-08T02:43:43.734202",
     "exception": false,
     "start_time": "2022-01-08T02:43:43.622670",
     "status": "completed"
    },
    "tags": []
   },
   "source": [
    "Comparing this result to the previous DataFrame up above (ANOVA F-Value) we actually see nearly identical results which makes sense. These are the features in our model data that are of no use to us and can be safely discarded (i.e. they have little to no correlation to the diagnosis)"
   ]
  },
  {
   "cell_type": "markdown",
   "id": "c3732857",
   "metadata": {
    "papermill": {
     "duration": 0.11173,
     "end_time": "2022-01-08T02:43:43.957582",
     "exception": false,
     "start_time": "2022-01-08T02:43:43.845852",
     "status": "completed"
    },
    "tags": []
   },
   "source": [
    "#### The goal is simply to remove any features which are seemingly unnecessary to model performance. In this case we will get rid 5 features since they have p-values greater than .05 and fail to reject the hypothesis."
   ]
  },
  {
   "cell_type": "code",
   "execution_count": 52,
   "id": "d88ce8e8",
   "metadata": {
    "execution": {
     "iopub.execute_input": "2022-01-08T02:43:44.187642Z",
     "iopub.status.busy": "2022-01-08T02:43:44.186856Z",
     "iopub.status.idle": "2022-01-08T02:43:44.194188Z",
     "shell.execute_reply": "2022-01-08T02:43:44.193505Z",
     "shell.execute_reply.started": "2022-01-08T02:09:46.637195Z"
    },
    "papermill": {
     "duration": 0.123169,
     "end_time": "2022-01-08T02:43:44.194352",
     "exception": false,
     "start_time": "2022-01-08T02:43:44.071183",
     "status": "completed"
    },
    "tags": []
   },
   "outputs": [],
   "source": [
    "#Get all the input feature row names, this will us to drop these columns from the main dataframe (df)\n",
    "columns_to_drop = df_pbs[df_pbs['P-value'] > .05]['Input Features'].tolist()\n",
    "\n",
    "#Perform the drop\n",
    "original_df = original_df.drop(columns_to_drop, axis=1)"
   ]
  },
  {
   "cell_type": "markdown",
   "id": "ef014e1a",
   "metadata": {
    "papermill": {
     "duration": 0.111746,
     "end_time": "2022-01-08T02:43:44.418920",
     "exception": false,
     "start_time": "2022-01-08T02:43:44.307174",
     "status": "completed"
    },
    "tags": []
   },
   "source": [
    "# Model Development"
   ]
  },
  {
   "cell_type": "code",
   "execution_count": 53,
   "id": "d3963162",
   "metadata": {
    "execution": {
     "iopub.execute_input": "2022-01-08T02:43:44.649378Z",
     "iopub.status.busy": "2022-01-08T02:43:44.648283Z",
     "iopub.status.idle": "2022-01-08T02:43:44.806860Z",
     "shell.execute_reply": "2022-01-08T02:43:44.806243Z",
     "shell.execute_reply.started": "2022-01-08T02:09:46.644720Z"
    },
    "papermill": {
     "duration": 0.274564,
     "end_time": "2022-01-08T02:43:44.807037",
     "exception": false,
     "start_time": "2022-01-08T02:43:44.532473",
     "status": "completed"
    },
    "tags": []
   },
   "outputs": [],
   "source": [
    "from sklearn.preprocessing import RobustScaler, StandardScaler\n",
    "from sklearn.model_selection import GridSearchCV\n",
    "\n",
    "\n",
    "from sklearn.tree import DecisionTreeClassifier\n",
    "from sklearn.ensemble import RandomForestClassifier\n",
    "from sklearn.svm import SVC\n",
    "import xgboost as xgb"
   ]
  },
  {
   "cell_type": "code",
   "execution_count": 54,
   "id": "3731df10",
   "metadata": {
    "execution": {
     "iopub.execute_input": "2022-01-08T02:43:45.038536Z",
     "iopub.status.busy": "2022-01-08T02:43:45.037460Z",
     "iopub.status.idle": "2022-01-08T02:43:45.046006Z",
     "shell.execute_reply": "2022-01-08T02:43:45.046567Z",
     "shell.execute_reply.started": "2022-01-08T02:09:46.804391Z"
    },
    "papermill": {
     "duration": 0.126976,
     "end_time": "2022-01-08T02:43:45.046772",
     "exception": false,
     "start_time": "2022-01-08T02:43:44.919796",
     "status": "completed"
    },
    "tags": []
   },
   "outputs": [],
   "source": [
    "def scale_data(scaler, df):\n",
    "    \n",
    "    #Split the data\n",
    "    X, y = split_data(df)\n",
    "    \n",
    "    #Split into training and test splits\n",
    "    X_train, X_test, y_train, y_test = train_test_split(X, y, test_size=.20, random_state = 1)\n",
    "    \n",
    "    #Instantiate scaler object\n",
    "    if scaler == 'MinMaxScaler':\n",
    "        sc = MinMaxScaler()\n",
    "    elif scaler == 'StandardScaler':\n",
    "        sc = StandardScaler()\n",
    "    elif scaler == 'RobustScaler':\n",
    "        sc = RobustScaler()\n",
    "        \n",
    "    #Transform using given scaler\n",
    "    X_train = sc.fit_transform(X_train)\n",
    "    X_test = sc.transform(X_test)\n",
    "\n",
    "    #Output\n",
    "    return X_train, X_test, y_train, y_test"
   ]
  },
  {
   "cell_type": "markdown",
   "id": "a7b673b3",
   "metadata": {
    "papermill": {
     "duration": 0.111784,
     "end_time": "2022-01-08T02:43:45.271565",
     "exception": false,
     "start_time": "2022-01-08T02:43:45.159781",
     "status": "completed"
    },
    "tags": []
   },
   "source": [
    "#### Metrics for assessing model\n",
    "Hyperparameter optimization"
   ]
  },
  {
   "cell_type": "code",
   "execution_count": 55,
   "id": "a26d1edf",
   "metadata": {
    "execution": {
     "iopub.execute_input": "2022-01-08T02:43:45.499100Z",
     "iopub.status.busy": "2022-01-08T02:43:45.498026Z",
     "iopub.status.idle": "2022-01-08T02:43:45.505332Z",
     "shell.execute_reply": "2022-01-08T02:43:45.505823Z",
     "shell.execute_reply.started": "2022-01-08T02:09:46.814454Z"
    },
    "papermill": {
     "duration": 0.122845,
     "end_time": "2022-01-08T02:43:45.506050",
     "exception": false,
     "start_time": "2022-01-08T02:43:45.383205",
     "status": "completed"
    },
    "tags": []
   },
   "outputs": [],
   "source": [
    "model_params = {\n",
    "    'svm': {\n",
    "        'model': SVC(gamma='auto'),\n",
    "        'params' : {\n",
    "            'C': [1,20],\n",
    "            'kernel': ['rbf','linear']\n",
    "        }  \n",
    "    },\n",
    "    'random_forest': {\n",
    "        'model': RandomForestClassifier(),\n",
    "        'params' : {\n",
    "            'n_estimators': [1,10,50],\n",
    "            'criterion':['gini', 'entropy']\n",
    "        }\n",
    "    },\n",
    "    'logistic_regression' : {\n",
    "        'model': LogisticRegression(multi_class='auto'),\n",
    "        'params': {\n",
    "            'C': [1,10,20,50],\n",
    "            'solver': ['newton-cg', 'liblinear', 'saga']\n",
    "        }\n",
    "    },\n",
    "    'decision_tree':{\n",
    "        'model': DecisionTreeClassifier(),\n",
    "        'params': {\n",
    "            'criterion':['gini', 'entropy'],\n",
    "        }\n",
    "    }\n",
    "}"
   ]
  },
  {
   "cell_type": "code",
   "execution_count": 56,
   "id": "aa843e13",
   "metadata": {
    "execution": {
     "iopub.execute_input": "2022-01-08T02:43:45.733982Z",
     "iopub.status.busy": "2022-01-08T02:43:45.732896Z",
     "iopub.status.idle": "2022-01-08T02:43:45.741783Z",
     "shell.execute_reply": "2022-01-08T02:43:45.741099Z",
     "shell.execute_reply.started": "2022-01-08T02:09:46.831229Z"
    },
    "papermill": {
     "duration": 0.124264,
     "end_time": "2022-01-08T02:43:45.741981",
     "exception": false,
     "start_time": "2022-01-08T02:43:45.617717",
     "status": "completed"
    },
    "tags": []
   },
   "outputs": [],
   "source": [
    "def run_gridsearch(X_train, y_train, X_test, y_test, model_params = model_params):\n",
    "    scores = []\n",
    "    \n",
    "    for model_name, mp in model_params.items():\n",
    "        clf =  GridSearchCV(mp['model'], mp['params'], cv=5, return_train_score=False)\n",
    "        clf.fit(X_train, y_train)\n",
    "        scores.append({\n",
    "            'model': model_name,\n",
    "            'best_score': clf.best_score_,\n",
    "            'best_params': clf.best_params_\n",
    "        })\n",
    "\n",
    "    df_model_scores = pd.DataFrame(scores,columns=['model','best_score','best_params'])\n",
    "    \n",
    "    return df_model_scores"
   ]
  },
  {
   "cell_type": "code",
   "execution_count": 57,
   "id": "5fb78a15",
   "metadata": {
    "execution": {
     "iopub.execute_input": "2022-01-08T02:43:45.978794Z",
     "iopub.status.busy": "2022-01-08T02:43:45.977788Z",
     "iopub.status.idle": "2022-01-08T02:43:45.982227Z",
     "shell.execute_reply": "2022-01-08T02:43:45.981604Z",
     "shell.execute_reply.started": "2022-01-08T02:09:46.844472Z"
    },
    "papermill": {
     "duration": 0.126407,
     "end_time": "2022-01-08T02:43:45.982394",
     "exception": false,
     "start_time": "2022-01-08T02:43:45.855987",
     "status": "completed"
    },
    "tags": []
   },
   "outputs": [],
   "source": [
    "X, y = split_data(original_df)\n",
    "    \n",
    "X_train, X_test, y_train, y_test = train_test_split(X, y, test_size=.20)"
   ]
  },
  {
   "cell_type": "code",
   "execution_count": 58,
   "id": "1988f3cd",
   "metadata": {
    "collapsed": true,
    "execution": {
     "iopub.execute_input": "2022-01-08T02:43:46.218250Z",
     "iopub.status.busy": "2022-01-08T02:43:46.217103Z",
     "iopub.status.idle": "2022-01-08T02:44:18.061577Z",
     "shell.execute_reply": "2022-01-08T02:44:18.060907Z",
     "shell.execute_reply.started": "2022-01-08T02:09:46.859856Z"
    },
    "jupyter": {
     "outputs_hidden": true
    },
    "papermill": {
     "duration": 31.960621,
     "end_time": "2022-01-08T02:44:18.061762",
     "exception": false,
     "start_time": "2022-01-08T02:43:46.101141",
     "status": "completed"
    },
    "tags": []
   },
   "outputs": [
    {
     "name": "stderr",
     "output_type": "stream",
     "text": [
      "/opt/conda/lib/python3.7/site-packages/sklearn/linear_model/_sag.py:330: ConvergenceWarning: The max_iter was reached which means the coef_ did not converge\n",
      "  \"the coef_ did not converge\", ConvergenceWarning)\n",
      "/opt/conda/lib/python3.7/site-packages/sklearn/linear_model/_sag.py:330: ConvergenceWarning: The max_iter was reached which means the coef_ did not converge\n",
      "  \"the coef_ did not converge\", ConvergenceWarning)\n",
      "/opt/conda/lib/python3.7/site-packages/sklearn/linear_model/_sag.py:330: ConvergenceWarning: The max_iter was reached which means the coef_ did not converge\n",
      "  \"the coef_ did not converge\", ConvergenceWarning)\n",
      "/opt/conda/lib/python3.7/site-packages/sklearn/linear_model/_sag.py:330: ConvergenceWarning: The max_iter was reached which means the coef_ did not converge\n",
      "  \"the coef_ did not converge\", ConvergenceWarning)\n",
      "/opt/conda/lib/python3.7/site-packages/sklearn/linear_model/_sag.py:330: ConvergenceWarning: The max_iter was reached which means the coef_ did not converge\n",
      "  \"the coef_ did not converge\", ConvergenceWarning)\n",
      "/opt/conda/lib/python3.7/site-packages/sklearn/utils/optimize.py:212: ConvergenceWarning: newton-cg failed to converge. Increase the number of iterations.\n",
      "  \"number of iterations.\", ConvergenceWarning)\n",
      "/opt/conda/lib/python3.7/site-packages/sklearn/linear_model/_sag.py:330: ConvergenceWarning: The max_iter was reached which means the coef_ did not converge\n",
      "  \"the coef_ did not converge\", ConvergenceWarning)\n",
      "/opt/conda/lib/python3.7/site-packages/sklearn/linear_model/_sag.py:330: ConvergenceWarning: The max_iter was reached which means the coef_ did not converge\n",
      "  \"the coef_ did not converge\", ConvergenceWarning)\n",
      "/opt/conda/lib/python3.7/site-packages/sklearn/linear_model/_sag.py:330: ConvergenceWarning: The max_iter was reached which means the coef_ did not converge\n",
      "  \"the coef_ did not converge\", ConvergenceWarning)\n",
      "/opt/conda/lib/python3.7/site-packages/sklearn/linear_model/_sag.py:330: ConvergenceWarning: The max_iter was reached which means the coef_ did not converge\n",
      "  \"the coef_ did not converge\", ConvergenceWarning)\n",
      "/opt/conda/lib/python3.7/site-packages/sklearn/linear_model/_sag.py:330: ConvergenceWarning: The max_iter was reached which means the coef_ did not converge\n",
      "  \"the coef_ did not converge\", ConvergenceWarning)\n",
      "/opt/conda/lib/python3.7/site-packages/sklearn/linear_model/_sag.py:330: ConvergenceWarning: The max_iter was reached which means the coef_ did not converge\n",
      "  \"the coef_ did not converge\", ConvergenceWarning)\n",
      "/opt/conda/lib/python3.7/site-packages/sklearn/linear_model/_sag.py:330: ConvergenceWarning: The max_iter was reached which means the coef_ did not converge\n",
      "  \"the coef_ did not converge\", ConvergenceWarning)\n",
      "/opt/conda/lib/python3.7/site-packages/sklearn/linear_model/_sag.py:330: ConvergenceWarning: The max_iter was reached which means the coef_ did not converge\n",
      "  \"the coef_ did not converge\", ConvergenceWarning)\n",
      "/opt/conda/lib/python3.7/site-packages/sklearn/linear_model/_sag.py:330: ConvergenceWarning: The max_iter was reached which means the coef_ did not converge\n",
      "  \"the coef_ did not converge\", ConvergenceWarning)\n",
      "/opt/conda/lib/python3.7/site-packages/sklearn/linear_model/_sag.py:330: ConvergenceWarning: The max_iter was reached which means the coef_ did not converge\n",
      "  \"the coef_ did not converge\", ConvergenceWarning)\n",
      "/opt/conda/lib/python3.7/site-packages/sklearn/linear_model/_sag.py:330: ConvergenceWarning: The max_iter was reached which means the coef_ did not converge\n",
      "  \"the coef_ did not converge\", ConvergenceWarning)\n",
      "/opt/conda/lib/python3.7/site-packages/sklearn/linear_model/_sag.py:330: ConvergenceWarning: The max_iter was reached which means the coef_ did not converge\n",
      "  \"the coef_ did not converge\", ConvergenceWarning)\n",
      "/opt/conda/lib/python3.7/site-packages/sklearn/linear_model/_sag.py:330: ConvergenceWarning: The max_iter was reached which means the coef_ did not converge\n",
      "  \"the coef_ did not converge\", ConvergenceWarning)\n",
      "/opt/conda/lib/python3.7/site-packages/sklearn/linear_model/_sag.py:330: ConvergenceWarning: The max_iter was reached which means the coef_ did not converge\n",
      "  \"the coef_ did not converge\", ConvergenceWarning)\n",
      "/opt/conda/lib/python3.7/site-packages/sklearn/linear_model/_sag.py:330: ConvergenceWarning: The max_iter was reached which means the coef_ did not converge\n",
      "  \"the coef_ did not converge\", ConvergenceWarning)\n"
     ]
    }
   ],
   "source": [
    "df_model_noscale_featureselection = run_gridsearch(X_train, y_train, X_test, y_test)"
   ]
  },
  {
   "cell_type": "code",
   "execution_count": 59,
   "id": "c9b5ef39",
   "metadata": {
    "execution": {
     "iopub.execute_input": "2022-01-08T02:44:18.306386Z",
     "iopub.status.busy": "2022-01-08T02:44:18.305308Z",
     "iopub.status.idle": "2022-01-08T02:44:18.309173Z",
     "shell.execute_reply": "2022-01-08T02:44:18.309689Z",
     "shell.execute_reply.started": "2022-01-08T02:10:26.419191Z"
    },
    "papermill": {
     "duration": 0.131942,
     "end_time": "2022-01-08T02:44:18.309933",
     "exception": false,
     "start_time": "2022-01-08T02:44:18.177991",
     "status": "completed"
    },
    "tags": []
   },
   "outputs": [
    {
     "data": {
      "text/html": [
       "<div>\n",
       "<style scoped>\n",
       "    .dataframe tbody tr th:only-of-type {\n",
       "        vertical-align: middle;\n",
       "    }\n",
       "\n",
       "    .dataframe tbody tr th {\n",
       "        vertical-align: top;\n",
       "    }\n",
       "\n",
       "    .dataframe thead th {\n",
       "        text-align: right;\n",
       "    }\n",
       "</style>\n",
       "<table border=\"1\" class=\"dataframe\">\n",
       "  <thead>\n",
       "    <tr style=\"text-align: right;\">\n",
       "      <th></th>\n",
       "      <th>model</th>\n",
       "      <th>best_score</th>\n",
       "      <th>best_params</th>\n",
       "    </tr>\n",
       "  </thead>\n",
       "  <tbody>\n",
       "    <tr>\n",
       "      <th>0</th>\n",
       "      <td>svm</td>\n",
       "      <td>0.962637</td>\n",
       "      <td>{'C': 1, 'kernel': 'linear'}</td>\n",
       "    </tr>\n",
       "    <tr>\n",
       "      <th>1</th>\n",
       "      <td>random_forest</td>\n",
       "      <td>0.958242</td>\n",
       "      <td>{'criterion': 'gini', 'n_estimators': 50}</td>\n",
       "    </tr>\n",
       "    <tr>\n",
       "      <th>2</th>\n",
       "      <td>logistic_regression</td>\n",
       "      <td>0.962637</td>\n",
       "      <td>{'C': 10, 'solver': 'newton-cg'}</td>\n",
       "    </tr>\n",
       "    <tr>\n",
       "      <th>3</th>\n",
       "      <td>decision_tree</td>\n",
       "      <td>0.942857</td>\n",
       "      <td>{'criterion': 'gini'}</td>\n",
       "    </tr>\n",
       "  </tbody>\n",
       "</table>\n",
       "</div>"
      ],
      "text/plain": [
       "                 model  best_score                                best_params\n",
       "0                  svm    0.962637               {'C': 1, 'kernel': 'linear'}\n",
       "1        random_forest    0.958242  {'criterion': 'gini', 'n_estimators': 50}\n",
       "2  logistic_regression    0.962637           {'C': 10, 'solver': 'newton-cg'}\n",
       "3        decision_tree    0.942857                      {'criterion': 'gini'}"
      ]
     },
     "execution_count": 59,
     "metadata": {},
     "output_type": "execute_result"
    }
   ],
   "source": [
    "df_model_noscale_featureselection"
   ]
  },
  {
   "cell_type": "code",
   "execution_count": 60,
   "id": "ec56186e",
   "metadata": {
    "execution": {
     "iopub.execute_input": "2022-01-08T02:44:18.545321Z",
     "iopub.status.busy": "2022-01-08T02:44:18.544577Z",
     "iopub.status.idle": "2022-01-08T02:44:18.551110Z",
     "shell.execute_reply": "2022-01-08T02:44:18.551650Z",
     "shell.execute_reply.started": "2022-01-08T02:10:26.432263Z"
    },
    "papermill": {
     "duration": 0.12652,
     "end_time": "2022-01-08T02:44:18.551865",
     "exception": false,
     "start_time": "2022-01-08T02:44:18.425345",
     "status": "completed"
    },
    "tags": []
   },
   "outputs": [],
   "source": [
    "X, y = split_data(df)\n",
    "\n",
    "X_train, X_test, y_train, y_test = train_test_split(X, y, test_size = .20)"
   ]
  },
  {
   "cell_type": "code",
   "execution_count": 61,
   "id": "a749b5e6",
   "metadata": {
    "collapsed": true,
    "execution": {
     "iopub.execute_input": "2022-01-08T02:44:18.784029Z",
     "iopub.status.busy": "2022-01-08T02:44:18.783327Z",
     "iopub.status.idle": "2022-01-08T02:44:59.891657Z",
     "shell.execute_reply": "2022-01-08T02:44:59.890967Z",
     "shell.execute_reply.started": "2022-01-08T02:10:26.448038Z"
    },
    "jupyter": {
     "outputs_hidden": true
    },
    "papermill": {
     "duration": 41.225897,
     "end_time": "2022-01-08T02:44:59.891821",
     "exception": false,
     "start_time": "2022-01-08T02:44:18.665924",
     "status": "completed"
    },
    "tags": []
   },
   "outputs": [
    {
     "name": "stderr",
     "output_type": "stream",
     "text": [
      "/opt/conda/lib/python3.7/site-packages/sklearn/linear_model/_sag.py:330: ConvergenceWarning: The max_iter was reached which means the coef_ did not converge\n",
      "  \"the coef_ did not converge\", ConvergenceWarning)\n",
      "/opt/conda/lib/python3.7/site-packages/sklearn/linear_model/_sag.py:330: ConvergenceWarning: The max_iter was reached which means the coef_ did not converge\n",
      "  \"the coef_ did not converge\", ConvergenceWarning)\n",
      "/opt/conda/lib/python3.7/site-packages/sklearn/linear_model/_sag.py:330: ConvergenceWarning: The max_iter was reached which means the coef_ did not converge\n",
      "  \"the coef_ did not converge\", ConvergenceWarning)\n",
      "/opt/conda/lib/python3.7/site-packages/sklearn/linear_model/_sag.py:330: ConvergenceWarning: The max_iter was reached which means the coef_ did not converge\n",
      "  \"the coef_ did not converge\", ConvergenceWarning)\n",
      "/opt/conda/lib/python3.7/site-packages/sklearn/linear_model/_sag.py:330: ConvergenceWarning: The max_iter was reached which means the coef_ did not converge\n",
      "  \"the coef_ did not converge\", ConvergenceWarning)\n",
      "/opt/conda/lib/python3.7/site-packages/sklearn/linear_model/_sag.py:330: ConvergenceWarning: The max_iter was reached which means the coef_ did not converge\n",
      "  \"the coef_ did not converge\", ConvergenceWarning)\n",
      "/opt/conda/lib/python3.7/site-packages/sklearn/linear_model/_sag.py:330: ConvergenceWarning: The max_iter was reached which means the coef_ did not converge\n",
      "  \"the coef_ did not converge\", ConvergenceWarning)\n",
      "/opt/conda/lib/python3.7/site-packages/sklearn/linear_model/_sag.py:330: ConvergenceWarning: The max_iter was reached which means the coef_ did not converge\n",
      "  \"the coef_ did not converge\", ConvergenceWarning)\n",
      "/opt/conda/lib/python3.7/site-packages/sklearn/linear_model/_sag.py:330: ConvergenceWarning: The max_iter was reached which means the coef_ did not converge\n",
      "  \"the coef_ did not converge\", ConvergenceWarning)\n",
      "/opt/conda/lib/python3.7/site-packages/sklearn/linear_model/_sag.py:330: ConvergenceWarning: The max_iter was reached which means the coef_ did not converge\n",
      "  \"the coef_ did not converge\", ConvergenceWarning)\n",
      "/opt/conda/lib/python3.7/site-packages/sklearn/linear_model/_sag.py:330: ConvergenceWarning: The max_iter was reached which means the coef_ did not converge\n",
      "  \"the coef_ did not converge\", ConvergenceWarning)\n",
      "/opt/conda/lib/python3.7/site-packages/sklearn/linear_model/_sag.py:330: ConvergenceWarning: The max_iter was reached which means the coef_ did not converge\n",
      "  \"the coef_ did not converge\", ConvergenceWarning)\n",
      "/opt/conda/lib/python3.7/site-packages/sklearn/linear_model/_sag.py:330: ConvergenceWarning: The max_iter was reached which means the coef_ did not converge\n",
      "  \"the coef_ did not converge\", ConvergenceWarning)\n",
      "/opt/conda/lib/python3.7/site-packages/sklearn/linear_model/_sag.py:330: ConvergenceWarning: The max_iter was reached which means the coef_ did not converge\n",
      "  \"the coef_ did not converge\", ConvergenceWarning)\n",
      "/opt/conda/lib/python3.7/site-packages/sklearn/linear_model/_sag.py:330: ConvergenceWarning: The max_iter was reached which means the coef_ did not converge\n",
      "  \"the coef_ did not converge\", ConvergenceWarning)\n",
      "/opt/conda/lib/python3.7/site-packages/sklearn/linear_model/_sag.py:330: ConvergenceWarning: The max_iter was reached which means the coef_ did not converge\n",
      "  \"the coef_ did not converge\", ConvergenceWarning)\n",
      "/opt/conda/lib/python3.7/site-packages/sklearn/linear_model/_sag.py:330: ConvergenceWarning: The max_iter was reached which means the coef_ did not converge\n",
      "  \"the coef_ did not converge\", ConvergenceWarning)\n",
      "/opt/conda/lib/python3.7/site-packages/sklearn/linear_model/_sag.py:330: ConvergenceWarning: The max_iter was reached which means the coef_ did not converge\n",
      "  \"the coef_ did not converge\", ConvergenceWarning)\n",
      "/opt/conda/lib/python3.7/site-packages/sklearn/linear_model/_sag.py:330: ConvergenceWarning: The max_iter was reached which means the coef_ did not converge\n",
      "  \"the coef_ did not converge\", ConvergenceWarning)\n",
      "/opt/conda/lib/python3.7/site-packages/sklearn/linear_model/_sag.py:330: ConvergenceWarning: The max_iter was reached which means the coef_ did not converge\n",
      "  \"the coef_ did not converge\", ConvergenceWarning)\n"
     ]
    }
   ],
   "source": [
    "df_model_noscale_defaultdata = run_gridsearch(X_train, y_train, X_test, y_test)"
   ]
  },
  {
   "cell_type": "code",
   "execution_count": 62,
   "id": "234f8934",
   "metadata": {
    "execution": {
     "iopub.execute_input": "2022-01-08T02:45:00.136376Z",
     "iopub.status.busy": "2022-01-08T02:45:00.135600Z",
     "iopub.status.idle": "2022-01-08T02:45:00.145587Z",
     "shell.execute_reply": "2022-01-08T02:45:00.146156Z",
     "shell.execute_reply.started": "2022-01-08T02:11:02.055300Z"
    },
    "papermill": {
     "duration": 0.13504,
     "end_time": "2022-01-08T02:45:00.146372",
     "exception": false,
     "start_time": "2022-01-08T02:45:00.011332",
     "status": "completed"
    },
    "tags": []
   },
   "outputs": [
    {
     "data": {
      "text/html": [
       "<div>\n",
       "<style scoped>\n",
       "    .dataframe tbody tr th:only-of-type {\n",
       "        vertical-align: middle;\n",
       "    }\n",
       "\n",
       "    .dataframe tbody tr th {\n",
       "        vertical-align: top;\n",
       "    }\n",
       "\n",
       "    .dataframe thead th {\n",
       "        text-align: right;\n",
       "    }\n",
       "</style>\n",
       "<table border=\"1\" class=\"dataframe\">\n",
       "  <thead>\n",
       "    <tr style=\"text-align: right;\">\n",
       "      <th></th>\n",
       "      <th>model</th>\n",
       "      <th>best_score</th>\n",
       "      <th>best_params</th>\n",
       "    </tr>\n",
       "  </thead>\n",
       "  <tbody>\n",
       "    <tr>\n",
       "      <th>0</th>\n",
       "      <td>svm</td>\n",
       "      <td>0.945055</td>\n",
       "      <td>{'C': 20, 'kernel': 'linear'}</td>\n",
       "    </tr>\n",
       "    <tr>\n",
       "      <th>1</th>\n",
       "      <td>random_forest</td>\n",
       "      <td>0.958242</td>\n",
       "      <td>{'criterion': 'entropy', 'n_estimators': 50}</td>\n",
       "    </tr>\n",
       "    <tr>\n",
       "      <th>2</th>\n",
       "      <td>logistic_regression</td>\n",
       "      <td>0.951648</td>\n",
       "      <td>{'C': 20, 'solver': 'newton-cg'}</td>\n",
       "    </tr>\n",
       "    <tr>\n",
       "      <th>3</th>\n",
       "      <td>decision_tree</td>\n",
       "      <td>0.918681</td>\n",
       "      <td>{'criterion': 'entropy'}</td>\n",
       "    </tr>\n",
       "  </tbody>\n",
       "</table>\n",
       "</div>"
      ],
      "text/plain": [
       "                 model  best_score  \\\n",
       "0                  svm    0.945055   \n",
       "1        random_forest    0.958242   \n",
       "2  logistic_regression    0.951648   \n",
       "3        decision_tree    0.918681   \n",
       "\n",
       "                                    best_params  \n",
       "0                 {'C': 20, 'kernel': 'linear'}  \n",
       "1  {'criterion': 'entropy', 'n_estimators': 50}  \n",
       "2              {'C': 20, 'solver': 'newton-cg'}  \n",
       "3                      {'criterion': 'entropy'}  "
      ]
     },
     "execution_count": 62,
     "metadata": {},
     "output_type": "execute_result"
    }
   ],
   "source": [
    "df_model_noscale_defaultdata"
   ]
  },
  {
   "cell_type": "markdown",
   "id": "6c4bb692",
   "metadata": {
    "papermill": {
     "duration": 0.11704,
     "end_time": "2022-01-08T02:45:00.380696",
     "exception": false,
     "start_time": "2022-01-08T02:45:00.263656",
     "status": "completed"
    },
    "tags": []
   },
   "source": [
    "#### XGBoost performed the best with our feature selection embedded (i.e. ANOVA F-value & PBC) let's re-run our pipeline now with scaling implemented.\n",
    "1. StandardScaler()\n",
    "2. RobustScaler()\n",
    "3. MinMaxScaler()"
   ]
  },
  {
   "cell_type": "code",
   "execution_count": 63,
   "id": "5e8de3be",
   "metadata": {
    "execution": {
     "iopub.execute_input": "2022-01-08T02:45:00.618112Z",
     "iopub.status.busy": "2022-01-08T02:45:00.617026Z",
     "iopub.status.idle": "2022-01-08T02:45:00.622376Z",
     "shell.execute_reply": "2022-01-08T02:45:00.623195Z",
     "shell.execute_reply.started": "2022-01-08T02:11:02.069199Z"
    },
    "papermill": {
     "duration": 0.125527,
     "end_time": "2022-01-08T02:45:00.623414",
     "exception": false,
     "start_time": "2022-01-08T02:45:00.497887",
     "status": "completed"
    },
    "tags": []
   },
   "outputs": [],
   "source": [
    "def run_GS_scale(scale, df):\n",
    "    X, y = split_data(df)\n",
    "\n",
    "    X_train, X_test, y_train, y_test = scale_data(scale, df)\n",
    "\n",
    "    df_scores = run_gridsearch(X_train, y_train, X_test, y_test)\n",
    "    \n",
    "    return df_scores"
   ]
  },
  {
   "cell_type": "code",
   "execution_count": 64,
   "id": "2566cf7b",
   "metadata": {
    "collapsed": true,
    "execution": {
     "iopub.execute_input": "2022-01-08T02:45:00.872201Z",
     "iopub.status.busy": "2022-01-08T02:45:00.865564Z",
     "iopub.status.idle": "2022-01-08T02:45:03.254564Z",
     "shell.execute_reply": "2022-01-08T02:45:03.255157Z",
     "shell.execute_reply.started": "2022-01-08T02:11:02.084836Z"
    },
    "jupyter": {
     "outputs_hidden": true
    },
    "papermill": {
     "duration": 2.516125,
     "end_time": "2022-01-08T02:45:03.255367",
     "exception": false,
     "start_time": "2022-01-08T02:45:00.739242",
     "status": "completed"
    },
    "tags": []
   },
   "outputs": [
    {
     "name": "stderr",
     "output_type": "stream",
     "text": [
      "/opt/conda/lib/python3.7/site-packages/sklearn/linear_model/_sag.py:330: ConvergenceWarning: The max_iter was reached which means the coef_ did not converge\n",
      "  \"the coef_ did not converge\", ConvergenceWarning)\n",
      "/opt/conda/lib/python3.7/site-packages/sklearn/linear_model/_sag.py:330: ConvergenceWarning: The max_iter was reached which means the coef_ did not converge\n",
      "  \"the coef_ did not converge\", ConvergenceWarning)\n",
      "/opt/conda/lib/python3.7/site-packages/sklearn/linear_model/_sag.py:330: ConvergenceWarning: The max_iter was reached which means the coef_ did not converge\n",
      "  \"the coef_ did not converge\", ConvergenceWarning)\n",
      "/opt/conda/lib/python3.7/site-packages/sklearn/linear_model/_sag.py:330: ConvergenceWarning: The max_iter was reached which means the coef_ did not converge\n",
      "  \"the coef_ did not converge\", ConvergenceWarning)\n",
      "/opt/conda/lib/python3.7/site-packages/sklearn/linear_model/_sag.py:330: ConvergenceWarning: The max_iter was reached which means the coef_ did not converge\n",
      "  \"the coef_ did not converge\", ConvergenceWarning)\n",
      "/opt/conda/lib/python3.7/site-packages/sklearn/linear_model/_sag.py:330: ConvergenceWarning: The max_iter was reached which means the coef_ did not converge\n",
      "  \"the coef_ did not converge\", ConvergenceWarning)\n",
      "/opt/conda/lib/python3.7/site-packages/sklearn/linear_model/_sag.py:330: ConvergenceWarning: The max_iter was reached which means the coef_ did not converge\n",
      "  \"the coef_ did not converge\", ConvergenceWarning)\n",
      "/opt/conda/lib/python3.7/site-packages/sklearn/linear_model/_sag.py:330: ConvergenceWarning: The max_iter was reached which means the coef_ did not converge\n",
      "  \"the coef_ did not converge\", ConvergenceWarning)\n",
      "/opt/conda/lib/python3.7/site-packages/sklearn/linear_model/_sag.py:330: ConvergenceWarning: The max_iter was reached which means the coef_ did not converge\n",
      "  \"the coef_ did not converge\", ConvergenceWarning)\n",
      "/opt/conda/lib/python3.7/site-packages/sklearn/linear_model/_sag.py:330: ConvergenceWarning: The max_iter was reached which means the coef_ did not converge\n",
      "  \"the coef_ did not converge\", ConvergenceWarning)\n",
      "/opt/conda/lib/python3.7/site-packages/sklearn/linear_model/_sag.py:330: ConvergenceWarning: The max_iter was reached which means the coef_ did not converge\n",
      "  \"the coef_ did not converge\", ConvergenceWarning)\n",
      "/opt/conda/lib/python3.7/site-packages/sklearn/linear_model/_sag.py:330: ConvergenceWarning: The max_iter was reached which means the coef_ did not converge\n",
      "  \"the coef_ did not converge\", ConvergenceWarning)\n",
      "/opt/conda/lib/python3.7/site-packages/sklearn/linear_model/_sag.py:330: ConvergenceWarning: The max_iter was reached which means the coef_ did not converge\n",
      "  \"the coef_ did not converge\", ConvergenceWarning)\n",
      "/opt/conda/lib/python3.7/site-packages/sklearn/linear_model/_sag.py:330: ConvergenceWarning: The max_iter was reached which means the coef_ did not converge\n",
      "  \"the coef_ did not converge\", ConvergenceWarning)\n",
      "/opt/conda/lib/python3.7/site-packages/sklearn/linear_model/_sag.py:330: ConvergenceWarning: The max_iter was reached which means the coef_ did not converge\n",
      "  \"the coef_ did not converge\", ConvergenceWarning)\n"
     ]
    }
   ],
   "source": [
    "df_MinMaxScaler_scores = run_GS_scale('MinMaxScaler', original_df)"
   ]
  },
  {
   "cell_type": "code",
   "execution_count": 65,
   "id": "3e7974a8",
   "metadata": {
    "execution": {
     "iopub.execute_input": "2022-01-08T02:45:03.497349Z",
     "iopub.status.busy": "2022-01-08T02:45:03.496291Z",
     "iopub.status.idle": "2022-01-08T02:45:03.509150Z",
     "shell.execute_reply": "2022-01-08T02:45:03.509756Z",
     "shell.execute_reply.started": "2022-01-08T02:11:04.447580Z"
    },
    "papermill": {
     "duration": 0.136008,
     "end_time": "2022-01-08T02:45:03.509986",
     "exception": false,
     "start_time": "2022-01-08T02:45:03.373978",
     "status": "completed"
    },
    "tags": []
   },
   "outputs": [
    {
     "data": {
      "text/html": [
       "<div>\n",
       "<style scoped>\n",
       "    .dataframe tbody tr th:only-of-type {\n",
       "        vertical-align: middle;\n",
       "    }\n",
       "\n",
       "    .dataframe tbody tr th {\n",
       "        vertical-align: top;\n",
       "    }\n",
       "\n",
       "    .dataframe thead th {\n",
       "        text-align: right;\n",
       "    }\n",
       "</style>\n",
       "<table border=\"1\" class=\"dataframe\">\n",
       "  <thead>\n",
       "    <tr style=\"text-align: right;\">\n",
       "      <th></th>\n",
       "      <th>model</th>\n",
       "      <th>best_score</th>\n",
       "      <th>best_params</th>\n",
       "    </tr>\n",
       "  </thead>\n",
       "  <tbody>\n",
       "    <tr>\n",
       "      <th>0</th>\n",
       "      <td>svm</td>\n",
       "      <td>0.964835</td>\n",
       "      <td>{'C': 20, 'kernel': 'rbf'}</td>\n",
       "    </tr>\n",
       "    <tr>\n",
       "      <th>1</th>\n",
       "      <td>random_forest</td>\n",
       "      <td>0.964835</td>\n",
       "      <td>{'criterion': 'entropy', 'n_estimators': 10}</td>\n",
       "    </tr>\n",
       "    <tr>\n",
       "      <th>2</th>\n",
       "      <td>logistic_regression</td>\n",
       "      <td>0.975824</td>\n",
       "      <td>{'C': 10, 'solver': 'newton-cg'}</td>\n",
       "    </tr>\n",
       "    <tr>\n",
       "      <th>3</th>\n",
       "      <td>decision_tree</td>\n",
       "      <td>0.940659</td>\n",
       "      <td>{'criterion': 'gini'}</td>\n",
       "    </tr>\n",
       "  </tbody>\n",
       "</table>\n",
       "</div>"
      ],
      "text/plain": [
       "                 model  best_score  \\\n",
       "0                  svm    0.964835   \n",
       "1        random_forest    0.964835   \n",
       "2  logistic_regression    0.975824   \n",
       "3        decision_tree    0.940659   \n",
       "\n",
       "                                    best_params  \n",
       "0                    {'C': 20, 'kernel': 'rbf'}  \n",
       "1  {'criterion': 'entropy', 'n_estimators': 10}  \n",
       "2              {'C': 10, 'solver': 'newton-cg'}  \n",
       "3                         {'criterion': 'gini'}  "
      ]
     },
     "execution_count": 65,
     "metadata": {},
     "output_type": "execute_result"
    }
   ],
   "source": [
    "df_MinMaxScaler_scores"
   ]
  },
  {
   "cell_type": "code",
   "execution_count": 66,
   "id": "0bd07409",
   "metadata": {
    "collapsed": true,
    "execution": {
     "iopub.execute_input": "2022-01-08T02:45:03.748779Z",
     "iopub.status.busy": "2022-01-08T02:45:03.747623Z",
     "iopub.status.idle": "2022-01-08T02:45:06.283956Z",
     "shell.execute_reply": "2022-01-08T02:45:06.283300Z",
     "shell.execute_reply.started": "2022-01-08T02:11:04.464215Z"
    },
    "jupyter": {
     "outputs_hidden": true
    },
    "papermill": {
     "duration": 2.657645,
     "end_time": "2022-01-08T02:45:06.284145",
     "exception": false,
     "start_time": "2022-01-08T02:45:03.626500",
     "status": "completed"
    },
    "tags": []
   },
   "outputs": [
    {
     "name": "stderr",
     "output_type": "stream",
     "text": [
      "/opt/conda/lib/python3.7/site-packages/sklearn/linear_model/_sag.py:330: ConvergenceWarning: The max_iter was reached which means the coef_ did not converge\n",
      "  \"the coef_ did not converge\", ConvergenceWarning)\n",
      "/opt/conda/lib/python3.7/site-packages/sklearn/linear_model/_sag.py:330: ConvergenceWarning: The max_iter was reached which means the coef_ did not converge\n",
      "  \"the coef_ did not converge\", ConvergenceWarning)\n",
      "/opt/conda/lib/python3.7/site-packages/sklearn/linear_model/_sag.py:330: ConvergenceWarning: The max_iter was reached which means the coef_ did not converge\n",
      "  \"the coef_ did not converge\", ConvergenceWarning)\n",
      "/opt/conda/lib/python3.7/site-packages/sklearn/linear_model/_sag.py:330: ConvergenceWarning: The max_iter was reached which means the coef_ did not converge\n",
      "  \"the coef_ did not converge\", ConvergenceWarning)\n",
      "/opt/conda/lib/python3.7/site-packages/sklearn/linear_model/_sag.py:330: ConvergenceWarning: The max_iter was reached which means the coef_ did not converge\n",
      "  \"the coef_ did not converge\", ConvergenceWarning)\n",
      "/opt/conda/lib/python3.7/site-packages/sklearn/linear_model/_sag.py:330: ConvergenceWarning: The max_iter was reached which means the coef_ did not converge\n",
      "  \"the coef_ did not converge\", ConvergenceWarning)\n",
      "/opt/conda/lib/python3.7/site-packages/sklearn/linear_model/_sag.py:330: ConvergenceWarning: The max_iter was reached which means the coef_ did not converge\n",
      "  \"the coef_ did not converge\", ConvergenceWarning)\n",
      "/opt/conda/lib/python3.7/site-packages/sklearn/linear_model/_sag.py:330: ConvergenceWarning: The max_iter was reached which means the coef_ did not converge\n",
      "  \"the coef_ did not converge\", ConvergenceWarning)\n",
      "/opt/conda/lib/python3.7/site-packages/sklearn/linear_model/_sag.py:330: ConvergenceWarning: The max_iter was reached which means the coef_ did not converge\n",
      "  \"the coef_ did not converge\", ConvergenceWarning)\n",
      "/opt/conda/lib/python3.7/site-packages/sklearn/linear_model/_sag.py:330: ConvergenceWarning: The max_iter was reached which means the coef_ did not converge\n",
      "  \"the coef_ did not converge\", ConvergenceWarning)\n",
      "/opt/conda/lib/python3.7/site-packages/sklearn/linear_model/_sag.py:330: ConvergenceWarning: The max_iter was reached which means the coef_ did not converge\n",
      "  \"the coef_ did not converge\", ConvergenceWarning)\n",
      "/opt/conda/lib/python3.7/site-packages/sklearn/linear_model/_sag.py:330: ConvergenceWarning: The max_iter was reached which means the coef_ did not converge\n",
      "  \"the coef_ did not converge\", ConvergenceWarning)\n",
      "/opt/conda/lib/python3.7/site-packages/sklearn/linear_model/_sag.py:330: ConvergenceWarning: The max_iter was reached which means the coef_ did not converge\n",
      "  \"the coef_ did not converge\", ConvergenceWarning)\n",
      "/opt/conda/lib/python3.7/site-packages/sklearn/linear_model/_sag.py:330: ConvergenceWarning: The max_iter was reached which means the coef_ did not converge\n",
      "  \"the coef_ did not converge\", ConvergenceWarning)\n",
      "/opt/conda/lib/python3.7/site-packages/sklearn/linear_model/_sag.py:330: ConvergenceWarning: The max_iter was reached which means the coef_ did not converge\n",
      "  \"the coef_ did not converge\", ConvergenceWarning)\n",
      "/opt/conda/lib/python3.7/site-packages/sklearn/linear_model/_sag.py:330: ConvergenceWarning: The max_iter was reached which means the coef_ did not converge\n",
      "  \"the coef_ did not converge\", ConvergenceWarning)\n",
      "/opt/conda/lib/python3.7/site-packages/sklearn/linear_model/_sag.py:330: ConvergenceWarning: The max_iter was reached which means the coef_ did not converge\n",
      "  \"the coef_ did not converge\", ConvergenceWarning)\n",
      "/opt/conda/lib/python3.7/site-packages/sklearn/linear_model/_sag.py:330: ConvergenceWarning: The max_iter was reached which means the coef_ did not converge\n",
      "  \"the coef_ did not converge\", ConvergenceWarning)\n",
      "/opt/conda/lib/python3.7/site-packages/sklearn/linear_model/_sag.py:330: ConvergenceWarning: The max_iter was reached which means the coef_ did not converge\n",
      "  \"the coef_ did not converge\", ConvergenceWarning)\n",
      "/opt/conda/lib/python3.7/site-packages/sklearn/linear_model/_sag.py:330: ConvergenceWarning: The max_iter was reached which means the coef_ did not converge\n",
      "  \"the coef_ did not converge\", ConvergenceWarning)\n"
     ]
    }
   ],
   "source": [
    "df_StandardScaler_scores = run_GS_scale('StandardScaler', original_df)"
   ]
  },
  {
   "cell_type": "code",
   "execution_count": 67,
   "id": "5b241425",
   "metadata": {
    "execution": {
     "iopub.execute_input": "2022-01-08T02:45:06.538111Z",
     "iopub.status.busy": "2022-01-08T02:45:06.537204Z",
     "iopub.status.idle": "2022-01-08T02:45:06.541283Z",
     "shell.execute_reply": "2022-01-08T02:45:06.540621Z",
     "shell.execute_reply.started": "2022-01-08T02:11:07.003075Z"
    },
    "papermill": {
     "duration": 0.135046,
     "end_time": "2022-01-08T02:45:06.541439",
     "exception": false,
     "start_time": "2022-01-08T02:45:06.406393",
     "status": "completed"
    },
    "tags": []
   },
   "outputs": [
    {
     "data": {
      "text/html": [
       "<div>\n",
       "<style scoped>\n",
       "    .dataframe tbody tr th:only-of-type {\n",
       "        vertical-align: middle;\n",
       "    }\n",
       "\n",
       "    .dataframe tbody tr th {\n",
       "        vertical-align: top;\n",
       "    }\n",
       "\n",
       "    .dataframe thead th {\n",
       "        text-align: right;\n",
       "    }\n",
       "</style>\n",
       "<table border=\"1\" class=\"dataframe\">\n",
       "  <thead>\n",
       "    <tr style=\"text-align: right;\">\n",
       "      <th></th>\n",
       "      <th>model</th>\n",
       "      <th>best_score</th>\n",
       "      <th>best_params</th>\n",
       "    </tr>\n",
       "  </thead>\n",
       "  <tbody>\n",
       "    <tr>\n",
       "      <th>0</th>\n",
       "      <td>svm</td>\n",
       "      <td>0.973626</td>\n",
       "      <td>{'C': 1, 'kernel': 'linear'}</td>\n",
       "    </tr>\n",
       "    <tr>\n",
       "      <th>1</th>\n",
       "      <td>random_forest</td>\n",
       "      <td>0.960440</td>\n",
       "      <td>{'criterion': 'entropy', 'n_estimators': 10}</td>\n",
       "    </tr>\n",
       "    <tr>\n",
       "      <th>2</th>\n",
       "      <td>logistic_regression</td>\n",
       "      <td>0.975824</td>\n",
       "      <td>{'C': 1, 'solver': 'newton-cg'}</td>\n",
       "    </tr>\n",
       "    <tr>\n",
       "      <th>3</th>\n",
       "      <td>decision_tree</td>\n",
       "      <td>0.934066</td>\n",
       "      <td>{'criterion': 'gini'}</td>\n",
       "    </tr>\n",
       "  </tbody>\n",
       "</table>\n",
       "</div>"
      ],
      "text/plain": [
       "                 model  best_score  \\\n",
       "0                  svm    0.973626   \n",
       "1        random_forest    0.960440   \n",
       "2  logistic_regression    0.975824   \n",
       "3        decision_tree    0.934066   \n",
       "\n",
       "                                    best_params  \n",
       "0                  {'C': 1, 'kernel': 'linear'}  \n",
       "1  {'criterion': 'entropy', 'n_estimators': 10}  \n",
       "2               {'C': 1, 'solver': 'newton-cg'}  \n",
       "3                         {'criterion': 'gini'}  "
      ]
     },
     "execution_count": 67,
     "metadata": {},
     "output_type": "execute_result"
    }
   ],
   "source": [
    "df_StandardScaler_scores"
   ]
  },
  {
   "cell_type": "code",
   "execution_count": 68,
   "id": "f10af1c6",
   "metadata": {
    "collapsed": true,
    "execution": {
     "iopub.execute_input": "2022-01-08T02:45:06.804776Z",
     "iopub.status.busy": "2022-01-08T02:45:06.792293Z",
     "iopub.status.idle": "2022-01-08T02:45:09.351561Z",
     "shell.execute_reply": "2022-01-08T02:45:09.352143Z",
     "shell.execute_reply.started": "2022-01-08T02:11:07.018899Z"
    },
    "jupyter": {
     "outputs_hidden": true
    },
    "papermill": {
     "duration": 2.692,
     "end_time": "2022-01-08T02:45:09.352358",
     "exception": false,
     "start_time": "2022-01-08T02:45:06.660358",
     "status": "completed"
    },
    "tags": []
   },
   "outputs": [
    {
     "name": "stderr",
     "output_type": "stream",
     "text": [
      "/opt/conda/lib/python3.7/site-packages/sklearn/linear_model/_sag.py:330: ConvergenceWarning: The max_iter was reached which means the coef_ did not converge\n",
      "  \"the coef_ did not converge\", ConvergenceWarning)\n",
      "/opt/conda/lib/python3.7/site-packages/sklearn/linear_model/_sag.py:330: ConvergenceWarning: The max_iter was reached which means the coef_ did not converge\n",
      "  \"the coef_ did not converge\", ConvergenceWarning)\n",
      "/opt/conda/lib/python3.7/site-packages/sklearn/linear_model/_sag.py:330: ConvergenceWarning: The max_iter was reached which means the coef_ did not converge\n",
      "  \"the coef_ did not converge\", ConvergenceWarning)\n",
      "/opt/conda/lib/python3.7/site-packages/sklearn/linear_model/_sag.py:330: ConvergenceWarning: The max_iter was reached which means the coef_ did not converge\n",
      "  \"the coef_ did not converge\", ConvergenceWarning)\n",
      "/opt/conda/lib/python3.7/site-packages/sklearn/linear_model/_sag.py:330: ConvergenceWarning: The max_iter was reached which means the coef_ did not converge\n",
      "  \"the coef_ did not converge\", ConvergenceWarning)\n",
      "/opt/conda/lib/python3.7/site-packages/sklearn/linear_model/_sag.py:330: ConvergenceWarning: The max_iter was reached which means the coef_ did not converge\n",
      "  \"the coef_ did not converge\", ConvergenceWarning)\n",
      "/opt/conda/lib/python3.7/site-packages/sklearn/linear_model/_sag.py:330: ConvergenceWarning: The max_iter was reached which means the coef_ did not converge\n",
      "  \"the coef_ did not converge\", ConvergenceWarning)\n",
      "/opt/conda/lib/python3.7/site-packages/sklearn/linear_model/_sag.py:330: ConvergenceWarning: The max_iter was reached which means the coef_ did not converge\n",
      "  \"the coef_ did not converge\", ConvergenceWarning)\n",
      "/opt/conda/lib/python3.7/site-packages/sklearn/linear_model/_sag.py:330: ConvergenceWarning: The max_iter was reached which means the coef_ did not converge\n",
      "  \"the coef_ did not converge\", ConvergenceWarning)\n",
      "/opt/conda/lib/python3.7/site-packages/sklearn/linear_model/_sag.py:330: ConvergenceWarning: The max_iter was reached which means the coef_ did not converge\n",
      "  \"the coef_ did not converge\", ConvergenceWarning)\n",
      "/opt/conda/lib/python3.7/site-packages/sklearn/linear_model/_sag.py:330: ConvergenceWarning: The max_iter was reached which means the coef_ did not converge\n",
      "  \"the coef_ did not converge\", ConvergenceWarning)\n",
      "/opt/conda/lib/python3.7/site-packages/sklearn/linear_model/_sag.py:330: ConvergenceWarning: The max_iter was reached which means the coef_ did not converge\n",
      "  \"the coef_ did not converge\", ConvergenceWarning)\n",
      "/opt/conda/lib/python3.7/site-packages/sklearn/linear_model/_sag.py:330: ConvergenceWarning: The max_iter was reached which means the coef_ did not converge\n",
      "  \"the coef_ did not converge\", ConvergenceWarning)\n",
      "/opt/conda/lib/python3.7/site-packages/sklearn/linear_model/_sag.py:330: ConvergenceWarning: The max_iter was reached which means the coef_ did not converge\n",
      "  \"the coef_ did not converge\", ConvergenceWarning)\n",
      "/opt/conda/lib/python3.7/site-packages/sklearn/linear_model/_sag.py:330: ConvergenceWarning: The max_iter was reached which means the coef_ did not converge\n",
      "  \"the coef_ did not converge\", ConvergenceWarning)\n",
      "/opt/conda/lib/python3.7/site-packages/sklearn/linear_model/_sag.py:330: ConvergenceWarning: The max_iter was reached which means the coef_ did not converge\n",
      "  \"the coef_ did not converge\", ConvergenceWarning)\n",
      "/opt/conda/lib/python3.7/site-packages/sklearn/linear_model/_sag.py:330: ConvergenceWarning: The max_iter was reached which means the coef_ did not converge\n",
      "  \"the coef_ did not converge\", ConvergenceWarning)\n",
      "/opt/conda/lib/python3.7/site-packages/sklearn/linear_model/_sag.py:330: ConvergenceWarning: The max_iter was reached which means the coef_ did not converge\n",
      "  \"the coef_ did not converge\", ConvergenceWarning)\n",
      "/opt/conda/lib/python3.7/site-packages/sklearn/linear_model/_sag.py:330: ConvergenceWarning: The max_iter was reached which means the coef_ did not converge\n",
      "  \"the coef_ did not converge\", ConvergenceWarning)\n",
      "/opt/conda/lib/python3.7/site-packages/sklearn/linear_model/_sag.py:330: ConvergenceWarning: The max_iter was reached which means the coef_ did not converge\n",
      "  \"the coef_ did not converge\", ConvergenceWarning)\n",
      "/opt/conda/lib/python3.7/site-packages/sklearn/linear_model/_sag.py:330: ConvergenceWarning: The max_iter was reached which means the coef_ did not converge\n",
      "  \"the coef_ did not converge\", ConvergenceWarning)\n"
     ]
    }
   ],
   "source": [
    "df_RobustScaler_scores = run_GS_scale('RobustScaler', original_df)"
   ]
  },
  {
   "cell_type": "code",
   "execution_count": 69,
   "id": "6a894047",
   "metadata": {
    "execution": {
     "iopub.execute_input": "2022-01-08T02:45:09.608504Z",
     "iopub.status.busy": "2022-01-08T02:45:09.607469Z",
     "iopub.status.idle": "2022-01-08T02:45:09.611281Z",
     "shell.execute_reply": "2022-01-08T02:45:09.611799Z",
     "shell.execute_reply.started": "2022-01-08T02:11:09.474150Z"
    },
    "papermill": {
     "duration": 0.138984,
     "end_time": "2022-01-08T02:45:09.612026",
     "exception": false,
     "start_time": "2022-01-08T02:45:09.473042",
     "status": "completed"
    },
    "tags": []
   },
   "outputs": [
    {
     "data": {
      "text/html": [
       "<div>\n",
       "<style scoped>\n",
       "    .dataframe tbody tr th:only-of-type {\n",
       "        vertical-align: middle;\n",
       "    }\n",
       "\n",
       "    .dataframe tbody tr th {\n",
       "        vertical-align: top;\n",
       "    }\n",
       "\n",
       "    .dataframe thead th {\n",
       "        text-align: right;\n",
       "    }\n",
       "</style>\n",
       "<table border=\"1\" class=\"dataframe\">\n",
       "  <thead>\n",
       "    <tr style=\"text-align: right;\">\n",
       "      <th></th>\n",
       "      <th>model</th>\n",
       "      <th>best_score</th>\n",
       "      <th>best_params</th>\n",
       "    </tr>\n",
       "  </thead>\n",
       "  <tbody>\n",
       "    <tr>\n",
       "      <th>0</th>\n",
       "      <td>svm</td>\n",
       "      <td>0.971429</td>\n",
       "      <td>{'C': 1, 'kernel': 'linear'}</td>\n",
       "    </tr>\n",
       "    <tr>\n",
       "      <th>1</th>\n",
       "      <td>random_forest</td>\n",
       "      <td>0.958242</td>\n",
       "      <td>{'criterion': 'entropy', 'n_estimators': 50}</td>\n",
       "    </tr>\n",
       "    <tr>\n",
       "      <th>2</th>\n",
       "      <td>logistic_regression</td>\n",
       "      <td>0.982418</td>\n",
       "      <td>{'C': 20, 'solver': 'saga'}</td>\n",
       "    </tr>\n",
       "    <tr>\n",
       "      <th>3</th>\n",
       "      <td>decision_tree</td>\n",
       "      <td>0.940659</td>\n",
       "      <td>{'criterion': 'gini'}</td>\n",
       "    </tr>\n",
       "  </tbody>\n",
       "</table>\n",
       "</div>"
      ],
      "text/plain": [
       "                 model  best_score  \\\n",
       "0                  svm    0.971429   \n",
       "1        random_forest    0.958242   \n",
       "2  logistic_regression    0.982418   \n",
       "3        decision_tree    0.940659   \n",
       "\n",
       "                                    best_params  \n",
       "0                  {'C': 1, 'kernel': 'linear'}  \n",
       "1  {'criterion': 'entropy', 'n_estimators': 50}  \n",
       "2                   {'C': 20, 'solver': 'saga'}  \n",
       "3                         {'criterion': 'gini'}  "
      ]
     },
     "execution_count": 69,
     "metadata": {},
     "output_type": "execute_result"
    }
   ],
   "source": [
    "df_RobustScaler_scores"
   ]
  },
  {
   "cell_type": "markdown",
   "id": "22a5d2e7",
   "metadata": {
    "papermill": {
     "duration": 0.119319,
     "end_time": "2022-01-08T02:45:09.852621",
     "exception": false,
     "start_time": "2022-01-08T02:45:09.733302",
     "status": "completed"
    },
    "tags": []
   },
   "source": [
    "#### Output all three dataframes and view results"
   ]
  },
  {
   "cell_type": "code",
   "execution_count": 70,
   "id": "e62f291e",
   "metadata": {
    "execution": {
     "iopub.execute_input": "2022-01-08T02:45:10.105336Z",
     "iopub.status.busy": "2022-01-08T02:45:10.104159Z",
     "iopub.status.idle": "2022-01-08T02:45:10.116438Z",
     "shell.execute_reply": "2022-01-08T02:45:10.115474Z",
     "shell.execute_reply.started": "2022-01-08T02:11:09.486430Z"
    },
    "papermill": {
     "duration": 0.142777,
     "end_time": "2022-01-08T02:45:10.116652",
     "exception": false,
     "start_time": "2022-01-08T02:45:09.973875",
     "status": "completed"
    },
    "tags": []
   },
   "outputs": [
    {
     "data": {
      "text/html": [
       "<div>\n",
       "<style scoped>\n",
       "    .dataframe tbody tr th:only-of-type {\n",
       "        vertical-align: middle;\n",
       "    }\n",
       "\n",
       "    .dataframe tbody tr th {\n",
       "        vertical-align: top;\n",
       "    }\n",
       "\n",
       "    .dataframe thead th {\n",
       "        text-align: right;\n",
       "    }\n",
       "</style>\n",
       "<table border=\"1\" class=\"dataframe\">\n",
       "  <thead>\n",
       "    <tr style=\"text-align: right;\">\n",
       "      <th></th>\n",
       "      <th>model</th>\n",
       "      <th>best_score</th>\n",
       "      <th>best_params</th>\n",
       "    </tr>\n",
       "  </thead>\n",
       "  <tbody>\n",
       "    <tr>\n",
       "      <th>0</th>\n",
       "      <td>svm</td>\n",
       "      <td>0.973626</td>\n",
       "      <td>{'C': 1, 'kernel': 'linear'}</td>\n",
       "    </tr>\n",
       "    <tr>\n",
       "      <th>1</th>\n",
       "      <td>random_forest</td>\n",
       "      <td>0.960440</td>\n",
       "      <td>{'criterion': 'entropy', 'n_estimators': 10}</td>\n",
       "    </tr>\n",
       "    <tr>\n",
       "      <th>2</th>\n",
       "      <td>logistic_regression</td>\n",
       "      <td>0.975824</td>\n",
       "      <td>{'C': 1, 'solver': 'newton-cg'}</td>\n",
       "    </tr>\n",
       "    <tr>\n",
       "      <th>3</th>\n",
       "      <td>decision_tree</td>\n",
       "      <td>0.934066</td>\n",
       "      <td>{'criterion': 'gini'}</td>\n",
       "    </tr>\n",
       "  </tbody>\n",
       "</table>\n",
       "</div>"
      ],
      "text/plain": [
       "                 model  best_score  \\\n",
       "0                  svm    0.973626   \n",
       "1        random_forest    0.960440   \n",
       "2  logistic_regression    0.975824   \n",
       "3        decision_tree    0.934066   \n",
       "\n",
       "                                    best_params  \n",
       "0                  {'C': 1, 'kernel': 'linear'}  \n",
       "1  {'criterion': 'entropy', 'n_estimators': 10}  \n",
       "2               {'C': 1, 'solver': 'newton-cg'}  \n",
       "3                         {'criterion': 'gini'}  "
      ]
     },
     "execution_count": 70,
     "metadata": {},
     "output_type": "execute_result"
    }
   ],
   "source": [
    "df_StandardScaler_scores"
   ]
  },
  {
   "cell_type": "code",
   "execution_count": 71,
   "id": "2511b2e7",
   "metadata": {
    "execution": {
     "iopub.execute_input": "2022-01-08T02:45:10.399517Z",
     "iopub.status.busy": "2022-01-08T02:45:10.398770Z",
     "iopub.status.idle": "2022-01-08T02:45:10.405201Z",
     "shell.execute_reply": "2022-01-08T02:45:10.405812Z",
     "shell.execute_reply.started": "2022-01-08T02:11:09.505877Z"
    },
    "papermill": {
     "duration": 0.149152,
     "end_time": "2022-01-08T02:45:10.406024",
     "exception": false,
     "start_time": "2022-01-08T02:45:10.256872",
     "status": "completed"
    },
    "tags": []
   },
   "outputs": [
    {
     "data": {
      "text/html": [
       "<div>\n",
       "<style scoped>\n",
       "    .dataframe tbody tr th:only-of-type {\n",
       "        vertical-align: middle;\n",
       "    }\n",
       "\n",
       "    .dataframe tbody tr th {\n",
       "        vertical-align: top;\n",
       "    }\n",
       "\n",
       "    .dataframe thead th {\n",
       "        text-align: right;\n",
       "    }\n",
       "</style>\n",
       "<table border=\"1\" class=\"dataframe\">\n",
       "  <thead>\n",
       "    <tr style=\"text-align: right;\">\n",
       "      <th></th>\n",
       "      <th>model</th>\n",
       "      <th>best_score</th>\n",
       "      <th>best_params</th>\n",
       "    </tr>\n",
       "  </thead>\n",
       "  <tbody>\n",
       "    <tr>\n",
       "      <th>0</th>\n",
       "      <td>svm</td>\n",
       "      <td>0.971429</td>\n",
       "      <td>{'C': 1, 'kernel': 'linear'}</td>\n",
       "    </tr>\n",
       "    <tr>\n",
       "      <th>1</th>\n",
       "      <td>random_forest</td>\n",
       "      <td>0.958242</td>\n",
       "      <td>{'criterion': 'entropy', 'n_estimators': 50}</td>\n",
       "    </tr>\n",
       "    <tr>\n",
       "      <th>2</th>\n",
       "      <td>logistic_regression</td>\n",
       "      <td>0.982418</td>\n",
       "      <td>{'C': 20, 'solver': 'saga'}</td>\n",
       "    </tr>\n",
       "    <tr>\n",
       "      <th>3</th>\n",
       "      <td>decision_tree</td>\n",
       "      <td>0.940659</td>\n",
       "      <td>{'criterion': 'gini'}</td>\n",
       "    </tr>\n",
       "  </tbody>\n",
       "</table>\n",
       "</div>"
      ],
      "text/plain": [
       "                 model  best_score  \\\n",
       "0                  svm    0.971429   \n",
       "1        random_forest    0.958242   \n",
       "2  logistic_regression    0.982418   \n",
       "3        decision_tree    0.940659   \n",
       "\n",
       "                                    best_params  \n",
       "0                  {'C': 1, 'kernel': 'linear'}  \n",
       "1  {'criterion': 'entropy', 'n_estimators': 50}  \n",
       "2                   {'C': 20, 'solver': 'saga'}  \n",
       "3                         {'criterion': 'gini'}  "
      ]
     },
     "execution_count": 71,
     "metadata": {},
     "output_type": "execute_result"
    }
   ],
   "source": [
    "df_RobustScaler_scores"
   ]
  },
  {
   "cell_type": "code",
   "execution_count": 72,
   "id": "43262c4a",
   "metadata": {
    "execution": {
     "iopub.execute_input": "2022-01-08T02:45:10.663225Z",
     "iopub.status.busy": "2022-01-08T02:45:10.662190Z",
     "iopub.status.idle": "2022-01-08T02:45:10.673269Z",
     "shell.execute_reply": "2022-01-08T02:45:10.674044Z",
     "shell.execute_reply.started": "2022-01-08T02:11:09.524841Z"
    },
    "papermill": {
     "duration": 0.137402,
     "end_time": "2022-01-08T02:45:10.674309",
     "exception": false,
     "start_time": "2022-01-08T02:45:10.536907",
     "status": "completed"
    },
    "tags": []
   },
   "outputs": [
    {
     "data": {
      "text/html": [
       "<div>\n",
       "<style scoped>\n",
       "    .dataframe tbody tr th:only-of-type {\n",
       "        vertical-align: middle;\n",
       "    }\n",
       "\n",
       "    .dataframe tbody tr th {\n",
       "        vertical-align: top;\n",
       "    }\n",
       "\n",
       "    .dataframe thead th {\n",
       "        text-align: right;\n",
       "    }\n",
       "</style>\n",
       "<table border=\"1\" class=\"dataframe\">\n",
       "  <thead>\n",
       "    <tr style=\"text-align: right;\">\n",
       "      <th></th>\n",
       "      <th>model</th>\n",
       "      <th>best_score</th>\n",
       "      <th>best_params</th>\n",
       "    </tr>\n",
       "  </thead>\n",
       "  <tbody>\n",
       "    <tr>\n",
       "      <th>0</th>\n",
       "      <td>svm</td>\n",
       "      <td>0.964835</td>\n",
       "      <td>{'C': 20, 'kernel': 'rbf'}</td>\n",
       "    </tr>\n",
       "    <tr>\n",
       "      <th>1</th>\n",
       "      <td>random_forest</td>\n",
       "      <td>0.964835</td>\n",
       "      <td>{'criterion': 'entropy', 'n_estimators': 10}</td>\n",
       "    </tr>\n",
       "    <tr>\n",
       "      <th>2</th>\n",
       "      <td>logistic_regression</td>\n",
       "      <td>0.975824</td>\n",
       "      <td>{'C': 10, 'solver': 'newton-cg'}</td>\n",
       "    </tr>\n",
       "    <tr>\n",
       "      <th>3</th>\n",
       "      <td>decision_tree</td>\n",
       "      <td>0.940659</td>\n",
       "      <td>{'criterion': 'gini'}</td>\n",
       "    </tr>\n",
       "  </tbody>\n",
       "</table>\n",
       "</div>"
      ],
      "text/plain": [
       "                 model  best_score  \\\n",
       "0                  svm    0.964835   \n",
       "1        random_forest    0.964835   \n",
       "2  logistic_regression    0.975824   \n",
       "3        decision_tree    0.940659   \n",
       "\n",
       "                                    best_params  \n",
       "0                    {'C': 20, 'kernel': 'rbf'}  \n",
       "1  {'criterion': 'entropy', 'n_estimators': 10}  \n",
       "2              {'C': 10, 'solver': 'newton-cg'}  \n",
       "3                         {'criterion': 'gini'}  "
      ]
     },
     "execution_count": 72,
     "metadata": {},
     "output_type": "execute_result"
    }
   ],
   "source": [
    "df_MinMaxScaler_scores"
   ]
  },
  {
   "cell_type": "markdown",
   "id": "8531d00d",
   "metadata": {
    "papermill": {
     "duration": 0.128301,
     "end_time": "2022-01-08T02:45:10.933103",
     "exception": false,
     "start_time": "2022-01-08T02:45:10.804802",
     "status": "completed"
    },
    "tags": []
   },
   "source": [
    "#### From this we can proceed, the best scaling is RobustScaler and the best model to use is a Logistic Regression with the parameters of C=20, and 'solver' = 'saga'. We initially tested with the Logistic Regression algorthim and we can continue to use this algorithim as it is out-performing many of the other classification algorithims such as SVM, and even tree-based algorithims like decision tree classifier and random forests"
   ]
  },
  {
   "cell_type": "markdown",
   "id": "aa6199df",
   "metadata": {
    "papermill": {
     "duration": 0.122618,
     "end_time": "2022-01-08T02:45:11.179092",
     "exception": false,
     "start_time": "2022-01-08T02:45:11.056474",
     "status": "completed"
    },
    "tags": []
   },
   "source": [
    "# Model Evaluation / Classification Report"
   ]
  },
  {
   "cell_type": "markdown",
   "id": "4bcd149e",
   "metadata": {
    "papermill": {
     "duration": 0.12227,
     "end_time": "2022-01-08T02:45:11.423175",
     "exception": false,
     "start_time": "2022-01-08T02:45:11.300905",
     "status": "completed"
    },
    "tags": []
   },
   "source": [
    "#### Let's make our final model with the hyperparameters listed above and run some additional analysis"
   ]
  },
  {
   "cell_type": "code",
   "execution_count": 73,
   "id": "c44032b8",
   "metadata": {
    "execution": {
     "iopub.execute_input": "2022-01-08T02:45:11.675681Z",
     "iopub.status.busy": "2022-01-08T02:45:11.674933Z",
     "iopub.status.idle": "2022-01-08T02:45:11.677732Z",
     "shell.execute_reply": "2022-01-08T02:45:11.677209Z",
     "shell.execute_reply.started": "2022-01-08T02:13:45.414357Z"
    },
    "papermill": {
     "duration": 0.129553,
     "end_time": "2022-01-08T02:45:11.677920",
     "exception": false,
     "start_time": "2022-01-08T02:45:11.548367",
     "status": "completed"
    },
    "tags": []
   },
   "outputs": [],
   "source": [
    "final_model = LogisticRegression(C = 20, solver = 'saga')"
   ]
  },
  {
   "cell_type": "code",
   "execution_count": 74,
   "id": "32e5cfec",
   "metadata": {
    "execution": {
     "iopub.execute_input": "2022-01-08T02:45:11.932067Z",
     "iopub.status.busy": "2022-01-08T02:45:11.930622Z",
     "iopub.status.idle": "2022-01-08T02:45:11.967936Z",
     "shell.execute_reply": "2022-01-08T02:45:11.967284Z",
     "shell.execute_reply.started": "2022-01-08T02:26:02.869339Z"
    },
    "papermill": {
     "duration": 0.168556,
     "end_time": "2022-01-08T02:45:11.968104",
     "exception": false,
     "start_time": "2022-01-08T02:45:11.799548",
     "status": "completed"
    },
    "tags": []
   },
   "outputs": [
    {
     "name": "stderr",
     "output_type": "stream",
     "text": [
      "/opt/conda/lib/python3.7/site-packages/sklearn/linear_model/_sag.py:330: ConvergenceWarning: The max_iter was reached which means the coef_ did not converge\n",
      "  \"the coef_ did not converge\", ConvergenceWarning)\n"
     ]
    },
    {
     "data": {
      "text/plain": [
       "0.9824561403508771"
      ]
     },
     "execution_count": 74,
     "metadata": {},
     "output_type": "execute_result"
    }
   ],
   "source": [
    "#Instantiate model with best hyperparameters\n",
    "model = LogisticRegression(C = 20, solver= 'saga')\n",
    "\n",
    "#Split the data and scale\n",
    "X_train, X_test, y_train, y_test = scale_data('RobustScaler', original_df)\n",
    "\n",
    "#Fit the model\n",
    "model.fit(X_train, y_train)\n",
    "\n",
    "#Score the model\n",
    "model.score(X_test, y_test)"
   ]
  },
  {
   "cell_type": "code",
   "execution_count": 75,
   "id": "89018983",
   "metadata": {
    "execution": {
     "iopub.execute_input": "2022-01-08T02:45:12.223673Z",
     "iopub.status.busy": "2022-01-08T02:45:12.222915Z",
     "iopub.status.idle": "2022-01-08T02:45:12.225359Z",
     "shell.execute_reply": "2022-01-08T02:45:12.225895Z",
     "shell.execute_reply.started": "2022-01-08T02:27:04.820855Z"
    },
    "papermill": {
     "duration": 0.133261,
     "end_time": "2022-01-08T02:45:12.226131",
     "exception": false,
     "start_time": "2022-01-08T02:45:12.092870",
     "status": "completed"
    },
    "tags": []
   },
   "outputs": [],
   "source": [
    "y_preds = model.predict(X_test)"
   ]
  },
  {
   "cell_type": "code",
   "execution_count": 76,
   "id": "cfc40899",
   "metadata": {
    "execution": {
     "iopub.execute_input": "2022-01-08T02:45:12.482581Z",
     "iopub.status.busy": "2022-01-08T02:45:12.481856Z",
     "iopub.status.idle": "2022-01-08T02:45:12.494751Z",
     "shell.execute_reply": "2022-01-08T02:45:12.493721Z",
     "shell.execute_reply.started": "2022-01-08T02:28:35.695059Z"
    },
    "papermill": {
     "duration": 0.145001,
     "end_time": "2022-01-08T02:45:12.495032",
     "exception": false,
     "start_time": "2022-01-08T02:45:12.350031",
     "status": "completed"
    },
    "tags": []
   },
   "outputs": [
    {
     "name": "stdout",
     "output_type": "stream",
     "text": [
      "The accuracy between X_test and y_test is: 0.9824561403508771\n",
      "The accuracy between X_train and y_train is: 0.989010989010989\n"
     ]
    }
   ],
   "source": [
    "print(f'The accuracy between X_test and y_test is: {model.score(X_test, y_test)}\\nThe accuracy between X_train and y_train is: {model.score(X_train, y_train)}')"
   ]
  },
  {
   "cell_type": "markdown",
   "id": "a4e6d93c",
   "metadata": {
    "papermill": {
     "duration": 0.121701,
     "end_time": "2022-01-08T02:45:12.790936",
     "exception": false,
     "start_time": "2022-01-08T02:45:12.669235",
     "status": "completed"
    },
    "tags": []
   },
   "source": [
    "No signs of extreme over-fitting either, so that's good"
   ]
  },
  {
   "cell_type": "code",
   "execution_count": 77,
   "id": "510a1d32",
   "metadata": {
    "execution": {
     "iopub.execute_input": "2022-01-08T02:45:13.045556Z",
     "iopub.status.busy": "2022-01-08T02:45:13.044812Z",
     "iopub.status.idle": "2022-01-08T02:45:13.052538Z",
     "shell.execute_reply": "2022-01-08T02:45:13.053487Z",
     "shell.execute_reply.started": "2022-01-08T02:29:48.891002Z"
    },
    "papermill": {
     "duration": 0.139042,
     "end_time": "2022-01-08T02:45:13.053759",
     "exception": false,
     "start_time": "2022-01-08T02:45:12.914717",
     "status": "completed"
    },
    "tags": []
   },
   "outputs": [
    {
     "name": "stdout",
     "output_type": "stream",
     "text": [
      "              precision    recall  f1-score   support\n",
      "\n",
      "  Metastasis       1.00      0.95      0.98        42\n",
      "      Benign       0.97      1.00      0.99        72\n",
      "\n",
      "    accuracy                           0.98       114\n",
      "   macro avg       0.99      0.98      0.98       114\n",
      "weighted avg       0.98      0.98      0.98       114\n",
      "\n"
     ]
    }
   ],
   "source": [
    "print(classification_report(y_test, y_preds, target_names=['Metastasis', 'Benign']))"
   ]
  },
  {
   "cell_type": "code",
   "execution_count": 78,
   "id": "329984a2",
   "metadata": {
    "execution": {
     "iopub.execute_input": "2022-01-08T02:45:13.304602Z",
     "iopub.status.busy": "2022-01-08T02:45:13.303889Z",
     "iopub.status.idle": "2022-01-08T02:45:13.509480Z",
     "shell.execute_reply": "2022-01-08T02:45:13.510241Z",
     "shell.execute_reply.started": "2022-01-08T02:29:54.913615Z"
    },
    "papermill": {
     "duration": 0.333462,
     "end_time": "2022-01-08T02:45:13.510509",
     "exception": false,
     "start_time": "2022-01-08T02:45:13.177047",
     "status": "completed"
    },
    "tags": []
   },
   "outputs": [
    {
     "data": {
      "image/png": "[encoded data removed]",
      "text/plain": [
       "<Figure size 432x288 with 1 Axes>"
      ]
     },
     "metadata": {},
     "output_type": "display_data"
    },
    {
     "name": "stdout",
     "output_type": "stream",
     "text": [
      "0: Metastasis (M)\n",
      "1: Benign (B)\n"
     ]
    }
   ],
   "source": [
    "matrix = confusion_matrix(y_test, y_preds)\n",
    "sns.heatmap(matrix, annot=True, cbar=None, cmap='Blues')\n",
    "plt.title('Confusion Matrix'), plt.tight_layout()\n",
    "plt.ylabel('True Class'), plt.xlabel('Predicted Class')\n",
    "plt.show()\n",
    "print('0: Metastasis (M)\\n1: Benign (B)')"
   ]
  },
  {
   "cell_type": "markdown",
   "id": "4919f922",
   "metadata": {
    "papermill": {
     "duration": 0.123132,
     "end_time": "2022-01-08T02:45:13.758100",
     "exception": false,
     "start_time": "2022-01-08T02:45:13.634968",
     "status": "completed"
    },
    "tags": []
   },
   "source": [
    "To conclude, we have definitely improved upon the accuracy of this model via the help of some outlier analysis techniques and feature selection techniques. Briefly summarizing, we performed brief EDA and dived deeper into the dataset by finding out which features were correlated strongly enough with the dependent variable ('diagnosis' in this case).\n",
    "\n",
    "\n",
    "The model accuracy at the start with no hyperparameter tuning was improved due to hyperparameter tuning and feature selection techniques"
   ]
  },
  {
   "cell_type": "code",
   "execution_count": null,
   "id": "0f698670",
   "metadata": {
    "papermill": {
     "duration": 0.124841,
     "end_time": "2022-01-08T02:45:14.008317",
     "exception": false,
     "start_time": "2022-01-08T02:45:13.883476",
     "status": "completed"
    },
    "tags": []
   },
   "outputs": [],
   "source": []
  }
 ],
 "metadata": {
  "kernelspec": {
   "display_name": "Python 3",
   "language": "python",
   "name": "python3"
  },
  "language_info": {
   "codemirror_mode": {
    "name": "ipython",
    "version": 3
   },
   "file_extension": ".py",
   "mimetype": "text/x-python",
   "name": "python",
   "nbconvert_exporter": "python",
   "pygments_lexer": "ipython3",
   "version": "3.7.12"
  },
  "papermill": {
   "default_parameters": {},
   "duration": 127.321409,
   "end_time": "2022-01-08T02:45:15.247056",
   "environment_variables": {},
   "exception": null,
   "input_path": "__notebook__.ipynb",
   "output_path": "__notebook__.ipynb",
   "parameters": {},
   "start_time": "2022-01-08T02:43:07.925647",
   "version": "2.3.3"
  }
 },
 "nbformat": 4,
 "nbformat_minor": 5
}
